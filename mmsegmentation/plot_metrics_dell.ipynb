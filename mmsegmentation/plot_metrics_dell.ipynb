{
 "cells": [
  {
   "cell_type": "code",
   "execution_count": 1,
   "id": "43252f04",
   "metadata": {},
   "outputs": [],
   "source": [
    "import re\n",
    "import plotly.graph_objects as go\n",
    "from plotly.subplots import make_subplots"
   ]
  },
  {
   "cell_type": "code",
   "execution_count": 2,
   "id": "133aee9f",
   "metadata": {},
   "outputs": [],
   "source": [
    "\n",
    "# Function to parse the log file\n",
    "def parse_log_file(log_file_path):\n",
    "    iterations = []\n",
    "    mious = []\n",
    "    maccs = []\n",
    "    learning_rates = []\n",
    "\n",
    "    last_iter = None\n",
    "    last_lr = None\n",
    "\n",
    "    with open(log_file_path, 'r') as f:\n",
    "        for line in f:\n",
    "            # Parse training iteration and learning rate\n",
    "            train_match = re.search(r\"Iter\\(train\\)\\s*\\[\\s*(\\d+)/\\d+\\]\\s*lr:\\s*([0-9\\.e+-]+)\", line)\n",
    "            if train_match:\n",
    "                last_iter = int(train_match.group(1))\n",
    "                last_lr = float(train_match.group(2))\n",
    "                continue\n",
    "\n",
    "            # Parse validation metrics (mIoU and mAcc)\n",
    "            val_match = re.search(r\"mIoU:\\s*(\\d+\\.\\d+)\\s*mAcc:\\s*(\\d+\\.\\d+)\", line)\n",
    "            if val_match:\n",
    "                if last_iter is not None:\n",
    "                    iterations.append(last_iter)\n",
    "                    mious.append(float(val_match.group(1)))\n",
    "                    maccs.append(float(val_match.group(2)))\n",
    "                    learning_rates.append(last_lr)\n",
    "\n",
    "    return iterations, mious, maccs, learning_rates\n",
    "\n",
    "# New function to plot interactively with Plotly\n",
    "def plot_accuracies_and_lr_interactive(epochs, mAcc, mIoU, lrs, x_range):\n",
    "    # Create a figure with secondary y-axis\n",
    "    fig = make_subplots(specs=[[{\"secondary_y\": True}]])\n",
    "\n",
    "    # Add Top-1 Accuracy trace\n",
    "    fig.add_trace(\n",
    "        go.Scatter(x=epochs, y=mAcc, name='Mean Accuracy', line=dict(color='blue')),\n",
    "        secondary_y=False,\n",
    "    )\n",
    "\n",
    "    # Add Top-5 Accuracy trace\n",
    "    fig.add_trace(\n",
    "        go.Scatter(x=epochs, y=mIoU, name='Mean IoU', line=dict(color='orange')),\n",
    "        secondary_y=False,\n",
    "    )\n",
    "\n",
    "    # Add Learning Rate trace on secondary y-axis\n",
    "    fig.add_trace(\n",
    "        go.Scatter(x=epochs, y=lrs, name='Learning Rate', line=dict(color='green')),\n",
    "        secondary_y=True,\n",
    "    )\n",
    "\n",
    "    # Update layout for interactivity and axes\n",
    "    fig.update_layout(\n",
    "        title='Validation Performance and Training Learning Rate vs Epoch',\n",
    "        xaxis_title='Epoch',\n",
    "        yaxis_title='Performance (%)',\n",
    "        yaxis2_title='Learning Rate',\n",
    "        hovermode='x unified',  # Vertical crosshair on x-hover, shows values for all lines\n",
    "        legend=dict(yanchor='top', y=1.15, xanchor='right', x=1.15),  # Top-right legend\n",
    "    )\n",
    "\n",
    "    # Set x-axis ranges\n",
    "    fig.update_xaxes(range=x_range)\n",
    "    \n",
    "    # Set y-axis ranges\n",
    "    fig.update_yaxes(range=[0, 100], dtick=10, secondary_y=False)\n",
    "    fig.update_yaxes(secondary_y=True)  # Auto-range for LR\n",
    "\n",
    "    # Show the figure (interactive in Jupyter)\n",
    "    fig.show()\n"
   ]
  },
  {
   "cell_type": "code",
   "execution_count": 3,
   "id": "e7fde410",
   "metadata": {},
   "outputs": [],
   "source": [
    "adam_range = [0, 310]\n",
    "sgd_range = [0, 120000]"
   ]
  },
  {
   "cell_type": "code",
   "execution_count": 4,
   "id": "1e50d2bd",
   "metadata": {},
   "outputs": [
    {
     "data": {
      "application/vnd.plotly.v1+json": {
       "config": {
        "plotlyServerURL": "https://plot.ly"
       },
       "data": [
        {
         "line": {
          "color": "blue"
         },
         "name": "Mean Accuracy",
         "type": "scatter",
         "x": [
          1000,
          2000,
          3000,
          4000,
          5000,
          6000,
          7000,
          8000,
          9000,
          10000,
          11000,
          12000,
          13000,
          14000,
          15000,
          16000,
          17000,
          18000,
          19000,
          20000,
          21000,
          22000,
          23000,
          24000,
          25000,
          26000,
          27000,
          28000,
          29000,
          30000,
          31000,
          32000,
          33000,
          34000,
          35000,
          36000,
          37000,
          38000,
          39000,
          40000,
          41000,
          42000,
          43000,
          44000,
          45000,
          46000,
          47000,
          48000,
          49000,
          50000,
          51000,
          52000,
          53000,
          54000,
          55000,
          56000,
          57000,
          58000,
          59000,
          60000,
          61000,
          62000,
          63000,
          64000,
          65000,
          66000,
          67000,
          68000,
          69000,
          70000,
          71000,
          72000,
          73000,
          74000,
          75000,
          76000,
          77000,
          78000,
          79000,
          80000,
          81000,
          82000,
          83000,
          84000,
          85000,
          86000,
          87000,
          88000,
          89000,
          90000,
          91000,
          92000,
          93000,
          94000,
          95000,
          96000,
          97000,
          98000,
          99000,
          100000,
          101000,
          102000,
          103000,
          104000,
          105000,
          106000,
          107000,
          108000,
          109000,
          110000,
          111000,
          112000,
          113000,
          114000,
          115000,
          116000,
          117000,
          118000,
          119000,
          120000,
          121000,
          122000,
          123000,
          124000,
          125000,
          126000,
          127000,
          128000,
          129000,
          130000,
          131000,
          132000,
          133000,
          134000,
          135000,
          136000,
          137000,
          138000,
          139000,
          140000,
          141000,
          142000,
          143000,
          144000,
          145000,
          146000,
          147000,
          148000,
          149000,
          150000,
          151000,
          152000,
          153000,
          154000,
          155000,
          156000,
          157000,
          158000,
          159000,
          160000
         ],
         "xaxis": "x",
         "y": [
          26.88,
          33.57,
          36.13,
          37.22,
          39.98,
          43.52,
          48.07,
          46.52,
          45.75,
          49.68,
          51.78,
          50.76,
          52.87,
          52.88,
          55.33,
          57.87,
          56.33,
          54.76,
          57.88,
          56.47,
          55.6,
          57.07,
          59.04,
          62.28,
          63.28,
          60.74,
          65.26,
          63.35,
          58.52,
          61.86,
          62.48,
          60.45,
          57.49,
          64.27,
          64.24,
          62.33,
          63.44,
          63.37,
          62.65,
          66.38,
          66.96,
          64.74,
          65.98,
          65.78,
          70.38,
          65.44,
          64.93,
          66.47,
          68.27,
          69.32,
          68.81,
          68.73,
          63.1,
          66.14,
          70.4,
          68.19,
          67.61,
          67.98,
          67.72,
          66.71,
          70.69,
          69.69,
          71.37,
          67.59,
          69.09,
          65.78,
          71.72,
          72.37,
          72.41,
          66.9,
          69.59,
          71.1,
          73.32,
          71.72,
          71.68,
          73.43,
          68.8,
          64.88,
          71.98,
          70.69,
          69.36,
          72.92,
          75.73,
          74.77,
          70.02,
          75.87,
          67.85,
          66.12,
          72.89,
          73.94,
          76.12,
          71.67,
          75.37,
          75.98,
          75.65,
          75.94,
          77.3,
          74.74,
          74.36,
          75.01,
          78.13,
          79.03,
          75.14,
          77.37,
          74.97,
          75.24,
          76.19,
          76.16,
          78.3,
          78.87,
          75.03,
          76.96,
          75.31,
          79.29,
          78.62,
          75.78,
          77.76,
          76,
          78.01,
          77.63,
          77.68,
          79.27,
          79.57,
          72.3,
          77.63,
          79.64,
          78.45,
          78.69,
          76.11,
          77.89,
          78.64,
          79.04,
          78.4,
          80.25,
          80.37,
          80.1,
          79.68,
          78.93,
          80.29,
          78.86,
          80.19,
          79.31,
          80.76,
          80.86,
          81.36,
          81.16,
          82.07,
          80.1,
          82.24,
          81.22,
          82.06,
          81.36,
          81.55,
          82.47,
          81.9,
          81.89,
          82.79,
          82.26,
          82.13,
          82.25
         ],
         "yaxis": "y"
        },
        {
         "line": {
          "color": "orange"
         },
         "name": "Mean IoU",
         "type": "scatter",
         "x": [
          1000,
          2000,
          3000,
          4000,
          5000,
          6000,
          7000,
          8000,
          9000,
          10000,
          11000,
          12000,
          13000,
          14000,
          15000,
          16000,
          17000,
          18000,
          19000,
          20000,
          21000,
          22000,
          23000,
          24000,
          25000,
          26000,
          27000,
          28000,
          29000,
          30000,
          31000,
          32000,
          33000,
          34000,
          35000,
          36000,
          37000,
          38000,
          39000,
          40000,
          41000,
          42000,
          43000,
          44000,
          45000,
          46000,
          47000,
          48000,
          49000,
          50000,
          51000,
          52000,
          53000,
          54000,
          55000,
          56000,
          57000,
          58000,
          59000,
          60000,
          61000,
          62000,
          63000,
          64000,
          65000,
          66000,
          67000,
          68000,
          69000,
          70000,
          71000,
          72000,
          73000,
          74000,
          75000,
          76000,
          77000,
          78000,
          79000,
          80000,
          81000,
          82000,
          83000,
          84000,
          85000,
          86000,
          87000,
          88000,
          89000,
          90000,
          91000,
          92000,
          93000,
          94000,
          95000,
          96000,
          97000,
          98000,
          99000,
          100000,
          101000,
          102000,
          103000,
          104000,
          105000,
          106000,
          107000,
          108000,
          109000,
          110000,
          111000,
          112000,
          113000,
          114000,
          115000,
          116000,
          117000,
          118000,
          119000,
          120000,
          121000,
          122000,
          123000,
          124000,
          125000,
          126000,
          127000,
          128000,
          129000,
          130000,
          131000,
          132000,
          133000,
          134000,
          135000,
          136000,
          137000,
          138000,
          139000,
          140000,
          141000,
          142000,
          143000,
          144000,
          145000,
          146000,
          147000,
          148000,
          149000,
          150000,
          151000,
          152000,
          153000,
          154000,
          155000,
          156000,
          157000,
          158000,
          159000,
          160000
         ],
         "xaxis": "x",
         "y": [
          20.83,
          26.12,
          29.4,
          30.72,
          32.67,
          33.74,
          37.06,
          37.71,
          36.92,
          41.14,
          42.48,
          41.91,
          42.84,
          43.05,
          45.7,
          44.27,
          46.74,
          44.66,
          48.07,
          46.18,
          45.33,
          46.6,
          48.28,
          51.11,
          51.18,
          47.56,
          52.13,
          52,
          49.54,
          51.01,
          51.93,
          51.82,
          41.2,
          54.81,
          53.72,
          52.63,
          53.19,
          53.22,
          52.27,
          55.51,
          57.17,
          54.96,
          53.99,
          54.94,
          56.44,
          54.83,
          53.98,
          57.14,
          55.51,
          56.74,
          57.85,
          56.07,
          51.76,
          54.16,
          56.73,
          57.97,
          55.32,
          58.02,
          56.66,
          56.85,
          57.33,
          59.85,
          59.11,
          57.55,
          59.86,
          55.69,
          60.14,
          59.46,
          62.1,
          56.65,
          57.8,
          60.11,
          60.57,
          61.93,
          59.23,
          63.17,
          58.05,
          56.5,
          59.81,
          61.58,
          55.27,
          61.91,
          64.24,
          60.99,
          59.1,
          63,
          57.84,
          57.51,
          58.71,
          64.16,
          63.89,
          61.49,
          64.55,
          62.84,
          64.66,
          62.09,
          65.18,
          63.66,
          63.89,
          63.93,
          64.45,
          65.86,
          65.71,
          64.89,
          63.55,
          63.35,
          64.17,
          66.26,
          66.82,
          66.72,
          62.79,
          66.11,
          63.56,
          66.57,
          67.71,
          65.98,
          67.35,
          65.71,
          66.82,
          65.17,
          67.18,
          68.32,
          68.39,
          62.29,
          66.39,
          67.59,
          68.34,
          67.56,
          65.39,
          68.34,
          67.88,
          67.57,
          69.66,
          69.3,
          70.33,
          68.39,
          69.8,
          67.32,
          69.95,
          67.04,
          70.05,
          68.76,
          70.81,
          70.79,
          70.82,
          71.6,
          71.42,
          71.19,
          72.08,
          71.59,
          71.86,
          71.02,
          71.53,
          72.51,
          72.11,
          72.25,
          72.64,
          72.4,
          72.59,
          72.72
         ],
         "yaxis": "y"
        },
        {
         "line": {
          "color": "green"
         },
         "name": "Learning Rate",
         "type": "scatter",
         "x": [
          1000,
          2000,
          3000,
          4000,
          5000,
          6000,
          7000,
          8000,
          9000,
          10000,
          11000,
          12000,
          13000,
          14000,
          15000,
          16000,
          17000,
          18000,
          19000,
          20000,
          21000,
          22000,
          23000,
          24000,
          25000,
          26000,
          27000,
          28000,
          29000,
          30000,
          31000,
          32000,
          33000,
          34000,
          35000,
          36000,
          37000,
          38000,
          39000,
          40000,
          41000,
          42000,
          43000,
          44000,
          45000,
          46000,
          47000,
          48000,
          49000,
          50000,
          51000,
          52000,
          53000,
          54000,
          55000,
          56000,
          57000,
          58000,
          59000,
          60000,
          61000,
          62000,
          63000,
          64000,
          65000,
          66000,
          67000,
          68000,
          69000,
          70000,
          71000,
          72000,
          73000,
          74000,
          75000,
          76000,
          77000,
          78000,
          79000,
          80000,
          81000,
          82000,
          83000,
          84000,
          85000,
          86000,
          87000,
          88000,
          89000,
          90000,
          91000,
          92000,
          93000,
          94000,
          95000,
          96000,
          97000,
          98000,
          99000,
          100000,
          101000,
          102000,
          103000,
          104000,
          105000,
          106000,
          107000,
          108000,
          109000,
          110000,
          111000,
          112000,
          113000,
          114000,
          115000,
          116000,
          117000,
          118000,
          119000,
          120000,
          121000,
          122000,
          123000,
          124000,
          125000,
          126000,
          127000,
          128000,
          129000,
          130000,
          131000,
          132000,
          133000,
          134000,
          135000,
          136000,
          137000,
          138000,
          139000,
          140000,
          141000,
          142000,
          143000,
          144000,
          145000,
          146000,
          147000,
          148000,
          149000,
          150000,
          151000,
          152000,
          153000,
          154000,
          155000,
          156000,
          157000,
          158000,
          159000,
          160000
         ],
         "xaxis": "x",
         "y": [
          0.0099438,
          0.0098875,
          0.0098311,
          0.0097748,
          0.0097184,
          0.0096619,
          0.0096054,
          0.0095489,
          0.0094923,
          0.0094358,
          0.0093791,
          0.0093224,
          0.0092657,
          0.009209,
          0.0091522,
          0.0090954,
          0.0090385,
          0.0089816,
          0.0089247,
          0.0088677,
          0.0088106,
          0.0087536,
          0.0086965,
          0.0086393,
          0.0085821,
          0.0085249,
          0.0084676,
          0.0084103,
          0.0083529,
          0.0082955,
          0.0082381,
          0.0081806,
          0.008123,
          0.0080654,
          0.0080078,
          0.0079501,
          0.0078924,
          0.0078346,
          0.0077768,
          0.0077189,
          0.007661,
          0.0076031,
          0.007545,
          0.007487,
          0.0074289,
          0.0073707,
          0.0073125,
          0.0072542,
          0.0071959,
          0.0071375,
          0.0070791,
          0.0070206,
          0.0069621,
          0.0069035,
          0.0068449,
          0.0067862,
          0.0067274,
          0.0066686,
          0.0066097,
          0.0065508,
          0.0064918,
          0.0064328,
          0.0063737,
          0.0063145,
          0.0062553,
          0.006196,
          0.0061366,
          0.0060772,
          0.0060177,
          0.0059582,
          0.0058986,
          0.0058389,
          0.0057791,
          0.0057193,
          0.0056594,
          0.0055995,
          0.0055394,
          0.0054793,
          0.0054191,
          0.0053589,
          0.0052986,
          0.0052382,
          0.0051777,
          0.0051171,
          0.0050565,
          0.0049958,
          0.004935,
          0.0048741,
          0.0048131,
          0.0047521,
          0.0046909,
          0.0046297,
          0.0045684,
          0.004507,
          0.0044455,
          0.0043839,
          0.0043222,
          0.0042604,
          0.0041985,
          0.0041365,
          0.0040744,
          0.0040122,
          0.0039499,
          0.0038874,
          0.0038249,
          0.0037623,
          0.0036995,
          0.0036366,
          0.0035736,
          0.0035105,
          0.0034472,
          0.0033839,
          0.0033203,
          0.0032567,
          0.0031929,
          0.003129,
          0.0030649,
          0.0030007,
          0.0029363,
          0.0028718,
          0.0028071,
          0.0027422,
          0.0026772,
          0.002612,
          0.0025466,
          0.002481,
          0.0024152,
          0.0023493,
          0.0022831,
          0.0022167,
          0.0021501,
          0.0020832,
          0.0020161,
          0.0019488,
          0.0018812,
          0.0018134,
          0.0017452,
          0.0016768,
          0.001608,
          0.0015389,
          0.0014695,
          0.0013997,
          0.0013295,
          0.0012589,
          0.0011879,
          0.0011164,
          0.0010443,
          0.00097176,
          0.00089856,
          0.0008247,
          0.00075009,
          0.00067465,
          0.00059825,
          0.00052075,
          0.00044194,
          0.00036153,
          0.00027906,
          0.00019374,
          0.00010382,
          0
         ],
         "yaxis": "y2"
        }
       ],
       "layout": {
        "hovermode": "x unified",
        "legend": {
         "x": 1.15,
         "xanchor": "right",
         "y": 1.15,
         "yanchor": "top"
        },
        "template": {
         "data": {
          "bar": [
           {
            "error_x": {
             "color": "#2a3f5f"
            },
            "error_y": {
             "color": "#2a3f5f"
            },
            "marker": {
             "line": {
              "color": "#E5ECF6",
              "width": 0.5
             },
             "pattern": {
              "fillmode": "overlay",
              "size": 10,
              "solidity": 0.2
             }
            },
            "type": "bar"
           }
          ],
          "barpolar": [
           {
            "marker": {
             "line": {
              "color": "#E5ECF6",
              "width": 0.5
             },
             "pattern": {
              "fillmode": "overlay",
              "size": 10,
              "solidity": 0.2
             }
            },
            "type": "barpolar"
           }
          ],
          "carpet": [
           {
            "aaxis": {
             "endlinecolor": "#2a3f5f",
             "gridcolor": "white",
             "linecolor": "white",
             "minorgridcolor": "white",
             "startlinecolor": "#2a3f5f"
            },
            "baxis": {
             "endlinecolor": "#2a3f5f",
             "gridcolor": "white",
             "linecolor": "white",
             "minorgridcolor": "white",
             "startlinecolor": "#2a3f5f"
            },
            "type": "carpet"
           }
          ],
          "choropleth": [
           {
            "colorbar": {
             "outlinewidth": 0,
             "ticks": ""
            },
            "type": "choropleth"
           }
          ],
          "contour": [
           {
            "colorbar": {
             "outlinewidth": 0,
             "ticks": ""
            },
            "colorscale": [
             [
              0,
              "#0d0887"
             ],
             [
              0.1111111111111111,
              "#46039f"
             ],
             [
              0.2222222222222222,
              "#7201a8"
             ],
             [
              0.3333333333333333,
              "#9c179e"
             ],
             [
              0.4444444444444444,
              "#bd3786"
             ],
             [
              0.5555555555555556,
              "#d8576b"
             ],
             [
              0.6666666666666666,
              "#ed7953"
             ],
             [
              0.7777777777777778,
              "#fb9f3a"
             ],
             [
              0.8888888888888888,
              "#fdca26"
             ],
             [
              1,
              "#f0f921"
             ]
            ],
            "type": "contour"
           }
          ],
          "contourcarpet": [
           {
            "colorbar": {
             "outlinewidth": 0,
             "ticks": ""
            },
            "type": "contourcarpet"
           }
          ],
          "heatmap": [
           {
            "colorbar": {
             "outlinewidth": 0,
             "ticks": ""
            },
            "colorscale": [
             [
              0,
              "#0d0887"
             ],
             [
              0.1111111111111111,
              "#46039f"
             ],
             [
              0.2222222222222222,
              "#7201a8"
             ],
             [
              0.3333333333333333,
              "#9c179e"
             ],
             [
              0.4444444444444444,
              "#bd3786"
             ],
             [
              0.5555555555555556,
              "#d8576b"
             ],
             [
              0.6666666666666666,
              "#ed7953"
             ],
             [
              0.7777777777777778,
              "#fb9f3a"
             ],
             [
              0.8888888888888888,
              "#fdca26"
             ],
             [
              1,
              "#f0f921"
             ]
            ],
            "type": "heatmap"
           }
          ],
          "histogram": [
           {
            "marker": {
             "pattern": {
              "fillmode": "overlay",
              "size": 10,
              "solidity": 0.2
             }
            },
            "type": "histogram"
           }
          ],
          "histogram2d": [
           {
            "colorbar": {
             "outlinewidth": 0,
             "ticks": ""
            },
            "colorscale": [
             [
              0,
              "#0d0887"
             ],
             [
              0.1111111111111111,
              "#46039f"
             ],
             [
              0.2222222222222222,
              "#7201a8"
             ],
             [
              0.3333333333333333,
              "#9c179e"
             ],
             [
              0.4444444444444444,
              "#bd3786"
             ],
             [
              0.5555555555555556,
              "#d8576b"
             ],
             [
              0.6666666666666666,
              "#ed7953"
             ],
             [
              0.7777777777777778,
              "#fb9f3a"
             ],
             [
              0.8888888888888888,
              "#fdca26"
             ],
             [
              1,
              "#f0f921"
             ]
            ],
            "type": "histogram2d"
           }
          ],
          "histogram2dcontour": [
           {
            "colorbar": {
             "outlinewidth": 0,
             "ticks": ""
            },
            "colorscale": [
             [
              0,
              "#0d0887"
             ],
             [
              0.1111111111111111,
              "#46039f"
             ],
             [
              0.2222222222222222,
              "#7201a8"
             ],
             [
              0.3333333333333333,
              "#9c179e"
             ],
             [
              0.4444444444444444,
              "#bd3786"
             ],
             [
              0.5555555555555556,
              "#d8576b"
             ],
             [
              0.6666666666666666,
              "#ed7953"
             ],
             [
              0.7777777777777778,
              "#fb9f3a"
             ],
             [
              0.8888888888888888,
              "#fdca26"
             ],
             [
              1,
              "#f0f921"
             ]
            ],
            "type": "histogram2dcontour"
           }
          ],
          "mesh3d": [
           {
            "colorbar": {
             "outlinewidth": 0,
             "ticks": ""
            },
            "type": "mesh3d"
           }
          ],
          "parcoords": [
           {
            "line": {
             "colorbar": {
              "outlinewidth": 0,
              "ticks": ""
             }
            },
            "type": "parcoords"
           }
          ],
          "pie": [
           {
            "automargin": true,
            "type": "pie"
           }
          ],
          "scatter": [
           {
            "fillpattern": {
             "fillmode": "overlay",
             "size": 10,
             "solidity": 0.2
            },
            "type": "scatter"
           }
          ],
          "scatter3d": [
           {
            "line": {
             "colorbar": {
              "outlinewidth": 0,
              "ticks": ""
             }
            },
            "marker": {
             "colorbar": {
              "outlinewidth": 0,
              "ticks": ""
             }
            },
            "type": "scatter3d"
           }
          ],
          "scattercarpet": [
           {
            "marker": {
             "colorbar": {
              "outlinewidth": 0,
              "ticks": ""
             }
            },
            "type": "scattercarpet"
           }
          ],
          "scattergeo": [
           {
            "marker": {
             "colorbar": {
              "outlinewidth": 0,
              "ticks": ""
             }
            },
            "type": "scattergeo"
           }
          ],
          "scattergl": [
           {
            "marker": {
             "colorbar": {
              "outlinewidth": 0,
              "ticks": ""
             }
            },
            "type": "scattergl"
           }
          ],
          "scattermap": [
           {
            "marker": {
             "colorbar": {
              "outlinewidth": 0,
              "ticks": ""
             }
            },
            "type": "scattermap"
           }
          ],
          "scattermapbox": [
           {
            "marker": {
             "colorbar": {
              "outlinewidth": 0,
              "ticks": ""
             }
            },
            "type": "scattermapbox"
           }
          ],
          "scatterpolar": [
           {
            "marker": {
             "colorbar": {
              "outlinewidth": 0,
              "ticks": ""
             }
            },
            "type": "scatterpolar"
           }
          ],
          "scatterpolargl": [
           {
            "marker": {
             "colorbar": {
              "outlinewidth": 0,
              "ticks": ""
             }
            },
            "type": "scatterpolargl"
           }
          ],
          "scatterternary": [
           {
            "marker": {
             "colorbar": {
              "outlinewidth": 0,
              "ticks": ""
             }
            },
            "type": "scatterternary"
           }
          ],
          "surface": [
           {
            "colorbar": {
             "outlinewidth": 0,
             "ticks": ""
            },
            "colorscale": [
             [
              0,
              "#0d0887"
             ],
             [
              0.1111111111111111,
              "#46039f"
             ],
             [
              0.2222222222222222,
              "#7201a8"
             ],
             [
              0.3333333333333333,
              "#9c179e"
             ],
             [
              0.4444444444444444,
              "#bd3786"
             ],
             [
              0.5555555555555556,
              "#d8576b"
             ],
             [
              0.6666666666666666,
              "#ed7953"
             ],
             [
              0.7777777777777778,
              "#fb9f3a"
             ],
             [
              0.8888888888888888,
              "#fdca26"
             ],
             [
              1,
              "#f0f921"
             ]
            ],
            "type": "surface"
           }
          ],
          "table": [
           {
            "cells": {
             "fill": {
              "color": "#EBF0F8"
             },
             "line": {
              "color": "white"
             }
            },
            "header": {
             "fill": {
              "color": "#C8D4E3"
             },
             "line": {
              "color": "white"
             }
            },
            "type": "table"
           }
          ]
         },
         "layout": {
          "annotationdefaults": {
           "arrowcolor": "#2a3f5f",
           "arrowhead": 0,
           "arrowwidth": 1
          },
          "autotypenumbers": "strict",
          "coloraxis": {
           "colorbar": {
            "outlinewidth": 0,
            "ticks": ""
           }
          },
          "colorscale": {
           "diverging": [
            [
             0,
             "#8e0152"
            ],
            [
             0.1,
             "#c51b7d"
            ],
            [
             0.2,
             "#de77ae"
            ],
            [
             0.3,
             "#f1b6da"
            ],
            [
             0.4,
             "#fde0ef"
            ],
            [
             0.5,
             "#f7f7f7"
            ],
            [
             0.6,
             "#e6f5d0"
            ],
            [
             0.7,
             "#b8e186"
            ],
            [
             0.8,
             "#7fbc41"
            ],
            [
             0.9,
             "#4d9221"
            ],
            [
             1,
             "#276419"
            ]
           ],
           "sequential": [
            [
             0,
             "#0d0887"
            ],
            [
             0.1111111111111111,
             "#46039f"
            ],
            [
             0.2222222222222222,
             "#7201a8"
            ],
            [
             0.3333333333333333,
             "#9c179e"
            ],
            [
             0.4444444444444444,
             "#bd3786"
            ],
            [
             0.5555555555555556,
             "#d8576b"
            ],
            [
             0.6666666666666666,
             "#ed7953"
            ],
            [
             0.7777777777777778,
             "#fb9f3a"
            ],
            [
             0.8888888888888888,
             "#fdca26"
            ],
            [
             1,
             "#f0f921"
            ]
           ],
           "sequentialminus": [
            [
             0,
             "#0d0887"
            ],
            [
             0.1111111111111111,
             "#46039f"
            ],
            [
             0.2222222222222222,
             "#7201a8"
            ],
            [
             0.3333333333333333,
             "#9c179e"
            ],
            [
             0.4444444444444444,
             "#bd3786"
            ],
            [
             0.5555555555555556,
             "#d8576b"
            ],
            [
             0.6666666666666666,
             "#ed7953"
            ],
            [
             0.7777777777777778,
             "#fb9f3a"
            ],
            [
             0.8888888888888888,
             "#fdca26"
            ],
            [
             1,
             "#f0f921"
            ]
           ]
          },
          "colorway": [
           "#636efa",
           "#EF553B",
           "#00cc96",
           "#ab63fa",
           "#FFA15A",
           "#19d3f3",
           "#FF6692",
           "#B6E880",
           "#FF97FF",
           "#FECB52"
          ],
          "font": {
           "color": "#2a3f5f"
          },
          "geo": {
           "bgcolor": "white",
           "lakecolor": "white",
           "landcolor": "#E5ECF6",
           "showlakes": true,
           "showland": true,
           "subunitcolor": "white"
          },
          "hoverlabel": {
           "align": "left"
          },
          "hovermode": "closest",
          "mapbox": {
           "style": "light"
          },
          "paper_bgcolor": "white",
          "plot_bgcolor": "#E5ECF6",
          "polar": {
           "angularaxis": {
            "gridcolor": "white",
            "linecolor": "white",
            "ticks": ""
           },
           "bgcolor": "#E5ECF6",
           "radialaxis": {
            "gridcolor": "white",
            "linecolor": "white",
            "ticks": ""
           }
          },
          "scene": {
           "xaxis": {
            "backgroundcolor": "#E5ECF6",
            "gridcolor": "white",
            "gridwidth": 2,
            "linecolor": "white",
            "showbackground": true,
            "ticks": "",
            "zerolinecolor": "white"
           },
           "yaxis": {
            "backgroundcolor": "#E5ECF6",
            "gridcolor": "white",
            "gridwidth": 2,
            "linecolor": "white",
            "showbackground": true,
            "ticks": "",
            "zerolinecolor": "white"
           },
           "zaxis": {
            "backgroundcolor": "#E5ECF6",
            "gridcolor": "white",
            "gridwidth": 2,
            "linecolor": "white",
            "showbackground": true,
            "ticks": "",
            "zerolinecolor": "white"
           }
          },
          "shapedefaults": {
           "line": {
            "color": "#2a3f5f"
           }
          },
          "ternary": {
           "aaxis": {
            "gridcolor": "white",
            "linecolor": "white",
            "ticks": ""
           },
           "baxis": {
            "gridcolor": "white",
            "linecolor": "white",
            "ticks": ""
           },
           "bgcolor": "#E5ECF6",
           "caxis": {
            "gridcolor": "white",
            "linecolor": "white",
            "ticks": ""
           }
          },
          "title": {
           "x": 0.05
          },
          "xaxis": {
           "automargin": true,
           "gridcolor": "white",
           "linecolor": "white",
           "ticks": "",
           "title": {
            "standoff": 15
           },
           "zerolinecolor": "white",
           "zerolinewidth": 2
          },
          "yaxis": {
           "automargin": true,
           "gridcolor": "white",
           "linecolor": "white",
           "ticks": "",
           "title": {
            "standoff": 15
           },
           "zerolinecolor": "white",
           "zerolinewidth": 2
          }
         }
        },
        "title": {
         "text": "Validation Performance and Training Learning Rate vs Epoch"
        },
        "xaxis": {
         "anchor": "y",
         "domain": [
          0,
          0.94
         ],
         "range": [
          0,
          160000
         ],
         "title": {
          "text": "Epoch"
         }
        },
        "yaxis": {
         "anchor": "x",
         "domain": [
          0,
          1
         ],
         "dtick": 10,
         "range": [
          0,
          100
         ],
         "title": {
          "text": "Performance (%)"
         }
        },
        "yaxis2": {
         "anchor": "x",
         "overlaying": "y",
         "side": "right",
         "title": {
          "text": "Learning Rate"
         }
        }
       }
      }
     },
     "metadata": {},
     "output_type": "display_data"
    }
   ],
   "source": [
    "# Ablation 01 - SEBNet BaselineHead SGD, Pretrained, Batch Size 6, OHEM Cross Entropy - 72.72 Best mIoU\n",
    "log_file_path = '/home/robert.breslin/alessandro/paper_2/mmsegmentation/work_dirs/sebnet_baseline-head_1xb6_cityscapes_ohem/20250822_162921/20250822_162921.log'\n",
    "epochs, mIoU, mAcc, lrs = parse_log_file(log_file_path)\n",
    "plot_accuracies_and_lr_interactive(epochs, mAcc, mIoU, lrs, [0,160000])"
   ]
  },
  {
   "cell_type": "code",
   "execution_count": 5,
   "id": "d620c161",
   "metadata": {},
   "outputs": [
    {
     "data": {
      "application/vnd.plotly.v1+json": {
       "config": {
        "plotlyServerURL": "https://plot.ly"
       },
       "data": [
        {
         "line": {
          "color": "blue"
         },
         "name": "Mean Accuracy",
         "type": "scatter",
         "x": [
          1000,
          2000,
          3000,
          4000,
          5000,
          6000,
          7000,
          8000,
          9000,
          10000,
          11000,
          12000,
          13000,
          14000,
          15000,
          16000,
          17000,
          18000,
          19000,
          20000,
          21000,
          22000,
          23000,
          24000,
          25000,
          26000,
          27000,
          28000,
          29000,
          30000,
          31000,
          32000,
          33000,
          34000,
          35000,
          36000,
          37000,
          38000,
          39000,
          40000,
          41000,
          42000,
          43000,
          44000,
          45000,
          46000,
          47000,
          48000,
          49000,
          50000,
          51000,
          52000,
          53000,
          54000,
          55000,
          56000,
          57000,
          58000,
          59000,
          60000,
          61000,
          62000,
          63000,
          64000,
          65000,
          66000,
          67000,
          68000,
          69000,
          70000,
          71000,
          72000,
          73000,
          74000,
          75000,
          76000,
          77000,
          78000,
          79000,
          80000,
          81000,
          82000,
          83000,
          84000,
          85000,
          86000,
          87000,
          88000,
          89000,
          90000,
          91000,
          92000,
          93000,
          94000,
          95000,
          96000,
          97000,
          98000,
          99000,
          100000,
          101000,
          102000,
          103000,
          104000,
          105000,
          106000,
          107000,
          108000,
          109000,
          110000,
          111000,
          112000,
          113000,
          114000,
          115000,
          116000,
          117000,
          118000,
          119000,
          120000,
          121000,
          122000,
          123000,
          124000,
          125000,
          126000,
          127000,
          128000,
          129000,
          130000,
          131000,
          132000,
          133000,
          134000,
          135000,
          136000,
          137000,
          138000,
          139000,
          140000,
          141000,
          142000,
          143000,
          144000,
          145000,
          146000,
          147000,
          148000,
          149000,
          150000,
          151000,
          152000,
          153000,
          154000,
          155000,
          156000,
          157000,
          158000,
          159000,
          160000
         ],
         "xaxis": "x",
         "y": [
          27.11,
          33.38,
          33.62,
          37.87,
          39.2,
          42.1,
          47.91,
          45.64,
          47.15,
          50.1,
          52.64,
          50,
          52.84,
          51.28,
          54.45,
          56.08,
          55.78,
          55.09,
          56.52,
          52.66,
          50.38,
          58.77,
          59.09,
          64.28,
          62.51,
          62,
          63.79,
          63.41,
          59.19,
          62.65,
          63.69,
          60.56,
          65.68,
          59.1,
          63.53,
          65.27,
          63.55,
          63.98,
          64.99,
          64.77,
          66.24,
          64.78,
          68.13,
          63.16,
          70.38,
          67.96,
          67.72,
          65.48,
          68.11,
          71.07,
          69.53,
          66.39,
          68.55,
          68.86,
          70.57,
          69.69,
          70.2,
          63.42,
          69.55,
          68.47,
          68.35,
          70.01,
          70.66,
          70.47,
          69.16,
          70.9,
          71.89,
          74.12,
          68.98,
          68.69,
          72.34,
          71.43,
          70.68,
          71.38,
          69.97,
          74.07,
          69.9,
          71.16,
          72.33,
          73.7,
          73.05,
          77.33,
          71.5,
          75.55,
          71.26,
          76.47,
          69.82,
          65.27,
          74.78,
          73.79,
          75,
          73.01,
          73.6,
          77.41,
          75.36,
          73.11,
          75.94,
          76.19,
          75.65,
          74.11,
          77.18,
          76.08,
          74.42,
          77.32,
          75.18,
          73.81,
          76.13,
          73.37,
          78.3,
          77.87,
          76.26,
          76.33,
          73.14,
          78.12,
          77.52,
          72.96,
          77.21,
          76.39,
          76.4,
          73.29,
          78.88,
          79.03,
          77.37,
          74.65,
          79.4,
          78.2,
          79.3,
          78.09,
          78.72,
          71.61,
          78.08,
          78.03,
          76.78,
          79.9,
          79.38,
          79.42,
          79.36,
          79.48,
          78.64,
          78,
          79.26,
          80.21,
          79.91,
          79.92,
          80.81,
          79.23,
          80.94,
          79.8,
          80.32,
          79.89,
          79.78,
          80.84,
          81.15,
          82,
          81.1,
          81.07,
          82.01,
          81.76,
          81.27,
          81.47
         ],
         "yaxis": "y"
        },
        {
         "line": {
          "color": "orange"
         },
         "name": "Mean IoU",
         "type": "scatter",
         "x": [
          1000,
          2000,
          3000,
          4000,
          5000,
          6000,
          7000,
          8000,
          9000,
          10000,
          11000,
          12000,
          13000,
          14000,
          15000,
          16000,
          17000,
          18000,
          19000,
          20000,
          21000,
          22000,
          23000,
          24000,
          25000,
          26000,
          27000,
          28000,
          29000,
          30000,
          31000,
          32000,
          33000,
          34000,
          35000,
          36000,
          37000,
          38000,
          39000,
          40000,
          41000,
          42000,
          43000,
          44000,
          45000,
          46000,
          47000,
          48000,
          49000,
          50000,
          51000,
          52000,
          53000,
          54000,
          55000,
          56000,
          57000,
          58000,
          59000,
          60000,
          61000,
          62000,
          63000,
          64000,
          65000,
          66000,
          67000,
          68000,
          69000,
          70000,
          71000,
          72000,
          73000,
          74000,
          75000,
          76000,
          77000,
          78000,
          79000,
          80000,
          81000,
          82000,
          83000,
          84000,
          85000,
          86000,
          87000,
          88000,
          89000,
          90000,
          91000,
          92000,
          93000,
          94000,
          95000,
          96000,
          97000,
          98000,
          99000,
          100000,
          101000,
          102000,
          103000,
          104000,
          105000,
          106000,
          107000,
          108000,
          109000,
          110000,
          111000,
          112000,
          113000,
          114000,
          115000,
          116000,
          117000,
          118000,
          119000,
          120000,
          121000,
          122000,
          123000,
          124000,
          125000,
          126000,
          127000,
          128000,
          129000,
          130000,
          131000,
          132000,
          133000,
          134000,
          135000,
          136000,
          137000,
          138000,
          139000,
          140000,
          141000,
          142000,
          143000,
          144000,
          145000,
          146000,
          147000,
          148000,
          149000,
          150000,
          151000,
          152000,
          153000,
          154000,
          155000,
          156000,
          157000,
          158000,
          159000,
          160000
         ],
         "xaxis": "x",
         "y": [
          20.71,
          26.34,
          27.47,
          31.56,
          30.99,
          34.64,
          36.1,
          37.8,
          39.67,
          40.5,
          43.52,
          41.31,
          43.82,
          42.8,
          44.07,
          44.06,
          46.6,
          45.83,
          47.14,
          44.56,
          41.16,
          48.81,
          48.1,
          52.52,
          51.48,
          48.77,
          51.28,
          51.85,
          49.92,
          52.1,
          52.74,
          50.7,
          52.97,
          50.74,
          53.42,
          55.62,
          52.57,
          53.45,
          54.72,
          54.49,
          56.44,
          54.12,
          58.15,
          53.13,
          56.42,
          54.86,
          56.72,
          55.89,
          55.66,
          57,
          58.91,
          55.41,
          58.03,
          57.9,
          58.17,
          60.07,
          57.81,
          51.62,
          58.04,
          57.26,
          57.04,
          58.13,
          58.18,
          59.16,
          59.02,
          59.72,
          59.98,
          61.37,
          58.39,
          58.81,
          61.88,
          59.19,
          59.71,
          60.38,
          58.64,
          63.96,
          59.5,
          60.7,
          61.55,
          63.99,
          58.34,
          64.84,
          61.02,
          64.21,
          59.19,
          64.67,
          58.8,
          56.98,
          61.51,
          64.15,
          63.5,
          62.91,
          61.78,
          65.61,
          65.32,
          60.46,
          64.92,
          64.81,
          65.79,
          63.28,
          65.44,
          61.13,
          64.92,
          66.76,
          64.39,
          61.62,
          61.64,
          62.07,
          67.15,
          66.47,
          64.56,
          64.17,
          61.42,
          65.73,
          67.22,
          63.07,
          67.55,
          66.16,
          65.76,
          60.45,
          68.79,
          69.06,
          67.37,
          65.43,
          68.61,
          68.58,
          69.36,
          67.88,
          68.2,
          60.02,
          67.37,
          66.73,
          68.15,
          68.99,
          69.34,
          69.33,
          70.51,
          69.36,
          68.7,
          67.28,
          69.35,
          70.04,
          70.6,
          70.52,
          70.87,
          69.79,
          70.58,
          70.8,
          70.61,
          70.27,
          70.63,
          71.61,
          71.73,
          72.38,
          71.89,
          71.9,
          72.43,
          72.33,
          72.13,
          72.33
         ],
         "yaxis": "y"
        },
        {
         "line": {
          "color": "green"
         },
         "name": "Learning Rate",
         "type": "scatter",
         "x": [
          1000,
          2000,
          3000,
          4000,
          5000,
          6000,
          7000,
          8000,
          9000,
          10000,
          11000,
          12000,
          13000,
          14000,
          15000,
          16000,
          17000,
          18000,
          19000,
          20000,
          21000,
          22000,
          23000,
          24000,
          25000,
          26000,
          27000,
          28000,
          29000,
          30000,
          31000,
          32000,
          33000,
          34000,
          35000,
          36000,
          37000,
          38000,
          39000,
          40000,
          41000,
          42000,
          43000,
          44000,
          45000,
          46000,
          47000,
          48000,
          49000,
          50000,
          51000,
          52000,
          53000,
          54000,
          55000,
          56000,
          57000,
          58000,
          59000,
          60000,
          61000,
          62000,
          63000,
          64000,
          65000,
          66000,
          67000,
          68000,
          69000,
          70000,
          71000,
          72000,
          73000,
          74000,
          75000,
          76000,
          77000,
          78000,
          79000,
          80000,
          81000,
          82000,
          83000,
          84000,
          85000,
          86000,
          87000,
          88000,
          89000,
          90000,
          91000,
          92000,
          93000,
          94000,
          95000,
          96000,
          97000,
          98000,
          99000,
          100000,
          101000,
          102000,
          103000,
          104000,
          105000,
          106000,
          107000,
          108000,
          109000,
          110000,
          111000,
          112000,
          113000,
          114000,
          115000,
          116000,
          117000,
          118000,
          119000,
          120000,
          121000,
          122000,
          123000,
          124000,
          125000,
          126000,
          127000,
          128000,
          129000,
          130000,
          131000,
          132000,
          133000,
          134000,
          135000,
          136000,
          137000,
          138000,
          139000,
          140000,
          141000,
          142000,
          143000,
          144000,
          145000,
          146000,
          147000,
          148000,
          149000,
          150000,
          151000,
          152000,
          153000,
          154000,
          155000,
          156000,
          157000,
          158000,
          159000,
          160000
         ],
         "xaxis": "x",
         "y": [
          0.0099438,
          0.0098875,
          0.0098311,
          0.0097748,
          0.0097184,
          0.0096619,
          0.0096054,
          0.0095489,
          0.0094923,
          0.0094358,
          0.0093791,
          0.0093224,
          0.0092657,
          0.009209,
          0.0091522,
          0.0090954,
          0.0090385,
          0.0089816,
          0.0089247,
          0.0088677,
          0.0088106,
          0.0087536,
          0.0086965,
          0.0086393,
          0.0085821,
          0.0085249,
          0.0084676,
          0.0084103,
          0.0083529,
          0.0082955,
          0.0082381,
          0.0081806,
          0.008123,
          0.0080654,
          0.0080078,
          0.0079501,
          0.0078924,
          0.0078346,
          0.0077768,
          0.0077189,
          0.007661,
          0.0076031,
          0.007545,
          0.007487,
          0.0074289,
          0.0073707,
          0.0073125,
          0.0072542,
          0.0071959,
          0.0071375,
          0.0070791,
          0.0070206,
          0.0069621,
          0.0069035,
          0.0068449,
          0.0067862,
          0.0067274,
          0.0066686,
          0.0066097,
          0.0065508,
          0.0064918,
          0.0064328,
          0.0063737,
          0.0063145,
          0.0062553,
          0.006196,
          0.0061366,
          0.0060772,
          0.0060177,
          0.0059582,
          0.0058986,
          0.0058389,
          0.0057791,
          0.0057193,
          0.0056594,
          0.0055995,
          0.0055394,
          0.0054793,
          0.0054191,
          0.0053589,
          0.0052986,
          0.0052382,
          0.0051777,
          0.0051171,
          0.0050565,
          0.0049958,
          0.004935,
          0.0048741,
          0.0048131,
          0.0047521,
          0.0046909,
          0.0046297,
          0.0045684,
          0.004507,
          0.0044455,
          0.0043839,
          0.0043222,
          0.0042604,
          0.0041985,
          0.0041365,
          0.0040744,
          0.0040122,
          0.0039499,
          0.0038874,
          0.0038249,
          0.0037623,
          0.0036995,
          0.0036366,
          0.0035736,
          0.0035105,
          0.0034472,
          0.0033839,
          0.0033203,
          0.0032567,
          0.0031929,
          0.003129,
          0.0030649,
          0.0030007,
          0.0029363,
          0.0028718,
          0.0028071,
          0.0027422,
          0.0026772,
          0.002612,
          0.0025466,
          0.002481,
          0.0024152,
          0.0023493,
          0.0022831,
          0.0022167,
          0.0021501,
          0.0020832,
          0.0020161,
          0.0019488,
          0.0018812,
          0.0018134,
          0.0017452,
          0.0016768,
          0.001608,
          0.0015389,
          0.0014695,
          0.0013997,
          0.0013295,
          0.0012589,
          0.0011879,
          0.0011164,
          0.0010443,
          0.00097176,
          0.00089856,
          0.0008247,
          0.00075009,
          0.00067465,
          0.00059825,
          0.00052075,
          0.00044194,
          0.00036153,
          0.00027906,
          0.00019374,
          0.00010382,
          0
         ],
         "yaxis": "y2"
        }
       ],
       "layout": {
        "hovermode": "x unified",
        "legend": {
         "x": 1.15,
         "xanchor": "right",
         "y": 1.15,
         "yanchor": "top"
        },
        "template": {
         "data": {
          "bar": [
           {
            "error_x": {
             "color": "#2a3f5f"
            },
            "error_y": {
             "color": "#2a3f5f"
            },
            "marker": {
             "line": {
              "color": "#E5ECF6",
              "width": 0.5
             },
             "pattern": {
              "fillmode": "overlay",
              "size": 10,
              "solidity": 0.2
             }
            },
            "type": "bar"
           }
          ],
          "barpolar": [
           {
            "marker": {
             "line": {
              "color": "#E5ECF6",
              "width": 0.5
             },
             "pattern": {
              "fillmode": "overlay",
              "size": 10,
              "solidity": 0.2
             }
            },
            "type": "barpolar"
           }
          ],
          "carpet": [
           {
            "aaxis": {
             "endlinecolor": "#2a3f5f",
             "gridcolor": "white",
             "linecolor": "white",
             "minorgridcolor": "white",
             "startlinecolor": "#2a3f5f"
            },
            "baxis": {
             "endlinecolor": "#2a3f5f",
             "gridcolor": "white",
             "linecolor": "white",
             "minorgridcolor": "white",
             "startlinecolor": "#2a3f5f"
            },
            "type": "carpet"
           }
          ],
          "choropleth": [
           {
            "colorbar": {
             "outlinewidth": 0,
             "ticks": ""
            },
            "type": "choropleth"
           }
          ],
          "contour": [
           {
            "colorbar": {
             "outlinewidth": 0,
             "ticks": ""
            },
            "colorscale": [
             [
              0,
              "#0d0887"
             ],
             [
              0.1111111111111111,
              "#46039f"
             ],
             [
              0.2222222222222222,
              "#7201a8"
             ],
             [
              0.3333333333333333,
              "#9c179e"
             ],
             [
              0.4444444444444444,
              "#bd3786"
             ],
             [
              0.5555555555555556,
              "#d8576b"
             ],
             [
              0.6666666666666666,
              "#ed7953"
             ],
             [
              0.7777777777777778,
              "#fb9f3a"
             ],
             [
              0.8888888888888888,
              "#fdca26"
             ],
             [
              1,
              "#f0f921"
             ]
            ],
            "type": "contour"
           }
          ],
          "contourcarpet": [
           {
            "colorbar": {
             "outlinewidth": 0,
             "ticks": ""
            },
            "type": "contourcarpet"
           }
          ],
          "heatmap": [
           {
            "colorbar": {
             "outlinewidth": 0,
             "ticks": ""
            },
            "colorscale": [
             [
              0,
              "#0d0887"
             ],
             [
              0.1111111111111111,
              "#46039f"
             ],
             [
              0.2222222222222222,
              "#7201a8"
             ],
             [
              0.3333333333333333,
              "#9c179e"
             ],
             [
              0.4444444444444444,
              "#bd3786"
             ],
             [
              0.5555555555555556,
              "#d8576b"
             ],
             [
              0.6666666666666666,
              "#ed7953"
             ],
             [
              0.7777777777777778,
              "#fb9f3a"
             ],
             [
              0.8888888888888888,
              "#fdca26"
             ],
             [
              1,
              "#f0f921"
             ]
            ],
            "type": "heatmap"
           }
          ],
          "histogram": [
           {
            "marker": {
             "pattern": {
              "fillmode": "overlay",
              "size": 10,
              "solidity": 0.2
             }
            },
            "type": "histogram"
           }
          ],
          "histogram2d": [
           {
            "colorbar": {
             "outlinewidth": 0,
             "ticks": ""
            },
            "colorscale": [
             [
              0,
              "#0d0887"
             ],
             [
              0.1111111111111111,
              "#46039f"
             ],
             [
              0.2222222222222222,
              "#7201a8"
             ],
             [
              0.3333333333333333,
              "#9c179e"
             ],
             [
              0.4444444444444444,
              "#bd3786"
             ],
             [
              0.5555555555555556,
              "#d8576b"
             ],
             [
              0.6666666666666666,
              "#ed7953"
             ],
             [
              0.7777777777777778,
              "#fb9f3a"
             ],
             [
              0.8888888888888888,
              "#fdca26"
             ],
             [
              1,
              "#f0f921"
             ]
            ],
            "type": "histogram2d"
           }
          ],
          "histogram2dcontour": [
           {
            "colorbar": {
             "outlinewidth": 0,
             "ticks": ""
            },
            "colorscale": [
             [
              0,
              "#0d0887"
             ],
             [
              0.1111111111111111,
              "#46039f"
             ],
             [
              0.2222222222222222,
              "#7201a8"
             ],
             [
              0.3333333333333333,
              "#9c179e"
             ],
             [
              0.4444444444444444,
              "#bd3786"
             ],
             [
              0.5555555555555556,
              "#d8576b"
             ],
             [
              0.6666666666666666,
              "#ed7953"
             ],
             [
              0.7777777777777778,
              "#fb9f3a"
             ],
             [
              0.8888888888888888,
              "#fdca26"
             ],
             [
              1,
              "#f0f921"
             ]
            ],
            "type": "histogram2dcontour"
           }
          ],
          "mesh3d": [
           {
            "colorbar": {
             "outlinewidth": 0,
             "ticks": ""
            },
            "type": "mesh3d"
           }
          ],
          "parcoords": [
           {
            "line": {
             "colorbar": {
              "outlinewidth": 0,
              "ticks": ""
             }
            },
            "type": "parcoords"
           }
          ],
          "pie": [
           {
            "automargin": true,
            "type": "pie"
           }
          ],
          "scatter": [
           {
            "fillpattern": {
             "fillmode": "overlay",
             "size": 10,
             "solidity": 0.2
            },
            "type": "scatter"
           }
          ],
          "scatter3d": [
           {
            "line": {
             "colorbar": {
              "outlinewidth": 0,
              "ticks": ""
             }
            },
            "marker": {
             "colorbar": {
              "outlinewidth": 0,
              "ticks": ""
             }
            },
            "type": "scatter3d"
           }
          ],
          "scattercarpet": [
           {
            "marker": {
             "colorbar": {
              "outlinewidth": 0,
              "ticks": ""
             }
            },
            "type": "scattercarpet"
           }
          ],
          "scattergeo": [
           {
            "marker": {
             "colorbar": {
              "outlinewidth": 0,
              "ticks": ""
             }
            },
            "type": "scattergeo"
           }
          ],
          "scattergl": [
           {
            "marker": {
             "colorbar": {
              "outlinewidth": 0,
              "ticks": ""
             }
            },
            "type": "scattergl"
           }
          ],
          "scattermap": [
           {
            "marker": {
             "colorbar": {
              "outlinewidth": 0,
              "ticks": ""
             }
            },
            "type": "scattermap"
           }
          ],
          "scattermapbox": [
           {
            "marker": {
             "colorbar": {
              "outlinewidth": 0,
              "ticks": ""
             }
            },
            "type": "scattermapbox"
           }
          ],
          "scatterpolar": [
           {
            "marker": {
             "colorbar": {
              "outlinewidth": 0,
              "ticks": ""
             }
            },
            "type": "scatterpolar"
           }
          ],
          "scatterpolargl": [
           {
            "marker": {
             "colorbar": {
              "outlinewidth": 0,
              "ticks": ""
             }
            },
            "type": "scatterpolargl"
           }
          ],
          "scatterternary": [
           {
            "marker": {
             "colorbar": {
              "outlinewidth": 0,
              "ticks": ""
             }
            },
            "type": "scatterternary"
           }
          ],
          "surface": [
           {
            "colorbar": {
             "outlinewidth": 0,
             "ticks": ""
            },
            "colorscale": [
             [
              0,
              "#0d0887"
             ],
             [
              0.1111111111111111,
              "#46039f"
             ],
             [
              0.2222222222222222,
              "#7201a8"
             ],
             [
              0.3333333333333333,
              "#9c179e"
             ],
             [
              0.4444444444444444,
              "#bd3786"
             ],
             [
              0.5555555555555556,
              "#d8576b"
             ],
             [
              0.6666666666666666,
              "#ed7953"
             ],
             [
              0.7777777777777778,
              "#fb9f3a"
             ],
             [
              0.8888888888888888,
              "#fdca26"
             ],
             [
              1,
              "#f0f921"
             ]
            ],
            "type": "surface"
           }
          ],
          "table": [
           {
            "cells": {
             "fill": {
              "color": "#EBF0F8"
             },
             "line": {
              "color": "white"
             }
            },
            "header": {
             "fill": {
              "color": "#C8D4E3"
             },
             "line": {
              "color": "white"
             }
            },
            "type": "table"
           }
          ]
         },
         "layout": {
          "annotationdefaults": {
           "arrowcolor": "#2a3f5f",
           "arrowhead": 0,
           "arrowwidth": 1
          },
          "autotypenumbers": "strict",
          "coloraxis": {
           "colorbar": {
            "outlinewidth": 0,
            "ticks": ""
           }
          },
          "colorscale": {
           "diverging": [
            [
             0,
             "#8e0152"
            ],
            [
             0.1,
             "#c51b7d"
            ],
            [
             0.2,
             "#de77ae"
            ],
            [
             0.3,
             "#f1b6da"
            ],
            [
             0.4,
             "#fde0ef"
            ],
            [
             0.5,
             "#f7f7f7"
            ],
            [
             0.6,
             "#e6f5d0"
            ],
            [
             0.7,
             "#b8e186"
            ],
            [
             0.8,
             "#7fbc41"
            ],
            [
             0.9,
             "#4d9221"
            ],
            [
             1,
             "#276419"
            ]
           ],
           "sequential": [
            [
             0,
             "#0d0887"
            ],
            [
             0.1111111111111111,
             "#46039f"
            ],
            [
             0.2222222222222222,
             "#7201a8"
            ],
            [
             0.3333333333333333,
             "#9c179e"
            ],
            [
             0.4444444444444444,
             "#bd3786"
            ],
            [
             0.5555555555555556,
             "#d8576b"
            ],
            [
             0.6666666666666666,
             "#ed7953"
            ],
            [
             0.7777777777777778,
             "#fb9f3a"
            ],
            [
             0.8888888888888888,
             "#fdca26"
            ],
            [
             1,
             "#f0f921"
            ]
           ],
           "sequentialminus": [
            [
             0,
             "#0d0887"
            ],
            [
             0.1111111111111111,
             "#46039f"
            ],
            [
             0.2222222222222222,
             "#7201a8"
            ],
            [
             0.3333333333333333,
             "#9c179e"
            ],
            [
             0.4444444444444444,
             "#bd3786"
            ],
            [
             0.5555555555555556,
             "#d8576b"
            ],
            [
             0.6666666666666666,
             "#ed7953"
            ],
            [
             0.7777777777777778,
             "#fb9f3a"
            ],
            [
             0.8888888888888888,
             "#fdca26"
            ],
            [
             1,
             "#f0f921"
            ]
           ]
          },
          "colorway": [
           "#636efa",
           "#EF553B",
           "#00cc96",
           "#ab63fa",
           "#FFA15A",
           "#19d3f3",
           "#FF6692",
           "#B6E880",
           "#FF97FF",
           "#FECB52"
          ],
          "font": {
           "color": "#2a3f5f"
          },
          "geo": {
           "bgcolor": "white",
           "lakecolor": "white",
           "landcolor": "#E5ECF6",
           "showlakes": true,
           "showland": true,
           "subunitcolor": "white"
          },
          "hoverlabel": {
           "align": "left"
          },
          "hovermode": "closest",
          "mapbox": {
           "style": "light"
          },
          "paper_bgcolor": "white",
          "plot_bgcolor": "#E5ECF6",
          "polar": {
           "angularaxis": {
            "gridcolor": "white",
            "linecolor": "white",
            "ticks": ""
           },
           "bgcolor": "#E5ECF6",
           "radialaxis": {
            "gridcolor": "white",
            "linecolor": "white",
            "ticks": ""
           }
          },
          "scene": {
           "xaxis": {
            "backgroundcolor": "#E5ECF6",
            "gridcolor": "white",
            "gridwidth": 2,
            "linecolor": "white",
            "showbackground": true,
            "ticks": "",
            "zerolinecolor": "white"
           },
           "yaxis": {
            "backgroundcolor": "#E5ECF6",
            "gridcolor": "white",
            "gridwidth": 2,
            "linecolor": "white",
            "showbackground": true,
            "ticks": "",
            "zerolinecolor": "white"
           },
           "zaxis": {
            "backgroundcolor": "#E5ECF6",
            "gridcolor": "white",
            "gridwidth": 2,
            "linecolor": "white",
            "showbackground": true,
            "ticks": "",
            "zerolinecolor": "white"
           }
          },
          "shapedefaults": {
           "line": {
            "color": "#2a3f5f"
           }
          },
          "ternary": {
           "aaxis": {
            "gridcolor": "white",
            "linecolor": "white",
            "ticks": ""
           },
           "baxis": {
            "gridcolor": "white",
            "linecolor": "white",
            "ticks": ""
           },
           "bgcolor": "#E5ECF6",
           "caxis": {
            "gridcolor": "white",
            "linecolor": "white",
            "ticks": ""
           }
          },
          "title": {
           "x": 0.05
          },
          "xaxis": {
           "automargin": true,
           "gridcolor": "white",
           "linecolor": "white",
           "ticks": "",
           "title": {
            "standoff": 15
           },
           "zerolinecolor": "white",
           "zerolinewidth": 2
          },
          "yaxis": {
           "automargin": true,
           "gridcolor": "white",
           "linecolor": "white",
           "ticks": "",
           "title": {
            "standoff": 15
           },
           "zerolinecolor": "white",
           "zerolinewidth": 2
          }
         }
        },
        "title": {
         "text": "Validation Performance and Training Learning Rate vs Epoch"
        },
        "xaxis": {
         "anchor": "y",
         "domain": [
          0,
          0.94
         ],
         "range": [
          0,
          160000
         ],
         "title": {
          "text": "Epoch"
         }
        },
        "yaxis": {
         "anchor": "x",
         "domain": [
          0,
          1
         ],
         "dtick": 10,
         "range": [
          0,
          100
         ],
         "title": {
          "text": "Performance (%)"
         }
        },
        "yaxis2": {
         "anchor": "x",
         "overlaying": "y",
         "side": "right",
         "title": {
          "text": "Learning Rate"
         }
        }
       }
      }
     },
     "metadata": {},
     "output_type": "display_data"
    }
   ],
   "source": [
    "# Ablation 01 - SEBNet BaselineHead SGD, Scratch, Batch Size 6, OHEM Cross Entropy - 72.43 Best mIoU\n",
    "log_file_path = '/home/robert.breslin/alessandro/paper_2/mmsegmentation/work_dirs/sebnet_baseline-head_1xb6_cityscapes_ohem_scratch/20250822_162814/20250822_162814.log'\n",
    "epochs, mIoU, mAcc, lrs = parse_log_file(log_file_path)\n",
    "plot_accuracies_and_lr_interactive(epochs, mAcc, mIoU, lrs, [0,160000])"
   ]
  },
  {
   "cell_type": "code",
   "execution_count": 6,
   "id": "a40b30bf",
   "metadata": {},
   "outputs": [
    {
     "data": {
      "application/vnd.plotly.v1+json": {
       "config": {
        "plotlyServerURL": "https://plot.ly"
       },
       "data": [
        {
         "line": {
          "color": "blue"
         },
         "name": "Mean Accuracy",
         "type": "scatter",
         "x": [
          1000,
          2000,
          3000,
          4000,
          5000,
          6000,
          7000,
          8000,
          9000,
          10000,
          11000,
          12000,
          13000,
          14000,
          15000,
          16000,
          17000,
          18000,
          19000,
          20000,
          21000,
          22000,
          23000,
          24000,
          25000,
          26000,
          27000,
          28000,
          29000,
          30000,
          31000,
          32000,
          33000,
          34000,
          35000,
          36000,
          37000,
          38000,
          39000,
          40000,
          41000,
          42000,
          43000,
          44000,
          45000,
          46000,
          47000,
          48000,
          49000,
          50000,
          51000,
          52000,
          53000,
          54000,
          55000,
          56000,
          57000,
          58000,
          59000,
          60000,
          61000,
          62000,
          63000,
          64000,
          65000,
          66000,
          67000,
          68000,
          69000,
          70000,
          71000,
          72000,
          73000,
          74000,
          75000,
          76000,
          77000,
          78000,
          79000,
          80000,
          81000,
          82000,
          83000,
          84000,
          85000,
          86000,
          87000,
          88000,
          89000,
          90000,
          91000,
          92000,
          93000,
          94000,
          95000,
          96000,
          97000,
          98000,
          99000,
          100000,
          101000,
          102000,
          103000,
          104000,
          105000,
          106000,
          107000,
          108000,
          109000,
          110000,
          111000,
          112000,
          113000,
          114000,
          115000,
          116000,
          117000,
          118000,
          119000,
          120000
         ],
         "xaxis": "x",
         "y": [
          27.79,
          33.38,
          31.19,
          37.91,
          42.15,
          43.18,
          44.5,
          45.8,
          48.32,
          51.02,
          52.74,
          57.22,
          54.22,
          58.6,
          54.25,
          51.84,
          57.2,
          53.23,
          59.93,
          59.88,
          62.64,
          62.25,
          62.35,
          60.43,
          64.04,
          65.71,
          63.38,
          65.11,
          66.97,
          69.44,
          68.39,
          68.49,
          65.33,
          66.3,
          66.64,
          69.83,
          70.72,
          66.42,
          63.34,
          66.24,
          68.15,
          70.9,
          56.47,
          65.34,
          68.27,
          64.53,
          70.43,
          69.32,
          71.97,
          71.65,
          75.01,
          66.68,
          71.83,
          71.03,
          72.72,
          72.42,
          70.58,
          72.16,
          69.89,
          71.34,
          74.53,
          70.25,
          73.02,
          70.11,
          73.97,
          70.86,
          73.49,
          71.37,
          75.12,
          76.15,
          71.83,
          76.01,
          75.52,
          75.56,
          75.09,
          74.71,
          72.59,
          74.93,
          75.86,
          76.39,
          78.46,
          78.39,
          77.91,
          74.36,
          73.51,
          73.55,
          76.49,
          77.66,
          78.3,
          77.56,
          75.22,
          78.16,
          77.87,
          75.56,
          79.88,
          77.6,
          78.61,
          78.81,
          80.09,
          77.82,
          78.32,
          80.22,
          79.61,
          77.92,
          79.24,
          78.7,
          80.43,
          80.63,
          79.17,
          80.43,
          80.02,
          81.71,
          80.45,
          80.97,
          81.02,
          80.53,
          80.85,
          81.04,
          81.21,
          81.33
         ],
         "yaxis": "y"
        },
        {
         "line": {
          "color": "orange"
         },
         "name": "Mean IoU",
         "type": "scatter",
         "x": [
          1000,
          2000,
          3000,
          4000,
          5000,
          6000,
          7000,
          8000,
          9000,
          10000,
          11000,
          12000,
          13000,
          14000,
          15000,
          16000,
          17000,
          18000,
          19000,
          20000,
          21000,
          22000,
          23000,
          24000,
          25000,
          26000,
          27000,
          28000,
          29000,
          30000,
          31000,
          32000,
          33000,
          34000,
          35000,
          36000,
          37000,
          38000,
          39000,
          40000,
          41000,
          42000,
          43000,
          44000,
          45000,
          46000,
          47000,
          48000,
          49000,
          50000,
          51000,
          52000,
          53000,
          54000,
          55000,
          56000,
          57000,
          58000,
          59000,
          60000,
          61000,
          62000,
          63000,
          64000,
          65000,
          66000,
          67000,
          68000,
          69000,
          70000,
          71000,
          72000,
          73000,
          74000,
          75000,
          76000,
          77000,
          78000,
          79000,
          80000,
          81000,
          82000,
          83000,
          84000,
          85000,
          86000,
          87000,
          88000,
          89000,
          90000,
          91000,
          92000,
          93000,
          94000,
          95000,
          96000,
          97000,
          98000,
          99000,
          100000,
          101000,
          102000,
          103000,
          104000,
          105000,
          106000,
          107000,
          108000,
          109000,
          110000,
          111000,
          112000,
          113000,
          114000,
          115000,
          116000,
          117000,
          118000,
          119000,
          120000
         ],
         "xaxis": "x",
         "y": [
          20.59,
          24.67,
          23.94,
          31.33,
          34.77,
          34.59,
          37.63,
          38.69,
          39.08,
          42.44,
          43.53,
          46.18,
          44.48,
          47.61,
          45.6,
          43.61,
          48.68,
          46.08,
          47.79,
          49.8,
          52.36,
          53.08,
          48.34,
          51.67,
          54.47,
          54.9,
          52.19,
          51.73,
          54.74,
          56.59,
          56.61,
          56.71,
          54,
          54.72,
          55.91,
          57.7,
          59.43,
          55.96,
          55.19,
          55.54,
          58.03,
          58.93,
          46.18,
          56.61,
          59.13,
          55.2,
          58.45,
          59.16,
          60.84,
          60.38,
          61.03,
          56.86,
          60.18,
          60.06,
          60.39,
          60.6,
          60.32,
          61.69,
          59.71,
          59.92,
          61.09,
          57.94,
          61.83,
          60.92,
          63.85,
          60.77,
          64.28,
          55.25,
          64.9,
          64.05,
          61.89,
          61.17,
          64.88,
          63.17,
          65.1,
          64.52,
          63.63,
          64.95,
          64.84,
          66.53,
          65.87,
          67.47,
          67.03,
          64.73,
          63.64,
          62.13,
          66.38,
          67.35,
          68.26,
          67.04,
          63.36,
          67.46,
          66.74,
          65.26,
          67.4,
          67.44,
          67.85,
          68.7,
          70.37,
          68.35,
          68.41,
          70.18,
          69.77,
          67.69,
          70.39,
          68.62,
          70.58,
          69.88,
          69.83,
          69.89,
          70.14,
          71.65,
          71.18,
          71.5,
          71.4,
          71.66,
          71.96,
          71.87,
          72.27,
          72.34
         ],
         "yaxis": "y"
        },
        {
         "line": {
          "color": "green"
         },
         "name": "Learning Rate",
         "type": "scatter",
         "x": [
          1000,
          2000,
          3000,
          4000,
          5000,
          6000,
          7000,
          8000,
          9000,
          10000,
          11000,
          12000,
          13000,
          14000,
          15000,
          16000,
          17000,
          18000,
          19000,
          20000,
          21000,
          22000,
          23000,
          24000,
          25000,
          26000,
          27000,
          28000,
          29000,
          30000,
          31000,
          32000,
          33000,
          34000,
          35000,
          36000,
          37000,
          38000,
          39000,
          40000,
          41000,
          42000,
          43000,
          44000,
          45000,
          46000,
          47000,
          48000,
          49000,
          50000,
          51000,
          52000,
          53000,
          54000,
          55000,
          56000,
          57000,
          58000,
          59000,
          60000,
          61000,
          62000,
          63000,
          64000,
          65000,
          66000,
          67000,
          68000,
          69000,
          70000,
          71000,
          72000,
          73000,
          74000,
          75000,
          76000,
          77000,
          78000,
          79000,
          80000,
          81000,
          82000,
          83000,
          84000,
          85000,
          86000,
          87000,
          88000,
          89000,
          90000,
          91000,
          92000,
          93000,
          94000,
          95000,
          96000,
          97000,
          98000,
          99000,
          100000,
          101000,
          102000,
          103000,
          104000,
          105000,
          106000,
          107000,
          108000,
          109000,
          110000,
          111000,
          112000,
          113000,
          114000,
          115000,
          116000,
          117000,
          118000,
          119000,
          120000
         ],
         "xaxis": "x",
         "y": [
          0.009925,
          0.0098499,
          0.0097748,
          0.0096996,
          0.0096243,
          0.0095489,
          0.0094735,
          0.009398,
          0.0093225,
          0.0092468,
          0.0091712,
          0.0090954,
          0.0090196,
          0.0089437,
          0.0088677,
          0.0087916,
          0.0087155,
          0.0086393,
          0.0085631,
          0.0084867,
          0.0084103,
          0.0083338,
          0.0082572,
          0.0081806,
          0.0081038,
          0.008027,
          0.0079501,
          0.0078732,
          0.0077961,
          0.007719,
          0.0076417,
          0.0075644,
          0.007487,
          0.0074095,
          0.0073319,
          0.0072542,
          0.0071765,
          0.0070986,
          0.0070206,
          0.0069426,
          0.0068644,
          0.0067862,
          0.0067078,
          0.0066294,
          0.0065508,
          0.0064722,
          0.0063934,
          0.0063145,
          0.0062355,
          0.0061564,
          0.0060772,
          0.0059979,
          0.0059184,
          0.0058389,
          0.0057592,
          0.0056794,
          0.0055995,
          0.0055194,
          0.0054392,
          0.0053589,
          0.0052785,
          0.0051979,
          0.0051171,
          0.0050363,
          0.0049553,
          0.0048741,
          0.0047928,
          0.0047113,
          0.0046297,
          0.0045479,
          0.004466,
          0.0043839,
          0.0043016,
          0.0042191,
          0.0041365,
          0.0040537,
          0.0039707,
          0.0038874,
          0.003804,
          0.0037204,
          0.0036366,
          0.0035526,
          0.0034683,
          0.0033839,
          0.0032991,
          0.0032142,
          0.003129,
          0.0030435,
          0.0029578,
          0.0028718,
          0.0027855,
          0.0026989,
          0.002612,
          0.0025247,
          0.0024372,
          0.0023493,
          0.002261,
          0.0021723,
          0.0020832,
          0.0019937,
          0.0019038,
          0.0018134,
          0.0017224,
          0.001631,
          0.0015389,
          0.0014463,
          0.001353,
          0.0012589,
          0.0011641,
          0.0010684,
          0.00097176,
          0.00087402,
          0.00077505,
          0.00067465,
          0.00057255,
          0.00046838,
          0.00036153,
          0.000251,
          0.00013451,
          0
         ],
         "yaxis": "y2"
        }
       ],
       "layout": {
        "hovermode": "x unified",
        "legend": {
         "x": 1.15,
         "xanchor": "right",
         "y": 1.15,
         "yanchor": "top"
        },
        "template": {
         "data": {
          "bar": [
           {
            "error_x": {
             "color": "#2a3f5f"
            },
            "error_y": {
             "color": "#2a3f5f"
            },
            "marker": {
             "line": {
              "color": "#E5ECF6",
              "width": 0.5
             },
             "pattern": {
              "fillmode": "overlay",
              "size": 10,
              "solidity": 0.2
             }
            },
            "type": "bar"
           }
          ],
          "barpolar": [
           {
            "marker": {
             "line": {
              "color": "#E5ECF6",
              "width": 0.5
             },
             "pattern": {
              "fillmode": "overlay",
              "size": 10,
              "solidity": 0.2
             }
            },
            "type": "barpolar"
           }
          ],
          "carpet": [
           {
            "aaxis": {
             "endlinecolor": "#2a3f5f",
             "gridcolor": "white",
             "linecolor": "white",
             "minorgridcolor": "white",
             "startlinecolor": "#2a3f5f"
            },
            "baxis": {
             "endlinecolor": "#2a3f5f",
             "gridcolor": "white",
             "linecolor": "white",
             "minorgridcolor": "white",
             "startlinecolor": "#2a3f5f"
            },
            "type": "carpet"
           }
          ],
          "choropleth": [
           {
            "colorbar": {
             "outlinewidth": 0,
             "ticks": ""
            },
            "type": "choropleth"
           }
          ],
          "contour": [
           {
            "colorbar": {
             "outlinewidth": 0,
             "ticks": ""
            },
            "colorscale": [
             [
              0,
              "#0d0887"
             ],
             [
              0.1111111111111111,
              "#46039f"
             ],
             [
              0.2222222222222222,
              "#7201a8"
             ],
             [
              0.3333333333333333,
              "#9c179e"
             ],
             [
              0.4444444444444444,
              "#bd3786"
             ],
             [
              0.5555555555555556,
              "#d8576b"
             ],
             [
              0.6666666666666666,
              "#ed7953"
             ],
             [
              0.7777777777777778,
              "#fb9f3a"
             ],
             [
              0.8888888888888888,
              "#fdca26"
             ],
             [
              1,
              "#f0f921"
             ]
            ],
            "type": "contour"
           }
          ],
          "contourcarpet": [
           {
            "colorbar": {
             "outlinewidth": 0,
             "ticks": ""
            },
            "type": "contourcarpet"
           }
          ],
          "heatmap": [
           {
            "colorbar": {
             "outlinewidth": 0,
             "ticks": ""
            },
            "colorscale": [
             [
              0,
              "#0d0887"
             ],
             [
              0.1111111111111111,
              "#46039f"
             ],
             [
              0.2222222222222222,
              "#7201a8"
             ],
             [
              0.3333333333333333,
              "#9c179e"
             ],
             [
              0.4444444444444444,
              "#bd3786"
             ],
             [
              0.5555555555555556,
              "#d8576b"
             ],
             [
              0.6666666666666666,
              "#ed7953"
             ],
             [
              0.7777777777777778,
              "#fb9f3a"
             ],
             [
              0.8888888888888888,
              "#fdca26"
             ],
             [
              1,
              "#f0f921"
             ]
            ],
            "type": "heatmap"
           }
          ],
          "histogram": [
           {
            "marker": {
             "pattern": {
              "fillmode": "overlay",
              "size": 10,
              "solidity": 0.2
             }
            },
            "type": "histogram"
           }
          ],
          "histogram2d": [
           {
            "colorbar": {
             "outlinewidth": 0,
             "ticks": ""
            },
            "colorscale": [
             [
              0,
              "#0d0887"
             ],
             [
              0.1111111111111111,
              "#46039f"
             ],
             [
              0.2222222222222222,
              "#7201a8"
             ],
             [
              0.3333333333333333,
              "#9c179e"
             ],
             [
              0.4444444444444444,
              "#bd3786"
             ],
             [
              0.5555555555555556,
              "#d8576b"
             ],
             [
              0.6666666666666666,
              "#ed7953"
             ],
             [
              0.7777777777777778,
              "#fb9f3a"
             ],
             [
              0.8888888888888888,
              "#fdca26"
             ],
             [
              1,
              "#f0f921"
             ]
            ],
            "type": "histogram2d"
           }
          ],
          "histogram2dcontour": [
           {
            "colorbar": {
             "outlinewidth": 0,
             "ticks": ""
            },
            "colorscale": [
             [
              0,
              "#0d0887"
             ],
             [
              0.1111111111111111,
              "#46039f"
             ],
             [
              0.2222222222222222,
              "#7201a8"
             ],
             [
              0.3333333333333333,
              "#9c179e"
             ],
             [
              0.4444444444444444,
              "#bd3786"
             ],
             [
              0.5555555555555556,
              "#d8576b"
             ],
             [
              0.6666666666666666,
              "#ed7953"
             ],
             [
              0.7777777777777778,
              "#fb9f3a"
             ],
             [
              0.8888888888888888,
              "#fdca26"
             ],
             [
              1,
              "#f0f921"
             ]
            ],
            "type": "histogram2dcontour"
           }
          ],
          "mesh3d": [
           {
            "colorbar": {
             "outlinewidth": 0,
             "ticks": ""
            },
            "type": "mesh3d"
           }
          ],
          "parcoords": [
           {
            "line": {
             "colorbar": {
              "outlinewidth": 0,
              "ticks": ""
             }
            },
            "type": "parcoords"
           }
          ],
          "pie": [
           {
            "automargin": true,
            "type": "pie"
           }
          ],
          "scatter": [
           {
            "fillpattern": {
             "fillmode": "overlay",
             "size": 10,
             "solidity": 0.2
            },
            "type": "scatter"
           }
          ],
          "scatter3d": [
           {
            "line": {
             "colorbar": {
              "outlinewidth": 0,
              "ticks": ""
             }
            },
            "marker": {
             "colorbar": {
              "outlinewidth": 0,
              "ticks": ""
             }
            },
            "type": "scatter3d"
           }
          ],
          "scattercarpet": [
           {
            "marker": {
             "colorbar": {
              "outlinewidth": 0,
              "ticks": ""
             }
            },
            "type": "scattercarpet"
           }
          ],
          "scattergeo": [
           {
            "marker": {
             "colorbar": {
              "outlinewidth": 0,
              "ticks": ""
             }
            },
            "type": "scattergeo"
           }
          ],
          "scattergl": [
           {
            "marker": {
             "colorbar": {
              "outlinewidth": 0,
              "ticks": ""
             }
            },
            "type": "scattergl"
           }
          ],
          "scattermap": [
           {
            "marker": {
             "colorbar": {
              "outlinewidth": 0,
              "ticks": ""
             }
            },
            "type": "scattermap"
           }
          ],
          "scattermapbox": [
           {
            "marker": {
             "colorbar": {
              "outlinewidth": 0,
              "ticks": ""
             }
            },
            "type": "scattermapbox"
           }
          ],
          "scatterpolar": [
           {
            "marker": {
             "colorbar": {
              "outlinewidth": 0,
              "ticks": ""
             }
            },
            "type": "scatterpolar"
           }
          ],
          "scatterpolargl": [
           {
            "marker": {
             "colorbar": {
              "outlinewidth": 0,
              "ticks": ""
             }
            },
            "type": "scatterpolargl"
           }
          ],
          "scatterternary": [
           {
            "marker": {
             "colorbar": {
              "outlinewidth": 0,
              "ticks": ""
             }
            },
            "type": "scatterternary"
           }
          ],
          "surface": [
           {
            "colorbar": {
             "outlinewidth": 0,
             "ticks": ""
            },
            "colorscale": [
             [
              0,
              "#0d0887"
             ],
             [
              0.1111111111111111,
              "#46039f"
             ],
             [
              0.2222222222222222,
              "#7201a8"
             ],
             [
              0.3333333333333333,
              "#9c179e"
             ],
             [
              0.4444444444444444,
              "#bd3786"
             ],
             [
              0.5555555555555556,
              "#d8576b"
             ],
             [
              0.6666666666666666,
              "#ed7953"
             ],
             [
              0.7777777777777778,
              "#fb9f3a"
             ],
             [
              0.8888888888888888,
              "#fdca26"
             ],
             [
              1,
              "#f0f921"
             ]
            ],
            "type": "surface"
           }
          ],
          "table": [
           {
            "cells": {
             "fill": {
              "color": "#EBF0F8"
             },
             "line": {
              "color": "white"
             }
            },
            "header": {
             "fill": {
              "color": "#C8D4E3"
             },
             "line": {
              "color": "white"
             }
            },
            "type": "table"
           }
          ]
         },
         "layout": {
          "annotationdefaults": {
           "arrowcolor": "#2a3f5f",
           "arrowhead": 0,
           "arrowwidth": 1
          },
          "autotypenumbers": "strict",
          "coloraxis": {
           "colorbar": {
            "outlinewidth": 0,
            "ticks": ""
           }
          },
          "colorscale": {
           "diverging": [
            [
             0,
             "#8e0152"
            ],
            [
             0.1,
             "#c51b7d"
            ],
            [
             0.2,
             "#de77ae"
            ],
            [
             0.3,
             "#f1b6da"
            ],
            [
             0.4,
             "#fde0ef"
            ],
            [
             0.5,
             "#f7f7f7"
            ],
            [
             0.6,
             "#e6f5d0"
            ],
            [
             0.7,
             "#b8e186"
            ],
            [
             0.8,
             "#7fbc41"
            ],
            [
             0.9,
             "#4d9221"
            ],
            [
             1,
             "#276419"
            ]
           ],
           "sequential": [
            [
             0,
             "#0d0887"
            ],
            [
             0.1111111111111111,
             "#46039f"
            ],
            [
             0.2222222222222222,
             "#7201a8"
            ],
            [
             0.3333333333333333,
             "#9c179e"
            ],
            [
             0.4444444444444444,
             "#bd3786"
            ],
            [
             0.5555555555555556,
             "#d8576b"
            ],
            [
             0.6666666666666666,
             "#ed7953"
            ],
            [
             0.7777777777777778,
             "#fb9f3a"
            ],
            [
             0.8888888888888888,
             "#fdca26"
            ],
            [
             1,
             "#f0f921"
            ]
           ],
           "sequentialminus": [
            [
             0,
             "#0d0887"
            ],
            [
             0.1111111111111111,
             "#46039f"
            ],
            [
             0.2222222222222222,
             "#7201a8"
            ],
            [
             0.3333333333333333,
             "#9c179e"
            ],
            [
             0.4444444444444444,
             "#bd3786"
            ],
            [
             0.5555555555555556,
             "#d8576b"
            ],
            [
             0.6666666666666666,
             "#ed7953"
            ],
            [
             0.7777777777777778,
             "#fb9f3a"
            ],
            [
             0.8888888888888888,
             "#fdca26"
            ],
            [
             1,
             "#f0f921"
            ]
           ]
          },
          "colorway": [
           "#636efa",
           "#EF553B",
           "#00cc96",
           "#ab63fa",
           "#FFA15A",
           "#19d3f3",
           "#FF6692",
           "#B6E880",
           "#FF97FF",
           "#FECB52"
          ],
          "font": {
           "color": "#2a3f5f"
          },
          "geo": {
           "bgcolor": "white",
           "lakecolor": "white",
           "landcolor": "#E5ECF6",
           "showlakes": true,
           "showland": true,
           "subunitcolor": "white"
          },
          "hoverlabel": {
           "align": "left"
          },
          "hovermode": "closest",
          "mapbox": {
           "style": "light"
          },
          "paper_bgcolor": "white",
          "plot_bgcolor": "#E5ECF6",
          "polar": {
           "angularaxis": {
            "gridcolor": "white",
            "linecolor": "white",
            "ticks": ""
           },
           "bgcolor": "#E5ECF6",
           "radialaxis": {
            "gridcolor": "white",
            "linecolor": "white",
            "ticks": ""
           }
          },
          "scene": {
           "xaxis": {
            "backgroundcolor": "#E5ECF6",
            "gridcolor": "white",
            "gridwidth": 2,
            "linecolor": "white",
            "showbackground": true,
            "ticks": "",
            "zerolinecolor": "white"
           },
           "yaxis": {
            "backgroundcolor": "#E5ECF6",
            "gridcolor": "white",
            "gridwidth": 2,
            "linecolor": "white",
            "showbackground": true,
            "ticks": "",
            "zerolinecolor": "white"
           },
           "zaxis": {
            "backgroundcolor": "#E5ECF6",
            "gridcolor": "white",
            "gridwidth": 2,
            "linecolor": "white",
            "showbackground": true,
            "ticks": "",
            "zerolinecolor": "white"
           }
          },
          "shapedefaults": {
           "line": {
            "color": "#2a3f5f"
           }
          },
          "ternary": {
           "aaxis": {
            "gridcolor": "white",
            "linecolor": "white",
            "ticks": ""
           },
           "baxis": {
            "gridcolor": "white",
            "linecolor": "white",
            "ticks": ""
           },
           "bgcolor": "#E5ECF6",
           "caxis": {
            "gridcolor": "white",
            "linecolor": "white",
            "ticks": ""
           }
          },
          "title": {
           "x": 0.05
          },
          "xaxis": {
           "automargin": true,
           "gridcolor": "white",
           "linecolor": "white",
           "ticks": "",
           "title": {
            "standoff": 15
           },
           "zerolinecolor": "white",
           "zerolinewidth": 2
          },
          "yaxis": {
           "automargin": true,
           "gridcolor": "white",
           "linecolor": "white",
           "ticks": "",
           "title": {
            "standoff": 15
           },
           "zerolinecolor": "white",
           "zerolinewidth": 2
          }
         }
        },
        "title": {
         "text": "Validation Performance and Training Learning Rate vs Epoch"
        },
        "xaxis": {
         "anchor": "y",
         "domain": [
          0,
          0.94
         ],
         "range": [
          0,
          120000
         ],
         "title": {
          "text": "Epoch"
         }
        },
        "yaxis": {
         "anchor": "x",
         "domain": [
          0,
          1
         ],
         "dtick": 10,
         "range": [
          0,
          100
         ],
         "title": {
          "text": "Performance (%)"
         }
        },
        "yaxis2": {
         "anchor": "x",
         "overlaying": "y",
         "side": "right",
         "title": {
          "text": "Learning Rate"
         }
        }
       }
      }
     },
     "metadata": {},
     "output_type": "display_data"
    }
   ],
   "source": [
    "# Ablation 01 - SEBNet BaselineHead SGD, Pretrained, Batch Size 8, OHEM Cross Entropy - 72.34 Best mIoU\n",
    "log_file_path = '/home/robert.breslin/alessandro/paper_2/mmsegmentation/work_dirs/sebnet_baseline-head_1xb8_cityscapes_ohem/20250822_163056/20250822_163056.log'\n",
    "epochs, mIoU, mAcc, lrs = parse_log_file(log_file_path)\n",
    "plot_accuracies_and_lr_interactive(epochs, mAcc, mIoU, lrs, [0,120000])"
   ]
  },
  {
   "cell_type": "code",
   "execution_count": 7,
   "id": "23c185b5",
   "metadata": {},
   "outputs": [
    {
     "data": {
      "application/vnd.plotly.v1+json": {
       "config": {
        "plotlyServerURL": "https://plot.ly"
       },
       "data": [
        {
         "line": {
          "color": "blue"
         },
         "name": "Mean Accuracy",
         "type": "scatter",
         "x": [
          1000,
          2000,
          3000,
          4000,
          5000,
          6000,
          7000,
          8000,
          9000,
          10000,
          11000,
          12000,
          13000,
          14000,
          15000,
          16000,
          17000,
          18000,
          19000,
          20000,
          21000,
          22000,
          23000,
          24000,
          25000,
          26000,
          27000,
          28000,
          29000,
          30000,
          31000,
          32000,
          33000,
          34000,
          35000,
          36000,
          37000,
          38000,
          39000,
          40000,
          41000,
          42000,
          43000,
          44000,
          45000,
          46000,
          47000,
          48000,
          49000,
          50000,
          51000,
          52000,
          53000,
          54000,
          55000,
          56000,
          57000,
          58000,
          59000,
          60000,
          61000,
          62000,
          63000,
          64000,
          65000,
          66000,
          67000,
          68000,
          69000,
          70000,
          71000,
          72000,
          73000,
          74000,
          75000,
          76000,
          77000,
          78000,
          79000,
          80000,
          81000,
          82000,
          83000,
          84000,
          85000,
          86000,
          87000,
          88000,
          89000,
          90000,
          91000,
          92000,
          93000,
          94000,
          95000,
          96000,
          97000,
          98000,
          99000,
          100000,
          101000,
          102000,
          103000,
          104000,
          105000,
          106000,
          107000,
          108000,
          109000,
          110000,
          111000,
          112000,
          113000,
          114000,
          115000,
          116000,
          117000,
          118000,
          119000,
          120000
         ],
         "xaxis": "x",
         "y": [
          29.52,
          32.02,
          27.94,
          38.43,
          41.29,
          42.44,
          45.22,
          49.53,
          50.88,
          53.92,
          53.71,
          57.49,
          54.35,
          58.68,
          57.52,
          55.1,
          59.61,
          54.62,
          60.98,
          60.2,
          64.51,
          62.05,
          61.3,
          58.76,
          63.25,
          65.57,
          63.78,
          65.87,
          67.42,
          69.54,
          69.7,
          63.54,
          66.61,
          65.71,
          67.1,
          65.13,
          69.07,
          66.09,
          65.62,
          68.7,
          70.34,
          70.34,
          68.18,
          63.1,
          71.08,
          69.1,
          72.36,
          71.7,
          72.6,
          72.52,
          71.53,
          71.17,
          66.65,
          68.36,
          71,
          73.96,
          74.97,
          70.57,
          69.9,
          74.37,
          74.12,
          73.19,
          70.51,
          72.1,
          73.8,
          72.09,
          72.37,
          72.19,
          75.87,
          74.09,
          73.91,
          77.08,
          75.48,
          74.45,
          71.65,
          76.05,
          73.76,
          74.87,
          76.12,
          77.23,
          71.98,
          75.99,
          77.36,
          73.94,
          76.19,
          75.35,
          78.85,
          77.69,
          75.76,
          78.89,
          76.36,
          78.85,
          77.17,
          76.6,
          79.47,
          78.59,
          78.84,
          72.2,
          80.05,
          77.35,
          75.06,
          79.22,
          79.15,
          79.32,
          79.67,
          78.83,
          80.44,
          80.92,
          79.34,
          80.18,
          80.47,
          81.83,
          79.46,
          81.6,
          80.52,
          81.34,
          80.68,
          81.7,
          80.38,
          81.65
         ],
         "yaxis": "y"
        },
        {
         "line": {
          "color": "orange"
         },
         "name": "Mean IoU",
         "type": "scatter",
         "x": [
          1000,
          2000,
          3000,
          4000,
          5000,
          6000,
          7000,
          8000,
          9000,
          10000,
          11000,
          12000,
          13000,
          14000,
          15000,
          16000,
          17000,
          18000,
          19000,
          20000,
          21000,
          22000,
          23000,
          24000,
          25000,
          26000,
          27000,
          28000,
          29000,
          30000,
          31000,
          32000,
          33000,
          34000,
          35000,
          36000,
          37000,
          38000,
          39000,
          40000,
          41000,
          42000,
          43000,
          44000,
          45000,
          46000,
          47000,
          48000,
          49000,
          50000,
          51000,
          52000,
          53000,
          54000,
          55000,
          56000,
          57000,
          58000,
          59000,
          60000,
          61000,
          62000,
          63000,
          64000,
          65000,
          66000,
          67000,
          68000,
          69000,
          70000,
          71000,
          72000,
          73000,
          74000,
          75000,
          76000,
          77000,
          78000,
          79000,
          80000,
          81000,
          82000,
          83000,
          84000,
          85000,
          86000,
          87000,
          88000,
          89000,
          90000,
          91000,
          92000,
          93000,
          94000,
          95000,
          96000,
          97000,
          98000,
          99000,
          100000,
          101000,
          102000,
          103000,
          104000,
          105000,
          106000,
          107000,
          108000,
          109000,
          110000,
          111000,
          112000,
          113000,
          114000,
          115000,
          116000,
          117000,
          118000,
          119000,
          120000
         ],
         "xaxis": "x",
         "y": [
          22.31,
          24.62,
          19.99,
          31.68,
          33.71,
          35.91,
          38.32,
          40.83,
          41.54,
          43.92,
          44.33,
          45.75,
          44.98,
          48.11,
          47.08,
          45.06,
          50.57,
          46.98,
          49.41,
          49.28,
          52.99,
          51.93,
          48.97,
          49.85,
          53.51,
          54.4,
          52.91,
          53.82,
          55.57,
          57.42,
          56.8,
          52.79,
          53.04,
          50.51,
          55.24,
          54.59,
          58.67,
          55,
          55.37,
          57.77,
          58.19,
          59.94,
          57.12,
          53.67,
          59.9,
          59.26,
          60.44,
          61.13,
          62,
          59.8,
          59,
          61.87,
          54.7,
          58.33,
          61.13,
          62.87,
          63.67,
          59.28,
          59.89,
          63.69,
          61.78,
          62.76,
          59.86,
          62.62,
          64.57,
          63.11,
          62.39,
          61.51,
          65.76,
          62.54,
          63.3,
          64.85,
          63.38,
          63.42,
          62.09,
          66.7,
          64.23,
          64.21,
          64.24,
          65.31,
          59.83,
          65.69,
          67.56,
          64.18,
          65.89,
          64.16,
          68.51,
          67.1,
          65.68,
          67.95,
          63.74,
          68.16,
          67.24,
          66.15,
          68.25,
          68.62,
          68.65,
          59.88,
          70.32,
          67.62,
          65.69,
          68.86,
          68.77,
          69.37,
          70.64,
          69.39,
          70.37,
          70.56,
          70.17,
          69.81,
          71.61,
          71.8,
          70.26,
          71.89,
          71.32,
          72.39,
          71.9,
          72.58,
          71.33,
          72.7
         ],
         "yaxis": "y"
        },
        {
         "line": {
          "color": "green"
         },
         "name": "Learning Rate",
         "type": "scatter",
         "x": [
          1000,
          2000,
          3000,
          4000,
          5000,
          6000,
          7000,
          8000,
          9000,
          10000,
          11000,
          12000,
          13000,
          14000,
          15000,
          16000,
          17000,
          18000,
          19000,
          20000,
          21000,
          22000,
          23000,
          24000,
          25000,
          26000,
          27000,
          28000,
          29000,
          30000,
          31000,
          32000,
          33000,
          34000,
          35000,
          36000,
          37000,
          38000,
          39000,
          40000,
          41000,
          42000,
          43000,
          44000,
          45000,
          46000,
          47000,
          48000,
          49000,
          50000,
          51000,
          52000,
          53000,
          54000,
          55000,
          56000,
          57000,
          58000,
          59000,
          60000,
          61000,
          62000,
          63000,
          64000,
          65000,
          66000,
          67000,
          68000,
          69000,
          70000,
          71000,
          72000,
          73000,
          74000,
          75000,
          76000,
          77000,
          78000,
          79000,
          80000,
          81000,
          82000,
          83000,
          84000,
          85000,
          86000,
          87000,
          88000,
          89000,
          90000,
          91000,
          92000,
          93000,
          94000,
          95000,
          96000,
          97000,
          98000,
          99000,
          100000,
          101000,
          102000,
          103000,
          104000,
          105000,
          106000,
          107000,
          108000,
          109000,
          110000,
          111000,
          112000,
          113000,
          114000,
          115000,
          116000,
          117000,
          118000,
          119000,
          120000
         ],
         "xaxis": "x",
         "y": [
          0.009925,
          0.0098499,
          0.0097748,
          0.0096996,
          0.0096243,
          0.0095489,
          0.0094735,
          0.009398,
          0.0093225,
          0.0092468,
          0.0091712,
          0.0090954,
          0.0090196,
          0.0089437,
          0.0088677,
          0.0087916,
          0.0087155,
          0.0086393,
          0.0085631,
          0.0084867,
          0.0084103,
          0.0083338,
          0.0082572,
          0.0081806,
          0.0081038,
          0.008027,
          0.0079501,
          0.0078732,
          0.0077961,
          0.007719,
          0.0076417,
          0.0075644,
          0.007487,
          0.0074095,
          0.0073319,
          0.0072542,
          0.0071765,
          0.0070986,
          0.0070206,
          0.0069426,
          0.0068644,
          0.0067862,
          0.0067078,
          0.0066294,
          0.0065508,
          0.0064722,
          0.0063934,
          0.0063145,
          0.0062355,
          0.0061564,
          0.0060772,
          0.0059979,
          0.0059184,
          0.0058389,
          0.0057592,
          0.0056794,
          0.0055995,
          0.0055194,
          0.0054392,
          0.0053589,
          0.0052785,
          0.0051979,
          0.0051171,
          0.0050363,
          0.0049553,
          0.0048741,
          0.0047928,
          0.0047113,
          0.0046297,
          0.0045479,
          0.004466,
          0.0043839,
          0.0043016,
          0.0042191,
          0.0041365,
          0.0040537,
          0.0039707,
          0.0038874,
          0.003804,
          0.0037204,
          0.0036366,
          0.0035526,
          0.0034683,
          0.0033839,
          0.0032991,
          0.0032142,
          0.003129,
          0.0030435,
          0.0029578,
          0.0028718,
          0.0027855,
          0.0026989,
          0.002612,
          0.0025247,
          0.0024372,
          0.0023493,
          0.002261,
          0.0021723,
          0.0020832,
          0.0019937,
          0.0019038,
          0.0018134,
          0.0017224,
          0.001631,
          0.0015389,
          0.0014463,
          0.001353,
          0.0012589,
          0.0011641,
          0.0010684,
          0.00097176,
          0.00087402,
          0.00077505,
          0.00067465,
          0.00057255,
          0.00046838,
          0.00036153,
          0.000251,
          0.00013451,
          0
         ],
         "yaxis": "y2"
        }
       ],
       "layout": {
        "hovermode": "x unified",
        "legend": {
         "x": 1.15,
         "xanchor": "right",
         "y": 1.15,
         "yanchor": "top"
        },
        "template": {
         "data": {
          "bar": [
           {
            "error_x": {
             "color": "#2a3f5f"
            },
            "error_y": {
             "color": "#2a3f5f"
            },
            "marker": {
             "line": {
              "color": "#E5ECF6",
              "width": 0.5
             },
             "pattern": {
              "fillmode": "overlay",
              "size": 10,
              "solidity": 0.2
             }
            },
            "type": "bar"
           }
          ],
          "barpolar": [
           {
            "marker": {
             "line": {
              "color": "#E5ECF6",
              "width": 0.5
             },
             "pattern": {
              "fillmode": "overlay",
              "size": 10,
              "solidity": 0.2
             }
            },
            "type": "barpolar"
           }
          ],
          "carpet": [
           {
            "aaxis": {
             "endlinecolor": "#2a3f5f",
             "gridcolor": "white",
             "linecolor": "white",
             "minorgridcolor": "white",
             "startlinecolor": "#2a3f5f"
            },
            "baxis": {
             "endlinecolor": "#2a3f5f",
             "gridcolor": "white",
             "linecolor": "white",
             "minorgridcolor": "white",
             "startlinecolor": "#2a3f5f"
            },
            "type": "carpet"
           }
          ],
          "choropleth": [
           {
            "colorbar": {
             "outlinewidth": 0,
             "ticks": ""
            },
            "type": "choropleth"
           }
          ],
          "contour": [
           {
            "colorbar": {
             "outlinewidth": 0,
             "ticks": ""
            },
            "colorscale": [
             [
              0,
              "#0d0887"
             ],
             [
              0.1111111111111111,
              "#46039f"
             ],
             [
              0.2222222222222222,
              "#7201a8"
             ],
             [
              0.3333333333333333,
              "#9c179e"
             ],
             [
              0.4444444444444444,
              "#bd3786"
             ],
             [
              0.5555555555555556,
              "#d8576b"
             ],
             [
              0.6666666666666666,
              "#ed7953"
             ],
             [
              0.7777777777777778,
              "#fb9f3a"
             ],
             [
              0.8888888888888888,
              "#fdca26"
             ],
             [
              1,
              "#f0f921"
             ]
            ],
            "type": "contour"
           }
          ],
          "contourcarpet": [
           {
            "colorbar": {
             "outlinewidth": 0,
             "ticks": ""
            },
            "type": "contourcarpet"
           }
          ],
          "heatmap": [
           {
            "colorbar": {
             "outlinewidth": 0,
             "ticks": ""
            },
            "colorscale": [
             [
              0,
              "#0d0887"
             ],
             [
              0.1111111111111111,
              "#46039f"
             ],
             [
              0.2222222222222222,
              "#7201a8"
             ],
             [
              0.3333333333333333,
              "#9c179e"
             ],
             [
              0.4444444444444444,
              "#bd3786"
             ],
             [
              0.5555555555555556,
              "#d8576b"
             ],
             [
              0.6666666666666666,
              "#ed7953"
             ],
             [
              0.7777777777777778,
              "#fb9f3a"
             ],
             [
              0.8888888888888888,
              "#fdca26"
             ],
             [
              1,
              "#f0f921"
             ]
            ],
            "type": "heatmap"
           }
          ],
          "histogram": [
           {
            "marker": {
             "pattern": {
              "fillmode": "overlay",
              "size": 10,
              "solidity": 0.2
             }
            },
            "type": "histogram"
           }
          ],
          "histogram2d": [
           {
            "colorbar": {
             "outlinewidth": 0,
             "ticks": ""
            },
            "colorscale": [
             [
              0,
              "#0d0887"
             ],
             [
              0.1111111111111111,
              "#46039f"
             ],
             [
              0.2222222222222222,
              "#7201a8"
             ],
             [
              0.3333333333333333,
              "#9c179e"
             ],
             [
              0.4444444444444444,
              "#bd3786"
             ],
             [
              0.5555555555555556,
              "#d8576b"
             ],
             [
              0.6666666666666666,
              "#ed7953"
             ],
             [
              0.7777777777777778,
              "#fb9f3a"
             ],
             [
              0.8888888888888888,
              "#fdca26"
             ],
             [
              1,
              "#f0f921"
             ]
            ],
            "type": "histogram2d"
           }
          ],
          "histogram2dcontour": [
           {
            "colorbar": {
             "outlinewidth": 0,
             "ticks": ""
            },
            "colorscale": [
             [
              0,
              "#0d0887"
             ],
             [
              0.1111111111111111,
              "#46039f"
             ],
             [
              0.2222222222222222,
              "#7201a8"
             ],
             [
              0.3333333333333333,
              "#9c179e"
             ],
             [
              0.4444444444444444,
              "#bd3786"
             ],
             [
              0.5555555555555556,
              "#d8576b"
             ],
             [
              0.6666666666666666,
              "#ed7953"
             ],
             [
              0.7777777777777778,
              "#fb9f3a"
             ],
             [
              0.8888888888888888,
              "#fdca26"
             ],
             [
              1,
              "#f0f921"
             ]
            ],
            "type": "histogram2dcontour"
           }
          ],
          "mesh3d": [
           {
            "colorbar": {
             "outlinewidth": 0,
             "ticks": ""
            },
            "type": "mesh3d"
           }
          ],
          "parcoords": [
           {
            "line": {
             "colorbar": {
              "outlinewidth": 0,
              "ticks": ""
             }
            },
            "type": "parcoords"
           }
          ],
          "pie": [
           {
            "automargin": true,
            "type": "pie"
           }
          ],
          "scatter": [
           {
            "fillpattern": {
             "fillmode": "overlay",
             "size": 10,
             "solidity": 0.2
            },
            "type": "scatter"
           }
          ],
          "scatter3d": [
           {
            "line": {
             "colorbar": {
              "outlinewidth": 0,
              "ticks": ""
             }
            },
            "marker": {
             "colorbar": {
              "outlinewidth": 0,
              "ticks": ""
             }
            },
            "type": "scatter3d"
           }
          ],
          "scattercarpet": [
           {
            "marker": {
             "colorbar": {
              "outlinewidth": 0,
              "ticks": ""
             }
            },
            "type": "scattercarpet"
           }
          ],
          "scattergeo": [
           {
            "marker": {
             "colorbar": {
              "outlinewidth": 0,
              "ticks": ""
             }
            },
            "type": "scattergeo"
           }
          ],
          "scattergl": [
           {
            "marker": {
             "colorbar": {
              "outlinewidth": 0,
              "ticks": ""
             }
            },
            "type": "scattergl"
           }
          ],
          "scattermap": [
           {
            "marker": {
             "colorbar": {
              "outlinewidth": 0,
              "ticks": ""
             }
            },
            "type": "scattermap"
           }
          ],
          "scattermapbox": [
           {
            "marker": {
             "colorbar": {
              "outlinewidth": 0,
              "ticks": ""
             }
            },
            "type": "scattermapbox"
           }
          ],
          "scatterpolar": [
           {
            "marker": {
             "colorbar": {
              "outlinewidth": 0,
              "ticks": ""
             }
            },
            "type": "scatterpolar"
           }
          ],
          "scatterpolargl": [
           {
            "marker": {
             "colorbar": {
              "outlinewidth": 0,
              "ticks": ""
             }
            },
            "type": "scatterpolargl"
           }
          ],
          "scatterternary": [
           {
            "marker": {
             "colorbar": {
              "outlinewidth": 0,
              "ticks": ""
             }
            },
            "type": "scatterternary"
           }
          ],
          "surface": [
           {
            "colorbar": {
             "outlinewidth": 0,
             "ticks": ""
            },
            "colorscale": [
             [
              0,
              "#0d0887"
             ],
             [
              0.1111111111111111,
              "#46039f"
             ],
             [
              0.2222222222222222,
              "#7201a8"
             ],
             [
              0.3333333333333333,
              "#9c179e"
             ],
             [
              0.4444444444444444,
              "#bd3786"
             ],
             [
              0.5555555555555556,
              "#d8576b"
             ],
             [
              0.6666666666666666,
              "#ed7953"
             ],
             [
              0.7777777777777778,
              "#fb9f3a"
             ],
             [
              0.8888888888888888,
              "#fdca26"
             ],
             [
              1,
              "#f0f921"
             ]
            ],
            "type": "surface"
           }
          ],
          "table": [
           {
            "cells": {
             "fill": {
              "color": "#EBF0F8"
             },
             "line": {
              "color": "white"
             }
            },
            "header": {
             "fill": {
              "color": "#C8D4E3"
             },
             "line": {
              "color": "white"
             }
            },
            "type": "table"
           }
          ]
         },
         "layout": {
          "annotationdefaults": {
           "arrowcolor": "#2a3f5f",
           "arrowhead": 0,
           "arrowwidth": 1
          },
          "autotypenumbers": "strict",
          "coloraxis": {
           "colorbar": {
            "outlinewidth": 0,
            "ticks": ""
           }
          },
          "colorscale": {
           "diverging": [
            [
             0,
             "#8e0152"
            ],
            [
             0.1,
             "#c51b7d"
            ],
            [
             0.2,
             "#de77ae"
            ],
            [
             0.3,
             "#f1b6da"
            ],
            [
             0.4,
             "#fde0ef"
            ],
            [
             0.5,
             "#f7f7f7"
            ],
            [
             0.6,
             "#e6f5d0"
            ],
            [
             0.7,
             "#b8e186"
            ],
            [
             0.8,
             "#7fbc41"
            ],
            [
             0.9,
             "#4d9221"
            ],
            [
             1,
             "#276419"
            ]
           ],
           "sequential": [
            [
             0,
             "#0d0887"
            ],
            [
             0.1111111111111111,
             "#46039f"
            ],
            [
             0.2222222222222222,
             "#7201a8"
            ],
            [
             0.3333333333333333,
             "#9c179e"
            ],
            [
             0.4444444444444444,
             "#bd3786"
            ],
            [
             0.5555555555555556,
             "#d8576b"
            ],
            [
             0.6666666666666666,
             "#ed7953"
            ],
            [
             0.7777777777777778,
             "#fb9f3a"
            ],
            [
             0.8888888888888888,
             "#fdca26"
            ],
            [
             1,
             "#f0f921"
            ]
           ],
           "sequentialminus": [
            [
             0,
             "#0d0887"
            ],
            [
             0.1111111111111111,
             "#46039f"
            ],
            [
             0.2222222222222222,
             "#7201a8"
            ],
            [
             0.3333333333333333,
             "#9c179e"
            ],
            [
             0.4444444444444444,
             "#bd3786"
            ],
            [
             0.5555555555555556,
             "#d8576b"
            ],
            [
             0.6666666666666666,
             "#ed7953"
            ],
            [
             0.7777777777777778,
             "#fb9f3a"
            ],
            [
             0.8888888888888888,
             "#fdca26"
            ],
            [
             1,
             "#f0f921"
            ]
           ]
          },
          "colorway": [
           "#636efa",
           "#EF553B",
           "#00cc96",
           "#ab63fa",
           "#FFA15A",
           "#19d3f3",
           "#FF6692",
           "#B6E880",
           "#FF97FF",
           "#FECB52"
          ],
          "font": {
           "color": "#2a3f5f"
          },
          "geo": {
           "bgcolor": "white",
           "lakecolor": "white",
           "landcolor": "#E5ECF6",
           "showlakes": true,
           "showland": true,
           "subunitcolor": "white"
          },
          "hoverlabel": {
           "align": "left"
          },
          "hovermode": "closest",
          "mapbox": {
           "style": "light"
          },
          "paper_bgcolor": "white",
          "plot_bgcolor": "#E5ECF6",
          "polar": {
           "angularaxis": {
            "gridcolor": "white",
            "linecolor": "white",
            "ticks": ""
           },
           "bgcolor": "#E5ECF6",
           "radialaxis": {
            "gridcolor": "white",
            "linecolor": "white",
            "ticks": ""
           }
          },
          "scene": {
           "xaxis": {
            "backgroundcolor": "#E5ECF6",
            "gridcolor": "white",
            "gridwidth": 2,
            "linecolor": "white",
            "showbackground": true,
            "ticks": "",
            "zerolinecolor": "white"
           },
           "yaxis": {
            "backgroundcolor": "#E5ECF6",
            "gridcolor": "white",
            "gridwidth": 2,
            "linecolor": "white",
            "showbackground": true,
            "ticks": "",
            "zerolinecolor": "white"
           },
           "zaxis": {
            "backgroundcolor": "#E5ECF6",
            "gridcolor": "white",
            "gridwidth": 2,
            "linecolor": "white",
            "showbackground": true,
            "ticks": "",
            "zerolinecolor": "white"
           }
          },
          "shapedefaults": {
           "line": {
            "color": "#2a3f5f"
           }
          },
          "ternary": {
           "aaxis": {
            "gridcolor": "white",
            "linecolor": "white",
            "ticks": ""
           },
           "baxis": {
            "gridcolor": "white",
            "linecolor": "white",
            "ticks": ""
           },
           "bgcolor": "#E5ECF6",
           "caxis": {
            "gridcolor": "white",
            "linecolor": "white",
            "ticks": ""
           }
          },
          "title": {
           "x": 0.05
          },
          "xaxis": {
           "automargin": true,
           "gridcolor": "white",
           "linecolor": "white",
           "ticks": "",
           "title": {
            "standoff": 15
           },
           "zerolinecolor": "white",
           "zerolinewidth": 2
          },
          "yaxis": {
           "automargin": true,
           "gridcolor": "white",
           "linecolor": "white",
           "ticks": "",
           "title": {
            "standoff": 15
           },
           "zerolinecolor": "white",
           "zerolinewidth": 2
          }
         }
        },
        "title": {
         "text": "Validation Performance and Training Learning Rate vs Epoch"
        },
        "xaxis": {
         "anchor": "y",
         "domain": [
          0,
          0.94
         ],
         "range": [
          0,
          120000
         ],
         "title": {
          "text": "Epoch"
         }
        },
        "yaxis": {
         "anchor": "x",
         "domain": [
          0,
          1
         ],
         "dtick": 10,
         "range": [
          0,
          100
         ],
         "title": {
          "text": "Performance (%)"
         }
        },
        "yaxis2": {
         "anchor": "x",
         "overlaying": "y",
         "side": "right",
         "title": {
          "text": "Learning Rate"
         }
        }
       }
      }
     },
     "metadata": {},
     "output_type": "display_data"
    }
   ],
   "source": [
    "# Ablation 01 - SEBNet BaselineHead SGD, Scratch, Batch Size 8, OHEM Cross Entropy - 72.7 Best mIoU\n",
    "log_file_path = '/home/robert.breslin/alessandro/paper_2/mmsegmentation/work_dirs/sebnet_baseline-head_1xb8_cityscapes_ohem_scratch/20250822_163019/20250822_163019.log'\n",
    "epochs, mIoU, mAcc, lrs = parse_log_file(log_file_path)\n",
    "plot_accuracies_and_lr_interactive(epochs, mAcc, mIoU, lrs, [0,120000])"
   ]
  },
  {
   "cell_type": "code",
   "execution_count": 8,
   "id": "fa6f0048",
   "metadata": {},
   "outputs": [
    {
     "data": {
      "application/vnd.plotly.v1+json": {
       "config": {
        "plotlyServerURL": "https://plot.ly"
       },
       "data": [
        {
         "line": {
          "color": "blue"
         },
         "name": "Mean Accuracy",
         "type": "scatter",
         "x": [
          1000,
          2000,
          3000,
          4000,
          5000,
          6000,
          7000,
          8000,
          9000,
          10000,
          11000,
          12000,
          13000,
          14000,
          15000,
          16000,
          17000,
          18000,
          19000,
          20000,
          21000,
          22000,
          23000,
          24000,
          25000,
          26000,
          27000,
          28000,
          29000,
          30000,
          31000,
          32000,
          33000,
          34000,
          35000,
          36000,
          37000,
          38000,
          39000,
          40000,
          41000,
          42000,
          43000,
          44000,
          45000,
          46000,
          47000,
          48000,
          49000,
          50000,
          51000,
          52000,
          53000,
          54000,
          55000,
          56000,
          57000,
          58000,
          59000,
          60000,
          61000,
          62000,
          63000,
          64000,
          65000,
          66000,
          67000,
          68000,
          69000,
          70000,
          71000,
          72000,
          73000,
          74000,
          75000,
          76000,
          77000,
          78000,
          79000,
          80000,
          81000,
          82000,
          83000,
          84000,
          85000,
          86000,
          87000,
          88000,
          89000,
          90000,
          91000,
          92000,
          93000,
          94000,
          95000,
          96000,
          97000,
          98000,
          99000,
          100000,
          101000,
          102000,
          103000,
          104000,
          105000,
          106000,
          107000,
          108000,
          109000,
          110000,
          111000,
          112000,
          113000,
          114000,
          115000,
          116000,
          117000,
          118000,
          119000,
          120000,
          121000,
          122000,
          123000,
          124000,
          125000,
          126000,
          127000,
          128000,
          129000,
          130000,
          131000,
          132000,
          133000,
          134000,
          135000,
          136000,
          137000,
          138000,
          139000,
          140000,
          141000,
          142000,
          143000,
          144000,
          145000,
          146000,
          147000,
          148000,
          149000,
          150000,
          151000,
          152000,
          153000,
          154000,
          155000,
          156000,
          157000,
          158000,
          159000,
          160000
         ],
         "xaxis": "x",
         "y": [
          30.54,
          34.41,
          39.4,
          39.53,
          42.2,
          48.15,
          52.39,
          50.75,
          53.61,
          52.77,
          58.82,
          52.12,
          60.38,
          54.2,
          62.79,
          60.5,
          57.76,
          63.08,
          65.71,
          63.72,
          59.52,
          65.01,
          68.78,
          68.5,
          67.46,
          70.93,
          71.92,
          70.62,
          67.59,
          67.14,
          72.21,
          68.2,
          63.24,
          71.44,
          68.7,
          69.23,
          71.53,
          69.27,
          66.35,
          74.13,
          72.46,
          71.72,
          72.82,
          69.94,
          76.75,
          74.96,
          73.21,
          73.17,
          72.2,
          72.15,
          76.07,
          74.19,
          73.1,
          75.73,
          75.75,
          75.68,
          76.57,
          62.91,
          76.62,
          72.34,
          79.21,
          75.1,
          75.67,
          79.14,
          77,
          76.29,
          77.74,
          74.24,
          77.42,
          76.74,
          76.03,
          65.51,
          74.43,
          78.33,
          76.57,
          78.83,
          73.68,
          73.35,
          77.39,
          78.56,
          79.95,
          80.46,
          80.56,
          79.31,
          62.12,
          78.58,
          76.81,
          74.91,
          80.36,
          80.27,
          79.1,
          78.06,
          77.78,
          77.1,
          82.35,
          83.14,
          78.42,
          81.81,
          79.59,
          79.2,
          81.93,
          84.43,
          78.41,
          77.57,
          82.21,
          77.55,
          82.58,
          82.57,
          82.8,
          81.69,
          78.02,
          80.28,
          82.12,
          80.5,
          81.81,
          80.7,
          82.87,
          81.37,
          83.84,
          82.13,
          79.33,
          84.87,
          77.95,
          82.29,
          85.78,
          84.56,
          82.37,
          84.49,
          84.47,
          77.22,
          83.37,
          79.05,
          82.86,
          84.1,
          85.29,
          84.29,
          84.84,
          84.66,
          85.23,
          83.17,
          82.61,
          81.2,
          85.65,
          83.42,
          84.55,
          84.99,
          85.48,
          85.55,
          86.59,
          84.72,
          86.32,
          86.04,
          85.64,
          86.46,
          86.72,
          86.48,
          86.9,
          86.75,
          86.57,
          86.7
         ],
         "yaxis": "y"
        },
        {
         "line": {
          "color": "orange"
         },
         "name": "Mean IoU",
         "type": "scatter",
         "x": [
          1000,
          2000,
          3000,
          4000,
          5000,
          6000,
          7000,
          8000,
          9000,
          10000,
          11000,
          12000,
          13000,
          14000,
          15000,
          16000,
          17000,
          18000,
          19000,
          20000,
          21000,
          22000,
          23000,
          24000,
          25000,
          26000,
          27000,
          28000,
          29000,
          30000,
          31000,
          32000,
          33000,
          34000,
          35000,
          36000,
          37000,
          38000,
          39000,
          40000,
          41000,
          42000,
          43000,
          44000,
          45000,
          46000,
          47000,
          48000,
          49000,
          50000,
          51000,
          52000,
          53000,
          54000,
          55000,
          56000,
          57000,
          58000,
          59000,
          60000,
          61000,
          62000,
          63000,
          64000,
          65000,
          66000,
          67000,
          68000,
          69000,
          70000,
          71000,
          72000,
          73000,
          74000,
          75000,
          76000,
          77000,
          78000,
          79000,
          80000,
          81000,
          82000,
          83000,
          84000,
          85000,
          86000,
          87000,
          88000,
          89000,
          90000,
          91000,
          92000,
          93000,
          94000,
          95000,
          96000,
          97000,
          98000,
          99000,
          100000,
          101000,
          102000,
          103000,
          104000,
          105000,
          106000,
          107000,
          108000,
          109000,
          110000,
          111000,
          112000,
          113000,
          114000,
          115000,
          116000,
          117000,
          118000,
          119000,
          120000,
          121000,
          122000,
          123000,
          124000,
          125000,
          126000,
          127000,
          128000,
          129000,
          130000,
          131000,
          132000,
          133000,
          134000,
          135000,
          136000,
          137000,
          138000,
          139000,
          140000,
          141000,
          142000,
          143000,
          144000,
          145000,
          146000,
          147000,
          148000,
          149000,
          150000,
          151000,
          152000,
          153000,
          154000,
          155000,
          156000,
          157000,
          158000,
          159000,
          160000
         ],
         "xaxis": "x",
         "y": [
          23.77,
          28.43,
          31.68,
          33,
          33.98,
          35.35,
          40.97,
          41.9,
          44.77,
          43.75,
          47.96,
          44.69,
          49.43,
          45.49,
          52.57,
          48.81,
          49.67,
          52.99,
          55.15,
          53.34,
          47.93,
          54.57,
          57.05,
          57.49,
          57.89,
          57.34,
          58.41,
          58.5,
          57.34,
          57.17,
          59.87,
          58.81,
          46.09,
          62.38,
          58.65,
          58.86,
          60.74,
          60.59,
          56.86,
          64.41,
          62.76,
          61.7,
          63.93,
          60.22,
          64.07,
          60.54,
          62.59,
          64.21,
          61.32,
          61.57,
          65.59,
          62.77,
          64.2,
          63.65,
          62.74,
          65.83,
          65.11,
          52.74,
          65.69,
          62.97,
          68.39,
          64.11,
          65.31,
          67.46,
          66.66,
          64.43,
          67,
          64.46,
          66.9,
          68.19,
          65.65,
          55.18,
          62.71,
          69.21,
          66.55,
          69.36,
          64.56,
          64.68,
          68.46,
          69.37,
          67.31,
          69.06,
          70.13,
          67.44,
          52.29,
          67.94,
          66.45,
          66.66,
          68.23,
          70.74,
          67.37,
          69.57,
          67.69,
          64.67,
          72.65,
          73.16,
          69.01,
          71.66,
          71.15,
          69.03,
          70.79,
          71.31,
          70.29,
          66.23,
          72.48,
          67.56,
          69.32,
          73.24,
          74.02,
          71.16,
          68.05,
          71.72,
          72.23,
          66.38,
          72.93,
          72.35,
          74.06,
          72.39,
          74.38,
          66.95,
          67.56,
          75.53,
          65.41,
          74.47,
          76.01,
          76.35,
          71.48,
          75.97,
          76.03,
          65.89,
          75.12,
          67.23,
          75.25,
          74.91,
          75.86,
          74.71,
          75.85,
          75.09,
          75.68,
          75.36,
          73.48,
          72.07,
          77.41,
          74.56,
          76.27,
          77.07,
          76,
          77.89,
          77.44,
          75.9,
          78.05,
          78.21,
          77.69,
          78.45,
          78.66,
          78.59,
          78.89,
          78.69,
          78.81,
          78.98
         ],
         "yaxis": "y"
        },
        {
         "line": {
          "color": "green"
         },
         "name": "Learning Rate",
         "type": "scatter",
         "x": [
          1000,
          2000,
          3000,
          4000,
          5000,
          6000,
          7000,
          8000,
          9000,
          10000,
          11000,
          12000,
          13000,
          14000,
          15000,
          16000,
          17000,
          18000,
          19000,
          20000,
          21000,
          22000,
          23000,
          24000,
          25000,
          26000,
          27000,
          28000,
          29000,
          30000,
          31000,
          32000,
          33000,
          34000,
          35000,
          36000,
          37000,
          38000,
          39000,
          40000,
          41000,
          42000,
          43000,
          44000,
          45000,
          46000,
          47000,
          48000,
          49000,
          50000,
          51000,
          52000,
          53000,
          54000,
          55000,
          56000,
          57000,
          58000,
          59000,
          60000,
          61000,
          62000,
          63000,
          64000,
          65000,
          66000,
          67000,
          68000,
          69000,
          70000,
          71000,
          72000,
          73000,
          74000,
          75000,
          76000,
          77000,
          78000,
          79000,
          80000,
          81000,
          82000,
          83000,
          84000,
          85000,
          86000,
          87000,
          88000,
          89000,
          90000,
          91000,
          92000,
          93000,
          94000,
          95000,
          96000,
          97000,
          98000,
          99000,
          100000,
          101000,
          102000,
          103000,
          104000,
          105000,
          106000,
          107000,
          108000,
          109000,
          110000,
          111000,
          112000,
          113000,
          114000,
          115000,
          116000,
          117000,
          118000,
          119000,
          120000,
          121000,
          122000,
          123000,
          124000,
          125000,
          126000,
          127000,
          128000,
          129000,
          130000,
          131000,
          132000,
          133000,
          134000,
          135000,
          136000,
          137000,
          138000,
          139000,
          140000,
          141000,
          142000,
          143000,
          144000,
          145000,
          146000,
          147000,
          148000,
          149000,
          150000,
          151000,
          152000,
          153000,
          154000,
          155000,
          156000,
          157000,
          158000,
          159000,
          160000
         ],
         "xaxis": "x",
         "y": [
          0.0099438,
          0.0098875,
          0.0098311,
          0.0097748,
          0.0097184,
          0.0096619,
          0.0096054,
          0.0095489,
          0.0094923,
          0.0094358,
          0.0093791,
          0.0093224,
          0.0092657,
          0.009209,
          0.0091522,
          0.0090954,
          0.0090385,
          0.0089816,
          0.0089247,
          0.0088677,
          0.0088106,
          0.0087536,
          0.0086965,
          0.0086393,
          0.0085821,
          0.0085249,
          0.0084676,
          0.0084103,
          0.0083529,
          0.0082955,
          0.0082381,
          0.0081806,
          0.008123,
          0.0080654,
          0.0080078,
          0.0079501,
          0.0078924,
          0.0078346,
          0.0077768,
          0.0077189,
          0.007661,
          0.0076031,
          0.007545,
          0.007487,
          0.0074289,
          0.0073707,
          0.0073125,
          0.0072542,
          0.0071959,
          0.0071375,
          0.0070791,
          0.0070206,
          0.0069621,
          0.0069035,
          0.0068449,
          0.0067862,
          0.0067274,
          0.0066686,
          0.0066097,
          0.0065508,
          0.0064918,
          0.0064328,
          0.0063737,
          0.0063145,
          0.0062553,
          0.006196,
          0.0061366,
          0.0060772,
          0.0060177,
          0.0059582,
          0.0058986,
          0.0058389,
          0.0057791,
          0.0057193,
          0.0056594,
          0.0055995,
          0.0055394,
          0.0054793,
          0.0054191,
          0.0053589,
          0.0052986,
          0.0052382,
          0.0051777,
          0.0051171,
          0.0050565,
          0.0049958,
          0.004935,
          0.0048741,
          0.0048131,
          0.0047521,
          0.0046909,
          0.0046297,
          0.0045684,
          0.004507,
          0.0044455,
          0.0043839,
          0.0043222,
          0.0042604,
          0.0041985,
          0.0041365,
          0.0040744,
          0.0040122,
          0.0039499,
          0.0038874,
          0.0038249,
          0.0037623,
          0.0036995,
          0.0036366,
          0.0035736,
          0.0035105,
          0.0034472,
          0.0033839,
          0.0033203,
          0.0032567,
          0.0031929,
          0.003129,
          0.0030649,
          0.0030007,
          0.0029363,
          0.0028718,
          0.0028071,
          0.0027422,
          0.0026772,
          0.002612,
          0.0025466,
          0.002481,
          0.0024152,
          0.0023493,
          0.0022831,
          0.0022167,
          0.0021501,
          0.0020832,
          0.0020161,
          0.0019488,
          0.0018812,
          0.0018134,
          0.0017452,
          0.0016768,
          0.001608,
          0.0015389,
          0.0014695,
          0.0013997,
          0.0013295,
          0.0012589,
          0.0011879,
          0.0011164,
          0.0010443,
          0.00097176,
          0.00089856,
          0.0008247,
          0.00075009,
          0.00067465,
          0.00059825,
          0.00052075,
          0.00044194,
          0.00036153,
          0.00027906,
          0.00019374,
          0.00010382,
          0
         ],
         "yaxis": "y2"
        }
       ],
       "layout": {
        "hovermode": "x unified",
        "legend": {
         "x": 1.15,
         "xanchor": "right",
         "y": 1.15,
         "yanchor": "top"
        },
        "template": {
         "data": {
          "bar": [
           {
            "error_x": {
             "color": "#2a3f5f"
            },
            "error_y": {
             "color": "#2a3f5f"
            },
            "marker": {
             "line": {
              "color": "#E5ECF6",
              "width": 0.5
             },
             "pattern": {
              "fillmode": "overlay",
              "size": 10,
              "solidity": 0.2
             }
            },
            "type": "bar"
           }
          ],
          "barpolar": [
           {
            "marker": {
             "line": {
              "color": "#E5ECF6",
              "width": 0.5
             },
             "pattern": {
              "fillmode": "overlay",
              "size": 10,
              "solidity": 0.2
             }
            },
            "type": "barpolar"
           }
          ],
          "carpet": [
           {
            "aaxis": {
             "endlinecolor": "#2a3f5f",
             "gridcolor": "white",
             "linecolor": "white",
             "minorgridcolor": "white",
             "startlinecolor": "#2a3f5f"
            },
            "baxis": {
             "endlinecolor": "#2a3f5f",
             "gridcolor": "white",
             "linecolor": "white",
             "minorgridcolor": "white",
             "startlinecolor": "#2a3f5f"
            },
            "type": "carpet"
           }
          ],
          "choropleth": [
           {
            "colorbar": {
             "outlinewidth": 0,
             "ticks": ""
            },
            "type": "choropleth"
           }
          ],
          "contour": [
           {
            "colorbar": {
             "outlinewidth": 0,
             "ticks": ""
            },
            "colorscale": [
             [
              0,
              "#0d0887"
             ],
             [
              0.1111111111111111,
              "#46039f"
             ],
             [
              0.2222222222222222,
              "#7201a8"
             ],
             [
              0.3333333333333333,
              "#9c179e"
             ],
             [
              0.4444444444444444,
              "#bd3786"
             ],
             [
              0.5555555555555556,
              "#d8576b"
             ],
             [
              0.6666666666666666,
              "#ed7953"
             ],
             [
              0.7777777777777778,
              "#fb9f3a"
             ],
             [
              0.8888888888888888,
              "#fdca26"
             ],
             [
              1,
              "#f0f921"
             ]
            ],
            "type": "contour"
           }
          ],
          "contourcarpet": [
           {
            "colorbar": {
             "outlinewidth": 0,
             "ticks": ""
            },
            "type": "contourcarpet"
           }
          ],
          "heatmap": [
           {
            "colorbar": {
             "outlinewidth": 0,
             "ticks": ""
            },
            "colorscale": [
             [
              0,
              "#0d0887"
             ],
             [
              0.1111111111111111,
              "#46039f"
             ],
             [
              0.2222222222222222,
              "#7201a8"
             ],
             [
              0.3333333333333333,
              "#9c179e"
             ],
             [
              0.4444444444444444,
              "#bd3786"
             ],
             [
              0.5555555555555556,
              "#d8576b"
             ],
             [
              0.6666666666666666,
              "#ed7953"
             ],
             [
              0.7777777777777778,
              "#fb9f3a"
             ],
             [
              0.8888888888888888,
              "#fdca26"
             ],
             [
              1,
              "#f0f921"
             ]
            ],
            "type": "heatmap"
           }
          ],
          "histogram": [
           {
            "marker": {
             "pattern": {
              "fillmode": "overlay",
              "size": 10,
              "solidity": 0.2
             }
            },
            "type": "histogram"
           }
          ],
          "histogram2d": [
           {
            "colorbar": {
             "outlinewidth": 0,
             "ticks": ""
            },
            "colorscale": [
             [
              0,
              "#0d0887"
             ],
             [
              0.1111111111111111,
              "#46039f"
             ],
             [
              0.2222222222222222,
              "#7201a8"
             ],
             [
              0.3333333333333333,
              "#9c179e"
             ],
             [
              0.4444444444444444,
              "#bd3786"
             ],
             [
              0.5555555555555556,
              "#d8576b"
             ],
             [
              0.6666666666666666,
              "#ed7953"
             ],
             [
              0.7777777777777778,
              "#fb9f3a"
             ],
             [
              0.8888888888888888,
              "#fdca26"
             ],
             [
              1,
              "#f0f921"
             ]
            ],
            "type": "histogram2d"
           }
          ],
          "histogram2dcontour": [
           {
            "colorbar": {
             "outlinewidth": 0,
             "ticks": ""
            },
            "colorscale": [
             [
              0,
              "#0d0887"
             ],
             [
              0.1111111111111111,
              "#46039f"
             ],
             [
              0.2222222222222222,
              "#7201a8"
             ],
             [
              0.3333333333333333,
              "#9c179e"
             ],
             [
              0.4444444444444444,
              "#bd3786"
             ],
             [
              0.5555555555555556,
              "#d8576b"
             ],
             [
              0.6666666666666666,
              "#ed7953"
             ],
             [
              0.7777777777777778,
              "#fb9f3a"
             ],
             [
              0.8888888888888888,
              "#fdca26"
             ],
             [
              1,
              "#f0f921"
             ]
            ],
            "type": "histogram2dcontour"
           }
          ],
          "mesh3d": [
           {
            "colorbar": {
             "outlinewidth": 0,
             "ticks": ""
            },
            "type": "mesh3d"
           }
          ],
          "parcoords": [
           {
            "line": {
             "colorbar": {
              "outlinewidth": 0,
              "ticks": ""
             }
            },
            "type": "parcoords"
           }
          ],
          "pie": [
           {
            "automargin": true,
            "type": "pie"
           }
          ],
          "scatter": [
           {
            "fillpattern": {
             "fillmode": "overlay",
             "size": 10,
             "solidity": 0.2
            },
            "type": "scatter"
           }
          ],
          "scatter3d": [
           {
            "line": {
             "colorbar": {
              "outlinewidth": 0,
              "ticks": ""
             }
            },
            "marker": {
             "colorbar": {
              "outlinewidth": 0,
              "ticks": ""
             }
            },
            "type": "scatter3d"
           }
          ],
          "scattercarpet": [
           {
            "marker": {
             "colorbar": {
              "outlinewidth": 0,
              "ticks": ""
             }
            },
            "type": "scattercarpet"
           }
          ],
          "scattergeo": [
           {
            "marker": {
             "colorbar": {
              "outlinewidth": 0,
              "ticks": ""
             }
            },
            "type": "scattergeo"
           }
          ],
          "scattergl": [
           {
            "marker": {
             "colorbar": {
              "outlinewidth": 0,
              "ticks": ""
             }
            },
            "type": "scattergl"
           }
          ],
          "scattermap": [
           {
            "marker": {
             "colorbar": {
              "outlinewidth": 0,
              "ticks": ""
             }
            },
            "type": "scattermap"
           }
          ],
          "scattermapbox": [
           {
            "marker": {
             "colorbar": {
              "outlinewidth": 0,
              "ticks": ""
             }
            },
            "type": "scattermapbox"
           }
          ],
          "scatterpolar": [
           {
            "marker": {
             "colorbar": {
              "outlinewidth": 0,
              "ticks": ""
             }
            },
            "type": "scatterpolar"
           }
          ],
          "scatterpolargl": [
           {
            "marker": {
             "colorbar": {
              "outlinewidth": 0,
              "ticks": ""
             }
            },
            "type": "scatterpolargl"
           }
          ],
          "scatterternary": [
           {
            "marker": {
             "colorbar": {
              "outlinewidth": 0,
              "ticks": ""
             }
            },
            "type": "scatterternary"
           }
          ],
          "surface": [
           {
            "colorbar": {
             "outlinewidth": 0,
             "ticks": ""
            },
            "colorscale": [
             [
              0,
              "#0d0887"
             ],
             [
              0.1111111111111111,
              "#46039f"
             ],
             [
              0.2222222222222222,
              "#7201a8"
             ],
             [
              0.3333333333333333,
              "#9c179e"
             ],
             [
              0.4444444444444444,
              "#bd3786"
             ],
             [
              0.5555555555555556,
              "#d8576b"
             ],
             [
              0.6666666666666666,
              "#ed7953"
             ],
             [
              0.7777777777777778,
              "#fb9f3a"
             ],
             [
              0.8888888888888888,
              "#fdca26"
             ],
             [
              1,
              "#f0f921"
             ]
            ],
            "type": "surface"
           }
          ],
          "table": [
           {
            "cells": {
             "fill": {
              "color": "#EBF0F8"
             },
             "line": {
              "color": "white"
             }
            },
            "header": {
             "fill": {
              "color": "#C8D4E3"
             },
             "line": {
              "color": "white"
             }
            },
            "type": "table"
           }
          ]
         },
         "layout": {
          "annotationdefaults": {
           "arrowcolor": "#2a3f5f",
           "arrowhead": 0,
           "arrowwidth": 1
          },
          "autotypenumbers": "strict",
          "coloraxis": {
           "colorbar": {
            "outlinewidth": 0,
            "ticks": ""
           }
          },
          "colorscale": {
           "diverging": [
            [
             0,
             "#8e0152"
            ],
            [
             0.1,
             "#c51b7d"
            ],
            [
             0.2,
             "#de77ae"
            ],
            [
             0.3,
             "#f1b6da"
            ],
            [
             0.4,
             "#fde0ef"
            ],
            [
             0.5,
             "#f7f7f7"
            ],
            [
             0.6,
             "#e6f5d0"
            ],
            [
             0.7,
             "#b8e186"
            ],
            [
             0.8,
             "#7fbc41"
            ],
            [
             0.9,
             "#4d9221"
            ],
            [
             1,
             "#276419"
            ]
           ],
           "sequential": [
            [
             0,
             "#0d0887"
            ],
            [
             0.1111111111111111,
             "#46039f"
            ],
            [
             0.2222222222222222,
             "#7201a8"
            ],
            [
             0.3333333333333333,
             "#9c179e"
            ],
            [
             0.4444444444444444,
             "#bd3786"
            ],
            [
             0.5555555555555556,
             "#d8576b"
            ],
            [
             0.6666666666666666,
             "#ed7953"
            ],
            [
             0.7777777777777778,
             "#fb9f3a"
            ],
            [
             0.8888888888888888,
             "#fdca26"
            ],
            [
             1,
             "#f0f921"
            ]
           ],
           "sequentialminus": [
            [
             0,
             "#0d0887"
            ],
            [
             0.1111111111111111,
             "#46039f"
            ],
            [
             0.2222222222222222,
             "#7201a8"
            ],
            [
             0.3333333333333333,
             "#9c179e"
            ],
            [
             0.4444444444444444,
             "#bd3786"
            ],
            [
             0.5555555555555556,
             "#d8576b"
            ],
            [
             0.6666666666666666,
             "#ed7953"
            ],
            [
             0.7777777777777778,
             "#fb9f3a"
            ],
            [
             0.8888888888888888,
             "#fdca26"
            ],
            [
             1,
             "#f0f921"
            ]
           ]
          },
          "colorway": [
           "#636efa",
           "#EF553B",
           "#00cc96",
           "#ab63fa",
           "#FFA15A",
           "#19d3f3",
           "#FF6692",
           "#B6E880",
           "#FF97FF",
           "#FECB52"
          ],
          "font": {
           "color": "#2a3f5f"
          },
          "geo": {
           "bgcolor": "white",
           "lakecolor": "white",
           "landcolor": "#E5ECF6",
           "showlakes": true,
           "showland": true,
           "subunitcolor": "white"
          },
          "hoverlabel": {
           "align": "left"
          },
          "hovermode": "closest",
          "mapbox": {
           "style": "light"
          },
          "paper_bgcolor": "white",
          "plot_bgcolor": "#E5ECF6",
          "polar": {
           "angularaxis": {
            "gridcolor": "white",
            "linecolor": "white",
            "ticks": ""
           },
           "bgcolor": "#E5ECF6",
           "radialaxis": {
            "gridcolor": "white",
            "linecolor": "white",
            "ticks": ""
           }
          },
          "scene": {
           "xaxis": {
            "backgroundcolor": "#E5ECF6",
            "gridcolor": "white",
            "gridwidth": 2,
            "linecolor": "white",
            "showbackground": true,
            "ticks": "",
            "zerolinecolor": "white"
           },
           "yaxis": {
            "backgroundcolor": "#E5ECF6",
            "gridcolor": "white",
            "gridwidth": 2,
            "linecolor": "white",
            "showbackground": true,
            "ticks": "",
            "zerolinecolor": "white"
           },
           "zaxis": {
            "backgroundcolor": "#E5ECF6",
            "gridcolor": "white",
            "gridwidth": 2,
            "linecolor": "white",
            "showbackground": true,
            "ticks": "",
            "zerolinecolor": "white"
           }
          },
          "shapedefaults": {
           "line": {
            "color": "#2a3f5f"
           }
          },
          "ternary": {
           "aaxis": {
            "gridcolor": "white",
            "linecolor": "white",
            "ticks": ""
           },
           "baxis": {
            "gridcolor": "white",
            "linecolor": "white",
            "ticks": ""
           },
           "bgcolor": "#E5ECF6",
           "caxis": {
            "gridcolor": "white",
            "linecolor": "white",
            "ticks": ""
           }
          },
          "title": {
           "x": 0.05
          },
          "xaxis": {
           "automargin": true,
           "gridcolor": "white",
           "linecolor": "white",
           "ticks": "",
           "title": {
            "standoff": 15
           },
           "zerolinecolor": "white",
           "zerolinewidth": 2
          },
          "yaxis": {
           "automargin": true,
           "gridcolor": "white",
           "linecolor": "white",
           "ticks": "",
           "title": {
            "standoff": 15
           },
           "zerolinecolor": "white",
           "zerolinewidth": 2
          }
         }
        },
        "title": {
         "text": "Validation Performance and Training Learning Rate vs Epoch"
        },
        "xaxis": {
         "anchor": "y",
         "domain": [
          0,
          0.94
         ],
         "range": [
          0,
          160000
         ],
         "title": {
          "text": "Epoch"
         }
        },
        "yaxis": {
         "anchor": "x",
         "domain": [
          0,
          1
         ],
         "dtick": 10,
         "range": [
          0,
          100
         ],
         "title": {
          "text": "Performance (%)"
         }
        },
        "yaxis2": {
         "anchor": "x",
         "overlaying": "y",
         "side": "right",
         "title": {
          "text": "Learning Rate"
         }
        }
       }
      }
     },
     "metadata": {},
     "output_type": "display_data"
    }
   ],
   "source": [
    "# Ablation 02, SEBNet BaselinePHead SGD, Pretrained, Batch Size 6, OHEM Cross Entropy - 78.98 Best mIoU\n",
    "log_file_path = '/home/robert.breslin/alessandro/paper_2/mmsegmentation/work_dirs/sebnet_baseline-p-head_1xb6_cityscapes/20250825_134022/20250825_134022.log'\n",
    "epochs, mIoU, mAcc, lrs = parse_log_file(log_file_path)\n",
    "plot_accuracies_and_lr_interactive(epochs, mAcc, mIoU, lrs, [0,160000])"
   ]
  },
  {
   "cell_type": "code",
   "execution_count": 9,
   "id": "383ab7f3",
   "metadata": {},
   "outputs": [
    {
     "data": {
      "application/vnd.plotly.v1+json": {
       "config": {
        "plotlyServerURL": "https://plot.ly"
       },
       "data": [
        {
         "line": {
          "color": "blue"
         },
         "name": "Mean Accuracy",
         "type": "scatter",
         "x": [
          1000,
          2000,
          3000,
          4000,
          5000,
          6000,
          7000,
          8000,
          9000,
          10000,
          11000,
          12000,
          13000,
          14000,
          15000,
          16000,
          17000,
          18000,
          19000,
          20000,
          21000,
          22000,
          23000,
          24000,
          25000,
          26000,
          27000,
          28000,
          29000,
          30000,
          31000,
          32000,
          33000,
          34000,
          35000,
          36000,
          37000,
          38000,
          39000,
          40000,
          41000,
          42000,
          43000,
          44000,
          45000,
          46000,
          47000,
          48000,
          49000,
          50000,
          51000,
          52000,
          53000,
          54000,
          55000,
          56000,
          57000,
          58000,
          59000,
          60000,
          61000,
          62000,
          63000,
          64000,
          65000,
          66000,
          67000,
          68000,
          69000,
          70000,
          71000,
          72000,
          73000,
          74000,
          75000,
          76000,
          77000,
          78000,
          79000,
          80000,
          81000,
          82000,
          83000,
          84000,
          85000,
          86000,
          87000,
          88000,
          89000,
          90000,
          91000,
          92000,
          93000,
          94000,
          95000,
          96000,
          97000,
          98000,
          99000,
          100000,
          101000,
          102000,
          103000,
          104000,
          105000,
          106000,
          107000,
          108000,
          109000,
          110000,
          111000,
          112000,
          113000,
          114000,
          115000,
          116000,
          117000,
          118000,
          119000,
          120000,
          121000,
          122000,
          123000,
          124000,
          125000,
          126000,
          127000,
          128000,
          129000,
          130000,
          131000,
          132000,
          133000,
          134000,
          135000,
          136000,
          137000,
          138000,
          139000,
          140000,
          141000,
          142000,
          143000,
          144000,
          145000,
          146000,
          147000,
          148000,
          149000,
          150000,
          151000,
          152000,
          153000,
          154000,
          155000,
          156000,
          157000,
          158000,
          159000,
          160000
         ],
         "xaxis": "x",
         "y": [
          30.1,
          34.15,
          40.64,
          38.41,
          41.32,
          45.12,
          50.63,
          48.23,
          49.18,
          51.26,
          54.97,
          51.46,
          54.2,
          54.59,
          54.96,
          61.41,
          58.75,
          56.18,
          61.37,
          51.98,
          61.82,
          59.86,
          64.5,
          64.92,
          66.02,
          64.1,
          65.64,
          63.32,
          61.62,
          65.3,
          66.15,
          64.58,
          67.85,
          64.74,
          67.34,
          66.07,
          65.95,
          68.53,
          65.7,
          68.9,
          66.5,
          67.93,
          66.79,
          63.05,
          72.5,
          69.73,
          68.04,
          66.45,
          69.41,
          70.83,
          69.59,
          70.14,
          73.24,
          70.57,
          64.84,
          70.68,
          73.45,
          67.42,
          72.74,
          68.32,
          73.32,
          71.33,
          74.05,
          72.76,
          69,
          67.99,
          73.13,
          71.5,
          73.66,
          70.67,
          75.25,
          67.15,
          73.27,
          70.24,
          74.99,
          71.72,
          70.51,
          72.79,
          73.3,
          75.05,
          73.49,
          77.27,
          77.12,
          77.25,
          69.87,
          77.16,
          67.76,
          69.19,
          74.13,
          76.59,
          77.55,
          76.17,
          74.32,
          73.43,
          78.36,
          75.9,
          78.94,
          76.28,
          76.6,
          78.75,
          75.49,
          79.89,
          76.91,
          77.05,
          76.69,
          73.81,
          73.94,
          75.35,
          79.36,
          78.46,
          78.81,
          79.59,
          77.83,
          81.06,
          77.47,
          78.8,
          80.07,
          76.44,
          76.7,
          79.32,
          78.88,
          80.95,
          80.4,
          75.51,
          81.36,
          80.48,
          77.94,
          80.59,
          81.14,
          74.77,
          79.93,
          81.61,
          77.96,
          82.47,
          81.59,
          81.41,
          80.97,
          79.4,
          81.74,
          81.52,
          81.6,
          80.92,
          81.85,
          81.64,
          82.5,
          80.19,
          82.09,
          81.72,
          82.92,
          82.13,
          82.84,
          82.46,
          82.76,
          83.32,
          83.05,
          83.02,
          83.28,
          83.54,
          82.97,
          82.99
         ],
         "yaxis": "y"
        },
        {
         "line": {
          "color": "orange"
         },
         "name": "Mean IoU",
         "type": "scatter",
         "x": [
          1000,
          2000,
          3000,
          4000,
          5000,
          6000,
          7000,
          8000,
          9000,
          10000,
          11000,
          12000,
          13000,
          14000,
          15000,
          16000,
          17000,
          18000,
          19000,
          20000,
          21000,
          22000,
          23000,
          24000,
          25000,
          26000,
          27000,
          28000,
          29000,
          30000,
          31000,
          32000,
          33000,
          34000,
          35000,
          36000,
          37000,
          38000,
          39000,
          40000,
          41000,
          42000,
          43000,
          44000,
          45000,
          46000,
          47000,
          48000,
          49000,
          50000,
          51000,
          52000,
          53000,
          54000,
          55000,
          56000,
          57000,
          58000,
          59000,
          60000,
          61000,
          62000,
          63000,
          64000,
          65000,
          66000,
          67000,
          68000,
          69000,
          70000,
          71000,
          72000,
          73000,
          74000,
          75000,
          76000,
          77000,
          78000,
          79000,
          80000,
          81000,
          82000,
          83000,
          84000,
          85000,
          86000,
          87000,
          88000,
          89000,
          90000,
          91000,
          92000,
          93000,
          94000,
          95000,
          96000,
          97000,
          98000,
          99000,
          100000,
          101000,
          102000,
          103000,
          104000,
          105000,
          106000,
          107000,
          108000,
          109000,
          110000,
          111000,
          112000,
          113000,
          114000,
          115000,
          116000,
          117000,
          118000,
          119000,
          120000,
          121000,
          122000,
          123000,
          124000,
          125000,
          126000,
          127000,
          128000,
          129000,
          130000,
          131000,
          132000,
          133000,
          134000,
          135000,
          136000,
          137000,
          138000,
          139000,
          140000,
          141000,
          142000,
          143000,
          144000,
          145000,
          146000,
          147000,
          148000,
          149000,
          150000,
          151000,
          152000,
          153000,
          154000,
          155000,
          156000,
          157000,
          158000,
          159000,
          160000
         ],
         "xaxis": "x",
         "y": [
          23.12,
          28.07,
          32.59,
          32.82,
          33.56,
          35.36,
          37.88,
          38.92,
          40.13,
          41.53,
          44.75,
          42.37,
          45.71,
          44.67,
          46.5,
          47.75,
          47.55,
          46.93,
          51.33,
          41.41,
          50.07,
          49.33,
          50.33,
          53.57,
          54.16,
          50.99,
          51.49,
          52.94,
          50.98,
          53.39,
          54.03,
          54.41,
          54.25,
          55.08,
          55.9,
          55.31,
          56.41,
          58.02,
          54.57,
          56.84,
          55.95,
          57.74,
          58,
          52.19,
          59.71,
          57.49,
          57.3,
          56.99,
          58.11,
          58.62,
          57.79,
          58.54,
          62.59,
          59.45,
          53.86,
          59.46,
          61.55,
          56.86,
          61.2,
          57.06,
          60.1,
          60.43,
          63.15,
          62.5,
          59.5,
          57.36,
          61.88,
          60.6,
          62.92,
          59.8,
          64.76,
          56.24,
          58.72,
          60.3,
          62.76,
          61.58,
          60.25,
          63.01,
          61.23,
          64.67,
          61.21,
          64.9,
          66.38,
          64.7,
          55.54,
          67.14,
          55.55,
          59.29,
          60.72,
          66.72,
          65.69,
          65.9,
          63.69,
          62.74,
          67.98,
          64.16,
          66.17,
          65.67,
          66.53,
          67.81,
          62.17,
          68.81,
          66.11,
          64.65,
          65.04,
          59.54,
          59.47,
          65.45,
          68.43,
          67.48,
          67.01,
          69.16,
          65.35,
          69.46,
          66.41,
          69.43,
          68.78,
          67.18,
          65.79,
          67.31,
          69.25,
          70.53,
          69.7,
          66.48,
          71.19,
          69.18,
          67.86,
          70.79,
          71.21,
          63.51,
          70.5,
          71.87,
          66.93,
          71.72,
          70.36,
          71.33,
          70.53,
          68.36,
          71.3,
          72.05,
          72.04,
          72,
          72.68,
          71.84,
          72.71,
          71.21,
          71.71,
          72.07,
          73.1,
          72.39,
          73.09,
          73.24,
          73.5,
          73.58,
          74,
          73.75,
          73.79,
          73.9,
          73.82,
          73.85
         ],
         "yaxis": "y"
        },
        {
         "line": {
          "color": "green"
         },
         "name": "Learning Rate",
         "type": "scatter",
         "x": [
          1000,
          2000,
          3000,
          4000,
          5000,
          6000,
          7000,
          8000,
          9000,
          10000,
          11000,
          12000,
          13000,
          14000,
          15000,
          16000,
          17000,
          18000,
          19000,
          20000,
          21000,
          22000,
          23000,
          24000,
          25000,
          26000,
          27000,
          28000,
          29000,
          30000,
          31000,
          32000,
          33000,
          34000,
          35000,
          36000,
          37000,
          38000,
          39000,
          40000,
          41000,
          42000,
          43000,
          44000,
          45000,
          46000,
          47000,
          48000,
          49000,
          50000,
          51000,
          52000,
          53000,
          54000,
          55000,
          56000,
          57000,
          58000,
          59000,
          60000,
          61000,
          62000,
          63000,
          64000,
          65000,
          66000,
          67000,
          68000,
          69000,
          70000,
          71000,
          72000,
          73000,
          74000,
          75000,
          76000,
          77000,
          78000,
          79000,
          80000,
          81000,
          82000,
          83000,
          84000,
          85000,
          86000,
          87000,
          88000,
          89000,
          90000,
          91000,
          92000,
          93000,
          94000,
          95000,
          96000,
          97000,
          98000,
          99000,
          100000,
          101000,
          102000,
          103000,
          104000,
          105000,
          106000,
          107000,
          108000,
          109000,
          110000,
          111000,
          112000,
          113000,
          114000,
          115000,
          116000,
          117000,
          118000,
          119000,
          120000,
          121000,
          122000,
          123000,
          124000,
          125000,
          126000,
          127000,
          128000,
          129000,
          130000,
          131000,
          132000,
          133000,
          134000,
          135000,
          136000,
          137000,
          138000,
          139000,
          140000,
          141000,
          142000,
          143000,
          144000,
          145000,
          146000,
          147000,
          148000,
          149000,
          150000,
          151000,
          152000,
          153000,
          154000,
          155000,
          156000,
          157000,
          158000,
          159000,
          160000
         ],
         "xaxis": "x",
         "y": [
          0.0099438,
          0.0098875,
          0.0098311,
          0.0097748,
          0.0097184,
          0.0096619,
          0.0096054,
          0.0095489,
          0.0094923,
          0.0094358,
          0.0093791,
          0.0093224,
          0.0092657,
          0.009209,
          0.0091522,
          0.0090954,
          0.0090385,
          0.0089816,
          0.0089247,
          0.0088677,
          0.0088106,
          0.0087536,
          0.0086965,
          0.0086393,
          0.0085821,
          0.0085249,
          0.0084676,
          0.0084103,
          0.0083529,
          0.0082955,
          0.0082381,
          0.0081806,
          0.008123,
          0.0080654,
          0.0080078,
          0.0079501,
          0.0078924,
          0.0078346,
          0.0077768,
          0.0077189,
          0.007661,
          0.0076031,
          0.007545,
          0.007487,
          0.0074289,
          0.0073707,
          0.0073125,
          0.0072542,
          0.0071959,
          0.0071375,
          0.0070791,
          0.0070206,
          0.0069621,
          0.0069035,
          0.0068449,
          0.0067862,
          0.0067274,
          0.0066686,
          0.0066097,
          0.0065508,
          0.0064918,
          0.0064328,
          0.0063737,
          0.0063145,
          0.0062553,
          0.006196,
          0.0061366,
          0.0060772,
          0.0060177,
          0.0059582,
          0.0058986,
          0.0058389,
          0.0057791,
          0.0057193,
          0.0056594,
          0.0055995,
          0.0055394,
          0.0054793,
          0.0054191,
          0.0053589,
          0.0052986,
          0.0052382,
          0.0051777,
          0.0051171,
          0.0050565,
          0.0049958,
          0.004935,
          0.0048741,
          0.0048131,
          0.0047521,
          0.0046909,
          0.0046297,
          0.0045684,
          0.004507,
          0.0044455,
          0.0043839,
          0.0043222,
          0.0042604,
          0.0041985,
          0.0041365,
          0.0040744,
          0.0040122,
          0.0039499,
          0.0038874,
          0.0038249,
          0.0037623,
          0.0036995,
          0.0036366,
          0.0035736,
          0.0035105,
          0.0034472,
          0.0033839,
          0.0033203,
          0.0032567,
          0.0031929,
          0.003129,
          0.0030649,
          0.0030007,
          0.0029363,
          0.0028718,
          0.0028071,
          0.0027422,
          0.0026772,
          0.002612,
          0.0025466,
          0.002481,
          0.0024152,
          0.0023493,
          0.0022831,
          0.0022167,
          0.0021501,
          0.0020832,
          0.0020161,
          0.0019488,
          0.0018812,
          0.0018134,
          0.0017452,
          0.0016768,
          0.001608,
          0.0015389,
          0.0014695,
          0.0013997,
          0.0013295,
          0.0012589,
          0.0011879,
          0.0011164,
          0.0010443,
          0.00097176,
          0.00089856,
          0.0008247,
          0.00075009,
          0.00067465,
          0.00059825,
          0.00052075,
          0.00044194,
          0.00036153,
          0.00027906,
          0.00019374,
          0.00010382,
          0
         ],
         "yaxis": "y2"
        }
       ],
       "layout": {
        "hovermode": "x unified",
        "legend": {
         "x": 1.15,
         "xanchor": "right",
         "y": 1.15,
         "yanchor": "top"
        },
        "template": {
         "data": {
          "bar": [
           {
            "error_x": {
             "color": "#2a3f5f"
            },
            "error_y": {
             "color": "#2a3f5f"
            },
            "marker": {
             "line": {
              "color": "#E5ECF6",
              "width": 0.5
             },
             "pattern": {
              "fillmode": "overlay",
              "size": 10,
              "solidity": 0.2
             }
            },
            "type": "bar"
           }
          ],
          "barpolar": [
           {
            "marker": {
             "line": {
              "color": "#E5ECF6",
              "width": 0.5
             },
             "pattern": {
              "fillmode": "overlay",
              "size": 10,
              "solidity": 0.2
             }
            },
            "type": "barpolar"
           }
          ],
          "carpet": [
           {
            "aaxis": {
             "endlinecolor": "#2a3f5f",
             "gridcolor": "white",
             "linecolor": "white",
             "minorgridcolor": "white",
             "startlinecolor": "#2a3f5f"
            },
            "baxis": {
             "endlinecolor": "#2a3f5f",
             "gridcolor": "white",
             "linecolor": "white",
             "minorgridcolor": "white",
             "startlinecolor": "#2a3f5f"
            },
            "type": "carpet"
           }
          ],
          "choropleth": [
           {
            "colorbar": {
             "outlinewidth": 0,
             "ticks": ""
            },
            "type": "choropleth"
           }
          ],
          "contour": [
           {
            "colorbar": {
             "outlinewidth": 0,
             "ticks": ""
            },
            "colorscale": [
             [
              0,
              "#0d0887"
             ],
             [
              0.1111111111111111,
              "#46039f"
             ],
             [
              0.2222222222222222,
              "#7201a8"
             ],
             [
              0.3333333333333333,
              "#9c179e"
             ],
             [
              0.4444444444444444,
              "#bd3786"
             ],
             [
              0.5555555555555556,
              "#d8576b"
             ],
             [
              0.6666666666666666,
              "#ed7953"
             ],
             [
              0.7777777777777778,
              "#fb9f3a"
             ],
             [
              0.8888888888888888,
              "#fdca26"
             ],
             [
              1,
              "#f0f921"
             ]
            ],
            "type": "contour"
           }
          ],
          "contourcarpet": [
           {
            "colorbar": {
             "outlinewidth": 0,
             "ticks": ""
            },
            "type": "contourcarpet"
           }
          ],
          "heatmap": [
           {
            "colorbar": {
             "outlinewidth": 0,
             "ticks": ""
            },
            "colorscale": [
             [
              0,
              "#0d0887"
             ],
             [
              0.1111111111111111,
              "#46039f"
             ],
             [
              0.2222222222222222,
              "#7201a8"
             ],
             [
              0.3333333333333333,
              "#9c179e"
             ],
             [
              0.4444444444444444,
              "#bd3786"
             ],
             [
              0.5555555555555556,
              "#d8576b"
             ],
             [
              0.6666666666666666,
              "#ed7953"
             ],
             [
              0.7777777777777778,
              "#fb9f3a"
             ],
             [
              0.8888888888888888,
              "#fdca26"
             ],
             [
              1,
              "#f0f921"
             ]
            ],
            "type": "heatmap"
           }
          ],
          "histogram": [
           {
            "marker": {
             "pattern": {
              "fillmode": "overlay",
              "size": 10,
              "solidity": 0.2
             }
            },
            "type": "histogram"
           }
          ],
          "histogram2d": [
           {
            "colorbar": {
             "outlinewidth": 0,
             "ticks": ""
            },
            "colorscale": [
             [
              0,
              "#0d0887"
             ],
             [
              0.1111111111111111,
              "#46039f"
             ],
             [
              0.2222222222222222,
              "#7201a8"
             ],
             [
              0.3333333333333333,
              "#9c179e"
             ],
             [
              0.4444444444444444,
              "#bd3786"
             ],
             [
              0.5555555555555556,
              "#d8576b"
             ],
             [
              0.6666666666666666,
              "#ed7953"
             ],
             [
              0.7777777777777778,
              "#fb9f3a"
             ],
             [
              0.8888888888888888,
              "#fdca26"
             ],
             [
              1,
              "#f0f921"
             ]
            ],
            "type": "histogram2d"
           }
          ],
          "histogram2dcontour": [
           {
            "colorbar": {
             "outlinewidth": 0,
             "ticks": ""
            },
            "colorscale": [
             [
              0,
              "#0d0887"
             ],
             [
              0.1111111111111111,
              "#46039f"
             ],
             [
              0.2222222222222222,
              "#7201a8"
             ],
             [
              0.3333333333333333,
              "#9c179e"
             ],
             [
              0.4444444444444444,
              "#bd3786"
             ],
             [
              0.5555555555555556,
              "#d8576b"
             ],
             [
              0.6666666666666666,
              "#ed7953"
             ],
             [
              0.7777777777777778,
              "#fb9f3a"
             ],
             [
              0.8888888888888888,
              "#fdca26"
             ],
             [
              1,
              "#f0f921"
             ]
            ],
            "type": "histogram2dcontour"
           }
          ],
          "mesh3d": [
           {
            "colorbar": {
             "outlinewidth": 0,
             "ticks": ""
            },
            "type": "mesh3d"
           }
          ],
          "parcoords": [
           {
            "line": {
             "colorbar": {
              "outlinewidth": 0,
              "ticks": ""
             }
            },
            "type": "parcoords"
           }
          ],
          "pie": [
           {
            "automargin": true,
            "type": "pie"
           }
          ],
          "scatter": [
           {
            "fillpattern": {
             "fillmode": "overlay",
             "size": 10,
             "solidity": 0.2
            },
            "type": "scatter"
           }
          ],
          "scatter3d": [
           {
            "line": {
             "colorbar": {
              "outlinewidth": 0,
              "ticks": ""
             }
            },
            "marker": {
             "colorbar": {
              "outlinewidth": 0,
              "ticks": ""
             }
            },
            "type": "scatter3d"
           }
          ],
          "scattercarpet": [
           {
            "marker": {
             "colorbar": {
              "outlinewidth": 0,
              "ticks": ""
             }
            },
            "type": "scattercarpet"
           }
          ],
          "scattergeo": [
           {
            "marker": {
             "colorbar": {
              "outlinewidth": 0,
              "ticks": ""
             }
            },
            "type": "scattergeo"
           }
          ],
          "scattergl": [
           {
            "marker": {
             "colorbar": {
              "outlinewidth": 0,
              "ticks": ""
             }
            },
            "type": "scattergl"
           }
          ],
          "scattermap": [
           {
            "marker": {
             "colorbar": {
              "outlinewidth": 0,
              "ticks": ""
             }
            },
            "type": "scattermap"
           }
          ],
          "scattermapbox": [
           {
            "marker": {
             "colorbar": {
              "outlinewidth": 0,
              "ticks": ""
             }
            },
            "type": "scattermapbox"
           }
          ],
          "scatterpolar": [
           {
            "marker": {
             "colorbar": {
              "outlinewidth": 0,
              "ticks": ""
             }
            },
            "type": "scatterpolar"
           }
          ],
          "scatterpolargl": [
           {
            "marker": {
             "colorbar": {
              "outlinewidth": 0,
              "ticks": ""
             }
            },
            "type": "scatterpolargl"
           }
          ],
          "scatterternary": [
           {
            "marker": {
             "colorbar": {
              "outlinewidth": 0,
              "ticks": ""
             }
            },
            "type": "scatterternary"
           }
          ],
          "surface": [
           {
            "colorbar": {
             "outlinewidth": 0,
             "ticks": ""
            },
            "colorscale": [
             [
              0,
              "#0d0887"
             ],
             [
              0.1111111111111111,
              "#46039f"
             ],
             [
              0.2222222222222222,
              "#7201a8"
             ],
             [
              0.3333333333333333,
              "#9c179e"
             ],
             [
              0.4444444444444444,
              "#bd3786"
             ],
             [
              0.5555555555555556,
              "#d8576b"
             ],
             [
              0.6666666666666666,
              "#ed7953"
             ],
             [
              0.7777777777777778,
              "#fb9f3a"
             ],
             [
              0.8888888888888888,
              "#fdca26"
             ],
             [
              1,
              "#f0f921"
             ]
            ],
            "type": "surface"
           }
          ],
          "table": [
           {
            "cells": {
             "fill": {
              "color": "#EBF0F8"
             },
             "line": {
              "color": "white"
             }
            },
            "header": {
             "fill": {
              "color": "#C8D4E3"
             },
             "line": {
              "color": "white"
             }
            },
            "type": "table"
           }
          ]
         },
         "layout": {
          "annotationdefaults": {
           "arrowcolor": "#2a3f5f",
           "arrowhead": 0,
           "arrowwidth": 1
          },
          "autotypenumbers": "strict",
          "coloraxis": {
           "colorbar": {
            "outlinewidth": 0,
            "ticks": ""
           }
          },
          "colorscale": {
           "diverging": [
            [
             0,
             "#8e0152"
            ],
            [
             0.1,
             "#c51b7d"
            ],
            [
             0.2,
             "#de77ae"
            ],
            [
             0.3,
             "#f1b6da"
            ],
            [
             0.4,
             "#fde0ef"
            ],
            [
             0.5,
             "#f7f7f7"
            ],
            [
             0.6,
             "#e6f5d0"
            ],
            [
             0.7,
             "#b8e186"
            ],
            [
             0.8,
             "#7fbc41"
            ],
            [
             0.9,
             "#4d9221"
            ],
            [
             1,
             "#276419"
            ]
           ],
           "sequential": [
            [
             0,
             "#0d0887"
            ],
            [
             0.1111111111111111,
             "#46039f"
            ],
            [
             0.2222222222222222,
             "#7201a8"
            ],
            [
             0.3333333333333333,
             "#9c179e"
            ],
            [
             0.4444444444444444,
             "#bd3786"
            ],
            [
             0.5555555555555556,
             "#d8576b"
            ],
            [
             0.6666666666666666,
             "#ed7953"
            ],
            [
             0.7777777777777778,
             "#fb9f3a"
            ],
            [
             0.8888888888888888,
             "#fdca26"
            ],
            [
             1,
             "#f0f921"
            ]
           ],
           "sequentialminus": [
            [
             0,
             "#0d0887"
            ],
            [
             0.1111111111111111,
             "#46039f"
            ],
            [
             0.2222222222222222,
             "#7201a8"
            ],
            [
             0.3333333333333333,
             "#9c179e"
            ],
            [
             0.4444444444444444,
             "#bd3786"
            ],
            [
             0.5555555555555556,
             "#d8576b"
            ],
            [
             0.6666666666666666,
             "#ed7953"
            ],
            [
             0.7777777777777778,
             "#fb9f3a"
            ],
            [
             0.8888888888888888,
             "#fdca26"
            ],
            [
             1,
             "#f0f921"
            ]
           ]
          },
          "colorway": [
           "#636efa",
           "#EF553B",
           "#00cc96",
           "#ab63fa",
           "#FFA15A",
           "#19d3f3",
           "#FF6692",
           "#B6E880",
           "#FF97FF",
           "#FECB52"
          ],
          "font": {
           "color": "#2a3f5f"
          },
          "geo": {
           "bgcolor": "white",
           "lakecolor": "white",
           "landcolor": "#E5ECF6",
           "showlakes": true,
           "showland": true,
           "subunitcolor": "white"
          },
          "hoverlabel": {
           "align": "left"
          },
          "hovermode": "closest",
          "mapbox": {
           "style": "light"
          },
          "paper_bgcolor": "white",
          "plot_bgcolor": "#E5ECF6",
          "polar": {
           "angularaxis": {
            "gridcolor": "white",
            "linecolor": "white",
            "ticks": ""
           },
           "bgcolor": "#E5ECF6",
           "radialaxis": {
            "gridcolor": "white",
            "linecolor": "white",
            "ticks": ""
           }
          },
          "scene": {
           "xaxis": {
            "backgroundcolor": "#E5ECF6",
            "gridcolor": "white",
            "gridwidth": 2,
            "linecolor": "white",
            "showbackground": true,
            "ticks": "",
            "zerolinecolor": "white"
           },
           "yaxis": {
            "backgroundcolor": "#E5ECF6",
            "gridcolor": "white",
            "gridwidth": 2,
            "linecolor": "white",
            "showbackground": true,
            "ticks": "",
            "zerolinecolor": "white"
           },
           "zaxis": {
            "backgroundcolor": "#E5ECF6",
            "gridcolor": "white",
            "gridwidth": 2,
            "linecolor": "white",
            "showbackground": true,
            "ticks": "",
            "zerolinecolor": "white"
           }
          },
          "shapedefaults": {
           "line": {
            "color": "#2a3f5f"
           }
          },
          "ternary": {
           "aaxis": {
            "gridcolor": "white",
            "linecolor": "white",
            "ticks": ""
           },
           "baxis": {
            "gridcolor": "white",
            "linecolor": "white",
            "ticks": ""
           },
           "bgcolor": "#E5ECF6",
           "caxis": {
            "gridcolor": "white",
            "linecolor": "white",
            "ticks": ""
           }
          },
          "title": {
           "x": 0.05
          },
          "xaxis": {
           "automargin": true,
           "gridcolor": "white",
           "linecolor": "white",
           "ticks": "",
           "title": {
            "standoff": 15
           },
           "zerolinecolor": "white",
           "zerolinewidth": 2
          },
          "yaxis": {
           "automargin": true,
           "gridcolor": "white",
           "linecolor": "white",
           "ticks": "",
           "title": {
            "standoff": 15
           },
           "zerolinecolor": "white",
           "zerolinewidth": 2
          }
         }
        },
        "title": {
         "text": "Validation Performance and Training Learning Rate vs Epoch"
        },
        "xaxis": {
         "anchor": "y",
         "domain": [
          0,
          0.94
         ],
         "range": [
          0,
          160000
         ],
         "title": {
          "text": "Epoch"
         }
        },
        "yaxis": {
         "anchor": "x",
         "domain": [
          0,
          1
         ],
         "dtick": 10,
         "range": [
          0,
          100
         ],
         "title": {
          "text": "Performance (%)"
         }
        },
        "yaxis2": {
         "anchor": "x",
         "overlaying": "y",
         "side": "right",
         "title": {
          "text": "Learning Rate"
         }
        }
       }
      }
     },
     "metadata": {},
     "output_type": "display_data"
    }
   ],
   "source": [
    "# Ablation 03, SEBNet BaselineDHead SGD, Pretrained, Batch Size 6, OHEM Cross Entropy, Edge Width 4, Edge Loss Weight 20.0 - 73.90 Best mIoU\n",
    "log_file_path = '/home/robert.breslin/alessandro/paper_2/mmsegmentation/work_dirs/sebnet_baseline-d-head_1xb6_cityscapes/20250825_134116/20250825_134116.log'\n",
    "epochs, mIoU, mAcc, lrs = parse_log_file(log_file_path)\n",
    "plot_accuracies_and_lr_interactive(epochs, mAcc, mIoU, lrs, [0,160000])"
   ]
  },
  {
   "cell_type": "code",
   "execution_count": 10,
   "id": "1f68699d",
   "metadata": {},
   "outputs": [
    {
     "data": {
      "application/vnd.plotly.v1+json": {
       "config": {
        "plotlyServerURL": "https://plot.ly"
       },
       "data": [
        {
         "line": {
          "color": "blue"
         },
         "name": "Mean Accuracy",
         "type": "scatter",
         "x": [
          1000,
          2000,
          3000,
          4000,
          5000,
          6000,
          7000,
          8000,
          9000,
          10000,
          11000,
          12000,
          13000,
          14000,
          15000,
          16000,
          17000,
          18000,
          19000,
          20000,
          21000,
          22000,
          23000,
          24000,
          25000,
          26000,
          27000,
          28000,
          29000,
          30000,
          31000,
          32000,
          33000,
          34000,
          35000,
          36000,
          37000,
          38000,
          39000,
          40000,
          41000,
          42000,
          43000,
          44000,
          45000,
          46000,
          47000,
          48000,
          49000,
          50000,
          51000,
          52000,
          53000,
          54000,
          55000,
          56000,
          57000,
          58000,
          59000,
          60000,
          61000,
          62000,
          63000,
          64000,
          65000,
          66000,
          67000,
          68000,
          69000,
          70000,
          71000,
          72000,
          73000,
          74000,
          75000,
          76000,
          77000,
          78000,
          79000,
          80000,
          81000,
          82000,
          83000,
          84000,
          85000,
          86000,
          87000,
          88000,
          89000,
          90000,
          91000,
          92000,
          93000,
          94000,
          95000,
          96000,
          97000,
          98000,
          99000,
          100000,
          101000,
          102000,
          103000,
          104000,
          105000,
          106000,
          107000,
          108000,
          109000,
          110000,
          111000,
          112000,
          113000,
          114000,
          115000,
          116000,
          117000,
          118000,
          119000,
          120000,
          121000,
          122000,
          123000,
          124000,
          125000,
          126000,
          127000,
          128000,
          129000,
          130000,
          131000,
          132000,
          133000,
          134000,
          135000,
          136000,
          137000,
          138000,
          139000,
          140000,
          141000,
          142000,
          143000,
          144000,
          145000,
          146000,
          147000,
          148000,
          149000,
          150000,
          151000,
          152000,
          153000,
          154000,
          155000,
          156000,
          157000,
          158000,
          159000,
          160000
         ],
         "xaxis": "x",
         "y": [
          33.82,
          35.09,
          42.25,
          41.49,
          46.16,
          51.33,
          56.76,
          53.15,
          56.25,
          54.53,
          60.52,
          59.29,
          61.2,
          58.47,
          59.25,
          65.34,
          60.52,
          62.03,
          66.85,
          61.97,
          59.37,
          64.98,
          69.9,
          67.56,
          70.43,
          66.12,
          72.39,
          71.17,
          69.71,
          72.9,
          71.7,
          69.77,
          73.87,
          69.94,
          67.51,
          68.6,
          73.53,
          73.34,
          72.13,
          75.46,
          74.34,
          68.49,
          72.4,
          69.78,
          75.43,
          75.2,
          73.14,
          74.26,
          72.47,
          75.91,
          78.14,
          72.17,
          77.5,
          75.1,
          66.5,
          75.91,
          77.54,
          70.32,
          70.82,
          75.27,
          79.74,
          73.77,
          73.8,
          77.73,
          77.65,
          67.59,
          79.21,
          75.99,
          77.92,
          76.3,
          74.78,
          70.39,
          81,
          72.74,
          74.82,
          79.16,
          74.55,
          77.16,
          77.76,
          80.14,
          80.33,
          81.43,
          82.56,
          80.19,
          82.21,
          81.63,
          75.9,
          76.5,
          79.8,
          81.11,
          77.59,
          79.35,
          80.08,
          81.19,
          82.43,
          82.47,
          82.6,
          82.86,
          82.39,
          76.03,
          81.96,
          84.11,
          81.26,
          81.53,
          80.97,
          76.28,
          81.77,
          81.01,
          77.78,
          81.91,
          82.81,
          81.95,
          82.83,
          84.95,
          83.57,
          80.88,
          83.36,
          82.47,
          82.96,
          86.15,
          84.34,
          84.66,
          85.37,
          83.13,
          85.37,
          85.62,
          84.91,
          84.68,
          85.9,
          77.91,
          84.24,
          85.67,
          82.84,
          84.17,
          86.56,
          83.65,
          83.98,
          85.22,
          86.79,
          85.58,
          85.47,
          86.65,
          86.34,
          85.42,
          85.04,
          84.82,
          86.09,
          86.55,
          86.84,
          84.85,
          86.52,
          86.21,
          87.1,
          87.22,
          86.84,
          87.28,
          87.11,
          87.77,
          87.47,
          87.47
         ],
         "yaxis": "y"
        },
        {
         "line": {
          "color": "orange"
         },
         "name": "Mean IoU",
         "type": "scatter",
         "x": [
          1000,
          2000,
          3000,
          4000,
          5000,
          6000,
          7000,
          8000,
          9000,
          10000,
          11000,
          12000,
          13000,
          14000,
          15000,
          16000,
          17000,
          18000,
          19000,
          20000,
          21000,
          22000,
          23000,
          24000,
          25000,
          26000,
          27000,
          28000,
          29000,
          30000,
          31000,
          32000,
          33000,
          34000,
          35000,
          36000,
          37000,
          38000,
          39000,
          40000,
          41000,
          42000,
          43000,
          44000,
          45000,
          46000,
          47000,
          48000,
          49000,
          50000,
          51000,
          52000,
          53000,
          54000,
          55000,
          56000,
          57000,
          58000,
          59000,
          60000,
          61000,
          62000,
          63000,
          64000,
          65000,
          66000,
          67000,
          68000,
          69000,
          70000,
          71000,
          72000,
          73000,
          74000,
          75000,
          76000,
          77000,
          78000,
          79000,
          80000,
          81000,
          82000,
          83000,
          84000,
          85000,
          86000,
          87000,
          88000,
          89000,
          90000,
          91000,
          92000,
          93000,
          94000,
          95000,
          96000,
          97000,
          98000,
          99000,
          100000,
          101000,
          102000,
          103000,
          104000,
          105000,
          106000,
          107000,
          108000,
          109000,
          110000,
          111000,
          112000,
          113000,
          114000,
          115000,
          116000,
          117000,
          118000,
          119000,
          120000,
          121000,
          122000,
          123000,
          124000,
          125000,
          126000,
          127000,
          128000,
          129000,
          130000,
          131000,
          132000,
          133000,
          134000,
          135000,
          136000,
          137000,
          138000,
          139000,
          140000,
          141000,
          142000,
          143000,
          144000,
          145000,
          146000,
          147000,
          148000,
          149000,
          150000,
          151000,
          152000,
          153000,
          154000,
          155000,
          156000,
          157000,
          158000,
          159000,
          160000
         ],
         "xaxis": "x",
         "y": [
          26.29,
          29.33,
          34.01,
          35.37,
          35.65,
          38.82,
          43.58,
          44.34,
          47,
          44.83,
          50.36,
          50.23,
          51.06,
          49.47,
          51.93,
          52.31,
          50.98,
          54.77,
          57.37,
          51.22,
          48.76,
          54.23,
          56.18,
          56.75,
          59.95,
          56.37,
          59.88,
          59.75,
          59.06,
          59.94,
          60.81,
          61.13,
          59.94,
          60.79,
          57.31,
          59.21,
          62.74,
          63.76,
          62.06,
          65.52,
          64.56,
          57.17,
          63.72,
          59.14,
          61.95,
          65.05,
          62.7,
          65.65,
          61.09,
          64.6,
          66.5,
          61.28,
          66.57,
          64.75,
          54.43,
          67.2,
          66.3,
          59.19,
          57.78,
          66.27,
          68.02,
          63.86,
          63.94,
          66.56,
          68.12,
          57.76,
          67.67,
          64.89,
          67.98,
          67.52,
          66.05,
          60.09,
          69.41,
          62.62,
          65.97,
          70.54,
          65.05,
          68.08,
          67.45,
          71.2,
          66.71,
          69.04,
          71.69,
          69.56,
          71.15,
          70.19,
          66.59,
          65.36,
          64.52,
          71.84,
          65.94,
          70.69,
          71.29,
          68.51,
          70.8,
          71.67,
          72.4,
          72.51,
          72.86,
          66.44,
          70.97,
          69.82,
          71.4,
          70.75,
          71.3,
          63.19,
          62.98,
          71.73,
          67.13,
          71.09,
          71.34,
          72.04,
          73.09,
          71.61,
          74.32,
          72.87,
          73.46,
          74.07,
          73.67,
          74.62,
          74.69,
          74.89,
          75.8,
          75.05,
          75.71,
          75.9,
          75.4,
          75.1,
          77.47,
          67.73,
          75.62,
          76.38,
          75.45,
          75.04,
          76.49,
          74.23,
          75.38,
          74.77,
          77.41,
          76.73,
          77.51,
          77.94,
          78.01,
          76.69,
          76.7,
          76.64,
          77.7,
          78.8,
          77.7,
          75.07,
          78.22,
          78.42,
          78.94,
          79.23,
          79.05,
          79.34,
          78.82,
          79.35,
          79.44,
          79.57
         ],
         "yaxis": "y"
        },
        {
         "line": {
          "color": "green"
         },
         "name": "Learning Rate",
         "type": "scatter",
         "x": [
          1000,
          2000,
          3000,
          4000,
          5000,
          6000,
          7000,
          8000,
          9000,
          10000,
          11000,
          12000,
          13000,
          14000,
          15000,
          16000,
          17000,
          18000,
          19000,
          20000,
          21000,
          22000,
          23000,
          24000,
          25000,
          26000,
          27000,
          28000,
          29000,
          30000,
          31000,
          32000,
          33000,
          34000,
          35000,
          36000,
          37000,
          38000,
          39000,
          40000,
          41000,
          42000,
          43000,
          44000,
          45000,
          46000,
          47000,
          48000,
          49000,
          50000,
          51000,
          52000,
          53000,
          54000,
          55000,
          56000,
          57000,
          58000,
          59000,
          60000,
          61000,
          62000,
          63000,
          64000,
          65000,
          66000,
          67000,
          68000,
          69000,
          70000,
          71000,
          72000,
          73000,
          74000,
          75000,
          76000,
          77000,
          78000,
          79000,
          80000,
          81000,
          82000,
          83000,
          84000,
          85000,
          86000,
          87000,
          88000,
          89000,
          90000,
          91000,
          92000,
          93000,
          94000,
          95000,
          96000,
          97000,
          98000,
          99000,
          100000,
          101000,
          102000,
          103000,
          104000,
          105000,
          106000,
          107000,
          108000,
          109000,
          110000,
          111000,
          112000,
          113000,
          114000,
          115000,
          116000,
          117000,
          118000,
          119000,
          120000,
          121000,
          122000,
          123000,
          124000,
          125000,
          126000,
          127000,
          128000,
          129000,
          130000,
          131000,
          132000,
          133000,
          134000,
          135000,
          136000,
          137000,
          138000,
          139000,
          140000,
          141000,
          142000,
          143000,
          144000,
          145000,
          146000,
          147000,
          148000,
          149000,
          150000,
          151000,
          152000,
          153000,
          154000,
          155000,
          156000,
          157000,
          158000,
          159000,
          160000
         ],
         "xaxis": "x",
         "y": [
          0.0099438,
          0.0098875,
          0.0098311,
          0.0097748,
          0.0097184,
          0.0096619,
          0.0096054,
          0.0095489,
          0.0094923,
          0.0094358,
          0.0093791,
          0.0093224,
          0.0092657,
          0.009209,
          0.0091522,
          0.0090954,
          0.0090385,
          0.0089816,
          0.0089247,
          0.0088677,
          0.0088106,
          0.0087536,
          0.0086965,
          0.0086393,
          0.0085821,
          0.0085249,
          0.0084676,
          0.0084103,
          0.0083529,
          0.0082955,
          0.0082381,
          0.0081806,
          0.008123,
          0.0080654,
          0.0080078,
          0.0079501,
          0.0078924,
          0.0078346,
          0.0077768,
          0.0077189,
          0.007661,
          0.0076031,
          0.007545,
          0.007487,
          0.0074289,
          0.0073707,
          0.0073125,
          0.0072542,
          0.0071959,
          0.0071375,
          0.0070791,
          0.0070206,
          0.0069621,
          0.0069035,
          0.0068449,
          0.0067862,
          0.0067274,
          0.0066686,
          0.0066097,
          0.0065508,
          0.0064918,
          0.0064328,
          0.0063737,
          0.0063145,
          0.0062553,
          0.006196,
          0.0061366,
          0.0060772,
          0.0060177,
          0.0059582,
          0.0058986,
          0.0058389,
          0.0057791,
          0.0057193,
          0.0056594,
          0.0055995,
          0.0055394,
          0.0054793,
          0.0054191,
          0.0053589,
          0.0052986,
          0.0052382,
          0.0051777,
          0.0051171,
          0.0050565,
          0.0049958,
          0.004935,
          0.0048741,
          0.0048131,
          0.0047521,
          0.0046909,
          0.0046297,
          0.0045684,
          0.004507,
          0.0044455,
          0.0043839,
          0.0043222,
          0.0042604,
          0.0041985,
          0.0041365,
          0.0040744,
          0.0040122,
          0.0039499,
          0.0038874,
          0.0038249,
          0.0037623,
          0.0036995,
          0.0036366,
          0.0035736,
          0.0035105,
          0.0034472,
          0.0033839,
          0.0033203,
          0.0032567,
          0.0031929,
          0.003129,
          0.0030649,
          0.0030007,
          0.0029363,
          0.0028718,
          0.0028071,
          0.0027422,
          0.0026772,
          0.002612,
          0.0025466,
          0.002481,
          0.0024152,
          0.0023493,
          0.0022831,
          0.0022167,
          0.0021501,
          0.0020832,
          0.0020161,
          0.0019488,
          0.0018812,
          0.0018134,
          0.0017452,
          0.0016768,
          0.001608,
          0.0015389,
          0.0014695,
          0.0013997,
          0.0013295,
          0.0012589,
          0.0011879,
          0.0011164,
          0.0010443,
          0.00097176,
          0.00089856,
          0.0008247,
          0.00075009,
          0.00067465,
          0.00059825,
          0.00052075,
          0.00044194,
          0.00036153,
          0.00027906,
          0.00019374,
          0.00010382,
          0
         ],
         "yaxis": "y2"
        }
       ],
       "layout": {
        "hovermode": "x unified",
        "legend": {
         "x": 1.15,
         "xanchor": "right",
         "y": 1.15,
         "yanchor": "top"
        },
        "template": {
         "data": {
          "bar": [
           {
            "error_x": {
             "color": "#2a3f5f"
            },
            "error_y": {
             "color": "#2a3f5f"
            },
            "marker": {
             "line": {
              "color": "#E5ECF6",
              "width": 0.5
             },
             "pattern": {
              "fillmode": "overlay",
              "size": 10,
              "solidity": 0.2
             }
            },
            "type": "bar"
           }
          ],
          "barpolar": [
           {
            "marker": {
             "line": {
              "color": "#E5ECF6",
              "width": 0.5
             },
             "pattern": {
              "fillmode": "overlay",
              "size": 10,
              "solidity": 0.2
             }
            },
            "type": "barpolar"
           }
          ],
          "carpet": [
           {
            "aaxis": {
             "endlinecolor": "#2a3f5f",
             "gridcolor": "white",
             "linecolor": "white",
             "minorgridcolor": "white",
             "startlinecolor": "#2a3f5f"
            },
            "baxis": {
             "endlinecolor": "#2a3f5f",
             "gridcolor": "white",
             "linecolor": "white",
             "minorgridcolor": "white",
             "startlinecolor": "#2a3f5f"
            },
            "type": "carpet"
           }
          ],
          "choropleth": [
           {
            "colorbar": {
             "outlinewidth": 0,
             "ticks": ""
            },
            "type": "choropleth"
           }
          ],
          "contour": [
           {
            "colorbar": {
             "outlinewidth": 0,
             "ticks": ""
            },
            "colorscale": [
             [
              0,
              "#0d0887"
             ],
             [
              0.1111111111111111,
              "#46039f"
             ],
             [
              0.2222222222222222,
              "#7201a8"
             ],
             [
              0.3333333333333333,
              "#9c179e"
             ],
             [
              0.4444444444444444,
              "#bd3786"
             ],
             [
              0.5555555555555556,
              "#d8576b"
             ],
             [
              0.6666666666666666,
              "#ed7953"
             ],
             [
              0.7777777777777778,
              "#fb9f3a"
             ],
             [
              0.8888888888888888,
              "#fdca26"
             ],
             [
              1,
              "#f0f921"
             ]
            ],
            "type": "contour"
           }
          ],
          "contourcarpet": [
           {
            "colorbar": {
             "outlinewidth": 0,
             "ticks": ""
            },
            "type": "contourcarpet"
           }
          ],
          "heatmap": [
           {
            "colorbar": {
             "outlinewidth": 0,
             "ticks": ""
            },
            "colorscale": [
             [
              0,
              "#0d0887"
             ],
             [
              0.1111111111111111,
              "#46039f"
             ],
             [
              0.2222222222222222,
              "#7201a8"
             ],
             [
              0.3333333333333333,
              "#9c179e"
             ],
             [
              0.4444444444444444,
              "#bd3786"
             ],
             [
              0.5555555555555556,
              "#d8576b"
             ],
             [
              0.6666666666666666,
              "#ed7953"
             ],
             [
              0.7777777777777778,
              "#fb9f3a"
             ],
             [
              0.8888888888888888,
              "#fdca26"
             ],
             [
              1,
              "#f0f921"
             ]
            ],
            "type": "heatmap"
           }
          ],
          "histogram": [
           {
            "marker": {
             "pattern": {
              "fillmode": "overlay",
              "size": 10,
              "solidity": 0.2
             }
            },
            "type": "histogram"
           }
          ],
          "histogram2d": [
           {
            "colorbar": {
             "outlinewidth": 0,
             "ticks": ""
            },
            "colorscale": [
             [
              0,
              "#0d0887"
             ],
             [
              0.1111111111111111,
              "#46039f"
             ],
             [
              0.2222222222222222,
              "#7201a8"
             ],
             [
              0.3333333333333333,
              "#9c179e"
             ],
             [
              0.4444444444444444,
              "#bd3786"
             ],
             [
              0.5555555555555556,
              "#d8576b"
             ],
             [
              0.6666666666666666,
              "#ed7953"
             ],
             [
              0.7777777777777778,
              "#fb9f3a"
             ],
             [
              0.8888888888888888,
              "#fdca26"
             ],
             [
              1,
              "#f0f921"
             ]
            ],
            "type": "histogram2d"
           }
          ],
          "histogram2dcontour": [
           {
            "colorbar": {
             "outlinewidth": 0,
             "ticks": ""
            },
            "colorscale": [
             [
              0,
              "#0d0887"
             ],
             [
              0.1111111111111111,
              "#46039f"
             ],
             [
              0.2222222222222222,
              "#7201a8"
             ],
             [
              0.3333333333333333,
              "#9c179e"
             ],
             [
              0.4444444444444444,
              "#bd3786"
             ],
             [
              0.5555555555555556,
              "#d8576b"
             ],
             [
              0.6666666666666666,
              "#ed7953"
             ],
             [
              0.7777777777777778,
              "#fb9f3a"
             ],
             [
              0.8888888888888888,
              "#fdca26"
             ],
             [
              1,
              "#f0f921"
             ]
            ],
            "type": "histogram2dcontour"
           }
          ],
          "mesh3d": [
           {
            "colorbar": {
             "outlinewidth": 0,
             "ticks": ""
            },
            "type": "mesh3d"
           }
          ],
          "parcoords": [
           {
            "line": {
             "colorbar": {
              "outlinewidth": 0,
              "ticks": ""
             }
            },
            "type": "parcoords"
           }
          ],
          "pie": [
           {
            "automargin": true,
            "type": "pie"
           }
          ],
          "scatter": [
           {
            "fillpattern": {
             "fillmode": "overlay",
             "size": 10,
             "solidity": 0.2
            },
            "type": "scatter"
           }
          ],
          "scatter3d": [
           {
            "line": {
             "colorbar": {
              "outlinewidth": 0,
              "ticks": ""
             }
            },
            "marker": {
             "colorbar": {
              "outlinewidth": 0,
              "ticks": ""
             }
            },
            "type": "scatter3d"
           }
          ],
          "scattercarpet": [
           {
            "marker": {
             "colorbar": {
              "outlinewidth": 0,
              "ticks": ""
             }
            },
            "type": "scattercarpet"
           }
          ],
          "scattergeo": [
           {
            "marker": {
             "colorbar": {
              "outlinewidth": 0,
              "ticks": ""
             }
            },
            "type": "scattergeo"
           }
          ],
          "scattergl": [
           {
            "marker": {
             "colorbar": {
              "outlinewidth": 0,
              "ticks": ""
             }
            },
            "type": "scattergl"
           }
          ],
          "scattermap": [
           {
            "marker": {
             "colorbar": {
              "outlinewidth": 0,
              "ticks": ""
             }
            },
            "type": "scattermap"
           }
          ],
          "scattermapbox": [
           {
            "marker": {
             "colorbar": {
              "outlinewidth": 0,
              "ticks": ""
             }
            },
            "type": "scattermapbox"
           }
          ],
          "scatterpolar": [
           {
            "marker": {
             "colorbar": {
              "outlinewidth": 0,
              "ticks": ""
             }
            },
            "type": "scatterpolar"
           }
          ],
          "scatterpolargl": [
           {
            "marker": {
             "colorbar": {
              "outlinewidth": 0,
              "ticks": ""
             }
            },
            "type": "scatterpolargl"
           }
          ],
          "scatterternary": [
           {
            "marker": {
             "colorbar": {
              "outlinewidth": 0,
              "ticks": ""
             }
            },
            "type": "scatterternary"
           }
          ],
          "surface": [
           {
            "colorbar": {
             "outlinewidth": 0,
             "ticks": ""
            },
            "colorscale": [
             [
              0,
              "#0d0887"
             ],
             [
              0.1111111111111111,
              "#46039f"
             ],
             [
              0.2222222222222222,
              "#7201a8"
             ],
             [
              0.3333333333333333,
              "#9c179e"
             ],
             [
              0.4444444444444444,
              "#bd3786"
             ],
             [
              0.5555555555555556,
              "#d8576b"
             ],
             [
              0.6666666666666666,
              "#ed7953"
             ],
             [
              0.7777777777777778,
              "#fb9f3a"
             ],
             [
              0.8888888888888888,
              "#fdca26"
             ],
             [
              1,
              "#f0f921"
             ]
            ],
            "type": "surface"
           }
          ],
          "table": [
           {
            "cells": {
             "fill": {
              "color": "#EBF0F8"
             },
             "line": {
              "color": "white"
             }
            },
            "header": {
             "fill": {
              "color": "#C8D4E3"
             },
             "line": {
              "color": "white"
             }
            },
            "type": "table"
           }
          ]
         },
         "layout": {
          "annotationdefaults": {
           "arrowcolor": "#2a3f5f",
           "arrowhead": 0,
           "arrowwidth": 1
          },
          "autotypenumbers": "strict",
          "coloraxis": {
           "colorbar": {
            "outlinewidth": 0,
            "ticks": ""
           }
          },
          "colorscale": {
           "diverging": [
            [
             0,
             "#8e0152"
            ],
            [
             0.1,
             "#c51b7d"
            ],
            [
             0.2,
             "#de77ae"
            ],
            [
             0.3,
             "#f1b6da"
            ],
            [
             0.4,
             "#fde0ef"
            ],
            [
             0.5,
             "#f7f7f7"
            ],
            [
             0.6,
             "#e6f5d0"
            ],
            [
             0.7,
             "#b8e186"
            ],
            [
             0.8,
             "#7fbc41"
            ],
            [
             0.9,
             "#4d9221"
            ],
            [
             1,
             "#276419"
            ]
           ],
           "sequential": [
            [
             0,
             "#0d0887"
            ],
            [
             0.1111111111111111,
             "#46039f"
            ],
            [
             0.2222222222222222,
             "#7201a8"
            ],
            [
             0.3333333333333333,
             "#9c179e"
            ],
            [
             0.4444444444444444,
             "#bd3786"
            ],
            [
             0.5555555555555556,
             "#d8576b"
            ],
            [
             0.6666666666666666,
             "#ed7953"
            ],
            [
             0.7777777777777778,
             "#fb9f3a"
            ],
            [
             0.8888888888888888,
             "#fdca26"
            ],
            [
             1,
             "#f0f921"
            ]
           ],
           "sequentialminus": [
            [
             0,
             "#0d0887"
            ],
            [
             0.1111111111111111,
             "#46039f"
            ],
            [
             0.2222222222222222,
             "#7201a8"
            ],
            [
             0.3333333333333333,
             "#9c179e"
            ],
            [
             0.4444444444444444,
             "#bd3786"
            ],
            [
             0.5555555555555556,
             "#d8576b"
            ],
            [
             0.6666666666666666,
             "#ed7953"
            ],
            [
             0.7777777777777778,
             "#fb9f3a"
            ],
            [
             0.8888888888888888,
             "#fdca26"
            ],
            [
             1,
             "#f0f921"
            ]
           ]
          },
          "colorway": [
           "#636efa",
           "#EF553B",
           "#00cc96",
           "#ab63fa",
           "#FFA15A",
           "#19d3f3",
           "#FF6692",
           "#B6E880",
           "#FF97FF",
           "#FECB52"
          ],
          "font": {
           "color": "#2a3f5f"
          },
          "geo": {
           "bgcolor": "white",
           "lakecolor": "white",
           "landcolor": "#E5ECF6",
           "showlakes": true,
           "showland": true,
           "subunitcolor": "white"
          },
          "hoverlabel": {
           "align": "left"
          },
          "hovermode": "closest",
          "mapbox": {
           "style": "light"
          },
          "paper_bgcolor": "white",
          "plot_bgcolor": "#E5ECF6",
          "polar": {
           "angularaxis": {
            "gridcolor": "white",
            "linecolor": "white",
            "ticks": ""
           },
           "bgcolor": "#E5ECF6",
           "radialaxis": {
            "gridcolor": "white",
            "linecolor": "white",
            "ticks": ""
           }
          },
          "scene": {
           "xaxis": {
            "backgroundcolor": "#E5ECF6",
            "gridcolor": "white",
            "gridwidth": 2,
            "linecolor": "white",
            "showbackground": true,
            "ticks": "",
            "zerolinecolor": "white"
           },
           "yaxis": {
            "backgroundcolor": "#E5ECF6",
            "gridcolor": "white",
            "gridwidth": 2,
            "linecolor": "white",
            "showbackground": true,
            "ticks": "",
            "zerolinecolor": "white"
           },
           "zaxis": {
            "backgroundcolor": "#E5ECF6",
            "gridcolor": "white",
            "gridwidth": 2,
            "linecolor": "white",
            "showbackground": true,
            "ticks": "",
            "zerolinecolor": "white"
           }
          },
          "shapedefaults": {
           "line": {
            "color": "#2a3f5f"
           }
          },
          "ternary": {
           "aaxis": {
            "gridcolor": "white",
            "linecolor": "white",
            "ticks": ""
           },
           "baxis": {
            "gridcolor": "white",
            "linecolor": "white",
            "ticks": ""
           },
           "bgcolor": "#E5ECF6",
           "caxis": {
            "gridcolor": "white",
            "linecolor": "white",
            "ticks": ""
           }
          },
          "title": {
           "x": 0.05
          },
          "xaxis": {
           "automargin": true,
           "gridcolor": "white",
           "linecolor": "white",
           "ticks": "",
           "title": {
            "standoff": 15
           },
           "zerolinecolor": "white",
           "zerolinewidth": 2
          },
          "yaxis": {
           "automargin": true,
           "gridcolor": "white",
           "linecolor": "white",
           "ticks": "",
           "title": {
            "standoff": 15
           },
           "zerolinecolor": "white",
           "zerolinewidth": 2
          }
         }
        },
        "title": {
         "text": "Validation Performance and Training Learning Rate vs Epoch"
        },
        "xaxis": {
         "anchor": "y",
         "domain": [
          0,
          0.94
         ],
         "range": [
          0,
          160000
         ],
         "title": {
          "text": "Epoch"
         }
        },
        "yaxis": {
         "anchor": "x",
         "domain": [
          0,
          1
         ],
         "dtick": 10,
         "range": [
          0,
          100
         ],
         "title": {
          "text": "Performance (%)"
         }
        },
        "yaxis2": {
         "anchor": "x",
         "overlaying": "y",
         "side": "right",
         "title": {
          "text": "Learning Rate"
         }
        }
       }
      }
     },
     "metadata": {},
     "output_type": "display_data"
    }
   ],
   "source": [
    "# Ablation 19, SEBNet BaselinePDHead SGD, Pretrained, Batch Size 6, OHEM Cross Entropy - 79.57 Best mIoU\n",
    "log_file_path = '/home/robert.breslin/alessandro/paper_2/mmsegmentation/work_dirs/sebnet_baseline-p-d-head_1xb6_cityscapes/20250825_134133/20250825_134133.log'\n",
    "epochs, mIoU, mAcc, lrs = parse_log_file(log_file_path)\n",
    "plot_accuracies_and_lr_interactive(epochs, mAcc, mIoU, lrs, [0,160000])"
   ]
  },
  {
   "cell_type": "code",
   "execution_count": 11,
   "id": "f3409069",
   "metadata": {},
   "outputs": [
    {
     "data": {
      "application/vnd.plotly.v1+json": {
       "config": {
        "plotlyServerURL": "https://plot.ly"
       },
       "data": [
        {
         "line": {
          "color": "blue"
         },
         "name": "Mean Accuracy",
         "type": "scatter",
         "x": [
          1000,
          2000,
          3000,
          4000,
          5000,
          6000,
          7000,
          8000,
          9000,
          10000,
          11000,
          12000,
          13000,
          14000,
          15000,
          16000,
          17000,
          18000,
          19000,
          20000,
          21000,
          22000,
          23000,
          24000,
          25000,
          26000,
          27000,
          28000,
          29000,
          30000,
          31000,
          32000,
          33000,
          34000,
          35000,
          36000,
          37000,
          38000,
          39000,
          40000,
          41000,
          42000,
          43000,
          44000,
          45000,
          46000,
          47000,
          48000,
          49000,
          50000,
          51000,
          52000,
          53000,
          54000,
          55000,
          56000,
          57000,
          58000,
          59000,
          60000,
          61000,
          62000,
          63000,
          64000,
          65000,
          66000,
          67000,
          68000,
          69000,
          70000,
          71000,
          72000,
          73000,
          74000,
          75000,
          76000,
          77000,
          78000,
          79000,
          80000,
          81000,
          82000,
          83000,
          84000,
          85000,
          86000,
          87000,
          88000,
          89000,
          90000,
          91000,
          92000,
          93000,
          94000,
          95000,
          96000,
          97000,
          98000,
          99000,
          100000,
          101000,
          102000,
          103000,
          104000,
          105000,
          106000,
          107000,
          108000,
          109000,
          110000,
          111000,
          112000,
          113000,
          114000,
          115000,
          116000,
          117000,
          118000,
          119000,
          120000,
          121000,
          122000,
          123000,
          124000,
          125000,
          126000,
          127000,
          128000,
          129000,
          130000,
          131000,
          132000,
          133000,
          134000,
          135000,
          136000,
          137000,
          138000,
          139000,
          140000,
          141000,
          142000,
          143000,
          144000,
          145000,
          146000,
          147000,
          148000,
          149000,
          150000,
          151000,
          152000,
          153000,
          154000,
          155000,
          156000,
          157000,
          158000,
          159000,
          160000
         ],
         "xaxis": "x",
         "y": [
          26.85,
          34.56,
          37.17,
          43.08,
          48.07,
          50.52,
          55.77,
          55.51,
          56.66,
          59.91,
          61.96,
          60.07,
          64.46,
          58.68,
          66.61,
          65.83,
          63.94,
          65.58,
          67.38,
          54.44,
          68.59,
          70.67,
          70.36,
          69.8,
          72.6,
          73.36,
          76.97,
          70.78,
          71.41,
          74.18,
          75.69,
          69.92,
          66.88,
          73.24,
          76.14,
          70.26,
          77.69,
          77.1,
          72.08,
          77.8,
          76.51,
          74.12,
          74.14,
          74.38,
          79.84,
          79.16,
          74.22,
          75.21,
          74.31,
          78.28,
          76.13,
          76.93,
          75.97,
          76.01,
          74.71,
          78.6,
          75.6,
          78.91,
          76.82,
          74.92,
          80.3,
          80.89,
          78.69,
          82.89,
          81.05,
          79.39,
          81.3,
          80.43,
          78.85,
          76.58,
          82.09,
          78.43,
          82.01,
          80.48,
          81.51,
          82.15,
          77.59,
          81.12,
          79.73,
          81.54,
          76.01,
          81.2,
          82.32,
          83.02,
          80.7,
          81.04,
          80.78,
          76.54,
          81.44,
          82.32,
          82.35,
          81.53,
          82.69,
          80.25,
          82.17,
          84.32,
          84.91,
          81.83,
          81.17,
          80.7,
          83.19,
          85.7,
          80.94,
          83.89,
          80.92,
          79.75,
          83.31,
          80.84,
          82.34,
          83.46,
          81.62,
          84.11,
          82.35,
          78.92,
          83.72,
          83.29,
          82.93,
          82.99,
          84.35,
          81.68,
          85.4,
          84.67,
          85.16,
          82.09,
          85.5,
          85.44,
          82.63,
          85.7,
          85.33,
          85.76,
          85.06,
          86.6,
          85.72,
          85.44,
          85.43,
          84.97,
          80.74,
          85.23,
          85.13,
          85.2,
          86.77,
          84.92,
          86.65,
          86.44,
          85.16,
          85.93,
          87.52,
          85.88,
          86.77,
          86.18,
          86.65,
          86,
          86.07,
          86.81,
          86.21,
          86.16,
          87.08,
          86.76,
          86.79,
          86.77
         ],
         "yaxis": "y"
        },
        {
         "line": {
          "color": "orange"
         },
         "name": "Mean IoU",
         "type": "scatter",
         "x": [
          1000,
          2000,
          3000,
          4000,
          5000,
          6000,
          7000,
          8000,
          9000,
          10000,
          11000,
          12000,
          13000,
          14000,
          15000,
          16000,
          17000,
          18000,
          19000,
          20000,
          21000,
          22000,
          23000,
          24000,
          25000,
          26000,
          27000,
          28000,
          29000,
          30000,
          31000,
          32000,
          33000,
          34000,
          35000,
          36000,
          37000,
          38000,
          39000,
          40000,
          41000,
          42000,
          43000,
          44000,
          45000,
          46000,
          47000,
          48000,
          49000,
          50000,
          51000,
          52000,
          53000,
          54000,
          55000,
          56000,
          57000,
          58000,
          59000,
          60000,
          61000,
          62000,
          63000,
          64000,
          65000,
          66000,
          67000,
          68000,
          69000,
          70000,
          71000,
          72000,
          73000,
          74000,
          75000,
          76000,
          77000,
          78000,
          79000,
          80000,
          81000,
          82000,
          83000,
          84000,
          85000,
          86000,
          87000,
          88000,
          89000,
          90000,
          91000,
          92000,
          93000,
          94000,
          95000,
          96000,
          97000,
          98000,
          99000,
          100000,
          101000,
          102000,
          103000,
          104000,
          105000,
          106000,
          107000,
          108000,
          109000,
          110000,
          111000,
          112000,
          113000,
          114000,
          115000,
          116000,
          117000,
          118000,
          119000,
          120000,
          121000,
          122000,
          123000,
          124000,
          125000,
          126000,
          127000,
          128000,
          129000,
          130000,
          131000,
          132000,
          133000,
          134000,
          135000,
          136000,
          137000,
          138000,
          139000,
          140000,
          141000,
          142000,
          143000,
          144000,
          145000,
          146000,
          147000,
          148000,
          149000,
          150000,
          151000,
          152000,
          153000,
          154000,
          155000,
          156000,
          157000,
          158000,
          159000,
          160000
         ],
         "xaxis": "x",
         "y": [
          19.61,
          28.36,
          29.84,
          35.93,
          39.59,
          40.25,
          42.76,
          46.06,
          47.15,
          50.15,
          51.68,
          50.9,
          54.77,
          50.09,
          52.85,
          52.38,
          53.83,
          57.04,
          56.94,
          46.03,
          57.77,
          60.25,
          58.32,
          59.02,
          61.41,
          61.5,
          61.85,
          60.22,
          61.37,
          63.41,
          64,
          60.26,
          55.05,
          63.89,
          66.9,
          61,
          64.88,
          65.51,
          63.15,
          64.75,
          66.41,
          63.88,
          65.76,
          63.88,
          66.97,
          67.1,
          60.93,
          66.37,
          64.42,
          67.32,
          65.76,
          65.88,
          66.34,
          66.15,
          61.52,
          67.3,
          63.57,
          67.59,
          64.9,
          66.35,
          69.63,
          70.41,
          68.62,
          73.21,
          71.03,
          67.93,
          70.28,
          69.84,
          69.6,
          67.03,
          72.74,
          67.83,
          69.26,
          70.88,
          71,
          72.33,
          67.24,
          71.16,
          70.32,
          72.65,
          63.1,
          69.34,
          70.79,
          72.43,
          69.01,
          71.04,
          70.74,
          67.73,
          68.1,
          73.94,
          70.19,
          73.24,
          73.78,
          69.16,
          71.39,
          71.88,
          74.55,
          70.52,
          70.63,
          71.9,
          72.49,
          72.15,
          72.91,
          72.4,
          71.75,
          69.04,
          69.81,
          70.99,
          73.4,
          73.06,
          71.9,
          73.93,
          71.35,
          69.23,
          73.52,
          75.74,
          73.81,
          75.08,
          75.99,
          69.37,
          76.73,
          76.09,
          76.08,
          72.77,
          75.99,
          76.78,
          72.38,
          76.55,
          76.51,
          77.26,
          76.98,
          77.51,
          77.45,
          76.4,
          75.05,
          75.64,
          72.71,
          76.18,
          75.81,
          77.06,
          78.58,
          76.63,
          78.87,
          77.79,
          76.93,
          77.87,
          78.96,
          78.1,
          77.56,
          77.75,
          78.26,
          77.62,
          77.91,
          78.76,
          78.04,
          78.34,
          78.81,
          78.45,
          78.75,
          78.87
         ],
         "yaxis": "y"
        },
        {
         "line": {
          "color": "green"
         },
         "name": "Learning Rate",
         "type": "scatter",
         "x": [
          1000,
          2000,
          3000,
          4000,
          5000,
          6000,
          7000,
          8000,
          9000,
          10000,
          11000,
          12000,
          13000,
          14000,
          15000,
          16000,
          17000,
          18000,
          19000,
          20000,
          21000,
          22000,
          23000,
          24000,
          25000,
          26000,
          27000,
          28000,
          29000,
          30000,
          31000,
          32000,
          33000,
          34000,
          35000,
          36000,
          37000,
          38000,
          39000,
          40000,
          41000,
          42000,
          43000,
          44000,
          45000,
          46000,
          47000,
          48000,
          49000,
          50000,
          51000,
          52000,
          53000,
          54000,
          55000,
          56000,
          57000,
          58000,
          59000,
          60000,
          61000,
          62000,
          63000,
          64000,
          65000,
          66000,
          67000,
          68000,
          69000,
          70000,
          71000,
          72000,
          73000,
          74000,
          75000,
          76000,
          77000,
          78000,
          79000,
          80000,
          81000,
          82000,
          83000,
          84000,
          85000,
          86000,
          87000,
          88000,
          89000,
          90000,
          91000,
          92000,
          93000,
          94000,
          95000,
          96000,
          97000,
          98000,
          99000,
          100000,
          101000,
          102000,
          103000,
          104000,
          105000,
          106000,
          107000,
          108000,
          109000,
          110000,
          111000,
          112000,
          113000,
          114000,
          115000,
          116000,
          117000,
          118000,
          119000,
          120000,
          121000,
          122000,
          123000,
          124000,
          125000,
          126000,
          127000,
          128000,
          129000,
          130000,
          131000,
          132000,
          133000,
          134000,
          135000,
          136000,
          137000,
          138000,
          139000,
          140000,
          141000,
          142000,
          143000,
          144000,
          145000,
          146000,
          147000,
          148000,
          149000,
          150000,
          151000,
          152000,
          153000,
          154000,
          155000,
          156000,
          157000,
          158000,
          159000,
          160000
         ],
         "xaxis": "x",
         "y": [
          0.0099438,
          0.0098875,
          0.0098311,
          0.0097748,
          0.0097184,
          0.0096619,
          0.0096054,
          0.0095489,
          0.0094923,
          0.0094358,
          0.0093791,
          0.0093224,
          0.0092657,
          0.009209,
          0.0091522,
          0.0090954,
          0.0090385,
          0.0089816,
          0.0089247,
          0.0088677,
          0.0088106,
          0.0087536,
          0.0086965,
          0.0086393,
          0.0085821,
          0.0085249,
          0.0084676,
          0.0084103,
          0.0083529,
          0.0082955,
          0.0082381,
          0.0081806,
          0.008123,
          0.0080654,
          0.0080078,
          0.0079501,
          0.0078924,
          0.0078346,
          0.0077768,
          0.0077189,
          0.007661,
          0.0076031,
          0.007545,
          0.007487,
          0.0074289,
          0.0073707,
          0.0073125,
          0.0072542,
          0.0071959,
          0.0071375,
          0.0070791,
          0.0070206,
          0.0069621,
          0.0069035,
          0.0068449,
          0.0067862,
          0.0067274,
          0.0066686,
          0.0066097,
          0.0065508,
          0.0064918,
          0.0064328,
          0.0063737,
          0.0063145,
          0.0062553,
          0.006196,
          0.0061366,
          0.0060772,
          0.0060177,
          0.0059582,
          0.0058986,
          0.0058389,
          0.0057791,
          0.0057193,
          0.0056594,
          0.0055995,
          0.0055394,
          0.0054793,
          0.0054191,
          0.0053589,
          0.0052986,
          0.0052382,
          0.0051777,
          0.0051171,
          0.0050565,
          0.0049958,
          0.004935,
          0.0048741,
          0.0048131,
          0.0047521,
          0.0046909,
          0.0046297,
          0.0045684,
          0.004507,
          0.0044455,
          0.0043839,
          0.0043222,
          0.0042604,
          0.0041985,
          0.0041365,
          0.0040744,
          0.0040122,
          0.0039499,
          0.0038874,
          0.0038249,
          0.0037623,
          0.0036995,
          0.0036366,
          0.0035736,
          0.0035105,
          0.0034472,
          0.0033839,
          0.0033203,
          0.0032567,
          0.0031929,
          0.003129,
          0.0030649,
          0.0030007,
          0.0029363,
          0.0028718,
          0.0028071,
          0.0027422,
          0.0026772,
          0.002612,
          0.0025466,
          0.002481,
          0.0024152,
          0.0023493,
          0.0022831,
          0.0022167,
          0.0021501,
          0.0020832,
          0.0020161,
          0.0019488,
          0.0018812,
          0.0018134,
          0.0017452,
          0.0016768,
          0.001608,
          0.0015389,
          0.0014695,
          0.0013997,
          0.0013295,
          0.0012589,
          0.0011879,
          0.0011164,
          0.0010443,
          0.00097176,
          0.00089856,
          0.0008247,
          0.00075009,
          0.00067465,
          0.00059825,
          0.00052075,
          0.00044194,
          0.00036153,
          0.00027906,
          0.00019374,
          0.00010382,
          0
         ],
         "yaxis": "y2"
        }
       ],
       "layout": {
        "hovermode": "x unified",
        "legend": {
         "x": 1.15,
         "xanchor": "right",
         "y": 1.15,
         "yanchor": "top"
        },
        "template": {
         "data": {
          "bar": [
           {
            "error_x": {
             "color": "#2a3f5f"
            },
            "error_y": {
             "color": "#2a3f5f"
            },
            "marker": {
             "line": {
              "color": "#E5ECF6",
              "width": 0.5
             },
             "pattern": {
              "fillmode": "overlay",
              "size": 10,
              "solidity": 0.2
             }
            },
            "type": "bar"
           }
          ],
          "barpolar": [
           {
            "marker": {
             "line": {
              "color": "#E5ECF6",
              "width": 0.5
             },
             "pattern": {
              "fillmode": "overlay",
              "size": 10,
              "solidity": 0.2
             }
            },
            "type": "barpolar"
           }
          ],
          "carpet": [
           {
            "aaxis": {
             "endlinecolor": "#2a3f5f",
             "gridcolor": "white",
             "linecolor": "white",
             "minorgridcolor": "white",
             "startlinecolor": "#2a3f5f"
            },
            "baxis": {
             "endlinecolor": "#2a3f5f",
             "gridcolor": "white",
             "linecolor": "white",
             "minorgridcolor": "white",
             "startlinecolor": "#2a3f5f"
            },
            "type": "carpet"
           }
          ],
          "choropleth": [
           {
            "colorbar": {
             "outlinewidth": 0,
             "ticks": ""
            },
            "type": "choropleth"
           }
          ],
          "contour": [
           {
            "colorbar": {
             "outlinewidth": 0,
             "ticks": ""
            },
            "colorscale": [
             [
              0,
              "#0d0887"
             ],
             [
              0.1111111111111111,
              "#46039f"
             ],
             [
              0.2222222222222222,
              "#7201a8"
             ],
             [
              0.3333333333333333,
              "#9c179e"
             ],
             [
              0.4444444444444444,
              "#bd3786"
             ],
             [
              0.5555555555555556,
              "#d8576b"
             ],
             [
              0.6666666666666666,
              "#ed7953"
             ],
             [
              0.7777777777777778,
              "#fb9f3a"
             ],
             [
              0.8888888888888888,
              "#fdca26"
             ],
             [
              1,
              "#f0f921"
             ]
            ],
            "type": "contour"
           }
          ],
          "contourcarpet": [
           {
            "colorbar": {
             "outlinewidth": 0,
             "ticks": ""
            },
            "type": "contourcarpet"
           }
          ],
          "heatmap": [
           {
            "colorbar": {
             "outlinewidth": 0,
             "ticks": ""
            },
            "colorscale": [
             [
              0,
              "#0d0887"
             ],
             [
              0.1111111111111111,
              "#46039f"
             ],
             [
              0.2222222222222222,
              "#7201a8"
             ],
             [
              0.3333333333333333,
              "#9c179e"
             ],
             [
              0.4444444444444444,
              "#bd3786"
             ],
             [
              0.5555555555555556,
              "#d8576b"
             ],
             [
              0.6666666666666666,
              "#ed7953"
             ],
             [
              0.7777777777777778,
              "#fb9f3a"
             ],
             [
              0.8888888888888888,
              "#fdca26"
             ],
             [
              1,
              "#f0f921"
             ]
            ],
            "type": "heatmap"
           }
          ],
          "histogram": [
           {
            "marker": {
             "pattern": {
              "fillmode": "overlay",
              "size": 10,
              "solidity": 0.2
             }
            },
            "type": "histogram"
           }
          ],
          "histogram2d": [
           {
            "colorbar": {
             "outlinewidth": 0,
             "ticks": ""
            },
            "colorscale": [
             [
              0,
              "#0d0887"
             ],
             [
              0.1111111111111111,
              "#46039f"
             ],
             [
              0.2222222222222222,
              "#7201a8"
             ],
             [
              0.3333333333333333,
              "#9c179e"
             ],
             [
              0.4444444444444444,
              "#bd3786"
             ],
             [
              0.5555555555555556,
              "#d8576b"
             ],
             [
              0.6666666666666666,
              "#ed7953"
             ],
             [
              0.7777777777777778,
              "#fb9f3a"
             ],
             [
              0.8888888888888888,
              "#fdca26"
             ],
             [
              1,
              "#f0f921"
             ]
            ],
            "type": "histogram2d"
           }
          ],
          "histogram2dcontour": [
           {
            "colorbar": {
             "outlinewidth": 0,
             "ticks": ""
            },
            "colorscale": [
             [
              0,
              "#0d0887"
             ],
             [
              0.1111111111111111,
              "#46039f"
             ],
             [
              0.2222222222222222,
              "#7201a8"
             ],
             [
              0.3333333333333333,
              "#9c179e"
             ],
             [
              0.4444444444444444,
              "#bd3786"
             ],
             [
              0.5555555555555556,
              "#d8576b"
             ],
             [
              0.6666666666666666,
              "#ed7953"
             ],
             [
              0.7777777777777778,
              "#fb9f3a"
             ],
             [
              0.8888888888888888,
              "#fdca26"
             ],
             [
              1,
              "#f0f921"
             ]
            ],
            "type": "histogram2dcontour"
           }
          ],
          "mesh3d": [
           {
            "colorbar": {
             "outlinewidth": 0,
             "ticks": ""
            },
            "type": "mesh3d"
           }
          ],
          "parcoords": [
           {
            "line": {
             "colorbar": {
              "outlinewidth": 0,
              "ticks": ""
             }
            },
            "type": "parcoords"
           }
          ],
          "pie": [
           {
            "automargin": true,
            "type": "pie"
           }
          ],
          "scatter": [
           {
            "fillpattern": {
             "fillmode": "overlay",
             "size": 10,
             "solidity": 0.2
            },
            "type": "scatter"
           }
          ],
          "scatter3d": [
           {
            "line": {
             "colorbar": {
              "outlinewidth": 0,
              "ticks": ""
             }
            },
            "marker": {
             "colorbar": {
              "outlinewidth": 0,
              "ticks": ""
             }
            },
            "type": "scatter3d"
           }
          ],
          "scattercarpet": [
           {
            "marker": {
             "colorbar": {
              "outlinewidth": 0,
              "ticks": ""
             }
            },
            "type": "scattercarpet"
           }
          ],
          "scattergeo": [
           {
            "marker": {
             "colorbar": {
              "outlinewidth": 0,
              "ticks": ""
             }
            },
            "type": "scattergeo"
           }
          ],
          "scattergl": [
           {
            "marker": {
             "colorbar": {
              "outlinewidth": 0,
              "ticks": ""
             }
            },
            "type": "scattergl"
           }
          ],
          "scattermap": [
           {
            "marker": {
             "colorbar": {
              "outlinewidth": 0,
              "ticks": ""
             }
            },
            "type": "scattermap"
           }
          ],
          "scattermapbox": [
           {
            "marker": {
             "colorbar": {
              "outlinewidth": 0,
              "ticks": ""
             }
            },
            "type": "scattermapbox"
           }
          ],
          "scatterpolar": [
           {
            "marker": {
             "colorbar": {
              "outlinewidth": 0,
              "ticks": ""
             }
            },
            "type": "scatterpolar"
           }
          ],
          "scatterpolargl": [
           {
            "marker": {
             "colorbar": {
              "outlinewidth": 0,
              "ticks": ""
             }
            },
            "type": "scatterpolargl"
           }
          ],
          "scatterternary": [
           {
            "marker": {
             "colorbar": {
              "outlinewidth": 0,
              "ticks": ""
             }
            },
            "type": "scatterternary"
           }
          ],
          "surface": [
           {
            "colorbar": {
             "outlinewidth": 0,
             "ticks": ""
            },
            "colorscale": [
             [
              0,
              "#0d0887"
             ],
             [
              0.1111111111111111,
              "#46039f"
             ],
             [
              0.2222222222222222,
              "#7201a8"
             ],
             [
              0.3333333333333333,
              "#9c179e"
             ],
             [
              0.4444444444444444,
              "#bd3786"
             ],
             [
              0.5555555555555556,
              "#d8576b"
             ],
             [
              0.6666666666666666,
              "#ed7953"
             ],
             [
              0.7777777777777778,
              "#fb9f3a"
             ],
             [
              0.8888888888888888,
              "#fdca26"
             ],
             [
              1,
              "#f0f921"
             ]
            ],
            "type": "surface"
           }
          ],
          "table": [
           {
            "cells": {
             "fill": {
              "color": "#EBF0F8"
             },
             "line": {
              "color": "white"
             }
            },
            "header": {
             "fill": {
              "color": "#C8D4E3"
             },
             "line": {
              "color": "white"
             }
            },
            "type": "table"
           }
          ]
         },
         "layout": {
          "annotationdefaults": {
           "arrowcolor": "#2a3f5f",
           "arrowhead": 0,
           "arrowwidth": 1
          },
          "autotypenumbers": "strict",
          "coloraxis": {
           "colorbar": {
            "outlinewidth": 0,
            "ticks": ""
           }
          },
          "colorscale": {
           "diverging": [
            [
             0,
             "#8e0152"
            ],
            [
             0.1,
             "#c51b7d"
            ],
            [
             0.2,
             "#de77ae"
            ],
            [
             0.3,
             "#f1b6da"
            ],
            [
             0.4,
             "#fde0ef"
            ],
            [
             0.5,
             "#f7f7f7"
            ],
            [
             0.6,
             "#e6f5d0"
            ],
            [
             0.7,
             "#b8e186"
            ],
            [
             0.8,
             "#7fbc41"
            ],
            [
             0.9,
             "#4d9221"
            ],
            [
             1,
             "#276419"
            ]
           ],
           "sequential": [
            [
             0,
             "#0d0887"
            ],
            [
             0.1111111111111111,
             "#46039f"
            ],
            [
             0.2222222222222222,
             "#7201a8"
            ],
            [
             0.3333333333333333,
             "#9c179e"
            ],
            [
             0.4444444444444444,
             "#bd3786"
            ],
            [
             0.5555555555555556,
             "#d8576b"
            ],
            [
             0.6666666666666666,
             "#ed7953"
            ],
            [
             0.7777777777777778,
             "#fb9f3a"
            ],
            [
             0.8888888888888888,
             "#fdca26"
            ],
            [
             1,
             "#f0f921"
            ]
           ],
           "sequentialminus": [
            [
             0,
             "#0d0887"
            ],
            [
             0.1111111111111111,
             "#46039f"
            ],
            [
             0.2222222222222222,
             "#7201a8"
            ],
            [
             0.3333333333333333,
             "#9c179e"
            ],
            [
             0.4444444444444444,
             "#bd3786"
            ],
            [
             0.5555555555555556,
             "#d8576b"
            ],
            [
             0.6666666666666666,
             "#ed7953"
            ],
            [
             0.7777777777777778,
             "#fb9f3a"
            ],
            [
             0.8888888888888888,
             "#fdca26"
            ],
            [
             1,
             "#f0f921"
            ]
           ]
          },
          "colorway": [
           "#636efa",
           "#EF553B",
           "#00cc96",
           "#ab63fa",
           "#FFA15A",
           "#19d3f3",
           "#FF6692",
           "#B6E880",
           "#FF97FF",
           "#FECB52"
          ],
          "font": {
           "color": "#2a3f5f"
          },
          "geo": {
           "bgcolor": "white",
           "lakecolor": "white",
           "landcolor": "#E5ECF6",
           "showlakes": true,
           "showland": true,
           "subunitcolor": "white"
          },
          "hoverlabel": {
           "align": "left"
          },
          "hovermode": "closest",
          "mapbox": {
           "style": "light"
          },
          "paper_bgcolor": "white",
          "plot_bgcolor": "#E5ECF6",
          "polar": {
           "angularaxis": {
            "gridcolor": "white",
            "linecolor": "white",
            "ticks": ""
           },
           "bgcolor": "#E5ECF6",
           "radialaxis": {
            "gridcolor": "white",
            "linecolor": "white",
            "ticks": ""
           }
          },
          "scene": {
           "xaxis": {
            "backgroundcolor": "#E5ECF6",
            "gridcolor": "white",
            "gridwidth": 2,
            "linecolor": "white",
            "showbackground": true,
            "ticks": "",
            "zerolinecolor": "white"
           },
           "yaxis": {
            "backgroundcolor": "#E5ECF6",
            "gridcolor": "white",
            "gridwidth": 2,
            "linecolor": "white",
            "showbackground": true,
            "ticks": "",
            "zerolinecolor": "white"
           },
           "zaxis": {
            "backgroundcolor": "#E5ECF6",
            "gridcolor": "white",
            "gridwidth": 2,
            "linecolor": "white",
            "showbackground": true,
            "ticks": "",
            "zerolinecolor": "white"
           }
          },
          "shapedefaults": {
           "line": {
            "color": "#2a3f5f"
           }
          },
          "ternary": {
           "aaxis": {
            "gridcolor": "white",
            "linecolor": "white",
            "ticks": ""
           },
           "baxis": {
            "gridcolor": "white",
            "linecolor": "white",
            "ticks": ""
           },
           "bgcolor": "#E5ECF6",
           "caxis": {
            "gridcolor": "white",
            "linecolor": "white",
            "ticks": ""
           }
          },
          "title": {
           "x": 0.05
          },
          "xaxis": {
           "automargin": true,
           "gridcolor": "white",
           "linecolor": "white",
           "ticks": "",
           "title": {
            "standoff": 15
           },
           "zerolinecolor": "white",
           "zerolinewidth": 2
          },
          "yaxis": {
           "automargin": true,
           "gridcolor": "white",
           "linecolor": "white",
           "ticks": "",
           "title": {
            "standoff": 15
           },
           "zerolinecolor": "white",
           "zerolinewidth": 2
          }
         }
        },
        "title": {
         "text": "Validation Performance and Training Learning Rate vs Epoch"
        },
        "xaxis": {
         "anchor": "y",
         "domain": [
          0,
          0.94
         ],
         "range": [
          0,
          160000
         ],
         "title": {
          "text": "Epoch"
         }
        },
        "yaxis": {
         "anchor": "x",
         "domain": [
          0,
          1
         ],
         "dtick": 10,
         "range": [
          0,
          100
         ],
         "title": {
          "text": "Performance (%)"
         }
        },
        "yaxis2": {
         "anchor": "x",
         "overlaying": "y",
         "side": "right",
         "title": {
          "text": "Learning Rate"
         }
        }
       }
      }
     },
     "metadata": {},
     "output_type": "display_data"
    }
   ],
   "source": [
    "# Ablation 25, SEBNet BaselinePDBASHead SGD, Pretrained, Batch Size 6, OHEM Cross Entropy - 78.87 Best mIoU\n",
    "log_file_path = '/home/robert.breslin/alessandro/paper_2/mmsegmentation/work_dirs/sebnet_baseline-p-d-bas-head_1xb6_cityscapes/20250825_134156/20250825_134156.log'\n",
    "epochs, mIoU, mAcc, lrs = parse_log_file(log_file_path)\n",
    "plot_accuracies_and_lr_interactive(epochs, mAcc, mIoU, lrs, [0,160000])"
   ]
  },
  {
   "cell_type": "code",
   "execution_count": 12,
   "id": "c3dd8594",
   "metadata": {},
   "outputs": [
    {
     "data": {
      "application/vnd.plotly.v1+json": {
       "config": {
        "plotlyServerURL": "https://plot.ly"
       },
       "data": [
        {
         "line": {
          "color": "blue"
         },
         "name": "Mean Accuracy",
         "type": "scatter",
         "x": [
          1000,
          2000,
          3000,
          4000,
          5000,
          6000,
          7000,
          8000,
          9000,
          10000,
          11000,
          12000,
          13000,
          14000,
          15000,
          16000,
          17000,
          18000,
          19000,
          20000,
          21000,
          22000,
          23000,
          24000,
          25000,
          26000,
          27000,
          28000,
          29000,
          30000,
          31000,
          32000,
          33000,
          34000,
          35000,
          36000,
          37000,
          38000,
          39000,
          40000,
          41000,
          42000,
          43000,
          44000,
          45000,
          46000,
          47000,
          48000,
          49000,
          50000,
          51000,
          52000,
          53000,
          54000,
          55000,
          56000,
          57000,
          58000,
          59000,
          60000,
          61000,
          62000,
          63000,
          64000,
          65000,
          66000,
          67000,
          68000,
          69000,
          70000,
          71000,
          72000,
          73000,
          74000,
          75000,
          76000,
          77000,
          78000,
          79000,
          80000,
          81000,
          82000,
          83000,
          84000,
          85000,
          86000,
          87000,
          88000,
          89000,
          90000,
          91000,
          92000,
          93000,
          94000,
          95000,
          96000,
          97000,
          98000,
          99000,
          100000,
          101000,
          102000,
          103000,
          104000,
          105000,
          106000,
          107000,
          108000,
          109000,
          110000,
          111000,
          112000,
          113000,
          114000,
          115000,
          116000,
          117000,
          118000,
          119000,
          120000,
          121000,
          122000,
          123000,
          124000,
          125000,
          126000,
          127000,
          128000,
          129000,
          130000,
          131000,
          132000,
          133000,
          134000,
          135000,
          136000,
          137000,
          138000,
          139000,
          140000,
          141000,
          142000,
          143000,
          144000,
          145000,
          146000,
          147000,
          148000,
          149000,
          150000,
          151000,
          152000,
          153000,
          154000,
          155000,
          156000,
          157000,
          158000,
          159000,
          160000
         ],
         "xaxis": "x",
         "y": [
          27.17,
          31.08,
          35.32,
          36.41,
          40.53,
          42.12,
          46.02,
          45.77,
          45.9,
          46.76,
          49.97,
          48.66,
          53.89,
          54.29,
          55.53,
          58.17,
          53.57,
          51.66,
          58.23,
          56.5,
          55.73,
          58.8,
          61.59,
          63.22,
          62.29,
          60.62,
          63.05,
          60.14,
          60.81,
          63.33,
          64.26,
          59.83,
          61.32,
          63.8,
          61.95,
          64.32,
          64.71,
          62.19,
          57.03,
          67.19,
          68.06,
          65.17,
          68.12,
          64.28,
          69.36,
          66.33,
          66.89,
          67.74,
          69.37,
          66.84,
          67.34,
          69.83,
          72.9,
          69.23,
          67.83,
          67.5,
          70.78,
          64.23,
          66.92,
          69.31,
          71.27,
          68.18,
          69.59,
          69.2,
          70.26,
          71.02,
          70.11,
          72.23,
          70.23,
          69.92,
          67.77,
          67.18,
          72.62,
          73.04,
          71.42,
          74.68,
          66.21,
          72.25,
          70.96,
          72.83,
          64.51,
          77.01,
          71.47,
          74.54,
          72.14,
          73.87,
          72.58,
          69.64,
          72.48,
          74.24,
          76.8,
          73.17,
          75.97,
          72.46,
          77.85,
          76.54,
          75.93,
          76.43,
          72.91,
          75.18,
          76,
          79.6,
          74.38,
          76.76,
          78.11,
          75.12,
          67.41,
          75.89,
          77.8,
          80,
          78.3,
          76.86,
          77.35,
          78.78,
          78.2,
          77.12,
          77.37,
          76.23,
          77.95,
          79.65,
          77.17,
          79.43,
          79.6,
          76.44,
          79.06,
          79.77,
          79.31,
          79.09,
          79.46,
          74.79,
          77.79,
          80.24,
          79.14,
          81.28,
          77.67,
          80.3,
          79,
          78.92,
          79.49,
          79.52,
          80.15,
          81.08,
          81.34,
          81.4,
          81.08,
          80.85,
          82.01,
          80.91,
          82.26,
          80.44,
          82.32,
          81.87,
          80.95,
          81.97,
          81.6,
          82.22,
          82.87,
          82.65,
          82.19,
          82.39
         ],
         "yaxis": "y"
        },
        {
         "line": {
          "color": "orange"
         },
         "name": "Mean IoU",
         "type": "scatter",
         "x": [
          1000,
          2000,
          3000,
          4000,
          5000,
          6000,
          7000,
          8000,
          9000,
          10000,
          11000,
          12000,
          13000,
          14000,
          15000,
          16000,
          17000,
          18000,
          19000,
          20000,
          21000,
          22000,
          23000,
          24000,
          25000,
          26000,
          27000,
          28000,
          29000,
          30000,
          31000,
          32000,
          33000,
          34000,
          35000,
          36000,
          37000,
          38000,
          39000,
          40000,
          41000,
          42000,
          43000,
          44000,
          45000,
          46000,
          47000,
          48000,
          49000,
          50000,
          51000,
          52000,
          53000,
          54000,
          55000,
          56000,
          57000,
          58000,
          59000,
          60000,
          61000,
          62000,
          63000,
          64000,
          65000,
          66000,
          67000,
          68000,
          69000,
          70000,
          71000,
          72000,
          73000,
          74000,
          75000,
          76000,
          77000,
          78000,
          79000,
          80000,
          81000,
          82000,
          83000,
          84000,
          85000,
          86000,
          87000,
          88000,
          89000,
          90000,
          91000,
          92000,
          93000,
          94000,
          95000,
          96000,
          97000,
          98000,
          99000,
          100000,
          101000,
          102000,
          103000,
          104000,
          105000,
          106000,
          107000,
          108000,
          109000,
          110000,
          111000,
          112000,
          113000,
          114000,
          115000,
          116000,
          117000,
          118000,
          119000,
          120000,
          121000,
          122000,
          123000,
          124000,
          125000,
          126000,
          127000,
          128000,
          129000,
          130000,
          131000,
          132000,
          133000,
          134000,
          135000,
          136000,
          137000,
          138000,
          139000,
          140000,
          141000,
          142000,
          143000,
          144000,
          145000,
          146000,
          147000,
          148000,
          149000,
          150000,
          151000,
          152000,
          153000,
          154000,
          155000,
          156000,
          157000,
          158000,
          159000,
          160000
         ],
         "xaxis": "x",
         "y": [
          21.43,
          24.99,
          27.62,
          30.36,
          31.56,
          33.65,
          35.22,
          37.76,
          38,
          37.03,
          41.4,
          40.83,
          43.43,
          44.2,
          46.11,
          44.72,
          44.02,
          42.21,
          47.8,
          46.47,
          45.36,
          47.33,
          49.65,
          52.08,
          51.17,
          45.83,
          50.19,
          50.25,
          49.36,
          53.35,
          53.21,
          49.06,
          45.7,
          54.45,
          50.24,
          54.7,
          53.89,
          52.41,
          47.34,
          55.87,
          57.72,
          55.48,
          58.9,
          54.51,
          55.9,
          56.06,
          55.2,
          58.11,
          57.93,
          53.72,
          56.79,
          58.64,
          61.57,
          57.72,
          52.79,
          58.14,
          59.36,
          52.05,
          54.36,
          58.78,
          58.67,
          57.39,
          59.07,
          58.74,
          58.99,
          58.89,
          58.98,
          59.8,
          61.15,
          59.58,
          57.14,
          56.42,
          60.31,
          63.43,
          60.23,
          63.97,
          55.66,
          59.43,
          59.69,
          63.04,
          51.79,
          64.03,
          59.47,
          60.48,
          61.6,
          63.55,
          62.35,
          59.77,
          57.7,
          64.12,
          64.32,
          63.03,
          64.57,
          59.21,
          67.96,
          65.62,
          63.07,
          65.53,
          63.4,
          64.43,
          62.81,
          67.92,
          63.92,
          65.25,
          67.58,
          63.9,
          54.79,
          66.51,
          66.9,
          67.14,
          66.45,
          66.71,
          65.17,
          66.12,
          67.65,
          67.56,
          66.75,
          66.21,
          66.59,
          66.72,
          66.31,
          68.63,
          69.12,
          67.09,
          68.31,
          69.2,
          69.52,
          67.89,
          68.97,
          61.99,
          67.28,
          68.93,
          70.1,
          69.59,
          66.71,
          69.87,
          68.78,
          67.86,
          69.42,
          70.21,
          70.54,
          71.36,
          71.71,
          70.95,
          71.34,
          71.28,
          72.11,
          71.61,
          72.56,
          70.39,
          72.39,
          72.29,
          71.31,
          72.16,
          72.33,
          72.77,
          73.11,
          72.98,
          73.05,
          73.17
         ],
         "yaxis": "y"
        },
        {
         "line": {
          "color": "green"
         },
         "name": "Learning Rate",
         "type": "scatter",
         "x": [
          1000,
          2000,
          3000,
          4000,
          5000,
          6000,
          7000,
          8000,
          9000,
          10000,
          11000,
          12000,
          13000,
          14000,
          15000,
          16000,
          17000,
          18000,
          19000,
          20000,
          21000,
          22000,
          23000,
          24000,
          25000,
          26000,
          27000,
          28000,
          29000,
          30000,
          31000,
          32000,
          33000,
          34000,
          35000,
          36000,
          37000,
          38000,
          39000,
          40000,
          41000,
          42000,
          43000,
          44000,
          45000,
          46000,
          47000,
          48000,
          49000,
          50000,
          51000,
          52000,
          53000,
          54000,
          55000,
          56000,
          57000,
          58000,
          59000,
          60000,
          61000,
          62000,
          63000,
          64000,
          65000,
          66000,
          67000,
          68000,
          69000,
          70000,
          71000,
          72000,
          73000,
          74000,
          75000,
          76000,
          77000,
          78000,
          79000,
          80000,
          81000,
          82000,
          83000,
          84000,
          85000,
          86000,
          87000,
          88000,
          89000,
          90000,
          91000,
          92000,
          93000,
          94000,
          95000,
          96000,
          97000,
          98000,
          99000,
          100000,
          101000,
          102000,
          103000,
          104000,
          105000,
          106000,
          107000,
          108000,
          109000,
          110000,
          111000,
          112000,
          113000,
          114000,
          115000,
          116000,
          117000,
          118000,
          119000,
          120000,
          121000,
          122000,
          123000,
          124000,
          125000,
          126000,
          127000,
          128000,
          129000,
          130000,
          131000,
          132000,
          133000,
          134000,
          135000,
          136000,
          137000,
          138000,
          139000,
          140000,
          141000,
          142000,
          143000,
          144000,
          145000,
          146000,
          147000,
          148000,
          149000,
          150000,
          151000,
          152000,
          153000,
          154000,
          155000,
          156000,
          157000,
          158000,
          159000,
          160000
         ],
         "xaxis": "x",
         "y": [
          0.0099438,
          0.0098875,
          0.0098311,
          0.0097748,
          0.0097184,
          0.0096619,
          0.0096054,
          0.0095489,
          0.0094923,
          0.0094358,
          0.0093791,
          0.0093224,
          0.0092657,
          0.009209,
          0.0091522,
          0.0090954,
          0.0090385,
          0.0089816,
          0.0089247,
          0.0088677,
          0.0088106,
          0.0087536,
          0.0086965,
          0.0086393,
          0.0085821,
          0.0085249,
          0.0084676,
          0.0084103,
          0.0083529,
          0.0082955,
          0.0082381,
          0.0081806,
          0.008123,
          0.0080654,
          0.0080078,
          0.0079501,
          0.0078924,
          0.0078346,
          0.0077768,
          0.0077189,
          0.007661,
          0.0076031,
          0.007545,
          0.007487,
          0.0074289,
          0.0073707,
          0.0073125,
          0.0072542,
          0.0071959,
          0.0071375,
          0.0070791,
          0.0070206,
          0.0069621,
          0.0069035,
          0.0068449,
          0.0067862,
          0.0067274,
          0.0066686,
          0.0066097,
          0.0065508,
          0.0064918,
          0.0064328,
          0.0063737,
          0.0063145,
          0.0062553,
          0.006196,
          0.0061366,
          0.0060772,
          0.0060177,
          0.0059582,
          0.0058986,
          0.0058389,
          0.0057791,
          0.0057193,
          0.0056594,
          0.0055995,
          0.0055394,
          0.0054793,
          0.0054191,
          0.0053589,
          0.0052986,
          0.0052382,
          0.0051777,
          0.0051171,
          0.0050565,
          0.0049958,
          0.004935,
          0.0048741,
          0.0048131,
          0.0047521,
          0.0046909,
          0.0046297,
          0.0045684,
          0.004507,
          0.0044455,
          0.0043839,
          0.0043222,
          0.0042604,
          0.0041985,
          0.0041365,
          0.0040744,
          0.0040122,
          0.0039499,
          0.0038874,
          0.0038249,
          0.0037623,
          0.0036995,
          0.0036366,
          0.0035736,
          0.0035105,
          0.0034472,
          0.0033839,
          0.0033203,
          0.0032567,
          0.0031929,
          0.003129,
          0.0030649,
          0.0030007,
          0.0029363,
          0.0028718,
          0.0028071,
          0.0027422,
          0.0026772,
          0.002612,
          0.0025466,
          0.002481,
          0.0024152,
          0.0023493,
          0.0022831,
          0.0022167,
          0.0021501,
          0.0020832,
          0.0020161,
          0.0019488,
          0.0018812,
          0.0018134,
          0.0017452,
          0.0016768,
          0.001608,
          0.0015389,
          0.0014695,
          0.0013997,
          0.0013295,
          0.0012589,
          0.0011879,
          0.0011164,
          0.0010443,
          0.00097176,
          0.00089856,
          0.0008247,
          0.00075009,
          0.00067465,
          0.00059825,
          0.00052075,
          0.00044194,
          0.00036153,
          0.00027906,
          0.00019374,
          0.00010382,
          0
         ],
         "yaxis": "y2"
        }
       ],
       "layout": {
        "hovermode": "x unified",
        "legend": {
         "x": 1.15,
         "xanchor": "right",
         "y": 1.15,
         "yanchor": "top"
        },
        "template": {
         "data": {
          "bar": [
           {
            "error_x": {
             "color": "#2a3f5f"
            },
            "error_y": {
             "color": "#2a3f5f"
            },
            "marker": {
             "line": {
              "color": "#E5ECF6",
              "width": 0.5
             },
             "pattern": {
              "fillmode": "overlay",
              "size": 10,
              "solidity": 0.2
             }
            },
            "type": "bar"
           }
          ],
          "barpolar": [
           {
            "marker": {
             "line": {
              "color": "#E5ECF6",
              "width": 0.5
             },
             "pattern": {
              "fillmode": "overlay",
              "size": 10,
              "solidity": 0.2
             }
            },
            "type": "barpolar"
           }
          ],
          "carpet": [
           {
            "aaxis": {
             "endlinecolor": "#2a3f5f",
             "gridcolor": "white",
             "linecolor": "white",
             "minorgridcolor": "white",
             "startlinecolor": "#2a3f5f"
            },
            "baxis": {
             "endlinecolor": "#2a3f5f",
             "gridcolor": "white",
             "linecolor": "white",
             "minorgridcolor": "white",
             "startlinecolor": "#2a3f5f"
            },
            "type": "carpet"
           }
          ],
          "choropleth": [
           {
            "colorbar": {
             "outlinewidth": 0,
             "ticks": ""
            },
            "type": "choropleth"
           }
          ],
          "contour": [
           {
            "colorbar": {
             "outlinewidth": 0,
             "ticks": ""
            },
            "colorscale": [
             [
              0,
              "#0d0887"
             ],
             [
              0.1111111111111111,
              "#46039f"
             ],
             [
              0.2222222222222222,
              "#7201a8"
             ],
             [
              0.3333333333333333,
              "#9c179e"
             ],
             [
              0.4444444444444444,
              "#bd3786"
             ],
             [
              0.5555555555555556,
              "#d8576b"
             ],
             [
              0.6666666666666666,
              "#ed7953"
             ],
             [
              0.7777777777777778,
              "#fb9f3a"
             ],
             [
              0.8888888888888888,
              "#fdca26"
             ],
             [
              1,
              "#f0f921"
             ]
            ],
            "type": "contour"
           }
          ],
          "contourcarpet": [
           {
            "colorbar": {
             "outlinewidth": 0,
             "ticks": ""
            },
            "type": "contourcarpet"
           }
          ],
          "heatmap": [
           {
            "colorbar": {
             "outlinewidth": 0,
             "ticks": ""
            },
            "colorscale": [
             [
              0,
              "#0d0887"
             ],
             [
              0.1111111111111111,
              "#46039f"
             ],
             [
              0.2222222222222222,
              "#7201a8"
             ],
             [
              0.3333333333333333,
              "#9c179e"
             ],
             [
              0.4444444444444444,
              "#bd3786"
             ],
             [
              0.5555555555555556,
              "#d8576b"
             ],
             [
              0.6666666666666666,
              "#ed7953"
             ],
             [
              0.7777777777777778,
              "#fb9f3a"
             ],
             [
              0.8888888888888888,
              "#fdca26"
             ],
             [
              1,
              "#f0f921"
             ]
            ],
            "type": "heatmap"
           }
          ],
          "histogram": [
           {
            "marker": {
             "pattern": {
              "fillmode": "overlay",
              "size": 10,
              "solidity": 0.2
             }
            },
            "type": "histogram"
           }
          ],
          "histogram2d": [
           {
            "colorbar": {
             "outlinewidth": 0,
             "ticks": ""
            },
            "colorscale": [
             [
              0,
              "#0d0887"
             ],
             [
              0.1111111111111111,
              "#46039f"
             ],
             [
              0.2222222222222222,
              "#7201a8"
             ],
             [
              0.3333333333333333,
              "#9c179e"
             ],
             [
              0.4444444444444444,
              "#bd3786"
             ],
             [
              0.5555555555555556,
              "#d8576b"
             ],
             [
              0.6666666666666666,
              "#ed7953"
             ],
             [
              0.7777777777777778,
              "#fb9f3a"
             ],
             [
              0.8888888888888888,
              "#fdca26"
             ],
             [
              1,
              "#f0f921"
             ]
            ],
            "type": "histogram2d"
           }
          ],
          "histogram2dcontour": [
           {
            "colorbar": {
             "outlinewidth": 0,
             "ticks": ""
            },
            "colorscale": [
             [
              0,
              "#0d0887"
             ],
             [
              0.1111111111111111,
              "#46039f"
             ],
             [
              0.2222222222222222,
              "#7201a8"
             ],
             [
              0.3333333333333333,
              "#9c179e"
             ],
             [
              0.4444444444444444,
              "#bd3786"
             ],
             [
              0.5555555555555556,
              "#d8576b"
             ],
             [
              0.6666666666666666,
              "#ed7953"
             ],
             [
              0.7777777777777778,
              "#fb9f3a"
             ],
             [
              0.8888888888888888,
              "#fdca26"
             ],
             [
              1,
              "#f0f921"
             ]
            ],
            "type": "histogram2dcontour"
           }
          ],
          "mesh3d": [
           {
            "colorbar": {
             "outlinewidth": 0,
             "ticks": ""
            },
            "type": "mesh3d"
           }
          ],
          "parcoords": [
           {
            "line": {
             "colorbar": {
              "outlinewidth": 0,
              "ticks": ""
             }
            },
            "type": "parcoords"
           }
          ],
          "pie": [
           {
            "automargin": true,
            "type": "pie"
           }
          ],
          "scatter": [
           {
            "fillpattern": {
             "fillmode": "overlay",
             "size": 10,
             "solidity": 0.2
            },
            "type": "scatter"
           }
          ],
          "scatter3d": [
           {
            "line": {
             "colorbar": {
              "outlinewidth": 0,
              "ticks": ""
             }
            },
            "marker": {
             "colorbar": {
              "outlinewidth": 0,
              "ticks": ""
             }
            },
            "type": "scatter3d"
           }
          ],
          "scattercarpet": [
           {
            "marker": {
             "colorbar": {
              "outlinewidth": 0,
              "ticks": ""
             }
            },
            "type": "scattercarpet"
           }
          ],
          "scattergeo": [
           {
            "marker": {
             "colorbar": {
              "outlinewidth": 0,
              "ticks": ""
             }
            },
            "type": "scattergeo"
           }
          ],
          "scattergl": [
           {
            "marker": {
             "colorbar": {
              "outlinewidth": 0,
              "ticks": ""
             }
            },
            "type": "scattergl"
           }
          ],
          "scattermap": [
           {
            "marker": {
             "colorbar": {
              "outlinewidth": 0,
              "ticks": ""
             }
            },
            "type": "scattermap"
           }
          ],
          "scattermapbox": [
           {
            "marker": {
             "colorbar": {
              "outlinewidth": 0,
              "ticks": ""
             }
            },
            "type": "scattermapbox"
           }
          ],
          "scatterpolar": [
           {
            "marker": {
             "colorbar": {
              "outlinewidth": 0,
              "ticks": ""
             }
            },
            "type": "scatterpolar"
           }
          ],
          "scatterpolargl": [
           {
            "marker": {
             "colorbar": {
              "outlinewidth": 0,
              "ticks": ""
             }
            },
            "type": "scatterpolargl"
           }
          ],
          "scatterternary": [
           {
            "marker": {
             "colorbar": {
              "outlinewidth": 0,
              "ticks": ""
             }
            },
            "type": "scatterternary"
           }
          ],
          "surface": [
           {
            "colorbar": {
             "outlinewidth": 0,
             "ticks": ""
            },
            "colorscale": [
             [
              0,
              "#0d0887"
             ],
             [
              0.1111111111111111,
              "#46039f"
             ],
             [
              0.2222222222222222,
              "#7201a8"
             ],
             [
              0.3333333333333333,
              "#9c179e"
             ],
             [
              0.4444444444444444,
              "#bd3786"
             ],
             [
              0.5555555555555556,
              "#d8576b"
             ],
             [
              0.6666666666666666,
              "#ed7953"
             ],
             [
              0.7777777777777778,
              "#fb9f3a"
             ],
             [
              0.8888888888888888,
              "#fdca26"
             ],
             [
              1,
              "#f0f921"
             ]
            ],
            "type": "surface"
           }
          ],
          "table": [
           {
            "cells": {
             "fill": {
              "color": "#EBF0F8"
             },
             "line": {
              "color": "white"
             }
            },
            "header": {
             "fill": {
              "color": "#C8D4E3"
             },
             "line": {
              "color": "white"
             }
            },
            "type": "table"
           }
          ]
         },
         "layout": {
          "annotationdefaults": {
           "arrowcolor": "#2a3f5f",
           "arrowhead": 0,
           "arrowwidth": 1
          },
          "autotypenumbers": "strict",
          "coloraxis": {
           "colorbar": {
            "outlinewidth": 0,
            "ticks": ""
           }
          },
          "colorscale": {
           "diverging": [
            [
             0,
             "#8e0152"
            ],
            [
             0.1,
             "#c51b7d"
            ],
            [
             0.2,
             "#de77ae"
            ],
            [
             0.3,
             "#f1b6da"
            ],
            [
             0.4,
             "#fde0ef"
            ],
            [
             0.5,
             "#f7f7f7"
            ],
            [
             0.6,
             "#e6f5d0"
            ],
            [
             0.7,
             "#b8e186"
            ],
            [
             0.8,
             "#7fbc41"
            ],
            [
             0.9,
             "#4d9221"
            ],
            [
             1,
             "#276419"
            ]
           ],
           "sequential": [
            [
             0,
             "#0d0887"
            ],
            [
             0.1111111111111111,
             "#46039f"
            ],
            [
             0.2222222222222222,
             "#7201a8"
            ],
            [
             0.3333333333333333,
             "#9c179e"
            ],
            [
             0.4444444444444444,
             "#bd3786"
            ],
            [
             0.5555555555555556,
             "#d8576b"
            ],
            [
             0.6666666666666666,
             "#ed7953"
            ],
            [
             0.7777777777777778,
             "#fb9f3a"
            ],
            [
             0.8888888888888888,
             "#fdca26"
            ],
            [
             1,
             "#f0f921"
            ]
           ],
           "sequentialminus": [
            [
             0,
             "#0d0887"
            ],
            [
             0.1111111111111111,
             "#46039f"
            ],
            [
             0.2222222222222222,
             "#7201a8"
            ],
            [
             0.3333333333333333,
             "#9c179e"
            ],
            [
             0.4444444444444444,
             "#bd3786"
            ],
            [
             0.5555555555555556,
             "#d8576b"
            ],
            [
             0.6666666666666666,
             "#ed7953"
            ],
            [
             0.7777777777777778,
             "#fb9f3a"
            ],
            [
             0.8888888888888888,
             "#fdca26"
            ],
            [
             1,
             "#f0f921"
            ]
           ]
          },
          "colorway": [
           "#636efa",
           "#EF553B",
           "#00cc96",
           "#ab63fa",
           "#FFA15A",
           "#19d3f3",
           "#FF6692",
           "#B6E880",
           "#FF97FF",
           "#FECB52"
          ],
          "font": {
           "color": "#2a3f5f"
          },
          "geo": {
           "bgcolor": "white",
           "lakecolor": "white",
           "landcolor": "#E5ECF6",
           "showlakes": true,
           "showland": true,
           "subunitcolor": "white"
          },
          "hoverlabel": {
           "align": "left"
          },
          "hovermode": "closest",
          "mapbox": {
           "style": "light"
          },
          "paper_bgcolor": "white",
          "plot_bgcolor": "#E5ECF6",
          "polar": {
           "angularaxis": {
            "gridcolor": "white",
            "linecolor": "white",
            "ticks": ""
           },
           "bgcolor": "#E5ECF6",
           "radialaxis": {
            "gridcolor": "white",
            "linecolor": "white",
            "ticks": ""
           }
          },
          "scene": {
           "xaxis": {
            "backgroundcolor": "#E5ECF6",
            "gridcolor": "white",
            "gridwidth": 2,
            "linecolor": "white",
            "showbackground": true,
            "ticks": "",
            "zerolinecolor": "white"
           },
           "yaxis": {
            "backgroundcolor": "#E5ECF6",
            "gridcolor": "white",
            "gridwidth": 2,
            "linecolor": "white",
            "showbackground": true,
            "ticks": "",
            "zerolinecolor": "white"
           },
           "zaxis": {
            "backgroundcolor": "#E5ECF6",
            "gridcolor": "white",
            "gridwidth": 2,
            "linecolor": "white",
            "showbackground": true,
            "ticks": "",
            "zerolinecolor": "white"
           }
          },
          "shapedefaults": {
           "line": {
            "color": "#2a3f5f"
           }
          },
          "ternary": {
           "aaxis": {
            "gridcolor": "white",
            "linecolor": "white",
            "ticks": ""
           },
           "baxis": {
            "gridcolor": "white",
            "linecolor": "white",
            "ticks": ""
           },
           "bgcolor": "#E5ECF6",
           "caxis": {
            "gridcolor": "white",
            "linecolor": "white",
            "ticks": ""
           }
          },
          "title": {
           "x": 0.05
          },
          "xaxis": {
           "automargin": true,
           "gridcolor": "white",
           "linecolor": "white",
           "ticks": "",
           "title": {
            "standoff": 15
           },
           "zerolinecolor": "white",
           "zerolinewidth": 2
          },
          "yaxis": {
           "automargin": true,
           "gridcolor": "white",
           "linecolor": "white",
           "ticks": "",
           "title": {
            "standoff": 15
           },
           "zerolinecolor": "white",
           "zerolinewidth": 2
          }
         }
        },
        "title": {
         "text": "Validation Performance and Training Learning Rate vs Epoch"
        },
        "xaxis": {
         "anchor": "y",
         "domain": [
          0,
          0.94
         ],
         "range": [
          0,
          160000
         ],
         "title": {
          "text": "Epoch"
         }
        },
        "yaxis": {
         "anchor": "x",
         "domain": [
          0,
          1
         ],
         "dtick": 10,
         "range": [
          0,
          100
         ],
         "title": {
          "text": "Performance (%)"
         }
        },
        "yaxis2": {
         "anchor": "x",
         "overlaying": "y",
         "side": "right",
         "title": {
          "text": "Learning Rate"
         }
        }
       }
      }
     },
     "metadata": {},
     "output_type": "display_data"
    }
   ],
   "source": [
    "# Ablation 03, SEBNet BaselineDHead SGD, Pretrained, Batch Size 6, OHEM Cross Entropy, Edge Width 2, Edge Loss Weight 5.0 - 73.17 Best mIoU\n",
    "log_file_path = '/home/robert.breslin/alessandro/paper_2/mmsegmentation/work_dirs/sebnet_baseline-d-head_1xb6_cityscapes/20250826_135921/20250826_135921.log'\n",
    "epochs, mIoU, mAcc, lrs = parse_log_file(log_file_path)\n",
    "plot_accuracies_and_lr_interactive(epochs, mAcc, mIoU, lrs, [0,160000])"
   ]
  },
  {
   "cell_type": "code",
   "execution_count": 13,
   "id": "a7ae71e2",
   "metadata": {},
   "outputs": [
    {
     "data": {
      "application/vnd.plotly.v1+json": {
       "config": {
        "plotlyServerURL": "https://plot.ly"
       },
       "data": [
        {
         "line": {
          "color": "blue"
         },
         "name": "Mean Accuracy",
         "type": "scatter",
         "x": [
          1000,
          2000,
          3000,
          4000,
          5000,
          6000,
          7000,
          8000,
          9000,
          10000,
          11000,
          12000,
          13000,
          14000,
          15000,
          16000,
          17000,
          18000,
          19000,
          20000,
          21000,
          22000,
          23000,
          24000,
          25000,
          26000,
          27000,
          28000,
          29000,
          30000,
          31000,
          32000,
          33000,
          34000,
          35000,
          36000,
          37000,
          38000,
          39000,
          40000,
          41000,
          42000,
          43000,
          44000,
          45000,
          46000,
          47000,
          48000,
          49000,
          50000,
          51000,
          52000,
          53000,
          54000,
          55000,
          56000,
          57000,
          58000,
          59000,
          60000,
          61000,
          62000,
          63000,
          64000,
          65000,
          66000,
          67000,
          68000,
          69000,
          70000,
          71000,
          72000,
          73000,
          74000,
          75000,
          76000,
          77000,
          78000,
          79000,
          80000,
          81000,
          82000,
          83000,
          84000,
          85000,
          86000,
          87000,
          88000,
          89000,
          90000,
          91000,
          92000,
          93000,
          94000,
          95000,
          96000,
          97000,
          98000,
          99000,
          100000,
          101000,
          102000,
          103000,
          104000,
          105000,
          106000,
          107000,
          108000,
          109000,
          110000,
          111000,
          112000,
          113000,
          114000,
          115000,
          116000,
          117000,
          118000,
          119000,
          120000,
          121000,
          122000,
          123000,
          124000,
          125000,
          126000,
          127000,
          128000,
          129000,
          130000,
          131000,
          132000,
          133000,
          134000,
          135000,
          136000,
          137000,
          138000,
          139000,
          140000,
          141000,
          142000,
          143000,
          144000,
          145000,
          146000,
          147000,
          148000,
          149000,
          150000,
          151000,
          152000,
          153000,
          154000,
          155000,
          156000,
          157000,
          158000,
          159000,
          160000
         ],
         "xaxis": "x",
         "y": [
          28.55,
          33.4,
          39.97,
          37.73,
          42.66,
          48.59,
          52.69,
          49.6,
          52.14,
          55.99,
          57.59,
          57.67,
          57.81,
          56.15,
          62.45,
          60.84,
          59.02,
          56.99,
          62.73,
          60.48,
          62.4,
          61.3,
          66.77,
          67.18,
          67.3,
          66.91,
          67.54,
          67.99,
          65.6,
          65.95,
          69.46,
          56.61,
          70.46,
          68.84,
          68.85,
          67.34,
          71.59,
          71.82,
          71.03,
          68.5,
          69.35,
          63.68,
          70.46,
          70.72,
          72.78,
          74.97,
          69.84,
          66.41,
          67.95,
          69.81,
          71.42,
          68.61,
          71.1,
          73.03,
          71.94,
          71.97,
          73.53,
          71.86,
          70.42,
          70.66,
          74.48,
          71.8,
          71.81,
          71.85,
          73.99,
          71.31,
          69.5,
          75.48,
          73.23,
          71.42,
          70.26,
          73.82,
          74.15,
          73.2,
          71.4,
          75.22,
          67,
          72.22,
          71.66,
          76.17,
          73.31,
          79.07,
          78.29,
          75.7,
          76.48,
          74.03,
          70.48,
          70.93,
          75.03,
          73.7,
          80.12,
          73.52,
          76.61,
          75.44,
          79.19,
          78.07,
          77.3,
          76.9,
          78.56,
          76.39,
          80.45,
          78.77,
          75.48,
          78.17,
          77.76,
          77.11,
          77.99,
          77.83,
          78.89,
          80.32,
          79.08,
          78.09,
          78.14,
          79.28,
          79.61,
          75.64,
          80.69,
          77.36,
          76.22,
          78.63,
          78.21,
          79.68,
          81.1,
          76.87,
          80.93,
          80.06,
          80.34,
          76.92,
          78.73,
          70.79,
          78.06,
          80.87,
          76.96,
          78.36,
          79.78,
          81.11,
          78.78,
          80.2,
          79.99,
          76.33,
          79.44,
          80.13,
          80.85,
          80.41,
          81.23,
          80.74,
          82.34,
          79.83,
          81.7,
          80.96,
          80.97,
          81.12,
          81.66,
          82.64,
          82.1,
          81.94,
          82.67,
          82.26,
          82.38,
          82.39
         ],
         "yaxis": "y"
        },
        {
         "line": {
          "color": "orange"
         },
         "name": "Mean IoU",
         "type": "scatter",
         "x": [
          1000,
          2000,
          3000,
          4000,
          5000,
          6000,
          7000,
          8000,
          9000,
          10000,
          11000,
          12000,
          13000,
          14000,
          15000,
          16000,
          17000,
          18000,
          19000,
          20000,
          21000,
          22000,
          23000,
          24000,
          25000,
          26000,
          27000,
          28000,
          29000,
          30000,
          31000,
          32000,
          33000,
          34000,
          35000,
          36000,
          37000,
          38000,
          39000,
          40000,
          41000,
          42000,
          43000,
          44000,
          45000,
          46000,
          47000,
          48000,
          49000,
          50000,
          51000,
          52000,
          53000,
          54000,
          55000,
          56000,
          57000,
          58000,
          59000,
          60000,
          61000,
          62000,
          63000,
          64000,
          65000,
          66000,
          67000,
          68000,
          69000,
          70000,
          71000,
          72000,
          73000,
          74000,
          75000,
          76000,
          77000,
          78000,
          79000,
          80000,
          81000,
          82000,
          83000,
          84000,
          85000,
          86000,
          87000,
          88000,
          89000,
          90000,
          91000,
          92000,
          93000,
          94000,
          95000,
          96000,
          97000,
          98000,
          99000,
          100000,
          101000,
          102000,
          103000,
          104000,
          105000,
          106000,
          107000,
          108000,
          109000,
          110000,
          111000,
          112000,
          113000,
          114000,
          115000,
          116000,
          117000,
          118000,
          119000,
          120000,
          121000,
          122000,
          123000,
          124000,
          125000,
          126000,
          127000,
          128000,
          129000,
          130000,
          131000,
          132000,
          133000,
          134000,
          135000,
          136000,
          137000,
          138000,
          139000,
          140000,
          141000,
          142000,
          143000,
          144000,
          145000,
          146000,
          147000,
          148000,
          149000,
          150000,
          151000,
          152000,
          153000,
          154000,
          155000,
          156000,
          157000,
          158000,
          159000,
          160000
         ],
         "xaxis": "x",
         "y": [
          22.84,
          27.37,
          32.12,
          30.87,
          34.57,
          37.76,
          40.18,
          40.2,
          42.51,
          44.75,
          46.63,
          47.51,
          48.21,
          45.94,
          49.54,
          46.97,
          47.79,
          48.34,
          52.48,
          49.14,
          49.71,
          49.17,
          51.29,
          54.75,
          55.41,
          54.51,
          54.96,
          54.82,
          53.68,
          55.68,
          57.7,
          46.7,
          56.84,
          57.8,
          57.72,
          56.15,
          57.89,
          59.92,
          57.16,
          55.72,
          59.15,
          52.41,
          61.26,
          57.14,
          56.63,
          62.95,
          59.94,
          56.14,
          56.47,
          57.51,
          58.44,
          55.13,
          59.95,
          60.83,
          57.72,
          60.09,
          60.44,
          58.42,
          59.13,
          60.63,
          62.01,
          61.43,
          59.24,
          59.27,
          62.59,
          54.73,
          59.03,
          61.67,
          62.52,
          61.05,
          60.35,
          59.93,
          61.5,
          62.1,
          60.95,
          63.3,
          59,
          60.61,
          55.75,
          63.9,
          59.98,
          64.97,
          66.2,
          63.1,
          64.89,
          62.47,
          59.15,
          59.22,
          63.64,
          62.53,
          65.75,
          61.86,
          66.83,
          63.23,
          66.98,
          65.02,
          63.04,
          64.66,
          68.57,
          65.3,
          66.81,
          63.97,
          65.62,
          66.78,
          64.74,
          64.73,
          65.26,
          67.61,
          66.6,
          68.33,
          67.51,
          68.33,
          67.87,
          67.99,
          68.71,
          66.43,
          70.67,
          67.79,
          66.05,
          66.49,
          68.05,
          68.22,
          68.92,
          68.13,
          70.11,
          70.03,
          70.15,
          66,
          69.13,
          60.52,
          68.7,
          70.48,
          68.19,
          67.44,
          68.87,
          71,
          69.17,
          69.81,
          69.53,
          66.88,
          69.79,
          69.22,
          70.93,
          70.08,
          71.48,
          71.83,
          72,
          70.74,
          71.89,
          71.59,
          71.66,
          72.14,
          72.71,
          73.28,
          72.79,
          72.97,
          73.45,
          73.21,
          73.3,
          73.39
         ],
         "yaxis": "y"
        },
        {
         "line": {
          "color": "green"
         },
         "name": "Learning Rate",
         "type": "scatter",
         "x": [
          1000,
          2000,
          3000,
          4000,
          5000,
          6000,
          7000,
          8000,
          9000,
          10000,
          11000,
          12000,
          13000,
          14000,
          15000,
          16000,
          17000,
          18000,
          19000,
          20000,
          21000,
          22000,
          23000,
          24000,
          25000,
          26000,
          27000,
          28000,
          29000,
          30000,
          31000,
          32000,
          33000,
          34000,
          35000,
          36000,
          37000,
          38000,
          39000,
          40000,
          41000,
          42000,
          43000,
          44000,
          45000,
          46000,
          47000,
          48000,
          49000,
          50000,
          51000,
          52000,
          53000,
          54000,
          55000,
          56000,
          57000,
          58000,
          59000,
          60000,
          61000,
          62000,
          63000,
          64000,
          65000,
          66000,
          67000,
          68000,
          69000,
          70000,
          71000,
          72000,
          73000,
          74000,
          75000,
          76000,
          77000,
          78000,
          79000,
          80000,
          81000,
          82000,
          83000,
          84000,
          85000,
          86000,
          87000,
          88000,
          89000,
          90000,
          91000,
          92000,
          93000,
          94000,
          95000,
          96000,
          97000,
          98000,
          99000,
          100000,
          101000,
          102000,
          103000,
          104000,
          105000,
          106000,
          107000,
          108000,
          109000,
          110000,
          111000,
          112000,
          113000,
          114000,
          115000,
          116000,
          117000,
          118000,
          119000,
          120000,
          121000,
          122000,
          123000,
          124000,
          125000,
          126000,
          127000,
          128000,
          129000,
          130000,
          131000,
          132000,
          133000,
          134000,
          135000,
          136000,
          137000,
          138000,
          139000,
          140000,
          141000,
          142000,
          143000,
          144000,
          145000,
          146000,
          147000,
          148000,
          149000,
          150000,
          151000,
          152000,
          153000,
          154000,
          155000,
          156000,
          157000,
          158000,
          159000,
          160000
         ],
         "xaxis": "x",
         "y": [
          0.0099438,
          0.0098875,
          0.0098311,
          0.0097748,
          0.0097184,
          0.0096619,
          0.0096054,
          0.0095489,
          0.0094923,
          0.0094358,
          0.0093791,
          0.0093224,
          0.0092657,
          0.009209,
          0.0091522,
          0.0090954,
          0.0090385,
          0.0089816,
          0.0089247,
          0.0088677,
          0.0088106,
          0.0087536,
          0.0086965,
          0.0086393,
          0.0085821,
          0.0085249,
          0.0084676,
          0.0084103,
          0.0083529,
          0.0082955,
          0.0082381,
          0.0081806,
          0.008123,
          0.0080654,
          0.0080078,
          0.0079501,
          0.0078924,
          0.0078346,
          0.0077768,
          0.0077189,
          0.007661,
          0.0076031,
          0.007545,
          0.007487,
          0.0074289,
          0.0073707,
          0.0073125,
          0.0072542,
          0.0071959,
          0.0071375,
          0.0070791,
          0.0070206,
          0.0069621,
          0.0069035,
          0.0068449,
          0.0067862,
          0.0067274,
          0.0066686,
          0.0066097,
          0.0065508,
          0.0064918,
          0.0064328,
          0.0063737,
          0.0063145,
          0.0062553,
          0.006196,
          0.0061366,
          0.0060772,
          0.0060177,
          0.0059582,
          0.0058986,
          0.0058389,
          0.0057791,
          0.0057193,
          0.0056594,
          0.0055995,
          0.0055394,
          0.0054793,
          0.0054191,
          0.0053589,
          0.0052986,
          0.0052382,
          0.0051777,
          0.0051171,
          0.0050565,
          0.0049958,
          0.004935,
          0.0048741,
          0.0048131,
          0.0047521,
          0.0046909,
          0.0046297,
          0.0045684,
          0.004507,
          0.0044455,
          0.0043839,
          0.0043222,
          0.0042604,
          0.0041985,
          0.0041365,
          0.0040744,
          0.0040122,
          0.0039499,
          0.0038874,
          0.0038249,
          0.0037623,
          0.0036995,
          0.0036366,
          0.0035736,
          0.0035105,
          0.0034472,
          0.0033839,
          0.0033203,
          0.0032567,
          0.0031929,
          0.003129,
          0.0030649,
          0.0030007,
          0.0029363,
          0.0028718,
          0.0028071,
          0.0027422,
          0.0026772,
          0.002612,
          0.0025466,
          0.002481,
          0.0024152,
          0.0023493,
          0.0022831,
          0.0022167,
          0.0021501,
          0.0020832,
          0.0020161,
          0.0019488,
          0.0018812,
          0.0018134,
          0.0017452,
          0.0016768,
          0.001608,
          0.0015389,
          0.0014695,
          0.0013997,
          0.0013295,
          0.0012589,
          0.0011879,
          0.0011164,
          0.0010443,
          0.00097176,
          0.00089856,
          0.0008247,
          0.00075009,
          0.00067465,
          0.00059825,
          0.00052075,
          0.00044194,
          0.00036153,
          0.00027906,
          0.00019374,
          0.00010382,
          0
         ],
         "yaxis": "y2"
        }
       ],
       "layout": {
        "hovermode": "x unified",
        "legend": {
         "x": 1.15,
         "xanchor": "right",
         "y": 1.15,
         "yanchor": "top"
        },
        "template": {
         "data": {
          "bar": [
           {
            "error_x": {
             "color": "#2a3f5f"
            },
            "error_y": {
             "color": "#2a3f5f"
            },
            "marker": {
             "line": {
              "color": "#E5ECF6",
              "width": 0.5
             },
             "pattern": {
              "fillmode": "overlay",
              "size": 10,
              "solidity": 0.2
             }
            },
            "type": "bar"
           }
          ],
          "barpolar": [
           {
            "marker": {
             "line": {
              "color": "#E5ECF6",
              "width": 0.5
             },
             "pattern": {
              "fillmode": "overlay",
              "size": 10,
              "solidity": 0.2
             }
            },
            "type": "barpolar"
           }
          ],
          "carpet": [
           {
            "aaxis": {
             "endlinecolor": "#2a3f5f",
             "gridcolor": "white",
             "linecolor": "white",
             "minorgridcolor": "white",
             "startlinecolor": "#2a3f5f"
            },
            "baxis": {
             "endlinecolor": "#2a3f5f",
             "gridcolor": "white",
             "linecolor": "white",
             "minorgridcolor": "white",
             "startlinecolor": "#2a3f5f"
            },
            "type": "carpet"
           }
          ],
          "choropleth": [
           {
            "colorbar": {
             "outlinewidth": 0,
             "ticks": ""
            },
            "type": "choropleth"
           }
          ],
          "contour": [
           {
            "colorbar": {
             "outlinewidth": 0,
             "ticks": ""
            },
            "colorscale": [
             [
              0,
              "#0d0887"
             ],
             [
              0.1111111111111111,
              "#46039f"
             ],
             [
              0.2222222222222222,
              "#7201a8"
             ],
             [
              0.3333333333333333,
              "#9c179e"
             ],
             [
              0.4444444444444444,
              "#bd3786"
             ],
             [
              0.5555555555555556,
              "#d8576b"
             ],
             [
              0.6666666666666666,
              "#ed7953"
             ],
             [
              0.7777777777777778,
              "#fb9f3a"
             ],
             [
              0.8888888888888888,
              "#fdca26"
             ],
             [
              1,
              "#f0f921"
             ]
            ],
            "type": "contour"
           }
          ],
          "contourcarpet": [
           {
            "colorbar": {
             "outlinewidth": 0,
             "ticks": ""
            },
            "type": "contourcarpet"
           }
          ],
          "heatmap": [
           {
            "colorbar": {
             "outlinewidth": 0,
             "ticks": ""
            },
            "colorscale": [
             [
              0,
              "#0d0887"
             ],
             [
              0.1111111111111111,
              "#46039f"
             ],
             [
              0.2222222222222222,
              "#7201a8"
             ],
             [
              0.3333333333333333,
              "#9c179e"
             ],
             [
              0.4444444444444444,
              "#bd3786"
             ],
             [
              0.5555555555555556,
              "#d8576b"
             ],
             [
              0.6666666666666666,
              "#ed7953"
             ],
             [
              0.7777777777777778,
              "#fb9f3a"
             ],
             [
              0.8888888888888888,
              "#fdca26"
             ],
             [
              1,
              "#f0f921"
             ]
            ],
            "type": "heatmap"
           }
          ],
          "histogram": [
           {
            "marker": {
             "pattern": {
              "fillmode": "overlay",
              "size": 10,
              "solidity": 0.2
             }
            },
            "type": "histogram"
           }
          ],
          "histogram2d": [
           {
            "colorbar": {
             "outlinewidth": 0,
             "ticks": ""
            },
            "colorscale": [
             [
              0,
              "#0d0887"
             ],
             [
              0.1111111111111111,
              "#46039f"
             ],
             [
              0.2222222222222222,
              "#7201a8"
             ],
             [
              0.3333333333333333,
              "#9c179e"
             ],
             [
              0.4444444444444444,
              "#bd3786"
             ],
             [
              0.5555555555555556,
              "#d8576b"
             ],
             [
              0.6666666666666666,
              "#ed7953"
             ],
             [
              0.7777777777777778,
              "#fb9f3a"
             ],
             [
              0.8888888888888888,
              "#fdca26"
             ],
             [
              1,
              "#f0f921"
             ]
            ],
            "type": "histogram2d"
           }
          ],
          "histogram2dcontour": [
           {
            "colorbar": {
             "outlinewidth": 0,
             "ticks": ""
            },
            "colorscale": [
             [
              0,
              "#0d0887"
             ],
             [
              0.1111111111111111,
              "#46039f"
             ],
             [
              0.2222222222222222,
              "#7201a8"
             ],
             [
              0.3333333333333333,
              "#9c179e"
             ],
             [
              0.4444444444444444,
              "#bd3786"
             ],
             [
              0.5555555555555556,
              "#d8576b"
             ],
             [
              0.6666666666666666,
              "#ed7953"
             ],
             [
              0.7777777777777778,
              "#fb9f3a"
             ],
             [
              0.8888888888888888,
              "#fdca26"
             ],
             [
              1,
              "#f0f921"
             ]
            ],
            "type": "histogram2dcontour"
           }
          ],
          "mesh3d": [
           {
            "colorbar": {
             "outlinewidth": 0,
             "ticks": ""
            },
            "type": "mesh3d"
           }
          ],
          "parcoords": [
           {
            "line": {
             "colorbar": {
              "outlinewidth": 0,
              "ticks": ""
             }
            },
            "type": "parcoords"
           }
          ],
          "pie": [
           {
            "automargin": true,
            "type": "pie"
           }
          ],
          "scatter": [
           {
            "fillpattern": {
             "fillmode": "overlay",
             "size": 10,
             "solidity": 0.2
            },
            "type": "scatter"
           }
          ],
          "scatter3d": [
           {
            "line": {
             "colorbar": {
              "outlinewidth": 0,
              "ticks": ""
             }
            },
            "marker": {
             "colorbar": {
              "outlinewidth": 0,
              "ticks": ""
             }
            },
            "type": "scatter3d"
           }
          ],
          "scattercarpet": [
           {
            "marker": {
             "colorbar": {
              "outlinewidth": 0,
              "ticks": ""
             }
            },
            "type": "scattercarpet"
           }
          ],
          "scattergeo": [
           {
            "marker": {
             "colorbar": {
              "outlinewidth": 0,
              "ticks": ""
             }
            },
            "type": "scattergeo"
           }
          ],
          "scattergl": [
           {
            "marker": {
             "colorbar": {
              "outlinewidth": 0,
              "ticks": ""
             }
            },
            "type": "scattergl"
           }
          ],
          "scattermap": [
           {
            "marker": {
             "colorbar": {
              "outlinewidth": 0,
              "ticks": ""
             }
            },
            "type": "scattermap"
           }
          ],
          "scattermapbox": [
           {
            "marker": {
             "colorbar": {
              "outlinewidth": 0,
              "ticks": ""
             }
            },
            "type": "scattermapbox"
           }
          ],
          "scatterpolar": [
           {
            "marker": {
             "colorbar": {
              "outlinewidth": 0,
              "ticks": ""
             }
            },
            "type": "scatterpolar"
           }
          ],
          "scatterpolargl": [
           {
            "marker": {
             "colorbar": {
              "outlinewidth": 0,
              "ticks": ""
             }
            },
            "type": "scatterpolargl"
           }
          ],
          "scatterternary": [
           {
            "marker": {
             "colorbar": {
              "outlinewidth": 0,
              "ticks": ""
             }
            },
            "type": "scatterternary"
           }
          ],
          "surface": [
           {
            "colorbar": {
             "outlinewidth": 0,
             "ticks": ""
            },
            "colorscale": [
             [
              0,
              "#0d0887"
             ],
             [
              0.1111111111111111,
              "#46039f"
             ],
             [
              0.2222222222222222,
              "#7201a8"
             ],
             [
              0.3333333333333333,
              "#9c179e"
             ],
             [
              0.4444444444444444,
              "#bd3786"
             ],
             [
              0.5555555555555556,
              "#d8576b"
             ],
             [
              0.6666666666666666,
              "#ed7953"
             ],
             [
              0.7777777777777778,
              "#fb9f3a"
             ],
             [
              0.8888888888888888,
              "#fdca26"
             ],
             [
              1,
              "#f0f921"
             ]
            ],
            "type": "surface"
           }
          ],
          "table": [
           {
            "cells": {
             "fill": {
              "color": "#EBF0F8"
             },
             "line": {
              "color": "white"
             }
            },
            "header": {
             "fill": {
              "color": "#C8D4E3"
             },
             "line": {
              "color": "white"
             }
            },
            "type": "table"
           }
          ]
         },
         "layout": {
          "annotationdefaults": {
           "arrowcolor": "#2a3f5f",
           "arrowhead": 0,
           "arrowwidth": 1
          },
          "autotypenumbers": "strict",
          "coloraxis": {
           "colorbar": {
            "outlinewidth": 0,
            "ticks": ""
           }
          },
          "colorscale": {
           "diverging": [
            [
             0,
             "#8e0152"
            ],
            [
             0.1,
             "#c51b7d"
            ],
            [
             0.2,
             "#de77ae"
            ],
            [
             0.3,
             "#f1b6da"
            ],
            [
             0.4,
             "#fde0ef"
            ],
            [
             0.5,
             "#f7f7f7"
            ],
            [
             0.6,
             "#e6f5d0"
            ],
            [
             0.7,
             "#b8e186"
            ],
            [
             0.8,
             "#7fbc41"
            ],
            [
             0.9,
             "#4d9221"
            ],
            [
             1,
             "#276419"
            ]
           ],
           "sequential": [
            [
             0,
             "#0d0887"
            ],
            [
             0.1111111111111111,
             "#46039f"
            ],
            [
             0.2222222222222222,
             "#7201a8"
            ],
            [
             0.3333333333333333,
             "#9c179e"
            ],
            [
             0.4444444444444444,
             "#bd3786"
            ],
            [
             0.5555555555555556,
             "#d8576b"
            ],
            [
             0.6666666666666666,
             "#ed7953"
            ],
            [
             0.7777777777777778,
             "#fb9f3a"
            ],
            [
             0.8888888888888888,
             "#fdca26"
            ],
            [
             1,
             "#f0f921"
            ]
           ],
           "sequentialminus": [
            [
             0,
             "#0d0887"
            ],
            [
             0.1111111111111111,
             "#46039f"
            ],
            [
             0.2222222222222222,
             "#7201a8"
            ],
            [
             0.3333333333333333,
             "#9c179e"
            ],
            [
             0.4444444444444444,
             "#bd3786"
            ],
            [
             0.5555555555555556,
             "#d8576b"
            ],
            [
             0.6666666666666666,
             "#ed7953"
            ],
            [
             0.7777777777777778,
             "#fb9f3a"
            ],
            [
             0.8888888888888888,
             "#fdca26"
            ],
            [
             1,
             "#f0f921"
            ]
           ]
          },
          "colorway": [
           "#636efa",
           "#EF553B",
           "#00cc96",
           "#ab63fa",
           "#FFA15A",
           "#19d3f3",
           "#FF6692",
           "#B6E880",
           "#FF97FF",
           "#FECB52"
          ],
          "font": {
           "color": "#2a3f5f"
          },
          "geo": {
           "bgcolor": "white",
           "lakecolor": "white",
           "landcolor": "#E5ECF6",
           "showlakes": true,
           "showland": true,
           "subunitcolor": "white"
          },
          "hoverlabel": {
           "align": "left"
          },
          "hovermode": "closest",
          "mapbox": {
           "style": "light"
          },
          "paper_bgcolor": "white",
          "plot_bgcolor": "#E5ECF6",
          "polar": {
           "angularaxis": {
            "gridcolor": "white",
            "linecolor": "white",
            "ticks": ""
           },
           "bgcolor": "#E5ECF6",
           "radialaxis": {
            "gridcolor": "white",
            "linecolor": "white",
            "ticks": ""
           }
          },
          "scene": {
           "xaxis": {
            "backgroundcolor": "#E5ECF6",
            "gridcolor": "white",
            "gridwidth": 2,
            "linecolor": "white",
            "showbackground": true,
            "ticks": "",
            "zerolinecolor": "white"
           },
           "yaxis": {
            "backgroundcolor": "#E5ECF6",
            "gridcolor": "white",
            "gridwidth": 2,
            "linecolor": "white",
            "showbackground": true,
            "ticks": "",
            "zerolinecolor": "white"
           },
           "zaxis": {
            "backgroundcolor": "#E5ECF6",
            "gridcolor": "white",
            "gridwidth": 2,
            "linecolor": "white",
            "showbackground": true,
            "ticks": "",
            "zerolinecolor": "white"
           }
          },
          "shapedefaults": {
           "line": {
            "color": "#2a3f5f"
           }
          },
          "ternary": {
           "aaxis": {
            "gridcolor": "white",
            "linecolor": "white",
            "ticks": ""
           },
           "baxis": {
            "gridcolor": "white",
            "linecolor": "white",
            "ticks": ""
           },
           "bgcolor": "#E5ECF6",
           "caxis": {
            "gridcolor": "white",
            "linecolor": "white",
            "ticks": ""
           }
          },
          "title": {
           "x": 0.05
          },
          "xaxis": {
           "automargin": true,
           "gridcolor": "white",
           "linecolor": "white",
           "ticks": "",
           "title": {
            "standoff": 15
           },
           "zerolinecolor": "white",
           "zerolinewidth": 2
          },
          "yaxis": {
           "automargin": true,
           "gridcolor": "white",
           "linecolor": "white",
           "ticks": "",
           "title": {
            "standoff": 15
           },
           "zerolinecolor": "white",
           "zerolinewidth": 2
          }
         }
        },
        "title": {
         "text": "Validation Performance and Training Learning Rate vs Epoch"
        },
        "xaxis": {
         "anchor": "y",
         "domain": [
          0,
          0.94
         ],
         "range": [
          0,
          160000
         ],
         "title": {
          "text": "Epoch"
         }
        },
        "yaxis": {
         "anchor": "x",
         "domain": [
          0,
          1
         ],
         "dtick": 10,
         "range": [
          0,
          100
         ],
         "title": {
          "text": "Performance (%)"
         }
        },
        "yaxis2": {
         "anchor": "x",
         "overlaying": "y",
         "side": "right",
         "title": {
          "text": "Learning Rate"
         }
        }
       }
      }
     },
     "metadata": {},
     "output_type": "display_data"
    }
   ],
   "source": [
    "# Ablation 09 - SEBNet BaselineCASENetHeadEarlierLayers SGD, Pretrained, Batch Size 6, OHEM Cross Entropy, Edge Width 2, Edge Loss Weight 5.0 - 73.45 Best mIoU\n",
    "log_file_path = '/home/robert.breslin/alessandro/paper_2/mmsegmentation/work_dirs/sebnet_baseline-casenet-head-earlier-layers_1xb6_cityscapes/20250827_123728/20250827_123728.log'\n",
    "epochs, mIoU, mAcc, lrs = parse_log_file(log_file_path)\n",
    "plot_accuracies_and_lr_interactive(epochs, mAcc, mIoU, lrs, [0,160000])"
   ]
  },
  {
   "cell_type": "code",
   "execution_count": 14,
   "id": "4e252350",
   "metadata": {},
   "outputs": [
    {
     "data": {
      "application/vnd.plotly.v1+json": {
       "config": {
        "plotlyServerURL": "https://plot.ly"
       },
       "data": [
        {
         "line": {
          "color": "blue"
         },
         "name": "Mean Accuracy",
         "type": "scatter",
         "x": [
          1000,
          2000,
          3000,
          4000,
          5000,
          6000,
          7000,
          8000,
          9000,
          10000,
          11000,
          12000,
          13000,
          14000,
          15000,
          16000,
          17000,
          18000,
          19000,
          20000,
          21000,
          22000,
          23000,
          24000,
          25000,
          26000,
          27000,
          28000,
          29000,
          30000,
          31000,
          32000,
          33000,
          34000,
          35000,
          36000,
          37000,
          38000,
          39000,
          40000,
          41000,
          42000,
          43000,
          44000,
          45000,
          46000,
          47000,
          48000,
          49000,
          50000,
          51000,
          52000,
          53000,
          54000,
          55000,
          56000,
          57000,
          58000,
          59000,
          60000,
          61000,
          62000,
          63000,
          64000,
          65000,
          66000,
          67000,
          68000,
          69000,
          70000,
          71000,
          72000,
          73000,
          74000,
          75000,
          76000,
          77000,
          78000,
          79000,
          80000,
          81000,
          82000,
          83000,
          84000,
          85000,
          86000,
          87000,
          88000,
          89000,
          90000,
          91000,
          92000,
          93000,
          94000,
          95000,
          96000,
          97000,
          98000,
          99000,
          100000,
          101000,
          102000,
          103000,
          104000,
          105000,
          106000,
          107000,
          108000,
          109000,
          110000,
          111000,
          112000,
          113000,
          114000,
          115000,
          116000,
          117000,
          118000,
          119000,
          120000,
          121000,
          122000,
          123000,
          124000,
          125000,
          126000,
          127000,
          128000,
          129000,
          130000,
          131000,
          132000,
          133000,
          134000,
          135000,
          136000,
          137000,
          138000,
          139000,
          140000,
          141000,
          142000,
          143000,
          144000,
          145000,
          146000,
          147000,
          148000,
          149000,
          150000,
          151000,
          152000,
          153000,
          154000,
          155000,
          156000,
          157000,
          158000,
          159000,
          160000
         ],
         "xaxis": "x",
         "y": [
          29.39,
          34.18,
          41.51,
          41.72,
          45.44,
          48.18,
          53.35,
          50.78,
          52.05,
          55.86,
          58.49,
          52.91,
          58.69,
          54.72,
          62.68,
          60.91,
          58.67,
          59.27,
          65.01,
          55.96,
          60.62,
          64.75,
          69.15,
          68.46,
          67.33,
          67.58,
          71.15,
          67.28,
          67.55,
          67.96,
          69.48,
          60.9,
          71.18,
          64.87,
          68,
          67.18,
          71.11,
          67.61,
          67.84,
          66.76,
          70.43,
          68.43,
          64.82,
          68.43,
          74.94,
          72.06,
          69.75,
          70.92,
          70.52,
          70.95,
          72.34,
          70.52,
          70.32,
          70.33,
          71.71,
          74.48,
          73.22,
          68.88,
          69.53,
          72.04,
          74.12,
          73.63,
          72.19,
          75.46,
          74.39,
          74.27,
          74.84,
          72.15,
          74.98,
          71.74,
          74.82,
          73.76,
          77.26,
          66.53,
          73.05,
          77.02,
          69.01,
          73.22,
          72.46,
          76.08,
          71.06,
          79.35,
          77.51,
          77.73,
          74.19,
          77.61,
          71.47,
          70.34,
          75.27,
          74.78,
          79.99,
          74.77,
          77.95,
          73.94,
          80.74,
          79.85,
          79.69,
          77.34,
          79.23,
          77.89,
          77,
          76.45,
          76.83,
          76.06,
          74.84,
          74.74,
          78.5,
          74.62,
          77.71,
          81.11,
          78.83,
          78.5,
          80.39,
          80.7,
          75.5,
          77.35,
          80.67,
          75.66,
          78.32,
          80.5,
          77.42,
          78.27,
          80.42,
          73.84,
          81.59,
          70.96,
          79.27,
          80.52,
          80.23,
          74.15,
          79.99,
          81.03,
          78.35,
          80.09,
          82.18,
          80.9,
          80.34,
          80.28,
          82,
          80.17,
          81.23,
          78.2,
          81.77,
          82.44,
          82.46,
          81.58,
          82.85,
          81.01,
          83.34,
          82.15,
          83.38,
          82.98,
          82.96,
          83.06,
          83.21,
          83.17,
          83.8,
          83.68,
          83.44,
          83.37
         ],
         "yaxis": "y"
        },
        {
         "line": {
          "color": "orange"
         },
         "name": "Mean IoU",
         "type": "scatter",
         "x": [
          1000,
          2000,
          3000,
          4000,
          5000,
          6000,
          7000,
          8000,
          9000,
          10000,
          11000,
          12000,
          13000,
          14000,
          15000,
          16000,
          17000,
          18000,
          19000,
          20000,
          21000,
          22000,
          23000,
          24000,
          25000,
          26000,
          27000,
          28000,
          29000,
          30000,
          31000,
          32000,
          33000,
          34000,
          35000,
          36000,
          37000,
          38000,
          39000,
          40000,
          41000,
          42000,
          43000,
          44000,
          45000,
          46000,
          47000,
          48000,
          49000,
          50000,
          51000,
          52000,
          53000,
          54000,
          55000,
          56000,
          57000,
          58000,
          59000,
          60000,
          61000,
          62000,
          63000,
          64000,
          65000,
          66000,
          67000,
          68000,
          69000,
          70000,
          71000,
          72000,
          73000,
          74000,
          75000,
          76000,
          77000,
          78000,
          79000,
          80000,
          81000,
          82000,
          83000,
          84000,
          85000,
          86000,
          87000,
          88000,
          89000,
          90000,
          91000,
          92000,
          93000,
          94000,
          95000,
          96000,
          97000,
          98000,
          99000,
          100000,
          101000,
          102000,
          103000,
          104000,
          105000,
          106000,
          107000,
          108000,
          109000,
          110000,
          111000,
          112000,
          113000,
          114000,
          115000,
          116000,
          117000,
          118000,
          119000,
          120000,
          121000,
          122000,
          123000,
          124000,
          125000,
          126000,
          127000,
          128000,
          129000,
          130000,
          131000,
          132000,
          133000,
          134000,
          135000,
          136000,
          137000,
          138000,
          139000,
          140000,
          141000,
          142000,
          143000,
          144000,
          145000,
          146000,
          147000,
          148000,
          149000,
          150000,
          151000,
          152000,
          153000,
          154000,
          155000,
          156000,
          157000,
          158000,
          159000,
          160000
         ],
         "xaxis": "x",
         "y": [
          21.12,
          28.13,
          32.68,
          33.28,
          36.61,
          37.92,
          41.28,
          42.21,
          43.39,
          45.45,
          47.87,
          44.32,
          49.14,
          44.28,
          52.4,
          47.09,
          47.81,
          51,
          53.81,
          46.03,
          47.91,
          52.68,
          55.43,
          55.96,
          57.13,
          55.62,
          55.7,
          55.63,
          56.03,
          57.36,
          56.03,
          49.97,
          53.78,
          55.78,
          56.13,
          55.92,
          58.52,
          56.74,
          55.96,
          57.14,
          60.21,
          58.33,
          56.89,
          55.88,
          59.66,
          60.8,
          58.78,
          60.56,
          58.45,
          57.2,
          61.01,
          57.77,
          59.23,
          57.33,
          58.67,
          62.68,
          60.72,
          57.92,
          52.89,
          61.5,
          59.22,
          63.83,
          60.21,
          64.22,
          64.48,
          62.29,
          62.36,
          61.41,
          64.61,
          60.69,
          63.72,
          60.75,
          64.56,
          54.5,
          60.26,
          66.36,
          59.16,
          62.96,
          60.7,
          65.85,
          56.76,
          66.87,
          65.35,
          64.54,
          63.16,
          66.29,
          60.63,
          60.54,
          62.3,
          63.88,
          67.41,
          62.98,
          67.64,
          60.78,
          69.3,
          67.49,
          68.25,
          67.29,
          68.92,
          65.91,
          65.17,
          63.88,
          67.65,
          64.3,
          63.37,
          64.55,
          64.85,
          64.6,
          67.02,
          69.12,
          67.96,
          68.58,
          68.54,
          67,
          64.93,
          68.87,
          70.24,
          65.84,
          67.34,
          69.3,
          66.48,
          67.26,
          70.96,
          65.65,
          70.32,
          61.68,
          68.14,
          69.26,
          68.92,
          62.66,
          70.29,
          70.61,
          69.69,
          69.65,
          71.57,
          71.59,
          70.56,
          69.75,
          71.31,
          69.65,
          71.44,
          68.04,
          72.68,
          72.42,
          72.38,
          71.69,
          71.77,
          72.24,
          73.75,
          72.99,
          73.73,
          73.87,
          73.62,
          73.48,
          73.94,
          73.94,
          74.22,
          74.25,
          74.17,
          74.4
         ],
         "yaxis": "y"
        },
        {
         "line": {
          "color": "green"
         },
         "name": "Learning Rate",
         "type": "scatter",
         "x": [
          1000,
          2000,
          3000,
          4000,
          5000,
          6000,
          7000,
          8000,
          9000,
          10000,
          11000,
          12000,
          13000,
          14000,
          15000,
          16000,
          17000,
          18000,
          19000,
          20000,
          21000,
          22000,
          23000,
          24000,
          25000,
          26000,
          27000,
          28000,
          29000,
          30000,
          31000,
          32000,
          33000,
          34000,
          35000,
          36000,
          37000,
          38000,
          39000,
          40000,
          41000,
          42000,
          43000,
          44000,
          45000,
          46000,
          47000,
          48000,
          49000,
          50000,
          51000,
          52000,
          53000,
          54000,
          55000,
          56000,
          57000,
          58000,
          59000,
          60000,
          61000,
          62000,
          63000,
          64000,
          65000,
          66000,
          67000,
          68000,
          69000,
          70000,
          71000,
          72000,
          73000,
          74000,
          75000,
          76000,
          77000,
          78000,
          79000,
          80000,
          81000,
          82000,
          83000,
          84000,
          85000,
          86000,
          87000,
          88000,
          89000,
          90000,
          91000,
          92000,
          93000,
          94000,
          95000,
          96000,
          97000,
          98000,
          99000,
          100000,
          101000,
          102000,
          103000,
          104000,
          105000,
          106000,
          107000,
          108000,
          109000,
          110000,
          111000,
          112000,
          113000,
          114000,
          115000,
          116000,
          117000,
          118000,
          119000,
          120000,
          121000,
          122000,
          123000,
          124000,
          125000,
          126000,
          127000,
          128000,
          129000,
          130000,
          131000,
          132000,
          133000,
          134000,
          135000,
          136000,
          137000,
          138000,
          139000,
          140000,
          141000,
          142000,
          143000,
          144000,
          145000,
          146000,
          147000,
          148000,
          149000,
          150000,
          151000,
          152000,
          153000,
          154000,
          155000,
          156000,
          157000,
          158000,
          159000,
          160000
         ],
         "xaxis": "x",
         "y": [
          0.0099438,
          0.0098875,
          0.0098311,
          0.0097748,
          0.0097184,
          0.0096619,
          0.0096054,
          0.0095489,
          0.0094923,
          0.0094358,
          0.0093791,
          0.0093224,
          0.0092657,
          0.009209,
          0.0091522,
          0.0090954,
          0.0090385,
          0.0089816,
          0.0089247,
          0.0088677,
          0.0088106,
          0.0087536,
          0.0086965,
          0.0086393,
          0.0085821,
          0.0085249,
          0.0084676,
          0.0084103,
          0.0083529,
          0.0082955,
          0.0082381,
          0.0081806,
          0.008123,
          0.0080654,
          0.0080078,
          0.0079501,
          0.0078924,
          0.0078346,
          0.0077768,
          0.0077189,
          0.007661,
          0.0076031,
          0.007545,
          0.007487,
          0.0074289,
          0.0073707,
          0.0073125,
          0.0072542,
          0.0071959,
          0.0071375,
          0.0070791,
          0.0070206,
          0.0069621,
          0.0069035,
          0.0068449,
          0.0067862,
          0.0067274,
          0.0066686,
          0.0066097,
          0.0065508,
          0.0064918,
          0.0064328,
          0.0063737,
          0.0063145,
          0.0062553,
          0.006196,
          0.0061366,
          0.0060772,
          0.0060177,
          0.0059582,
          0.0058986,
          0.0058389,
          0.0057791,
          0.0057193,
          0.0056594,
          0.0055995,
          0.0055394,
          0.0054793,
          0.0054191,
          0.0053589,
          0.0052986,
          0.0052382,
          0.0051777,
          0.0051171,
          0.0050565,
          0.0049958,
          0.004935,
          0.0048741,
          0.0048131,
          0.0047521,
          0.0046909,
          0.0046297,
          0.0045684,
          0.004507,
          0.0044455,
          0.0043839,
          0.0043222,
          0.0042604,
          0.0041985,
          0.0041365,
          0.0040744,
          0.0040122,
          0.0039499,
          0.0038874,
          0.0038249,
          0.0037623,
          0.0036995,
          0.0036366,
          0.0035736,
          0.0035105,
          0.0034472,
          0.0033839,
          0.0033203,
          0.0032567,
          0.0031929,
          0.003129,
          0.0030649,
          0.0030007,
          0.0029363,
          0.0028718,
          0.0028071,
          0.0027422,
          0.0026772,
          0.002612,
          0.0025466,
          0.002481,
          0.0024152,
          0.0023493,
          0.0022831,
          0.0022167,
          0.0021501,
          0.0020832,
          0.0020161,
          0.0019488,
          0.0018812,
          0.0018134,
          0.0017452,
          0.0016768,
          0.001608,
          0.0015389,
          0.0014695,
          0.0013997,
          0.0013295,
          0.0012589,
          0.0011879,
          0.0011164,
          0.0010443,
          0.00097176,
          0.00089856,
          0.0008247,
          0.00075009,
          0.00067465,
          0.00059825,
          0.00052075,
          0.00044194,
          0.00036153,
          0.00027906,
          0.00019374,
          0.00010382,
          0
         ],
         "yaxis": "y2"
        }
       ],
       "layout": {
        "hovermode": "x unified",
        "legend": {
         "x": 1.15,
         "xanchor": "right",
         "y": 1.15,
         "yanchor": "top"
        },
        "template": {
         "data": {
          "bar": [
           {
            "error_x": {
             "color": "#2a3f5f"
            },
            "error_y": {
             "color": "#2a3f5f"
            },
            "marker": {
             "line": {
              "color": "#E5ECF6",
              "width": 0.5
             },
             "pattern": {
              "fillmode": "overlay",
              "size": 10,
              "solidity": 0.2
             }
            },
            "type": "bar"
           }
          ],
          "barpolar": [
           {
            "marker": {
             "line": {
              "color": "#E5ECF6",
              "width": 0.5
             },
             "pattern": {
              "fillmode": "overlay",
              "size": 10,
              "solidity": 0.2
             }
            },
            "type": "barpolar"
           }
          ],
          "carpet": [
           {
            "aaxis": {
             "endlinecolor": "#2a3f5f",
             "gridcolor": "white",
             "linecolor": "white",
             "minorgridcolor": "white",
             "startlinecolor": "#2a3f5f"
            },
            "baxis": {
             "endlinecolor": "#2a3f5f",
             "gridcolor": "white",
             "linecolor": "white",
             "minorgridcolor": "white",
             "startlinecolor": "#2a3f5f"
            },
            "type": "carpet"
           }
          ],
          "choropleth": [
           {
            "colorbar": {
             "outlinewidth": 0,
             "ticks": ""
            },
            "type": "choropleth"
           }
          ],
          "contour": [
           {
            "colorbar": {
             "outlinewidth": 0,
             "ticks": ""
            },
            "colorscale": [
             [
              0,
              "#0d0887"
             ],
             [
              0.1111111111111111,
              "#46039f"
             ],
             [
              0.2222222222222222,
              "#7201a8"
             ],
             [
              0.3333333333333333,
              "#9c179e"
             ],
             [
              0.4444444444444444,
              "#bd3786"
             ],
             [
              0.5555555555555556,
              "#d8576b"
             ],
             [
              0.6666666666666666,
              "#ed7953"
             ],
             [
              0.7777777777777778,
              "#fb9f3a"
             ],
             [
              0.8888888888888888,
              "#fdca26"
             ],
             [
              1,
              "#f0f921"
             ]
            ],
            "type": "contour"
           }
          ],
          "contourcarpet": [
           {
            "colorbar": {
             "outlinewidth": 0,
             "ticks": ""
            },
            "type": "contourcarpet"
           }
          ],
          "heatmap": [
           {
            "colorbar": {
             "outlinewidth": 0,
             "ticks": ""
            },
            "colorscale": [
             [
              0,
              "#0d0887"
             ],
             [
              0.1111111111111111,
              "#46039f"
             ],
             [
              0.2222222222222222,
              "#7201a8"
             ],
             [
              0.3333333333333333,
              "#9c179e"
             ],
             [
              0.4444444444444444,
              "#bd3786"
             ],
             [
              0.5555555555555556,
              "#d8576b"
             ],
             [
              0.6666666666666666,
              "#ed7953"
             ],
             [
              0.7777777777777778,
              "#fb9f3a"
             ],
             [
              0.8888888888888888,
              "#fdca26"
             ],
             [
              1,
              "#f0f921"
             ]
            ],
            "type": "heatmap"
           }
          ],
          "histogram": [
           {
            "marker": {
             "pattern": {
              "fillmode": "overlay",
              "size": 10,
              "solidity": 0.2
             }
            },
            "type": "histogram"
           }
          ],
          "histogram2d": [
           {
            "colorbar": {
             "outlinewidth": 0,
             "ticks": ""
            },
            "colorscale": [
             [
              0,
              "#0d0887"
             ],
             [
              0.1111111111111111,
              "#46039f"
             ],
             [
              0.2222222222222222,
              "#7201a8"
             ],
             [
              0.3333333333333333,
              "#9c179e"
             ],
             [
              0.4444444444444444,
              "#bd3786"
             ],
             [
              0.5555555555555556,
              "#d8576b"
             ],
             [
              0.6666666666666666,
              "#ed7953"
             ],
             [
              0.7777777777777778,
              "#fb9f3a"
             ],
             [
              0.8888888888888888,
              "#fdca26"
             ],
             [
              1,
              "#f0f921"
             ]
            ],
            "type": "histogram2d"
           }
          ],
          "histogram2dcontour": [
           {
            "colorbar": {
             "outlinewidth": 0,
             "ticks": ""
            },
            "colorscale": [
             [
              0,
              "#0d0887"
             ],
             [
              0.1111111111111111,
              "#46039f"
             ],
             [
              0.2222222222222222,
              "#7201a8"
             ],
             [
              0.3333333333333333,
              "#9c179e"
             ],
             [
              0.4444444444444444,
              "#bd3786"
             ],
             [
              0.5555555555555556,
              "#d8576b"
             ],
             [
              0.6666666666666666,
              "#ed7953"
             ],
             [
              0.7777777777777778,
              "#fb9f3a"
             ],
             [
              0.8888888888888888,
              "#fdca26"
             ],
             [
              1,
              "#f0f921"
             ]
            ],
            "type": "histogram2dcontour"
           }
          ],
          "mesh3d": [
           {
            "colorbar": {
             "outlinewidth": 0,
             "ticks": ""
            },
            "type": "mesh3d"
           }
          ],
          "parcoords": [
           {
            "line": {
             "colorbar": {
              "outlinewidth": 0,
              "ticks": ""
             }
            },
            "type": "parcoords"
           }
          ],
          "pie": [
           {
            "automargin": true,
            "type": "pie"
           }
          ],
          "scatter": [
           {
            "fillpattern": {
             "fillmode": "overlay",
             "size": 10,
             "solidity": 0.2
            },
            "type": "scatter"
           }
          ],
          "scatter3d": [
           {
            "line": {
             "colorbar": {
              "outlinewidth": 0,
              "ticks": ""
             }
            },
            "marker": {
             "colorbar": {
              "outlinewidth": 0,
              "ticks": ""
             }
            },
            "type": "scatter3d"
           }
          ],
          "scattercarpet": [
           {
            "marker": {
             "colorbar": {
              "outlinewidth": 0,
              "ticks": ""
             }
            },
            "type": "scattercarpet"
           }
          ],
          "scattergeo": [
           {
            "marker": {
             "colorbar": {
              "outlinewidth": 0,
              "ticks": ""
             }
            },
            "type": "scattergeo"
           }
          ],
          "scattergl": [
           {
            "marker": {
             "colorbar": {
              "outlinewidth": 0,
              "ticks": ""
             }
            },
            "type": "scattergl"
           }
          ],
          "scattermap": [
           {
            "marker": {
             "colorbar": {
              "outlinewidth": 0,
              "ticks": ""
             }
            },
            "type": "scattermap"
           }
          ],
          "scattermapbox": [
           {
            "marker": {
             "colorbar": {
              "outlinewidth": 0,
              "ticks": ""
             }
            },
            "type": "scattermapbox"
           }
          ],
          "scatterpolar": [
           {
            "marker": {
             "colorbar": {
              "outlinewidth": 0,
              "ticks": ""
             }
            },
            "type": "scatterpolar"
           }
          ],
          "scatterpolargl": [
           {
            "marker": {
             "colorbar": {
              "outlinewidth": 0,
              "ticks": ""
             }
            },
            "type": "scatterpolargl"
           }
          ],
          "scatterternary": [
           {
            "marker": {
             "colorbar": {
              "outlinewidth": 0,
              "ticks": ""
             }
            },
            "type": "scatterternary"
           }
          ],
          "surface": [
           {
            "colorbar": {
             "outlinewidth": 0,
             "ticks": ""
            },
            "colorscale": [
             [
              0,
              "#0d0887"
             ],
             [
              0.1111111111111111,
              "#46039f"
             ],
             [
              0.2222222222222222,
              "#7201a8"
             ],
             [
              0.3333333333333333,
              "#9c179e"
             ],
             [
              0.4444444444444444,
              "#bd3786"
             ],
             [
              0.5555555555555556,
              "#d8576b"
             ],
             [
              0.6666666666666666,
              "#ed7953"
             ],
             [
              0.7777777777777778,
              "#fb9f3a"
             ],
             [
              0.8888888888888888,
              "#fdca26"
             ],
             [
              1,
              "#f0f921"
             ]
            ],
            "type": "surface"
           }
          ],
          "table": [
           {
            "cells": {
             "fill": {
              "color": "#EBF0F8"
             },
             "line": {
              "color": "white"
             }
            },
            "header": {
             "fill": {
              "color": "#C8D4E3"
             },
             "line": {
              "color": "white"
             }
            },
            "type": "table"
           }
          ]
         },
         "layout": {
          "annotationdefaults": {
           "arrowcolor": "#2a3f5f",
           "arrowhead": 0,
           "arrowwidth": 1
          },
          "autotypenumbers": "strict",
          "coloraxis": {
           "colorbar": {
            "outlinewidth": 0,
            "ticks": ""
           }
          },
          "colorscale": {
           "diverging": [
            [
             0,
             "#8e0152"
            ],
            [
             0.1,
             "#c51b7d"
            ],
            [
             0.2,
             "#de77ae"
            ],
            [
             0.3,
             "#f1b6da"
            ],
            [
             0.4,
             "#fde0ef"
            ],
            [
             0.5,
             "#f7f7f7"
            ],
            [
             0.6,
             "#e6f5d0"
            ],
            [
             0.7,
             "#b8e186"
            ],
            [
             0.8,
             "#7fbc41"
            ],
            [
             0.9,
             "#4d9221"
            ],
            [
             1,
             "#276419"
            ]
           ],
           "sequential": [
            [
             0,
             "#0d0887"
            ],
            [
             0.1111111111111111,
             "#46039f"
            ],
            [
             0.2222222222222222,
             "#7201a8"
            ],
            [
             0.3333333333333333,
             "#9c179e"
            ],
            [
             0.4444444444444444,
             "#bd3786"
            ],
            [
             0.5555555555555556,
             "#d8576b"
            ],
            [
             0.6666666666666666,
             "#ed7953"
            ],
            [
             0.7777777777777778,
             "#fb9f3a"
            ],
            [
             0.8888888888888888,
             "#fdca26"
            ],
            [
             1,
             "#f0f921"
            ]
           ],
           "sequentialminus": [
            [
             0,
             "#0d0887"
            ],
            [
             0.1111111111111111,
             "#46039f"
            ],
            [
             0.2222222222222222,
             "#7201a8"
            ],
            [
             0.3333333333333333,
             "#9c179e"
            ],
            [
             0.4444444444444444,
             "#bd3786"
            ],
            [
             0.5555555555555556,
             "#d8576b"
            ],
            [
             0.6666666666666666,
             "#ed7953"
            ],
            [
             0.7777777777777778,
             "#fb9f3a"
            ],
            [
             0.8888888888888888,
             "#fdca26"
            ],
            [
             1,
             "#f0f921"
            ]
           ]
          },
          "colorway": [
           "#636efa",
           "#EF553B",
           "#00cc96",
           "#ab63fa",
           "#FFA15A",
           "#19d3f3",
           "#FF6692",
           "#B6E880",
           "#FF97FF",
           "#FECB52"
          ],
          "font": {
           "color": "#2a3f5f"
          },
          "geo": {
           "bgcolor": "white",
           "lakecolor": "white",
           "landcolor": "#E5ECF6",
           "showlakes": true,
           "showland": true,
           "subunitcolor": "white"
          },
          "hoverlabel": {
           "align": "left"
          },
          "hovermode": "closest",
          "mapbox": {
           "style": "light"
          },
          "paper_bgcolor": "white",
          "plot_bgcolor": "#E5ECF6",
          "polar": {
           "angularaxis": {
            "gridcolor": "white",
            "linecolor": "white",
            "ticks": ""
           },
           "bgcolor": "#E5ECF6",
           "radialaxis": {
            "gridcolor": "white",
            "linecolor": "white",
            "ticks": ""
           }
          },
          "scene": {
           "xaxis": {
            "backgroundcolor": "#E5ECF6",
            "gridcolor": "white",
            "gridwidth": 2,
            "linecolor": "white",
            "showbackground": true,
            "ticks": "",
            "zerolinecolor": "white"
           },
           "yaxis": {
            "backgroundcolor": "#E5ECF6",
            "gridcolor": "white",
            "gridwidth": 2,
            "linecolor": "white",
            "showbackground": true,
            "ticks": "",
            "zerolinecolor": "white"
           },
           "zaxis": {
            "backgroundcolor": "#E5ECF6",
            "gridcolor": "white",
            "gridwidth": 2,
            "linecolor": "white",
            "showbackground": true,
            "ticks": "",
            "zerolinecolor": "white"
           }
          },
          "shapedefaults": {
           "line": {
            "color": "#2a3f5f"
           }
          },
          "ternary": {
           "aaxis": {
            "gridcolor": "white",
            "linecolor": "white",
            "ticks": ""
           },
           "baxis": {
            "gridcolor": "white",
            "linecolor": "white",
            "ticks": ""
           },
           "bgcolor": "#E5ECF6",
           "caxis": {
            "gridcolor": "white",
            "linecolor": "white",
            "ticks": ""
           }
          },
          "title": {
           "x": 0.05
          },
          "xaxis": {
           "automargin": true,
           "gridcolor": "white",
           "linecolor": "white",
           "ticks": "",
           "title": {
            "standoff": 15
           },
           "zerolinecolor": "white",
           "zerolinewidth": 2
          },
          "yaxis": {
           "automargin": true,
           "gridcolor": "white",
           "linecolor": "white",
           "ticks": "",
           "title": {
            "standoff": 15
           },
           "zerolinecolor": "white",
           "zerolinewidth": 2
          }
         }
        },
        "title": {
         "text": "Validation Performance and Training Learning Rate vs Epoch"
        },
        "xaxis": {
         "anchor": "y",
         "domain": [
          0,
          0.94
         ],
         "range": [
          0,
          160000
         ],
         "title": {
          "text": "Epoch"
         }
        },
        "yaxis": {
         "anchor": "x",
         "domain": [
          0,
          1
         ],
         "dtick": 10,
         "range": [
          0,
          100
         ],
         "title": {
          "text": "Performance (%)"
         }
        },
        "yaxis2": {
         "anchor": "x",
         "overlaying": "y",
         "side": "right",
         "title": {
          "text": "Learning Rate"
         }
        }
       }
      }
     },
     "metadata": {},
     "output_type": "display_data"
    }
   ],
   "source": [
    "# Ablation 12 - SEBNet BaselineDMultiLabelHeadEarlierLayers SGD, Pretrained, Batch Size 6, OHEM Cross Entropy, Edge Width 2, Edge Loss Weight 5.0 - 74.40 Best mIoU\n",
    "log_file_path = '/home/robert.breslin/alessandro/paper_2/mmsegmentation/work_dirs/sebnet_baseline-d-multilabel-head-earlier-layers_1xb6_cityscapes/20250827_123750/20250827_123750.log'\n",
    "epochs, mIoU, mAcc, lrs = parse_log_file(log_file_path)\n",
    "plot_accuracies_and_lr_interactive(epochs, mAcc, mIoU, lrs, [0,160000])"
   ]
  },
  {
   "cell_type": "code",
   "execution_count": 15,
   "id": "a0c79663",
   "metadata": {},
   "outputs": [
    {
     "data": {
      "application/vnd.plotly.v1+json": {
       "config": {
        "plotlyServerURL": "https://plot.ly"
       },
       "data": [
        {
         "line": {
          "color": "blue"
         },
         "name": "Mean Accuracy",
         "type": "scatter",
         "x": [
          1000,
          2000,
          3000,
          4000,
          5000,
          6000,
          7000,
          8000,
          9000,
          10000,
          11000,
          12000,
          13000,
          14000,
          15000,
          16000,
          17000,
          18000,
          19000,
          20000,
          21000,
          22000,
          23000,
          24000,
          25000,
          26000,
          27000,
          28000,
          29000,
          30000,
          31000,
          32000,
          33000,
          34000,
          35000,
          36000,
          37000,
          38000,
          39000,
          40000,
          41000,
          42000,
          43000,
          44000,
          45000,
          46000,
          47000,
          48000,
          49000,
          50000,
          51000,
          52000,
          53000,
          54000,
          55000,
          56000,
          57000,
          58000,
          59000,
          60000,
          61000,
          62000,
          63000,
          64000,
          65000,
          66000,
          67000,
          68000,
          69000,
          70000,
          71000,
          72000,
          73000,
          74000,
          75000,
          76000,
          77000,
          78000,
          79000,
          80000,
          81000,
          82000,
          83000,
          84000,
          85000,
          86000,
          87000,
          88000,
          89000,
          90000,
          91000,
          92000,
          93000,
          94000,
          95000,
          96000,
          97000,
          98000,
          99000,
          100000,
          101000,
          102000,
          103000,
          104000,
          105000,
          106000,
          107000,
          108000,
          109000,
          110000,
          111000,
          112000,
          113000,
          114000,
          115000,
          116000,
          117000,
          118000,
          119000,
          120000,
          121000,
          122000,
          123000,
          124000,
          125000,
          126000,
          127000,
          128000,
          129000,
          130000,
          131000,
          132000,
          133000,
          134000,
          135000,
          136000,
          137000,
          138000,
          139000,
          140000,
          141000,
          142000,
          143000,
          144000,
          145000,
          146000,
          147000,
          148000,
          149000,
          150000,
          151000,
          152000,
          153000,
          154000,
          155000,
          156000,
          157000,
          158000,
          159000,
          160000
         ],
         "xaxis": "x",
         "y": [
          28.93,
          34.7,
          41.08,
          39.53,
          42.48,
          47.71,
          52.37,
          49.1,
          52.58,
          57.65,
          59.15,
          58.28,
          58.04,
          59.23,
          59.84,
          61.93,
          60.98,
          59.61,
          66.48,
          56.69,
          59.35,
          62.3,
          67.38,
          64.76,
          66.82,
          64.8,
          70.58,
          68.19,
          64.94,
          67.59,
          69.82,
          60.27,
          71.06,
          71.31,
          67.72,
          67.95,
          70.22,
          69.79,
          68.78,
          71.61,
          68.4,
          68.15,
          70.95,
          70.35,
          74.45,
          75.01,
          69.21,
          70.66,
          69.58,
          70.81,
          70.74,
          74.11,
          73.77,
          73.45,
          73.15,
          73.69,
          73.93,
          71.59,
          72.49,
          72.08,
          74.12,
          69.16,
          73.31,
          72.02,
          74.52,
          71.63,
          75.04,
          76.75,
          74.72,
          70.5,
          72.48,
          73.49,
          76.2,
          76.77,
          74.14,
          73.92,
          71.7,
          71.09,
          74.66,
          70.46,
          77.45,
          72.7,
          75.66,
          78.24,
          74.45,
          75.79,
          77.49,
          71.38,
          77.53,
          77.14,
          77.5,
          75.97,
          76.01,
          74.57,
          77.78,
          79.04,
          76.72,
          77.13,
          79.06,
          77.79,
          79.4,
          80.55,
          75.92,
          78.41,
          79.67,
          77.65,
          77.58,
          77.28,
          78.3,
          78.09,
          80.3,
          78.52,
          79.33,
          79.17,
          78.98,
          78.33,
          80.4,
          76.03,
          77.01,
          79.87,
          79.32,
          81.32,
          80.23,
          75.96,
          80.62,
          78.94,
          80.24,
          81.2,
          78.17,
          72.63,
          79.75,
          80.62,
          80.06,
          80.14,
          80.94,
          79.89,
          81.57,
          80.32,
          81.92,
          79.6,
          81.26,
          82.03,
          82.47,
          82.44,
          81.62,
          79.82,
          82.52,
          82.07,
          82.92,
          82.08,
          81.53,
          82,
          81.91,
          82.46,
          81.91,
          82.64,
          82.97,
          82.81,
          82.28,
          82.56
         ],
         "yaxis": "y"
        },
        {
         "line": {
          "color": "orange"
         },
         "name": "Mean IoU",
         "type": "scatter",
         "x": [
          1000,
          2000,
          3000,
          4000,
          5000,
          6000,
          7000,
          8000,
          9000,
          10000,
          11000,
          12000,
          13000,
          14000,
          15000,
          16000,
          17000,
          18000,
          19000,
          20000,
          21000,
          22000,
          23000,
          24000,
          25000,
          26000,
          27000,
          28000,
          29000,
          30000,
          31000,
          32000,
          33000,
          34000,
          35000,
          36000,
          37000,
          38000,
          39000,
          40000,
          41000,
          42000,
          43000,
          44000,
          45000,
          46000,
          47000,
          48000,
          49000,
          50000,
          51000,
          52000,
          53000,
          54000,
          55000,
          56000,
          57000,
          58000,
          59000,
          60000,
          61000,
          62000,
          63000,
          64000,
          65000,
          66000,
          67000,
          68000,
          69000,
          70000,
          71000,
          72000,
          73000,
          74000,
          75000,
          76000,
          77000,
          78000,
          79000,
          80000,
          81000,
          82000,
          83000,
          84000,
          85000,
          86000,
          87000,
          88000,
          89000,
          90000,
          91000,
          92000,
          93000,
          94000,
          95000,
          96000,
          97000,
          98000,
          99000,
          100000,
          101000,
          102000,
          103000,
          104000,
          105000,
          106000,
          107000,
          108000,
          109000,
          110000,
          111000,
          112000,
          113000,
          114000,
          115000,
          116000,
          117000,
          118000,
          119000,
          120000,
          121000,
          122000,
          123000,
          124000,
          125000,
          126000,
          127000,
          128000,
          129000,
          130000,
          131000,
          132000,
          133000,
          134000,
          135000,
          136000,
          137000,
          138000,
          139000,
          140000,
          141000,
          142000,
          143000,
          144000,
          145000,
          146000,
          147000,
          148000,
          149000,
          150000,
          151000,
          152000,
          153000,
          154000,
          155000,
          156000,
          157000,
          158000,
          159000,
          160000
         ],
         "xaxis": "x",
         "y": [
          22.35,
          28.51,
          32.95,
          31.63,
          34.64,
          37.35,
          39.74,
          40.8,
          43.28,
          45.87,
          48.31,
          48.26,
          48.71,
          48.17,
          48.79,
          48.32,
          49.44,
          51.84,
          54.31,
          45.46,
          48.2,
          51.41,
          51.84,
          52.72,
          54.92,
          54.05,
          56.68,
          55.74,
          53.34,
          55.18,
          56.84,
          51.05,
          56.97,
          59.41,
          56.32,
          56.12,
          57.46,
          58.03,
          56.53,
          60.36,
          56.79,
          58.48,
          61.09,
          58.89,
          59.46,
          62.91,
          58.73,
          60.27,
          59.33,
          57.94,
          58.08,
          60.91,
          61.53,
          59.6,
          60.45,
          61.21,
          59.95,
          56.69,
          60.4,
          61.85,
          60.53,
          58.06,
          61.55,
          59.86,
          63.94,
          58.12,
          62.98,
          63.32,
          64,
          58.14,
          61.67,
          60.48,
          64.86,
          66,
          61.72,
          64.56,
          62.99,
          61.91,
          60.96,
          60.79,
          63.47,
          61.25,
          65.52,
          64.69,
          62.21,
          64.16,
          66.29,
          61.08,
          63.88,
          66.39,
          65.34,
          64.19,
          63.86,
          62.88,
          67.17,
          67.88,
          64.25,
          64.46,
          68.76,
          66.06,
          67.33,
          67.44,
          66.1,
          66.13,
          67.81,
          65.81,
          66.15,
          67.24,
          67.12,
          66.97,
          68.64,
          68.79,
          67.57,
          68.16,
          67.55,
          68.86,
          69.83,
          64.56,
          66.42,
          68.9,
          68.56,
          69.49,
          68.64,
          66.56,
          69.92,
          67.38,
          68.86,
          70.61,
          68.36,
          61.41,
          70.23,
          69.92,
          70.96,
          69.79,
          69.88,
          69.95,
          71.21,
          70.25,
          71.94,
          70.15,
          72.23,
          72.52,
          72.82,
          72.63,
          71.06,
          70.89,
          72.02,
          72.81,
          72.97,
          72.44,
          72.28,
          72.73,
          73.07,
          73.18,
          72.85,
          73.69,
          73.48,
          73.41,
          73.13,
          73.53
         ],
         "yaxis": "y"
        },
        {
         "line": {
          "color": "green"
         },
         "name": "Learning Rate",
         "type": "scatter",
         "x": [
          1000,
          2000,
          3000,
          4000,
          5000,
          6000,
          7000,
          8000,
          9000,
          10000,
          11000,
          12000,
          13000,
          14000,
          15000,
          16000,
          17000,
          18000,
          19000,
          20000,
          21000,
          22000,
          23000,
          24000,
          25000,
          26000,
          27000,
          28000,
          29000,
          30000,
          31000,
          32000,
          33000,
          34000,
          35000,
          36000,
          37000,
          38000,
          39000,
          40000,
          41000,
          42000,
          43000,
          44000,
          45000,
          46000,
          47000,
          48000,
          49000,
          50000,
          51000,
          52000,
          53000,
          54000,
          55000,
          56000,
          57000,
          58000,
          59000,
          60000,
          61000,
          62000,
          63000,
          64000,
          65000,
          66000,
          67000,
          68000,
          69000,
          70000,
          71000,
          72000,
          73000,
          74000,
          75000,
          76000,
          77000,
          78000,
          79000,
          80000,
          81000,
          82000,
          83000,
          84000,
          85000,
          86000,
          87000,
          88000,
          89000,
          90000,
          91000,
          92000,
          93000,
          94000,
          95000,
          96000,
          97000,
          98000,
          99000,
          100000,
          101000,
          102000,
          103000,
          104000,
          105000,
          106000,
          107000,
          108000,
          109000,
          110000,
          111000,
          112000,
          113000,
          114000,
          115000,
          116000,
          117000,
          118000,
          119000,
          120000,
          121000,
          122000,
          123000,
          124000,
          125000,
          126000,
          127000,
          128000,
          129000,
          130000,
          131000,
          132000,
          133000,
          134000,
          135000,
          136000,
          137000,
          138000,
          139000,
          140000,
          141000,
          142000,
          143000,
          144000,
          145000,
          146000,
          147000,
          148000,
          149000,
          150000,
          151000,
          152000,
          153000,
          154000,
          155000,
          156000,
          157000,
          158000,
          159000,
          160000
         ],
         "xaxis": "x",
         "y": [
          0.0099438,
          0.0098875,
          0.0098311,
          0.0097748,
          0.0097184,
          0.0096619,
          0.0096054,
          0.0095489,
          0.0094923,
          0.0094358,
          0.0093791,
          0.0093224,
          0.0092657,
          0.009209,
          0.0091522,
          0.0090954,
          0.0090385,
          0.0089816,
          0.0089247,
          0.0088677,
          0.0088106,
          0.0087536,
          0.0086965,
          0.0086393,
          0.0085821,
          0.0085249,
          0.0084676,
          0.0084103,
          0.0083529,
          0.0082955,
          0.0082381,
          0.0081806,
          0.008123,
          0.0080654,
          0.0080078,
          0.0079501,
          0.0078924,
          0.0078346,
          0.0077768,
          0.0077189,
          0.007661,
          0.0076031,
          0.007545,
          0.007487,
          0.0074289,
          0.0073707,
          0.0073125,
          0.0072542,
          0.0071959,
          0.0071375,
          0.0070791,
          0.0070206,
          0.0069621,
          0.0069035,
          0.0068449,
          0.0067862,
          0.0067274,
          0.0066686,
          0.0066097,
          0.0065508,
          0.0064918,
          0.0064328,
          0.0063737,
          0.0063145,
          0.0062553,
          0.006196,
          0.0061366,
          0.0060772,
          0.0060177,
          0.0059582,
          0.0058986,
          0.0058389,
          0.0057791,
          0.0057193,
          0.0056594,
          0.0055995,
          0.0055394,
          0.0054793,
          0.0054191,
          0.0053589,
          0.0052986,
          0.0052382,
          0.0051777,
          0.0051171,
          0.0050565,
          0.0049958,
          0.004935,
          0.0048741,
          0.0048131,
          0.0047521,
          0.0046909,
          0.0046297,
          0.0045684,
          0.004507,
          0.0044455,
          0.0043839,
          0.0043222,
          0.0042604,
          0.0041985,
          0.0041365,
          0.0040744,
          0.0040122,
          0.0039499,
          0.0038874,
          0.0038249,
          0.0037623,
          0.0036995,
          0.0036366,
          0.0035736,
          0.0035105,
          0.0034472,
          0.0033839,
          0.0033203,
          0.0032567,
          0.0031929,
          0.003129,
          0.0030649,
          0.0030007,
          0.0029363,
          0.0028718,
          0.0028071,
          0.0027422,
          0.0026772,
          0.002612,
          0.0025466,
          0.002481,
          0.0024152,
          0.0023493,
          0.0022831,
          0.0022167,
          0.0021501,
          0.0020832,
          0.0020161,
          0.0019488,
          0.0018812,
          0.0018134,
          0.0017452,
          0.0016768,
          0.001608,
          0.0015389,
          0.0014695,
          0.0013997,
          0.0013295,
          0.0012589,
          0.0011879,
          0.0011164,
          0.0010443,
          0.00097176,
          0.00089856,
          0.0008247,
          0.00075009,
          0.00067465,
          0.00059825,
          0.00052075,
          0.00044194,
          0.00036153,
          0.00027906,
          0.00019374,
          0.00010382,
          0
         ],
         "yaxis": "y2"
        }
       ],
       "layout": {
        "hovermode": "x unified",
        "legend": {
         "x": 1.15,
         "xanchor": "right",
         "y": 1.15,
         "yanchor": "top"
        },
        "template": {
         "data": {
          "bar": [
           {
            "error_x": {
             "color": "#2a3f5f"
            },
            "error_y": {
             "color": "#2a3f5f"
            },
            "marker": {
             "line": {
              "color": "#E5ECF6",
              "width": 0.5
             },
             "pattern": {
              "fillmode": "overlay",
              "size": 10,
              "solidity": 0.2
             }
            },
            "type": "bar"
           }
          ],
          "barpolar": [
           {
            "marker": {
             "line": {
              "color": "#E5ECF6",
              "width": 0.5
             },
             "pattern": {
              "fillmode": "overlay",
              "size": 10,
              "solidity": 0.2
             }
            },
            "type": "barpolar"
           }
          ],
          "carpet": [
           {
            "aaxis": {
             "endlinecolor": "#2a3f5f",
             "gridcolor": "white",
             "linecolor": "white",
             "minorgridcolor": "white",
             "startlinecolor": "#2a3f5f"
            },
            "baxis": {
             "endlinecolor": "#2a3f5f",
             "gridcolor": "white",
             "linecolor": "white",
             "minorgridcolor": "white",
             "startlinecolor": "#2a3f5f"
            },
            "type": "carpet"
           }
          ],
          "choropleth": [
           {
            "colorbar": {
             "outlinewidth": 0,
             "ticks": ""
            },
            "type": "choropleth"
           }
          ],
          "contour": [
           {
            "colorbar": {
             "outlinewidth": 0,
             "ticks": ""
            },
            "colorscale": [
             [
              0,
              "#0d0887"
             ],
             [
              0.1111111111111111,
              "#46039f"
             ],
             [
              0.2222222222222222,
              "#7201a8"
             ],
             [
              0.3333333333333333,
              "#9c179e"
             ],
             [
              0.4444444444444444,
              "#bd3786"
             ],
             [
              0.5555555555555556,
              "#d8576b"
             ],
             [
              0.6666666666666666,
              "#ed7953"
             ],
             [
              0.7777777777777778,
              "#fb9f3a"
             ],
             [
              0.8888888888888888,
              "#fdca26"
             ],
             [
              1,
              "#f0f921"
             ]
            ],
            "type": "contour"
           }
          ],
          "contourcarpet": [
           {
            "colorbar": {
             "outlinewidth": 0,
             "ticks": ""
            },
            "type": "contourcarpet"
           }
          ],
          "heatmap": [
           {
            "colorbar": {
             "outlinewidth": 0,
             "ticks": ""
            },
            "colorscale": [
             [
              0,
              "#0d0887"
             ],
             [
              0.1111111111111111,
              "#46039f"
             ],
             [
              0.2222222222222222,
              "#7201a8"
             ],
             [
              0.3333333333333333,
              "#9c179e"
             ],
             [
              0.4444444444444444,
              "#bd3786"
             ],
             [
              0.5555555555555556,
              "#d8576b"
             ],
             [
              0.6666666666666666,
              "#ed7953"
             ],
             [
              0.7777777777777778,
              "#fb9f3a"
             ],
             [
              0.8888888888888888,
              "#fdca26"
             ],
             [
              1,
              "#f0f921"
             ]
            ],
            "type": "heatmap"
           }
          ],
          "histogram": [
           {
            "marker": {
             "pattern": {
              "fillmode": "overlay",
              "size": 10,
              "solidity": 0.2
             }
            },
            "type": "histogram"
           }
          ],
          "histogram2d": [
           {
            "colorbar": {
             "outlinewidth": 0,
             "ticks": ""
            },
            "colorscale": [
             [
              0,
              "#0d0887"
             ],
             [
              0.1111111111111111,
              "#46039f"
             ],
             [
              0.2222222222222222,
              "#7201a8"
             ],
             [
              0.3333333333333333,
              "#9c179e"
             ],
             [
              0.4444444444444444,
              "#bd3786"
             ],
             [
              0.5555555555555556,
              "#d8576b"
             ],
             [
              0.6666666666666666,
              "#ed7953"
             ],
             [
              0.7777777777777778,
              "#fb9f3a"
             ],
             [
              0.8888888888888888,
              "#fdca26"
             ],
             [
              1,
              "#f0f921"
             ]
            ],
            "type": "histogram2d"
           }
          ],
          "histogram2dcontour": [
           {
            "colorbar": {
             "outlinewidth": 0,
             "ticks": ""
            },
            "colorscale": [
             [
              0,
              "#0d0887"
             ],
             [
              0.1111111111111111,
              "#46039f"
             ],
             [
              0.2222222222222222,
              "#7201a8"
             ],
             [
              0.3333333333333333,
              "#9c179e"
             ],
             [
              0.4444444444444444,
              "#bd3786"
             ],
             [
              0.5555555555555556,
              "#d8576b"
             ],
             [
              0.6666666666666666,
              "#ed7953"
             ],
             [
              0.7777777777777778,
              "#fb9f3a"
             ],
             [
              0.8888888888888888,
              "#fdca26"
             ],
             [
              1,
              "#f0f921"
             ]
            ],
            "type": "histogram2dcontour"
           }
          ],
          "mesh3d": [
           {
            "colorbar": {
             "outlinewidth": 0,
             "ticks": ""
            },
            "type": "mesh3d"
           }
          ],
          "parcoords": [
           {
            "line": {
             "colorbar": {
              "outlinewidth": 0,
              "ticks": ""
             }
            },
            "type": "parcoords"
           }
          ],
          "pie": [
           {
            "automargin": true,
            "type": "pie"
           }
          ],
          "scatter": [
           {
            "fillpattern": {
             "fillmode": "overlay",
             "size": 10,
             "solidity": 0.2
            },
            "type": "scatter"
           }
          ],
          "scatter3d": [
           {
            "line": {
             "colorbar": {
              "outlinewidth": 0,
              "ticks": ""
             }
            },
            "marker": {
             "colorbar": {
              "outlinewidth": 0,
              "ticks": ""
             }
            },
            "type": "scatter3d"
           }
          ],
          "scattercarpet": [
           {
            "marker": {
             "colorbar": {
              "outlinewidth": 0,
              "ticks": ""
             }
            },
            "type": "scattercarpet"
           }
          ],
          "scattergeo": [
           {
            "marker": {
             "colorbar": {
              "outlinewidth": 0,
              "ticks": ""
             }
            },
            "type": "scattergeo"
           }
          ],
          "scattergl": [
           {
            "marker": {
             "colorbar": {
              "outlinewidth": 0,
              "ticks": ""
             }
            },
            "type": "scattergl"
           }
          ],
          "scattermap": [
           {
            "marker": {
             "colorbar": {
              "outlinewidth": 0,
              "ticks": ""
             }
            },
            "type": "scattermap"
           }
          ],
          "scattermapbox": [
           {
            "marker": {
             "colorbar": {
              "outlinewidth": 0,
              "ticks": ""
             }
            },
            "type": "scattermapbox"
           }
          ],
          "scatterpolar": [
           {
            "marker": {
             "colorbar": {
              "outlinewidth": 0,
              "ticks": ""
             }
            },
            "type": "scatterpolar"
           }
          ],
          "scatterpolargl": [
           {
            "marker": {
             "colorbar": {
              "outlinewidth": 0,
              "ticks": ""
             }
            },
            "type": "scatterpolargl"
           }
          ],
          "scatterternary": [
           {
            "marker": {
             "colorbar": {
              "outlinewidth": 0,
              "ticks": ""
             }
            },
            "type": "scatterternary"
           }
          ],
          "surface": [
           {
            "colorbar": {
             "outlinewidth": 0,
             "ticks": ""
            },
            "colorscale": [
             [
              0,
              "#0d0887"
             ],
             [
              0.1111111111111111,
              "#46039f"
             ],
             [
              0.2222222222222222,
              "#7201a8"
             ],
             [
              0.3333333333333333,
              "#9c179e"
             ],
             [
              0.4444444444444444,
              "#bd3786"
             ],
             [
              0.5555555555555556,
              "#d8576b"
             ],
             [
              0.6666666666666666,
              "#ed7953"
             ],
             [
              0.7777777777777778,
              "#fb9f3a"
             ],
             [
              0.8888888888888888,
              "#fdca26"
             ],
             [
              1,
              "#f0f921"
             ]
            ],
            "type": "surface"
           }
          ],
          "table": [
           {
            "cells": {
             "fill": {
              "color": "#EBF0F8"
             },
             "line": {
              "color": "white"
             }
            },
            "header": {
             "fill": {
              "color": "#C8D4E3"
             },
             "line": {
              "color": "white"
             }
            },
            "type": "table"
           }
          ]
         },
         "layout": {
          "annotationdefaults": {
           "arrowcolor": "#2a3f5f",
           "arrowhead": 0,
           "arrowwidth": 1
          },
          "autotypenumbers": "strict",
          "coloraxis": {
           "colorbar": {
            "outlinewidth": 0,
            "ticks": ""
           }
          },
          "colorscale": {
           "diverging": [
            [
             0,
             "#8e0152"
            ],
            [
             0.1,
             "#c51b7d"
            ],
            [
             0.2,
             "#de77ae"
            ],
            [
             0.3,
             "#f1b6da"
            ],
            [
             0.4,
             "#fde0ef"
            ],
            [
             0.5,
             "#f7f7f7"
            ],
            [
             0.6,
             "#e6f5d0"
            ],
            [
             0.7,
             "#b8e186"
            ],
            [
             0.8,
             "#7fbc41"
            ],
            [
             0.9,
             "#4d9221"
            ],
            [
             1,
             "#276419"
            ]
           ],
           "sequential": [
            [
             0,
             "#0d0887"
            ],
            [
             0.1111111111111111,
             "#46039f"
            ],
            [
             0.2222222222222222,
             "#7201a8"
            ],
            [
             0.3333333333333333,
             "#9c179e"
            ],
            [
             0.4444444444444444,
             "#bd3786"
            ],
            [
             0.5555555555555556,
             "#d8576b"
            ],
            [
             0.6666666666666666,
             "#ed7953"
            ],
            [
             0.7777777777777778,
             "#fb9f3a"
            ],
            [
             0.8888888888888888,
             "#fdca26"
            ],
            [
             1,
             "#f0f921"
            ]
           ],
           "sequentialminus": [
            [
             0,
             "#0d0887"
            ],
            [
             0.1111111111111111,
             "#46039f"
            ],
            [
             0.2222222222222222,
             "#7201a8"
            ],
            [
             0.3333333333333333,
             "#9c179e"
            ],
            [
             0.4444444444444444,
             "#bd3786"
            ],
            [
             0.5555555555555556,
             "#d8576b"
            ],
            [
             0.6666666666666666,
             "#ed7953"
            ],
            [
             0.7777777777777778,
             "#fb9f3a"
            ],
            [
             0.8888888888888888,
             "#fdca26"
            ],
            [
             1,
             "#f0f921"
            ]
           ]
          },
          "colorway": [
           "#636efa",
           "#EF553B",
           "#00cc96",
           "#ab63fa",
           "#FFA15A",
           "#19d3f3",
           "#FF6692",
           "#B6E880",
           "#FF97FF",
           "#FECB52"
          ],
          "font": {
           "color": "#2a3f5f"
          },
          "geo": {
           "bgcolor": "white",
           "lakecolor": "white",
           "landcolor": "#E5ECF6",
           "showlakes": true,
           "showland": true,
           "subunitcolor": "white"
          },
          "hoverlabel": {
           "align": "left"
          },
          "hovermode": "closest",
          "mapbox": {
           "style": "light"
          },
          "paper_bgcolor": "white",
          "plot_bgcolor": "#E5ECF6",
          "polar": {
           "angularaxis": {
            "gridcolor": "white",
            "linecolor": "white",
            "ticks": ""
           },
           "bgcolor": "#E5ECF6",
           "radialaxis": {
            "gridcolor": "white",
            "linecolor": "white",
            "ticks": ""
           }
          },
          "scene": {
           "xaxis": {
            "backgroundcolor": "#E5ECF6",
            "gridcolor": "white",
            "gridwidth": 2,
            "linecolor": "white",
            "showbackground": true,
            "ticks": "",
            "zerolinecolor": "white"
           },
           "yaxis": {
            "backgroundcolor": "#E5ECF6",
            "gridcolor": "white",
            "gridwidth": 2,
            "linecolor": "white",
            "showbackground": true,
            "ticks": "",
            "zerolinecolor": "white"
           },
           "zaxis": {
            "backgroundcolor": "#E5ECF6",
            "gridcolor": "white",
            "gridwidth": 2,
            "linecolor": "white",
            "showbackground": true,
            "ticks": "",
            "zerolinecolor": "white"
           }
          },
          "shapedefaults": {
           "line": {
            "color": "#2a3f5f"
           }
          },
          "ternary": {
           "aaxis": {
            "gridcolor": "white",
            "linecolor": "white",
            "ticks": ""
           },
           "baxis": {
            "gridcolor": "white",
            "linecolor": "white",
            "ticks": ""
           },
           "bgcolor": "#E5ECF6",
           "caxis": {
            "gridcolor": "white",
            "linecolor": "white",
            "ticks": ""
           }
          },
          "title": {
           "x": 0.05
          },
          "xaxis": {
           "automargin": true,
           "gridcolor": "white",
           "linecolor": "white",
           "ticks": "",
           "title": {
            "standoff": 15
           },
           "zerolinecolor": "white",
           "zerolinewidth": 2
          },
          "yaxis": {
           "automargin": true,
           "gridcolor": "white",
           "linecolor": "white",
           "ticks": "",
           "title": {
            "standoff": 15
           },
           "zerolinecolor": "white",
           "zerolinewidth": 2
          }
         }
        },
        "title": {
         "text": "Validation Performance and Training Learning Rate vs Epoch"
        },
        "xaxis": {
         "anchor": "y",
         "domain": [
          0,
          0.94
         ],
         "range": [
          0,
          160000
         ],
         "title": {
          "text": "Epoch"
         }
        },
        "yaxis": {
         "anchor": "x",
         "domain": [
          0,
          1
         ],
         "dtick": 10,
         "range": [
          0,
          100
         ],
         "title": {
          "text": "Performance (%)"
         }
        },
        "yaxis2": {
         "anchor": "x",
         "overlaying": "y",
         "side": "right",
         "title": {
          "text": "Learning Rate"
         }
        }
       }
      }
     },
     "metadata": {},
     "output_type": "display_data"
    }
   ],
   "source": [
    "# Ablation 10 - SEBNet BaselineDFFHeadEarlierLayers SGD, Pretrained, Batch Size 6, OHEM Cross Entropy, Edge Width 2, Edge Loss Weight 5.0 - 73.69 Best mIoU\n",
    "log_file_path = '/home/robert.breslin/alessandro/paper_2/mmsegmentation/work_dirs/sebnet_baseline-dff-head-earlier-layers_1xb6_cityscapes/20250827_123829/20250827_123829.log'\n",
    "epochs, mIoU, mAcc, lrs = parse_log_file(log_file_path)\n",
    "plot_accuracies_and_lr_interactive(epochs, mAcc, mIoU, lrs, [0,160000])"
   ]
  },
  {
   "cell_type": "code",
   "execution_count": 16,
   "id": "c8bde3c0",
   "metadata": {},
   "outputs": [
    {
     "data": {
      "application/vnd.plotly.v1+json": {
       "config": {
        "plotlyServerURL": "https://plot.ly"
       },
       "data": [
        {
         "line": {
          "color": "blue"
         },
         "name": "Mean Accuracy",
         "type": "scatter",
         "x": [
          1000,
          2000,
          3000,
          4000,
          5000,
          6000,
          7000,
          8000,
          9000,
          10000,
          11000,
          12000,
          13000,
          14000,
          15000,
          16000,
          17000,
          18000,
          19000,
          20000,
          21000,
          22000,
          23000,
          24000,
          25000,
          26000,
          27000,
          28000,
          29000,
          30000,
          31000,
          32000,
          33000,
          34000,
          35000,
          36000,
          37000,
          38000,
          39000,
          40000,
          41000,
          42000,
          43000,
          44000,
          45000,
          46000,
          47000,
          48000,
          49000,
          50000,
          51000,
          52000,
          53000,
          54000,
          55000,
          56000,
          57000,
          58000,
          59000,
          60000,
          61000,
          62000,
          63000,
          64000,
          65000,
          66000,
          67000,
          68000,
          69000,
          70000,
          71000,
          72000,
          73000,
          74000,
          75000,
          76000,
          77000,
          78000,
          79000,
          80000,
          81000,
          82000,
          83000,
          84000,
          85000,
          86000,
          87000,
          88000,
          89000,
          90000,
          91000,
          92000,
          93000,
          94000,
          95000,
          96000,
          97000,
          98000,
          99000,
          100000,
          101000,
          102000,
          103000,
          104000,
          105000,
          106000,
          107000,
          108000,
          109000,
          110000,
          111000,
          112000,
          113000,
          114000,
          115000,
          116000,
          117000,
          118000,
          119000,
          120000,
          121000,
          122000,
          123000,
          124000,
          125000,
          126000,
          127000,
          128000,
          129000,
          130000,
          131000,
          132000,
          133000,
          134000,
          135000,
          136000,
          137000,
          138000,
          139000,
          140000,
          141000,
          142000,
          143000,
          144000,
          145000,
          146000,
          147000,
          148000,
          149000,
          150000,
          151000,
          152000,
          153000,
          154000,
          155000,
          156000,
          157000,
          158000,
          159000,
          160000
         ],
         "xaxis": "x",
         "y": [
          25.77,
          33.06,
          35.49,
          37.72,
          40.91,
          42.66,
          49.08,
          46.6,
          47.5,
          47.63,
          51.87,
          51.57,
          51.32,
          51.93,
          53.18,
          56.1,
          54.96,
          52.7,
          59.8,
          49.97,
          56.17,
          59.42,
          60.89,
          63.42,
          64.18,
          62.65,
          61.59,
          61.94,
          61.8,
          63.57,
          64.56,
          61.28,
          67.62,
          63.15,
          65.69,
          62.75,
          66.51,
          66.28,
          58.58,
          65.77,
          65.42,
          67.17,
          64.11,
          64.71,
          68.91,
          70.91,
          64.09,
          68.63,
          67.47,
          69.1,
          68.51,
          68,
          69.4,
          70.05,
          66.5,
          69.85,
          69.38,
          65.71,
          70.72,
          69.49,
          67.99,
          69.75,
          70.1,
          68.8,
          69.35,
          70.25,
          73.64,
          73.36,
          71.33,
          67.55,
          66.96,
          73.48,
          71.95,
          70.47,
          73.07,
          74.33,
          67.88,
          70.67,
          70.87,
          71.74,
          71.93,
          77.13,
          75.53,
          74.8,
          73.78,
          75.65,
          71.3,
          67.17,
          73.64,
          75.11,
          74.35,
          73.8,
          74.14,
          72.63,
          76.35,
          75.81,
          77.8,
          73.81,
          74.88,
          71.39,
          78.38,
          78.03,
          75.09,
          77.34,
          76.86,
          73.28,
          76.06,
          74.37,
          78.66,
          78.73,
          77.83,
          77.04,
          77.02,
          76.49,
          78.4,
          73.72,
          78.42,
          76.16,
          76.99,
          77.49,
          76.44,
          79.16,
          78.34,
          72.79,
          80.22,
          77.13,
          78.32,
          78.66,
          77.55,
          77.54,
          78.25,
          80.45,
          78.65,
          80.69,
          79.84,
          78.91,
          80.51,
          80.18,
          79.34,
          80.98,
          80.95,
          78.72,
          80.75,
          79.4,
          80.68,
          78.72,
          81.92,
          79.79,
          81.15,
          81.27,
          81.58,
          82.37,
          82.13,
          83.11,
          81.86,
          82.11,
          83.06,
          83.02,
          82.33,
          82.68
         ],
         "yaxis": "y"
        },
        {
         "line": {
          "color": "orange"
         },
         "name": "Mean IoU",
         "type": "scatter",
         "x": [
          1000,
          2000,
          3000,
          4000,
          5000,
          6000,
          7000,
          8000,
          9000,
          10000,
          11000,
          12000,
          13000,
          14000,
          15000,
          16000,
          17000,
          18000,
          19000,
          20000,
          21000,
          22000,
          23000,
          24000,
          25000,
          26000,
          27000,
          28000,
          29000,
          30000,
          31000,
          32000,
          33000,
          34000,
          35000,
          36000,
          37000,
          38000,
          39000,
          40000,
          41000,
          42000,
          43000,
          44000,
          45000,
          46000,
          47000,
          48000,
          49000,
          50000,
          51000,
          52000,
          53000,
          54000,
          55000,
          56000,
          57000,
          58000,
          59000,
          60000,
          61000,
          62000,
          63000,
          64000,
          65000,
          66000,
          67000,
          68000,
          69000,
          70000,
          71000,
          72000,
          73000,
          74000,
          75000,
          76000,
          77000,
          78000,
          79000,
          80000,
          81000,
          82000,
          83000,
          84000,
          85000,
          86000,
          87000,
          88000,
          89000,
          90000,
          91000,
          92000,
          93000,
          94000,
          95000,
          96000,
          97000,
          98000,
          99000,
          100000,
          101000,
          102000,
          103000,
          104000,
          105000,
          106000,
          107000,
          108000,
          109000,
          110000,
          111000,
          112000,
          113000,
          114000,
          115000,
          116000,
          117000,
          118000,
          119000,
          120000,
          121000,
          122000,
          123000,
          124000,
          125000,
          126000,
          127000,
          128000,
          129000,
          130000,
          131000,
          132000,
          133000,
          134000,
          135000,
          136000,
          137000,
          138000,
          139000,
          140000,
          141000,
          142000,
          143000,
          144000,
          145000,
          146000,
          147000,
          148000,
          149000,
          150000,
          151000,
          152000,
          153000,
          154000,
          155000,
          156000,
          157000,
          158000,
          159000,
          160000
         ],
         "xaxis": "x",
         "y": [
          18.75,
          26.67,
          28.49,
          31.5,
          32.51,
          34.02,
          37.62,
          38.37,
          38.64,
          38.72,
          42.33,
          42.39,
          41.93,
          42.18,
          45.77,
          43.13,
          46.72,
          44.29,
          50.31,
          41.03,
          43.79,
          48.52,
          50.16,
          51.57,
          53.02,
          48.38,
          49.64,
          51.8,
          50.57,
          53.44,
          53.81,
          52.43,
          53.44,
          53.57,
          55.07,
          54.66,
          55.52,
          55.33,
          49.48,
          56.15,
          55.81,
          57.35,
          54.98,
          55.96,
          54.91,
          58.44,
          53.29,
          58.21,
          56.51,
          57.06,
          57.73,
          55.05,
          59.92,
          58.2,
          53.17,
          58.88,
          58.47,
          55.45,
          59.57,
          59.14,
          57.02,
          58.83,
          59.78,
          57.35,
          59.43,
          56.14,
          62.26,
          60.39,
          61.32,
          57.56,
          56.36,
          59.93,
          60.27,
          60.2,
          61.39,
          65.04,
          57.83,
          60.86,
          60.73,
          61.92,
          57.52,
          63.05,
          63.68,
          62.41,
          62.31,
          65.54,
          59.93,
          59.16,
          59.16,
          65.54,
          62.63,
          64.14,
          64.36,
          60.64,
          65.91,
          63.55,
          66.52,
          62.25,
          65.37,
          60.72,
          66.36,
          65.52,
          65.01,
          65.45,
          65.49,
          62.79,
          62.53,
          64.94,
          67.86,
          67.23,
          66.26,
          66.15,
          65.65,
          62.63,
          68.41,
          64.69,
          66.87,
          66.79,
          64.45,
          63.89,
          66.02,
          69.13,
          66.77,
          63.72,
          68.62,
          66.51,
          67.96,
          68.13,
          67.16,
          67.94,
          69.02,
          69.47,
          69.56,
          69.68,
          67.78,
          68.41,
          69.4,
          68.43,
          67.84,
          71.17,
          70.96,
          69.98,
          71.36,
          69.03,
          70.43,
          66.48,
          71.24,
          70.64,
          70.88,
          71.83,
          71.9,
          72.73,
          72.84,
          73.44,
          72.6,
          73,
          73.27,
          73.37,
          73.08,
          73.51
         ],
         "yaxis": "y"
        },
        {
         "line": {
          "color": "green"
         },
         "name": "Learning Rate",
         "type": "scatter",
         "x": [
          1000,
          2000,
          3000,
          4000,
          5000,
          6000,
          7000,
          8000,
          9000,
          10000,
          11000,
          12000,
          13000,
          14000,
          15000,
          16000,
          17000,
          18000,
          19000,
          20000,
          21000,
          22000,
          23000,
          24000,
          25000,
          26000,
          27000,
          28000,
          29000,
          30000,
          31000,
          32000,
          33000,
          34000,
          35000,
          36000,
          37000,
          38000,
          39000,
          40000,
          41000,
          42000,
          43000,
          44000,
          45000,
          46000,
          47000,
          48000,
          49000,
          50000,
          51000,
          52000,
          53000,
          54000,
          55000,
          56000,
          57000,
          58000,
          59000,
          60000,
          61000,
          62000,
          63000,
          64000,
          65000,
          66000,
          67000,
          68000,
          69000,
          70000,
          71000,
          72000,
          73000,
          74000,
          75000,
          76000,
          77000,
          78000,
          79000,
          80000,
          81000,
          82000,
          83000,
          84000,
          85000,
          86000,
          87000,
          88000,
          89000,
          90000,
          91000,
          92000,
          93000,
          94000,
          95000,
          96000,
          97000,
          98000,
          99000,
          100000,
          101000,
          102000,
          103000,
          104000,
          105000,
          106000,
          107000,
          108000,
          109000,
          110000,
          111000,
          112000,
          113000,
          114000,
          115000,
          116000,
          117000,
          118000,
          119000,
          120000,
          121000,
          122000,
          123000,
          124000,
          125000,
          126000,
          127000,
          128000,
          129000,
          130000,
          131000,
          132000,
          133000,
          134000,
          135000,
          136000,
          137000,
          138000,
          139000,
          140000,
          141000,
          142000,
          143000,
          144000,
          145000,
          146000,
          147000,
          148000,
          149000,
          150000,
          151000,
          152000,
          153000,
          154000,
          155000,
          156000,
          157000,
          158000,
          159000,
          160000
         ],
         "xaxis": "x",
         "y": [
          0.0099438,
          0.0098875,
          0.0098311,
          0.0097748,
          0.0097184,
          0.0096619,
          0.0096054,
          0.0095489,
          0.0094923,
          0.0094358,
          0.0093791,
          0.0093224,
          0.0092657,
          0.009209,
          0.0091522,
          0.0090954,
          0.0090385,
          0.0089816,
          0.0089247,
          0.0088677,
          0.0088106,
          0.0087536,
          0.0086965,
          0.0086393,
          0.0085821,
          0.0085249,
          0.0084676,
          0.0084103,
          0.0083529,
          0.0082955,
          0.0082381,
          0.0081806,
          0.008123,
          0.0080654,
          0.0080078,
          0.0079501,
          0.0078924,
          0.0078346,
          0.0077768,
          0.0077189,
          0.007661,
          0.0076031,
          0.007545,
          0.007487,
          0.0074289,
          0.0073707,
          0.0073125,
          0.0072542,
          0.0071959,
          0.0071375,
          0.0070791,
          0.0070206,
          0.0069621,
          0.0069035,
          0.0068449,
          0.0067862,
          0.0067274,
          0.0066686,
          0.0066097,
          0.0065508,
          0.0064918,
          0.0064328,
          0.0063737,
          0.0063145,
          0.0062553,
          0.006196,
          0.0061366,
          0.0060772,
          0.0060177,
          0.0059582,
          0.0058986,
          0.0058389,
          0.0057791,
          0.0057193,
          0.0056594,
          0.0055995,
          0.0055394,
          0.0054793,
          0.0054191,
          0.0053589,
          0.0052986,
          0.0052382,
          0.0051777,
          0.0051171,
          0.0050565,
          0.0049958,
          0.004935,
          0.0048741,
          0.0048131,
          0.0047521,
          0.0046909,
          0.0046297,
          0.0045684,
          0.004507,
          0.0044455,
          0.0043839,
          0.0043222,
          0.0042604,
          0.0041985,
          0.0041365,
          0.0040744,
          0.0040122,
          0.0039499,
          0.0038874,
          0.0038249,
          0.0037623,
          0.0036995,
          0.0036366,
          0.0035736,
          0.0035105,
          0.0034472,
          0.0033839,
          0.0033203,
          0.0032567,
          0.0031929,
          0.003129,
          0.0030649,
          0.0030007,
          0.0029363,
          0.0028718,
          0.0028071,
          0.0027422,
          0.0026772,
          0.002612,
          0.0025466,
          0.002481,
          0.0024152,
          0.0023493,
          0.0022831,
          0.0022167,
          0.0021501,
          0.0020832,
          0.0020161,
          0.0019488,
          0.0018812,
          0.0018134,
          0.0017452,
          0.0016768,
          0.001608,
          0.0015389,
          0.0014695,
          0.0013997,
          0.0013295,
          0.0012589,
          0.0011879,
          0.0011164,
          0.0010443,
          0.00097176,
          0.00089856,
          0.0008247,
          0.00075009,
          0.00067465,
          0.00059825,
          0.00052075,
          0.00044194,
          0.00036153,
          0.00027906,
          0.00019374,
          0.00010382,
          0
         ],
         "yaxis": "y2"
        }
       ],
       "layout": {
        "hovermode": "x unified",
        "legend": {
         "x": 1.15,
         "xanchor": "right",
         "y": 1.15,
         "yanchor": "top"
        },
        "template": {
         "data": {
          "bar": [
           {
            "error_x": {
             "color": "#2a3f5f"
            },
            "error_y": {
             "color": "#2a3f5f"
            },
            "marker": {
             "line": {
              "color": "#E5ECF6",
              "width": 0.5
             },
             "pattern": {
              "fillmode": "overlay",
              "size": 10,
              "solidity": 0.2
             }
            },
            "type": "bar"
           }
          ],
          "barpolar": [
           {
            "marker": {
             "line": {
              "color": "#E5ECF6",
              "width": 0.5
             },
             "pattern": {
              "fillmode": "overlay",
              "size": 10,
              "solidity": 0.2
             }
            },
            "type": "barpolar"
           }
          ],
          "carpet": [
           {
            "aaxis": {
             "endlinecolor": "#2a3f5f",
             "gridcolor": "white",
             "linecolor": "white",
             "minorgridcolor": "white",
             "startlinecolor": "#2a3f5f"
            },
            "baxis": {
             "endlinecolor": "#2a3f5f",
             "gridcolor": "white",
             "linecolor": "white",
             "minorgridcolor": "white",
             "startlinecolor": "#2a3f5f"
            },
            "type": "carpet"
           }
          ],
          "choropleth": [
           {
            "colorbar": {
             "outlinewidth": 0,
             "ticks": ""
            },
            "type": "choropleth"
           }
          ],
          "contour": [
           {
            "colorbar": {
             "outlinewidth": 0,
             "ticks": ""
            },
            "colorscale": [
             [
              0,
              "#0d0887"
             ],
             [
              0.1111111111111111,
              "#46039f"
             ],
             [
              0.2222222222222222,
              "#7201a8"
             ],
             [
              0.3333333333333333,
              "#9c179e"
             ],
             [
              0.4444444444444444,
              "#bd3786"
             ],
             [
              0.5555555555555556,
              "#d8576b"
             ],
             [
              0.6666666666666666,
              "#ed7953"
             ],
             [
              0.7777777777777778,
              "#fb9f3a"
             ],
             [
              0.8888888888888888,
              "#fdca26"
             ],
             [
              1,
              "#f0f921"
             ]
            ],
            "type": "contour"
           }
          ],
          "contourcarpet": [
           {
            "colorbar": {
             "outlinewidth": 0,
             "ticks": ""
            },
            "type": "contourcarpet"
           }
          ],
          "heatmap": [
           {
            "colorbar": {
             "outlinewidth": 0,
             "ticks": ""
            },
            "colorscale": [
             [
              0,
              "#0d0887"
             ],
             [
              0.1111111111111111,
              "#46039f"
             ],
             [
              0.2222222222222222,
              "#7201a8"
             ],
             [
              0.3333333333333333,
              "#9c179e"
             ],
             [
              0.4444444444444444,
              "#bd3786"
             ],
             [
              0.5555555555555556,
              "#d8576b"
             ],
             [
              0.6666666666666666,
              "#ed7953"
             ],
             [
              0.7777777777777778,
              "#fb9f3a"
             ],
             [
              0.8888888888888888,
              "#fdca26"
             ],
             [
              1,
              "#f0f921"
             ]
            ],
            "type": "heatmap"
           }
          ],
          "histogram": [
           {
            "marker": {
             "pattern": {
              "fillmode": "overlay",
              "size": 10,
              "solidity": 0.2
             }
            },
            "type": "histogram"
           }
          ],
          "histogram2d": [
           {
            "colorbar": {
             "outlinewidth": 0,
             "ticks": ""
            },
            "colorscale": [
             [
              0,
              "#0d0887"
             ],
             [
              0.1111111111111111,
              "#46039f"
             ],
             [
              0.2222222222222222,
              "#7201a8"
             ],
             [
              0.3333333333333333,
              "#9c179e"
             ],
             [
              0.4444444444444444,
              "#bd3786"
             ],
             [
              0.5555555555555556,
              "#d8576b"
             ],
             [
              0.6666666666666666,
              "#ed7953"
             ],
             [
              0.7777777777777778,
              "#fb9f3a"
             ],
             [
              0.8888888888888888,
              "#fdca26"
             ],
             [
              1,
              "#f0f921"
             ]
            ],
            "type": "histogram2d"
           }
          ],
          "histogram2dcontour": [
           {
            "colorbar": {
             "outlinewidth": 0,
             "ticks": ""
            },
            "colorscale": [
             [
              0,
              "#0d0887"
             ],
             [
              0.1111111111111111,
              "#46039f"
             ],
             [
              0.2222222222222222,
              "#7201a8"
             ],
             [
              0.3333333333333333,
              "#9c179e"
             ],
             [
              0.4444444444444444,
              "#bd3786"
             ],
             [
              0.5555555555555556,
              "#d8576b"
             ],
             [
              0.6666666666666666,
              "#ed7953"
             ],
             [
              0.7777777777777778,
              "#fb9f3a"
             ],
             [
              0.8888888888888888,
              "#fdca26"
             ],
             [
              1,
              "#f0f921"
             ]
            ],
            "type": "histogram2dcontour"
           }
          ],
          "mesh3d": [
           {
            "colorbar": {
             "outlinewidth": 0,
             "ticks": ""
            },
            "type": "mesh3d"
           }
          ],
          "parcoords": [
           {
            "line": {
             "colorbar": {
              "outlinewidth": 0,
              "ticks": ""
             }
            },
            "type": "parcoords"
           }
          ],
          "pie": [
           {
            "automargin": true,
            "type": "pie"
           }
          ],
          "scatter": [
           {
            "fillpattern": {
             "fillmode": "overlay",
             "size": 10,
             "solidity": 0.2
            },
            "type": "scatter"
           }
          ],
          "scatter3d": [
           {
            "line": {
             "colorbar": {
              "outlinewidth": 0,
              "ticks": ""
             }
            },
            "marker": {
             "colorbar": {
              "outlinewidth": 0,
              "ticks": ""
             }
            },
            "type": "scatter3d"
           }
          ],
          "scattercarpet": [
           {
            "marker": {
             "colorbar": {
              "outlinewidth": 0,
              "ticks": ""
             }
            },
            "type": "scattercarpet"
           }
          ],
          "scattergeo": [
           {
            "marker": {
             "colorbar": {
              "outlinewidth": 0,
              "ticks": ""
             }
            },
            "type": "scattergeo"
           }
          ],
          "scattergl": [
           {
            "marker": {
             "colorbar": {
              "outlinewidth": 0,
              "ticks": ""
             }
            },
            "type": "scattergl"
           }
          ],
          "scattermap": [
           {
            "marker": {
             "colorbar": {
              "outlinewidth": 0,
              "ticks": ""
             }
            },
            "type": "scattermap"
           }
          ],
          "scattermapbox": [
           {
            "marker": {
             "colorbar": {
              "outlinewidth": 0,
              "ticks": ""
             }
            },
            "type": "scattermapbox"
           }
          ],
          "scatterpolar": [
           {
            "marker": {
             "colorbar": {
              "outlinewidth": 0,
              "ticks": ""
             }
            },
            "type": "scatterpolar"
           }
          ],
          "scatterpolargl": [
           {
            "marker": {
             "colorbar": {
              "outlinewidth": 0,
              "ticks": ""
             }
            },
            "type": "scatterpolargl"
           }
          ],
          "scatterternary": [
           {
            "marker": {
             "colorbar": {
              "outlinewidth": 0,
              "ticks": ""
             }
            },
            "type": "scatterternary"
           }
          ],
          "surface": [
           {
            "colorbar": {
             "outlinewidth": 0,
             "ticks": ""
            },
            "colorscale": [
             [
              0,
              "#0d0887"
             ],
             [
              0.1111111111111111,
              "#46039f"
             ],
             [
              0.2222222222222222,
              "#7201a8"
             ],
             [
              0.3333333333333333,
              "#9c179e"
             ],
             [
              0.4444444444444444,
              "#bd3786"
             ],
             [
              0.5555555555555556,
              "#d8576b"
             ],
             [
              0.6666666666666666,
              "#ed7953"
             ],
             [
              0.7777777777777778,
              "#fb9f3a"
             ],
             [
              0.8888888888888888,
              "#fdca26"
             ],
             [
              1,
              "#f0f921"
             ]
            ],
            "type": "surface"
           }
          ],
          "table": [
           {
            "cells": {
             "fill": {
              "color": "#EBF0F8"
             },
             "line": {
              "color": "white"
             }
            },
            "header": {
             "fill": {
              "color": "#C8D4E3"
             },
             "line": {
              "color": "white"
             }
            },
            "type": "table"
           }
          ]
         },
         "layout": {
          "annotationdefaults": {
           "arrowcolor": "#2a3f5f",
           "arrowhead": 0,
           "arrowwidth": 1
          },
          "autotypenumbers": "strict",
          "coloraxis": {
           "colorbar": {
            "outlinewidth": 0,
            "ticks": ""
           }
          },
          "colorscale": {
           "diverging": [
            [
             0,
             "#8e0152"
            ],
            [
             0.1,
             "#c51b7d"
            ],
            [
             0.2,
             "#de77ae"
            ],
            [
             0.3,
             "#f1b6da"
            ],
            [
             0.4,
             "#fde0ef"
            ],
            [
             0.5,
             "#f7f7f7"
            ],
            [
             0.6,
             "#e6f5d0"
            ],
            [
             0.7,
             "#b8e186"
            ],
            [
             0.8,
             "#7fbc41"
            ],
            [
             0.9,
             "#4d9221"
            ],
            [
             1,
             "#276419"
            ]
           ],
           "sequential": [
            [
             0,
             "#0d0887"
            ],
            [
             0.1111111111111111,
             "#46039f"
            ],
            [
             0.2222222222222222,
             "#7201a8"
            ],
            [
             0.3333333333333333,
             "#9c179e"
            ],
            [
             0.4444444444444444,
             "#bd3786"
            ],
            [
             0.5555555555555556,
             "#d8576b"
            ],
            [
             0.6666666666666666,
             "#ed7953"
            ],
            [
             0.7777777777777778,
             "#fb9f3a"
            ],
            [
             0.8888888888888888,
             "#fdca26"
            ],
            [
             1,
             "#f0f921"
            ]
           ],
           "sequentialminus": [
            [
             0,
             "#0d0887"
            ],
            [
             0.1111111111111111,
             "#46039f"
            ],
            [
             0.2222222222222222,
             "#7201a8"
            ],
            [
             0.3333333333333333,
             "#9c179e"
            ],
            [
             0.4444444444444444,
             "#bd3786"
            ],
            [
             0.5555555555555556,
             "#d8576b"
            ],
            [
             0.6666666666666666,
             "#ed7953"
            ],
            [
             0.7777777777777778,
             "#fb9f3a"
            ],
            [
             0.8888888888888888,
             "#fdca26"
            ],
            [
             1,
             "#f0f921"
            ]
           ]
          },
          "colorway": [
           "#636efa",
           "#EF553B",
           "#00cc96",
           "#ab63fa",
           "#FFA15A",
           "#19d3f3",
           "#FF6692",
           "#B6E880",
           "#FF97FF",
           "#FECB52"
          ],
          "font": {
           "color": "#2a3f5f"
          },
          "geo": {
           "bgcolor": "white",
           "lakecolor": "white",
           "landcolor": "#E5ECF6",
           "showlakes": true,
           "showland": true,
           "subunitcolor": "white"
          },
          "hoverlabel": {
           "align": "left"
          },
          "hovermode": "closest",
          "mapbox": {
           "style": "light"
          },
          "paper_bgcolor": "white",
          "plot_bgcolor": "#E5ECF6",
          "polar": {
           "angularaxis": {
            "gridcolor": "white",
            "linecolor": "white",
            "ticks": ""
           },
           "bgcolor": "#E5ECF6",
           "radialaxis": {
            "gridcolor": "white",
            "linecolor": "white",
            "ticks": ""
           }
          },
          "scene": {
           "xaxis": {
            "backgroundcolor": "#E5ECF6",
            "gridcolor": "white",
            "gridwidth": 2,
            "linecolor": "white",
            "showbackground": true,
            "ticks": "",
            "zerolinecolor": "white"
           },
           "yaxis": {
            "backgroundcolor": "#E5ECF6",
            "gridcolor": "white",
            "gridwidth": 2,
            "linecolor": "white",
            "showbackground": true,
            "ticks": "",
            "zerolinecolor": "white"
           },
           "zaxis": {
            "backgroundcolor": "#E5ECF6",
            "gridcolor": "white",
            "gridwidth": 2,
            "linecolor": "white",
            "showbackground": true,
            "ticks": "",
            "zerolinecolor": "white"
           }
          },
          "shapedefaults": {
           "line": {
            "color": "#2a3f5f"
           }
          },
          "ternary": {
           "aaxis": {
            "gridcolor": "white",
            "linecolor": "white",
            "ticks": ""
           },
           "baxis": {
            "gridcolor": "white",
            "linecolor": "white",
            "ticks": ""
           },
           "bgcolor": "#E5ECF6",
           "caxis": {
            "gridcolor": "white",
            "linecolor": "white",
            "ticks": ""
           }
          },
          "title": {
           "x": 0.05
          },
          "xaxis": {
           "automargin": true,
           "gridcolor": "white",
           "linecolor": "white",
           "ticks": "",
           "title": {
            "standoff": 15
           },
           "zerolinecolor": "white",
           "zerolinewidth": 2
          },
          "yaxis": {
           "automargin": true,
           "gridcolor": "white",
           "linecolor": "white",
           "ticks": "",
           "title": {
            "standoff": 15
           },
           "zerolinecolor": "white",
           "zerolinewidth": 2
          }
         }
        },
        "title": {
         "text": "Validation Performance and Training Learning Rate vs Epoch"
        },
        "xaxis": {
         "anchor": "y",
         "domain": [
          0,
          0.94
         ],
         "range": [
          0,
          160000
         ],
         "title": {
          "text": "Epoch"
         }
        },
        "yaxis": {
         "anchor": "x",
         "domain": [
          0,
          1
         ],
         "dtick": 10,
         "range": [
          0,
          100
         ],
         "title": {
          "text": "Performance (%)"
         }
        },
        "yaxis2": {
         "anchor": "x",
         "overlaying": "y",
         "side": "right",
         "title": {
          "text": "Learning Rate"
         }
        }
       }
      }
     },
     "metadata": {},
     "output_type": "display_data"
    }
   ],
   "source": [
    "# Ablation 08 - SEBNet BaselineDHeadEarlierLayers SGD, Pretrained, Batch Size 6, OHEM Cross Entropy, Edge Width 2, Edge Loss Weight 5.0 - 73.51 Best mIoU\n",
    "log_file_path = '/home/robert.breslin/alessandro/paper_2/mmsegmentation/work_dirs/sebnet_baseline-d-head-earlier-layers_1xb6_cityscapes/20250827_130234/20250827_130234.log'\n",
    "epochs, mIoU, mAcc, lrs = parse_log_file(log_file_path)\n",
    "plot_accuracies_and_lr_interactive(epochs, mAcc, mIoU, lrs, [0,160000])"
   ]
  },
  {
   "cell_type": "code",
   "execution_count": 17,
   "id": "e7d83b9b",
   "metadata": {},
   "outputs": [
    {
     "data": {
      "application/vnd.plotly.v1+json": {
       "config": {
        "plotlyServerURL": "https://plot.ly"
       },
       "data": [
        {
         "line": {
          "color": "blue"
         },
         "name": "Mean Accuracy",
         "type": "scatter",
         "x": [
          1000,
          2000,
          3000,
          4000,
          5000,
          6000,
          7000,
          8000,
          9000,
          10000,
          11000,
          12000,
          13000,
          14000,
          15000
         ],
         "xaxis": "x",
         "y": [
          31.27,
          35.55,
          40.34,
          39.75,
          44,
          51.95,
          54.28,
          53.81,
          53.91,
          58.01,
          57.49,
          60.45,
          61.55,
          58.83,
          63.16
         ],
         "yaxis": "y"
        },
        {
         "line": {
          "color": "orange"
         },
         "name": "Mean IoU",
         "type": "scatter",
         "x": [
          1000,
          2000,
          3000,
          4000,
          5000,
          6000,
          7000,
          8000,
          9000,
          10000,
          11000,
          12000,
          13000,
          14000,
          15000
         ],
         "xaxis": "x",
         "y": [
          24.3,
          29.21,
          31.22,
          31.48,
          35.29,
          39.63,
          40.2,
          43.76,
          44.54,
          47.5,
          46.08,
          49.46,
          51.74,
          47.43,
          52.89
         ],
         "yaxis": "y"
        },
        {
         "line": {
          "color": "green"
         },
         "name": "Learning Rate",
         "type": "scatter",
         "x": [
          1000,
          2000,
          3000,
          4000,
          5000,
          6000,
          7000,
          8000,
          9000,
          10000,
          11000,
          12000,
          13000,
          14000,
          15000
         ],
         "xaxis": "x",
         "y": [
          0.0099438,
          0.0098875,
          0.0098311,
          0.0097748,
          0.0097184,
          0.0096619,
          0.0096054,
          0.0095489,
          0.0094923,
          0.0094358,
          0.0093791,
          0.0093224,
          0.0092657,
          0.009209,
          0.0091522
         ],
         "yaxis": "y2"
        }
       ],
       "layout": {
        "hovermode": "x unified",
        "legend": {
         "x": 1.15,
         "xanchor": "right",
         "y": 1.15,
         "yanchor": "top"
        },
        "template": {
         "data": {
          "bar": [
           {
            "error_x": {
             "color": "#2a3f5f"
            },
            "error_y": {
             "color": "#2a3f5f"
            },
            "marker": {
             "line": {
              "color": "#E5ECF6",
              "width": 0.5
             },
             "pattern": {
              "fillmode": "overlay",
              "size": 10,
              "solidity": 0.2
             }
            },
            "type": "bar"
           }
          ],
          "barpolar": [
           {
            "marker": {
             "line": {
              "color": "#E5ECF6",
              "width": 0.5
             },
             "pattern": {
              "fillmode": "overlay",
              "size": 10,
              "solidity": 0.2
             }
            },
            "type": "barpolar"
           }
          ],
          "carpet": [
           {
            "aaxis": {
             "endlinecolor": "#2a3f5f",
             "gridcolor": "white",
             "linecolor": "white",
             "minorgridcolor": "white",
             "startlinecolor": "#2a3f5f"
            },
            "baxis": {
             "endlinecolor": "#2a3f5f",
             "gridcolor": "white",
             "linecolor": "white",
             "minorgridcolor": "white",
             "startlinecolor": "#2a3f5f"
            },
            "type": "carpet"
           }
          ],
          "choropleth": [
           {
            "colorbar": {
             "outlinewidth": 0,
             "ticks": ""
            },
            "type": "choropleth"
           }
          ],
          "contour": [
           {
            "colorbar": {
             "outlinewidth": 0,
             "ticks": ""
            },
            "colorscale": [
             [
              0,
              "#0d0887"
             ],
             [
              0.1111111111111111,
              "#46039f"
             ],
             [
              0.2222222222222222,
              "#7201a8"
             ],
             [
              0.3333333333333333,
              "#9c179e"
             ],
             [
              0.4444444444444444,
              "#bd3786"
             ],
             [
              0.5555555555555556,
              "#d8576b"
             ],
             [
              0.6666666666666666,
              "#ed7953"
             ],
             [
              0.7777777777777778,
              "#fb9f3a"
             ],
             [
              0.8888888888888888,
              "#fdca26"
             ],
             [
              1,
              "#f0f921"
             ]
            ],
            "type": "contour"
           }
          ],
          "contourcarpet": [
           {
            "colorbar": {
             "outlinewidth": 0,
             "ticks": ""
            },
            "type": "contourcarpet"
           }
          ],
          "heatmap": [
           {
            "colorbar": {
             "outlinewidth": 0,
             "ticks": ""
            },
            "colorscale": [
             [
              0,
              "#0d0887"
             ],
             [
              0.1111111111111111,
              "#46039f"
             ],
             [
              0.2222222222222222,
              "#7201a8"
             ],
             [
              0.3333333333333333,
              "#9c179e"
             ],
             [
              0.4444444444444444,
              "#bd3786"
             ],
             [
              0.5555555555555556,
              "#d8576b"
             ],
             [
              0.6666666666666666,
              "#ed7953"
             ],
             [
              0.7777777777777778,
              "#fb9f3a"
             ],
             [
              0.8888888888888888,
              "#fdca26"
             ],
             [
              1,
              "#f0f921"
             ]
            ],
            "type": "heatmap"
           }
          ],
          "histogram": [
           {
            "marker": {
             "pattern": {
              "fillmode": "overlay",
              "size": 10,
              "solidity": 0.2
             }
            },
            "type": "histogram"
           }
          ],
          "histogram2d": [
           {
            "colorbar": {
             "outlinewidth": 0,
             "ticks": ""
            },
            "colorscale": [
             [
              0,
              "#0d0887"
             ],
             [
              0.1111111111111111,
              "#46039f"
             ],
             [
              0.2222222222222222,
              "#7201a8"
             ],
             [
              0.3333333333333333,
              "#9c179e"
             ],
             [
              0.4444444444444444,
              "#bd3786"
             ],
             [
              0.5555555555555556,
              "#d8576b"
             ],
             [
              0.6666666666666666,
              "#ed7953"
             ],
             [
              0.7777777777777778,
              "#fb9f3a"
             ],
             [
              0.8888888888888888,
              "#fdca26"
             ],
             [
              1,
              "#f0f921"
             ]
            ],
            "type": "histogram2d"
           }
          ],
          "histogram2dcontour": [
           {
            "colorbar": {
             "outlinewidth": 0,
             "ticks": ""
            },
            "colorscale": [
             [
              0,
              "#0d0887"
             ],
             [
              0.1111111111111111,
              "#46039f"
             ],
             [
              0.2222222222222222,
              "#7201a8"
             ],
             [
              0.3333333333333333,
              "#9c179e"
             ],
             [
              0.4444444444444444,
              "#bd3786"
             ],
             [
              0.5555555555555556,
              "#d8576b"
             ],
             [
              0.6666666666666666,
              "#ed7953"
             ],
             [
              0.7777777777777778,
              "#fb9f3a"
             ],
             [
              0.8888888888888888,
              "#fdca26"
             ],
             [
              1,
              "#f0f921"
             ]
            ],
            "type": "histogram2dcontour"
           }
          ],
          "mesh3d": [
           {
            "colorbar": {
             "outlinewidth": 0,
             "ticks": ""
            },
            "type": "mesh3d"
           }
          ],
          "parcoords": [
           {
            "line": {
             "colorbar": {
              "outlinewidth": 0,
              "ticks": ""
             }
            },
            "type": "parcoords"
           }
          ],
          "pie": [
           {
            "automargin": true,
            "type": "pie"
           }
          ],
          "scatter": [
           {
            "fillpattern": {
             "fillmode": "overlay",
             "size": 10,
             "solidity": 0.2
            },
            "type": "scatter"
           }
          ],
          "scatter3d": [
           {
            "line": {
             "colorbar": {
              "outlinewidth": 0,
              "ticks": ""
             }
            },
            "marker": {
             "colorbar": {
              "outlinewidth": 0,
              "ticks": ""
             }
            },
            "type": "scatter3d"
           }
          ],
          "scattercarpet": [
           {
            "marker": {
             "colorbar": {
              "outlinewidth": 0,
              "ticks": ""
             }
            },
            "type": "scattercarpet"
           }
          ],
          "scattergeo": [
           {
            "marker": {
             "colorbar": {
              "outlinewidth": 0,
              "ticks": ""
             }
            },
            "type": "scattergeo"
           }
          ],
          "scattergl": [
           {
            "marker": {
             "colorbar": {
              "outlinewidth": 0,
              "ticks": ""
             }
            },
            "type": "scattergl"
           }
          ],
          "scattermap": [
           {
            "marker": {
             "colorbar": {
              "outlinewidth": 0,
              "ticks": ""
             }
            },
            "type": "scattermap"
           }
          ],
          "scattermapbox": [
           {
            "marker": {
             "colorbar": {
              "outlinewidth": 0,
              "ticks": ""
             }
            },
            "type": "scattermapbox"
           }
          ],
          "scatterpolar": [
           {
            "marker": {
             "colorbar": {
              "outlinewidth": 0,
              "ticks": ""
             }
            },
            "type": "scatterpolar"
           }
          ],
          "scatterpolargl": [
           {
            "marker": {
             "colorbar": {
              "outlinewidth": 0,
              "ticks": ""
             }
            },
            "type": "scatterpolargl"
           }
          ],
          "scatterternary": [
           {
            "marker": {
             "colorbar": {
              "outlinewidth": 0,
              "ticks": ""
             }
            },
            "type": "scatterternary"
           }
          ],
          "surface": [
           {
            "colorbar": {
             "outlinewidth": 0,
             "ticks": ""
            },
            "colorscale": [
             [
              0,
              "#0d0887"
             ],
             [
              0.1111111111111111,
              "#46039f"
             ],
             [
              0.2222222222222222,
              "#7201a8"
             ],
             [
              0.3333333333333333,
              "#9c179e"
             ],
             [
              0.4444444444444444,
              "#bd3786"
             ],
             [
              0.5555555555555556,
              "#d8576b"
             ],
             [
              0.6666666666666666,
              "#ed7953"
             ],
             [
              0.7777777777777778,
              "#fb9f3a"
             ],
             [
              0.8888888888888888,
              "#fdca26"
             ],
             [
              1,
              "#f0f921"
             ]
            ],
            "type": "surface"
           }
          ],
          "table": [
           {
            "cells": {
             "fill": {
              "color": "#EBF0F8"
             },
             "line": {
              "color": "white"
             }
            },
            "header": {
             "fill": {
              "color": "#C8D4E3"
             },
             "line": {
              "color": "white"
             }
            },
            "type": "table"
           }
          ]
         },
         "layout": {
          "annotationdefaults": {
           "arrowcolor": "#2a3f5f",
           "arrowhead": 0,
           "arrowwidth": 1
          },
          "autotypenumbers": "strict",
          "coloraxis": {
           "colorbar": {
            "outlinewidth": 0,
            "ticks": ""
           }
          },
          "colorscale": {
           "diverging": [
            [
             0,
             "#8e0152"
            ],
            [
             0.1,
             "#c51b7d"
            ],
            [
             0.2,
             "#de77ae"
            ],
            [
             0.3,
             "#f1b6da"
            ],
            [
             0.4,
             "#fde0ef"
            ],
            [
             0.5,
             "#f7f7f7"
            ],
            [
             0.6,
             "#e6f5d0"
            ],
            [
             0.7,
             "#b8e186"
            ],
            [
             0.8,
             "#7fbc41"
            ],
            [
             0.9,
             "#4d9221"
            ],
            [
             1,
             "#276419"
            ]
           ],
           "sequential": [
            [
             0,
             "#0d0887"
            ],
            [
             0.1111111111111111,
             "#46039f"
            ],
            [
             0.2222222222222222,
             "#7201a8"
            ],
            [
             0.3333333333333333,
             "#9c179e"
            ],
            [
             0.4444444444444444,
             "#bd3786"
            ],
            [
             0.5555555555555556,
             "#d8576b"
            ],
            [
             0.6666666666666666,
             "#ed7953"
            ],
            [
             0.7777777777777778,
             "#fb9f3a"
            ],
            [
             0.8888888888888888,
             "#fdca26"
            ],
            [
             1,
             "#f0f921"
            ]
           ],
           "sequentialminus": [
            [
             0,
             "#0d0887"
            ],
            [
             0.1111111111111111,
             "#46039f"
            ],
            [
             0.2222222222222222,
             "#7201a8"
            ],
            [
             0.3333333333333333,
             "#9c179e"
            ],
            [
             0.4444444444444444,
             "#bd3786"
            ],
            [
             0.5555555555555556,
             "#d8576b"
            ],
            [
             0.6666666666666666,
             "#ed7953"
            ],
            [
             0.7777777777777778,
             "#fb9f3a"
            ],
            [
             0.8888888888888888,
             "#fdca26"
            ],
            [
             1,
             "#f0f921"
            ]
           ]
          },
          "colorway": [
           "#636efa",
           "#EF553B",
           "#00cc96",
           "#ab63fa",
           "#FFA15A",
           "#19d3f3",
           "#FF6692",
           "#B6E880",
           "#FF97FF",
           "#FECB52"
          ],
          "font": {
           "color": "#2a3f5f"
          },
          "geo": {
           "bgcolor": "white",
           "lakecolor": "white",
           "landcolor": "#E5ECF6",
           "showlakes": true,
           "showland": true,
           "subunitcolor": "white"
          },
          "hoverlabel": {
           "align": "left"
          },
          "hovermode": "closest",
          "mapbox": {
           "style": "light"
          },
          "paper_bgcolor": "white",
          "plot_bgcolor": "#E5ECF6",
          "polar": {
           "angularaxis": {
            "gridcolor": "white",
            "linecolor": "white",
            "ticks": ""
           },
           "bgcolor": "#E5ECF6",
           "radialaxis": {
            "gridcolor": "white",
            "linecolor": "white",
            "ticks": ""
           }
          },
          "scene": {
           "xaxis": {
            "backgroundcolor": "#E5ECF6",
            "gridcolor": "white",
            "gridwidth": 2,
            "linecolor": "white",
            "showbackground": true,
            "ticks": "",
            "zerolinecolor": "white"
           },
           "yaxis": {
            "backgroundcolor": "#E5ECF6",
            "gridcolor": "white",
            "gridwidth": 2,
            "linecolor": "white",
            "showbackground": true,
            "ticks": "",
            "zerolinecolor": "white"
           },
           "zaxis": {
            "backgroundcolor": "#E5ECF6",
            "gridcolor": "white",
            "gridwidth": 2,
            "linecolor": "white",
            "showbackground": true,
            "ticks": "",
            "zerolinecolor": "white"
           }
          },
          "shapedefaults": {
           "line": {
            "color": "#2a3f5f"
           }
          },
          "ternary": {
           "aaxis": {
            "gridcolor": "white",
            "linecolor": "white",
            "ticks": ""
           },
           "baxis": {
            "gridcolor": "white",
            "linecolor": "white",
            "ticks": ""
           },
           "bgcolor": "#E5ECF6",
           "caxis": {
            "gridcolor": "white",
            "linecolor": "white",
            "ticks": ""
           }
          },
          "title": {
           "x": 0.05
          },
          "xaxis": {
           "automargin": true,
           "gridcolor": "white",
           "linecolor": "white",
           "ticks": "",
           "title": {
            "standoff": 15
           },
           "zerolinecolor": "white",
           "zerolinewidth": 2
          },
          "yaxis": {
           "automargin": true,
           "gridcolor": "white",
           "linecolor": "white",
           "ticks": "",
           "title": {
            "standoff": 15
           },
           "zerolinecolor": "white",
           "zerolinewidth": 2
          }
         }
        },
        "title": {
         "text": "Validation Performance and Training Learning Rate vs Epoch"
        },
        "xaxis": {
         "anchor": "y",
         "domain": [
          0,
          0.94
         ],
         "range": [
          0,
          160000
         ],
         "title": {
          "text": "Epoch"
         }
        },
        "yaxis": {
         "anchor": "x",
         "domain": [
          0,
          1
         ],
         "dtick": 10,
         "range": [
          0,
          100
         ],
         "title": {
          "text": "Performance (%)"
         }
        },
        "yaxis2": {
         "anchor": "x",
         "overlaying": "y",
         "side": "right",
         "title": {
          "text": "Learning Rate"
         }
        }
       }
      }
     },
     "metadata": {},
     "output_type": "display_data"
    }
   ],
   "source": [
    "# SEBNet BaselineDSBDHead SGD, Pretrained, Batch Size 6, OHEM Cross Entropy, Edge Width 2, Edge Loss Weight 5.0 - XX.XX Best mIoU\n",
    "log_file_path = '/home/robert.breslin/alessandro/paper_2/mmsegmentation/work_dirs/sebnet_baseline-d-sbd-head_1xb6_cityscapes/20250903_135626/20250903_135626.log'\n",
    "epochs, mIoU, mAcc, lrs = parse_log_file(log_file_path)\n",
    "plot_accuracies_and_lr_interactive(epochs, mAcc, mIoU, lrs, [0,160000])"
   ]
  },
  {
   "cell_type": "code",
   "execution_count": 18,
   "id": "b5fece43",
   "metadata": {},
   "outputs": [
    {
     "data": {
      "application/vnd.plotly.v1+json": {
       "config": {
        "plotlyServerURL": "https://plot.ly"
       },
       "data": [
        {
         "line": {
          "color": "blue"
         },
         "name": "Mean Accuracy",
         "type": "scatter",
         "x": [
          1000,
          2000,
          3000,
          4000,
          5000,
          6000,
          7000,
          8000,
          9000,
          10000,
          11000,
          12000,
          13000,
          14000,
          15000
         ],
         "xaxis": "x",
         "y": [
          31.17,
          36.9,
          46.61,
          41.71,
          51.12,
          55.86,
          59.29,
          61.06,
          55.64,
          52.09,
          61.98,
          63.6,
          67.15,
          62.86,
          67.71
         ],
         "yaxis": "y"
        },
        {
         "line": {
          "color": "orange"
         },
         "name": "Mean IoU",
         "type": "scatter",
         "x": [
          1000,
          2000,
          3000,
          4000,
          5000,
          6000,
          7000,
          8000,
          9000,
          10000,
          11000,
          12000,
          13000,
          14000,
          15000
         ],
         "xaxis": "x",
         "y": [
          25.24,
          29.93,
          34.03,
          34.36,
          38.73,
          44.03,
          44.86,
          49.25,
          46.7,
          43.59,
          52.23,
          53.71,
          56.67,
          52.34,
          57.41
         ],
         "yaxis": "y"
        },
        {
         "line": {
          "color": "green"
         },
         "name": "Learning Rate",
         "type": "scatter",
         "x": [
          1000,
          2000,
          3000,
          4000,
          5000,
          6000,
          7000,
          8000,
          9000,
          10000,
          11000,
          12000,
          13000,
          14000,
          15000
         ],
         "xaxis": "x",
         "y": [
          0.0099438,
          0.0098875,
          0.0098311,
          0.0097748,
          0.0097184,
          0.0096619,
          0.0096054,
          0.0095489,
          0.0094923,
          0.0094358,
          0.0093791,
          0.0093224,
          0.0092657,
          0.009209,
          0.0091522
         ],
         "yaxis": "y2"
        }
       ],
       "layout": {
        "hovermode": "x unified",
        "legend": {
         "x": 1.15,
         "xanchor": "right",
         "y": 1.15,
         "yanchor": "top"
        },
        "template": {
         "data": {
          "bar": [
           {
            "error_x": {
             "color": "#2a3f5f"
            },
            "error_y": {
             "color": "#2a3f5f"
            },
            "marker": {
             "line": {
              "color": "#E5ECF6",
              "width": 0.5
             },
             "pattern": {
              "fillmode": "overlay",
              "size": 10,
              "solidity": 0.2
             }
            },
            "type": "bar"
           }
          ],
          "barpolar": [
           {
            "marker": {
             "line": {
              "color": "#E5ECF6",
              "width": 0.5
             },
             "pattern": {
              "fillmode": "overlay",
              "size": 10,
              "solidity": 0.2
             }
            },
            "type": "barpolar"
           }
          ],
          "carpet": [
           {
            "aaxis": {
             "endlinecolor": "#2a3f5f",
             "gridcolor": "white",
             "linecolor": "white",
             "minorgridcolor": "white",
             "startlinecolor": "#2a3f5f"
            },
            "baxis": {
             "endlinecolor": "#2a3f5f",
             "gridcolor": "white",
             "linecolor": "white",
             "minorgridcolor": "white",
             "startlinecolor": "#2a3f5f"
            },
            "type": "carpet"
           }
          ],
          "choropleth": [
           {
            "colorbar": {
             "outlinewidth": 0,
             "ticks": ""
            },
            "type": "choropleth"
           }
          ],
          "contour": [
           {
            "colorbar": {
             "outlinewidth": 0,
             "ticks": ""
            },
            "colorscale": [
             [
              0,
              "#0d0887"
             ],
             [
              0.1111111111111111,
              "#46039f"
             ],
             [
              0.2222222222222222,
              "#7201a8"
             ],
             [
              0.3333333333333333,
              "#9c179e"
             ],
             [
              0.4444444444444444,
              "#bd3786"
             ],
             [
              0.5555555555555556,
              "#d8576b"
             ],
             [
              0.6666666666666666,
              "#ed7953"
             ],
             [
              0.7777777777777778,
              "#fb9f3a"
             ],
             [
              0.8888888888888888,
              "#fdca26"
             ],
             [
              1,
              "#f0f921"
             ]
            ],
            "type": "contour"
           }
          ],
          "contourcarpet": [
           {
            "colorbar": {
             "outlinewidth": 0,
             "ticks": ""
            },
            "type": "contourcarpet"
           }
          ],
          "heatmap": [
           {
            "colorbar": {
             "outlinewidth": 0,
             "ticks": ""
            },
            "colorscale": [
             [
              0,
              "#0d0887"
             ],
             [
              0.1111111111111111,
              "#46039f"
             ],
             [
              0.2222222222222222,
              "#7201a8"
             ],
             [
              0.3333333333333333,
              "#9c179e"
             ],
             [
              0.4444444444444444,
              "#bd3786"
             ],
             [
              0.5555555555555556,
              "#d8576b"
             ],
             [
              0.6666666666666666,
              "#ed7953"
             ],
             [
              0.7777777777777778,
              "#fb9f3a"
             ],
             [
              0.8888888888888888,
              "#fdca26"
             ],
             [
              1,
              "#f0f921"
             ]
            ],
            "type": "heatmap"
           }
          ],
          "histogram": [
           {
            "marker": {
             "pattern": {
              "fillmode": "overlay",
              "size": 10,
              "solidity": 0.2
             }
            },
            "type": "histogram"
           }
          ],
          "histogram2d": [
           {
            "colorbar": {
             "outlinewidth": 0,
             "ticks": ""
            },
            "colorscale": [
             [
              0,
              "#0d0887"
             ],
             [
              0.1111111111111111,
              "#46039f"
             ],
             [
              0.2222222222222222,
              "#7201a8"
             ],
             [
              0.3333333333333333,
              "#9c179e"
             ],
             [
              0.4444444444444444,
              "#bd3786"
             ],
             [
              0.5555555555555556,
              "#d8576b"
             ],
             [
              0.6666666666666666,
              "#ed7953"
             ],
             [
              0.7777777777777778,
              "#fb9f3a"
             ],
             [
              0.8888888888888888,
              "#fdca26"
             ],
             [
              1,
              "#f0f921"
             ]
            ],
            "type": "histogram2d"
           }
          ],
          "histogram2dcontour": [
           {
            "colorbar": {
             "outlinewidth": 0,
             "ticks": ""
            },
            "colorscale": [
             [
              0,
              "#0d0887"
             ],
             [
              0.1111111111111111,
              "#46039f"
             ],
             [
              0.2222222222222222,
              "#7201a8"
             ],
             [
              0.3333333333333333,
              "#9c179e"
             ],
             [
              0.4444444444444444,
              "#bd3786"
             ],
             [
              0.5555555555555556,
              "#d8576b"
             ],
             [
              0.6666666666666666,
              "#ed7953"
             ],
             [
              0.7777777777777778,
              "#fb9f3a"
             ],
             [
              0.8888888888888888,
              "#fdca26"
             ],
             [
              1,
              "#f0f921"
             ]
            ],
            "type": "histogram2dcontour"
           }
          ],
          "mesh3d": [
           {
            "colorbar": {
             "outlinewidth": 0,
             "ticks": ""
            },
            "type": "mesh3d"
           }
          ],
          "parcoords": [
           {
            "line": {
             "colorbar": {
              "outlinewidth": 0,
              "ticks": ""
             }
            },
            "type": "parcoords"
           }
          ],
          "pie": [
           {
            "automargin": true,
            "type": "pie"
           }
          ],
          "scatter": [
           {
            "fillpattern": {
             "fillmode": "overlay",
             "size": 10,
             "solidity": 0.2
            },
            "type": "scatter"
           }
          ],
          "scatter3d": [
           {
            "line": {
             "colorbar": {
              "outlinewidth": 0,
              "ticks": ""
             }
            },
            "marker": {
             "colorbar": {
              "outlinewidth": 0,
              "ticks": ""
             }
            },
            "type": "scatter3d"
           }
          ],
          "scattercarpet": [
           {
            "marker": {
             "colorbar": {
              "outlinewidth": 0,
              "ticks": ""
             }
            },
            "type": "scattercarpet"
           }
          ],
          "scattergeo": [
           {
            "marker": {
             "colorbar": {
              "outlinewidth": 0,
              "ticks": ""
             }
            },
            "type": "scattergeo"
           }
          ],
          "scattergl": [
           {
            "marker": {
             "colorbar": {
              "outlinewidth": 0,
              "ticks": ""
             }
            },
            "type": "scattergl"
           }
          ],
          "scattermap": [
           {
            "marker": {
             "colorbar": {
              "outlinewidth": 0,
              "ticks": ""
             }
            },
            "type": "scattermap"
           }
          ],
          "scattermapbox": [
           {
            "marker": {
             "colorbar": {
              "outlinewidth": 0,
              "ticks": ""
             }
            },
            "type": "scattermapbox"
           }
          ],
          "scatterpolar": [
           {
            "marker": {
             "colorbar": {
              "outlinewidth": 0,
              "ticks": ""
             }
            },
            "type": "scatterpolar"
           }
          ],
          "scatterpolargl": [
           {
            "marker": {
             "colorbar": {
              "outlinewidth": 0,
              "ticks": ""
             }
            },
            "type": "scatterpolargl"
           }
          ],
          "scatterternary": [
           {
            "marker": {
             "colorbar": {
              "outlinewidth": 0,
              "ticks": ""
             }
            },
            "type": "scatterternary"
           }
          ],
          "surface": [
           {
            "colorbar": {
             "outlinewidth": 0,
             "ticks": ""
            },
            "colorscale": [
             [
              0,
              "#0d0887"
             ],
             [
              0.1111111111111111,
              "#46039f"
             ],
             [
              0.2222222222222222,
              "#7201a8"
             ],
             [
              0.3333333333333333,
              "#9c179e"
             ],
             [
              0.4444444444444444,
              "#bd3786"
             ],
             [
              0.5555555555555556,
              "#d8576b"
             ],
             [
              0.6666666666666666,
              "#ed7953"
             ],
             [
              0.7777777777777778,
              "#fb9f3a"
             ],
             [
              0.8888888888888888,
              "#fdca26"
             ],
             [
              1,
              "#f0f921"
             ]
            ],
            "type": "surface"
           }
          ],
          "table": [
           {
            "cells": {
             "fill": {
              "color": "#EBF0F8"
             },
             "line": {
              "color": "white"
             }
            },
            "header": {
             "fill": {
              "color": "#C8D4E3"
             },
             "line": {
              "color": "white"
             }
            },
            "type": "table"
           }
          ]
         },
         "layout": {
          "annotationdefaults": {
           "arrowcolor": "#2a3f5f",
           "arrowhead": 0,
           "arrowwidth": 1
          },
          "autotypenumbers": "strict",
          "coloraxis": {
           "colorbar": {
            "outlinewidth": 0,
            "ticks": ""
           }
          },
          "colorscale": {
           "diverging": [
            [
             0,
             "#8e0152"
            ],
            [
             0.1,
             "#c51b7d"
            ],
            [
             0.2,
             "#de77ae"
            ],
            [
             0.3,
             "#f1b6da"
            ],
            [
             0.4,
             "#fde0ef"
            ],
            [
             0.5,
             "#f7f7f7"
            ],
            [
             0.6,
             "#e6f5d0"
            ],
            [
             0.7,
             "#b8e186"
            ],
            [
             0.8,
             "#7fbc41"
            ],
            [
             0.9,
             "#4d9221"
            ],
            [
             1,
             "#276419"
            ]
           ],
           "sequential": [
            [
             0,
             "#0d0887"
            ],
            [
             0.1111111111111111,
             "#46039f"
            ],
            [
             0.2222222222222222,
             "#7201a8"
            ],
            [
             0.3333333333333333,
             "#9c179e"
            ],
            [
             0.4444444444444444,
             "#bd3786"
            ],
            [
             0.5555555555555556,
             "#d8576b"
            ],
            [
             0.6666666666666666,
             "#ed7953"
            ],
            [
             0.7777777777777778,
             "#fb9f3a"
            ],
            [
             0.8888888888888888,
             "#fdca26"
            ],
            [
             1,
             "#f0f921"
            ]
           ],
           "sequentialminus": [
            [
             0,
             "#0d0887"
            ],
            [
             0.1111111111111111,
             "#46039f"
            ],
            [
             0.2222222222222222,
             "#7201a8"
            ],
            [
             0.3333333333333333,
             "#9c179e"
            ],
            [
             0.4444444444444444,
             "#bd3786"
            ],
            [
             0.5555555555555556,
             "#d8576b"
            ],
            [
             0.6666666666666666,
             "#ed7953"
            ],
            [
             0.7777777777777778,
             "#fb9f3a"
            ],
            [
             0.8888888888888888,
             "#fdca26"
            ],
            [
             1,
             "#f0f921"
            ]
           ]
          },
          "colorway": [
           "#636efa",
           "#EF553B",
           "#00cc96",
           "#ab63fa",
           "#FFA15A",
           "#19d3f3",
           "#FF6692",
           "#B6E880",
           "#FF97FF",
           "#FECB52"
          ],
          "font": {
           "color": "#2a3f5f"
          },
          "geo": {
           "bgcolor": "white",
           "lakecolor": "white",
           "landcolor": "#E5ECF6",
           "showlakes": true,
           "showland": true,
           "subunitcolor": "white"
          },
          "hoverlabel": {
           "align": "left"
          },
          "hovermode": "closest",
          "mapbox": {
           "style": "light"
          },
          "paper_bgcolor": "white",
          "plot_bgcolor": "#E5ECF6",
          "polar": {
           "angularaxis": {
            "gridcolor": "white",
            "linecolor": "white",
            "ticks": ""
           },
           "bgcolor": "#E5ECF6",
           "radialaxis": {
            "gridcolor": "white",
            "linecolor": "white",
            "ticks": ""
           }
          },
          "scene": {
           "xaxis": {
            "backgroundcolor": "#E5ECF6",
            "gridcolor": "white",
            "gridwidth": 2,
            "linecolor": "white",
            "showbackground": true,
            "ticks": "",
            "zerolinecolor": "white"
           },
           "yaxis": {
            "backgroundcolor": "#E5ECF6",
            "gridcolor": "white",
            "gridwidth": 2,
            "linecolor": "white",
            "showbackground": true,
            "ticks": "",
            "zerolinecolor": "white"
           },
           "zaxis": {
            "backgroundcolor": "#E5ECF6",
            "gridcolor": "white",
            "gridwidth": 2,
            "linecolor": "white",
            "showbackground": true,
            "ticks": "",
            "zerolinecolor": "white"
           }
          },
          "shapedefaults": {
           "line": {
            "color": "#2a3f5f"
           }
          },
          "ternary": {
           "aaxis": {
            "gridcolor": "white",
            "linecolor": "white",
            "ticks": ""
           },
           "baxis": {
            "gridcolor": "white",
            "linecolor": "white",
            "ticks": ""
           },
           "bgcolor": "#E5ECF6",
           "caxis": {
            "gridcolor": "white",
            "linecolor": "white",
            "ticks": ""
           }
          },
          "title": {
           "x": 0.05
          },
          "xaxis": {
           "automargin": true,
           "gridcolor": "white",
           "linecolor": "white",
           "ticks": "",
           "title": {
            "standoff": 15
           },
           "zerolinecolor": "white",
           "zerolinewidth": 2
          },
          "yaxis": {
           "automargin": true,
           "gridcolor": "white",
           "linecolor": "white",
           "ticks": "",
           "title": {
            "standoff": 15
           },
           "zerolinecolor": "white",
           "zerolinewidth": 2
          }
         }
        },
        "title": {
         "text": "Validation Performance and Training Learning Rate vs Epoch"
        },
        "xaxis": {
         "anchor": "y",
         "domain": [
          0,
          0.94
         ],
         "range": [
          0,
          160000
         ],
         "title": {
          "text": "Epoch"
         }
        },
        "yaxis": {
         "anchor": "x",
         "domain": [
          0,
          1
         ],
         "dtick": 10,
         "range": [
          0,
          100
         ],
         "title": {
          "text": "Performance (%)"
         }
        },
        "yaxis2": {
         "anchor": "x",
         "overlaying": "y",
         "side": "right",
         "title": {
          "text": "Learning Rate"
         }
        }
       }
      }
     },
     "metadata": {},
     "output_type": "display_data"
    }
   ],
   "source": [
    "# SEBNet BaselinePDSBDHead SGD, Pretrained, Batch Size 6, OHEM Cross Entropy, Edge Width 2, Edge Loss Weight 5.0 - XX.XX Best mIoU\n",
    "log_file_path = '/home/robert.breslin/alessandro/paper_2/mmsegmentation/work_dirs/sebnet_baseline-p-d-sbd-head_1xb6_cityscapes/20250903_135655/20250903_135655.log'\n",
    "epochs, mIoU, mAcc, lrs = parse_log_file(log_file_path)\n",
    "plot_accuracies_and_lr_interactive(epochs, mAcc, mIoU, lrs, [0,160000])"
   ]
  },
  {
   "cell_type": "code",
   "execution_count": 19,
   "id": "072109db",
   "metadata": {},
   "outputs": [
    {
     "data": {
      "application/vnd.plotly.v1+json": {
       "config": {
        "plotlyServerURL": "https://plot.ly"
       },
       "data": [
        {
         "line": {
          "color": "blue"
         },
         "name": "Mean Accuracy",
         "type": "scatter",
         "x": [
          1000,
          2000,
          3000,
          4000,
          5000,
          6000,
          7000,
          8000,
          9000,
          10000,
          11000,
          12000,
          13000,
          14000,
          15000
         ],
         "xaxis": "x",
         "y": [
          30.7,
          34.5,
          45.1,
          49.3,
          51.63,
          57.93,
          58.29,
          64.14,
          60.19,
          64.22,
          65.1,
          63.71,
          68.02,
          64.15,
          71.2
         ],
         "yaxis": "y"
        },
        {
         "line": {
          "color": "orange"
         },
         "name": "Mean IoU",
         "type": "scatter",
         "x": [
          1000,
          2000,
          3000,
          4000,
          5000,
          6000,
          7000,
          8000,
          9000,
          10000,
          11000,
          12000,
          13000,
          14000,
          15000
         ],
         "xaxis": "x",
         "y": [
          23.75,
          28.91,
          37.36,
          40.4,
          42.31,
          45.38,
          46.3,
          51.96,
          51.86,
          52.71,
          55.7,
          53.78,
          58.93,
          54.65,
          60.92
         ],
         "yaxis": "y"
        },
        {
         "line": {
          "color": "green"
         },
         "name": "Learning Rate",
         "type": "scatter",
         "x": [
          1000,
          2000,
          3000,
          4000,
          5000,
          6000,
          7000,
          8000,
          9000,
          10000,
          11000,
          12000,
          13000,
          14000,
          15000
         ],
         "xaxis": "x",
         "y": [
          0.0099438,
          0.0098875,
          0.0098311,
          0.0097748,
          0.0097184,
          0.0096619,
          0.0096054,
          0.0095489,
          0.0094923,
          0.0094358,
          0.0093791,
          0.0093224,
          0.0092657,
          0.009209,
          0.0091522
         ],
         "yaxis": "y2"
        }
       ],
       "layout": {
        "hovermode": "x unified",
        "legend": {
         "x": 1.15,
         "xanchor": "right",
         "y": 1.15,
         "yanchor": "top"
        },
        "template": {
         "data": {
          "bar": [
           {
            "error_x": {
             "color": "#2a3f5f"
            },
            "error_y": {
             "color": "#2a3f5f"
            },
            "marker": {
             "line": {
              "color": "#E5ECF6",
              "width": 0.5
             },
             "pattern": {
              "fillmode": "overlay",
              "size": 10,
              "solidity": 0.2
             }
            },
            "type": "bar"
           }
          ],
          "barpolar": [
           {
            "marker": {
             "line": {
              "color": "#E5ECF6",
              "width": 0.5
             },
             "pattern": {
              "fillmode": "overlay",
              "size": 10,
              "solidity": 0.2
             }
            },
            "type": "barpolar"
           }
          ],
          "carpet": [
           {
            "aaxis": {
             "endlinecolor": "#2a3f5f",
             "gridcolor": "white",
             "linecolor": "white",
             "minorgridcolor": "white",
             "startlinecolor": "#2a3f5f"
            },
            "baxis": {
             "endlinecolor": "#2a3f5f",
             "gridcolor": "white",
             "linecolor": "white",
             "minorgridcolor": "white",
             "startlinecolor": "#2a3f5f"
            },
            "type": "carpet"
           }
          ],
          "choropleth": [
           {
            "colorbar": {
             "outlinewidth": 0,
             "ticks": ""
            },
            "type": "choropleth"
           }
          ],
          "contour": [
           {
            "colorbar": {
             "outlinewidth": 0,
             "ticks": ""
            },
            "colorscale": [
             [
              0,
              "#0d0887"
             ],
             [
              0.1111111111111111,
              "#46039f"
             ],
             [
              0.2222222222222222,
              "#7201a8"
             ],
             [
              0.3333333333333333,
              "#9c179e"
             ],
             [
              0.4444444444444444,
              "#bd3786"
             ],
             [
              0.5555555555555556,
              "#d8576b"
             ],
             [
              0.6666666666666666,
              "#ed7953"
             ],
             [
              0.7777777777777778,
              "#fb9f3a"
             ],
             [
              0.8888888888888888,
              "#fdca26"
             ],
             [
              1,
              "#f0f921"
             ]
            ],
            "type": "contour"
           }
          ],
          "contourcarpet": [
           {
            "colorbar": {
             "outlinewidth": 0,
             "ticks": ""
            },
            "type": "contourcarpet"
           }
          ],
          "heatmap": [
           {
            "colorbar": {
             "outlinewidth": 0,
             "ticks": ""
            },
            "colorscale": [
             [
              0,
              "#0d0887"
             ],
             [
              0.1111111111111111,
              "#46039f"
             ],
             [
              0.2222222222222222,
              "#7201a8"
             ],
             [
              0.3333333333333333,
              "#9c179e"
             ],
             [
              0.4444444444444444,
              "#bd3786"
             ],
             [
              0.5555555555555556,
              "#d8576b"
             ],
             [
              0.6666666666666666,
              "#ed7953"
             ],
             [
              0.7777777777777778,
              "#fb9f3a"
             ],
             [
              0.8888888888888888,
              "#fdca26"
             ],
             [
              1,
              "#f0f921"
             ]
            ],
            "type": "heatmap"
           }
          ],
          "histogram": [
           {
            "marker": {
             "pattern": {
              "fillmode": "overlay",
              "size": 10,
              "solidity": 0.2
             }
            },
            "type": "histogram"
           }
          ],
          "histogram2d": [
           {
            "colorbar": {
             "outlinewidth": 0,
             "ticks": ""
            },
            "colorscale": [
             [
              0,
              "#0d0887"
             ],
             [
              0.1111111111111111,
              "#46039f"
             ],
             [
              0.2222222222222222,
              "#7201a8"
             ],
             [
              0.3333333333333333,
              "#9c179e"
             ],
             [
              0.4444444444444444,
              "#bd3786"
             ],
             [
              0.5555555555555556,
              "#d8576b"
             ],
             [
              0.6666666666666666,
              "#ed7953"
             ],
             [
              0.7777777777777778,
              "#fb9f3a"
             ],
             [
              0.8888888888888888,
              "#fdca26"
             ],
             [
              1,
              "#f0f921"
             ]
            ],
            "type": "histogram2d"
           }
          ],
          "histogram2dcontour": [
           {
            "colorbar": {
             "outlinewidth": 0,
             "ticks": ""
            },
            "colorscale": [
             [
              0,
              "#0d0887"
             ],
             [
              0.1111111111111111,
              "#46039f"
             ],
             [
              0.2222222222222222,
              "#7201a8"
             ],
             [
              0.3333333333333333,
              "#9c179e"
             ],
             [
              0.4444444444444444,
              "#bd3786"
             ],
             [
              0.5555555555555556,
              "#d8576b"
             ],
             [
              0.6666666666666666,
              "#ed7953"
             ],
             [
              0.7777777777777778,
              "#fb9f3a"
             ],
             [
              0.8888888888888888,
              "#fdca26"
             ],
             [
              1,
              "#f0f921"
             ]
            ],
            "type": "histogram2dcontour"
           }
          ],
          "mesh3d": [
           {
            "colorbar": {
             "outlinewidth": 0,
             "ticks": ""
            },
            "type": "mesh3d"
           }
          ],
          "parcoords": [
           {
            "line": {
             "colorbar": {
              "outlinewidth": 0,
              "ticks": ""
             }
            },
            "type": "parcoords"
           }
          ],
          "pie": [
           {
            "automargin": true,
            "type": "pie"
           }
          ],
          "scatter": [
           {
            "fillpattern": {
             "fillmode": "overlay",
             "size": 10,
             "solidity": 0.2
            },
            "type": "scatter"
           }
          ],
          "scatter3d": [
           {
            "line": {
             "colorbar": {
              "outlinewidth": 0,
              "ticks": ""
             }
            },
            "marker": {
             "colorbar": {
              "outlinewidth": 0,
              "ticks": ""
             }
            },
            "type": "scatter3d"
           }
          ],
          "scattercarpet": [
           {
            "marker": {
             "colorbar": {
              "outlinewidth": 0,
              "ticks": ""
             }
            },
            "type": "scattercarpet"
           }
          ],
          "scattergeo": [
           {
            "marker": {
             "colorbar": {
              "outlinewidth": 0,
              "ticks": ""
             }
            },
            "type": "scattergeo"
           }
          ],
          "scattergl": [
           {
            "marker": {
             "colorbar": {
              "outlinewidth": 0,
              "ticks": ""
             }
            },
            "type": "scattergl"
           }
          ],
          "scattermap": [
           {
            "marker": {
             "colorbar": {
              "outlinewidth": 0,
              "ticks": ""
             }
            },
            "type": "scattermap"
           }
          ],
          "scattermapbox": [
           {
            "marker": {
             "colorbar": {
              "outlinewidth": 0,
              "ticks": ""
             }
            },
            "type": "scattermapbox"
           }
          ],
          "scatterpolar": [
           {
            "marker": {
             "colorbar": {
              "outlinewidth": 0,
              "ticks": ""
             }
            },
            "type": "scatterpolar"
           }
          ],
          "scatterpolargl": [
           {
            "marker": {
             "colorbar": {
              "outlinewidth": 0,
              "ticks": ""
             }
            },
            "type": "scatterpolargl"
           }
          ],
          "scatterternary": [
           {
            "marker": {
             "colorbar": {
              "outlinewidth": 0,
              "ticks": ""
             }
            },
            "type": "scatterternary"
           }
          ],
          "surface": [
           {
            "colorbar": {
             "outlinewidth": 0,
             "ticks": ""
            },
            "colorscale": [
             [
              0,
              "#0d0887"
             ],
             [
              0.1111111111111111,
              "#46039f"
             ],
             [
              0.2222222222222222,
              "#7201a8"
             ],
             [
              0.3333333333333333,
              "#9c179e"
             ],
             [
              0.4444444444444444,
              "#bd3786"
             ],
             [
              0.5555555555555556,
              "#d8576b"
             ],
             [
              0.6666666666666666,
              "#ed7953"
             ],
             [
              0.7777777777777778,
              "#fb9f3a"
             ],
             [
              0.8888888888888888,
              "#fdca26"
             ],
             [
              1,
              "#f0f921"
             ]
            ],
            "type": "surface"
           }
          ],
          "table": [
           {
            "cells": {
             "fill": {
              "color": "#EBF0F8"
             },
             "line": {
              "color": "white"
             }
            },
            "header": {
             "fill": {
              "color": "#C8D4E3"
             },
             "line": {
              "color": "white"
             }
            },
            "type": "table"
           }
          ]
         },
         "layout": {
          "annotationdefaults": {
           "arrowcolor": "#2a3f5f",
           "arrowhead": 0,
           "arrowwidth": 1
          },
          "autotypenumbers": "strict",
          "coloraxis": {
           "colorbar": {
            "outlinewidth": 0,
            "ticks": ""
           }
          },
          "colorscale": {
           "diverging": [
            [
             0,
             "#8e0152"
            ],
            [
             0.1,
             "#c51b7d"
            ],
            [
             0.2,
             "#de77ae"
            ],
            [
             0.3,
             "#f1b6da"
            ],
            [
             0.4,
             "#fde0ef"
            ],
            [
             0.5,
             "#f7f7f7"
            ],
            [
             0.6,
             "#e6f5d0"
            ],
            [
             0.7,
             "#b8e186"
            ],
            [
             0.8,
             "#7fbc41"
            ],
            [
             0.9,
             "#4d9221"
            ],
            [
             1,
             "#276419"
            ]
           ],
           "sequential": [
            [
             0,
             "#0d0887"
            ],
            [
             0.1111111111111111,
             "#46039f"
            ],
            [
             0.2222222222222222,
             "#7201a8"
            ],
            [
             0.3333333333333333,
             "#9c179e"
            ],
            [
             0.4444444444444444,
             "#bd3786"
            ],
            [
             0.5555555555555556,
             "#d8576b"
            ],
            [
             0.6666666666666666,
             "#ed7953"
            ],
            [
             0.7777777777777778,
             "#fb9f3a"
            ],
            [
             0.8888888888888888,
             "#fdca26"
            ],
            [
             1,
             "#f0f921"
            ]
           ],
           "sequentialminus": [
            [
             0,
             "#0d0887"
            ],
            [
             0.1111111111111111,
             "#46039f"
            ],
            [
             0.2222222222222222,
             "#7201a8"
            ],
            [
             0.3333333333333333,
             "#9c179e"
            ],
            [
             0.4444444444444444,
             "#bd3786"
            ],
            [
             0.5555555555555556,
             "#d8576b"
            ],
            [
             0.6666666666666666,
             "#ed7953"
            ],
            [
             0.7777777777777778,
             "#fb9f3a"
            ],
            [
             0.8888888888888888,
             "#fdca26"
            ],
            [
             1,
             "#f0f921"
            ]
           ]
          },
          "colorway": [
           "#636efa",
           "#EF553B",
           "#00cc96",
           "#ab63fa",
           "#FFA15A",
           "#19d3f3",
           "#FF6692",
           "#B6E880",
           "#FF97FF",
           "#FECB52"
          ],
          "font": {
           "color": "#2a3f5f"
          },
          "geo": {
           "bgcolor": "white",
           "lakecolor": "white",
           "landcolor": "#E5ECF6",
           "showlakes": true,
           "showland": true,
           "subunitcolor": "white"
          },
          "hoverlabel": {
           "align": "left"
          },
          "hovermode": "closest",
          "mapbox": {
           "style": "light"
          },
          "paper_bgcolor": "white",
          "plot_bgcolor": "#E5ECF6",
          "polar": {
           "angularaxis": {
            "gridcolor": "white",
            "linecolor": "white",
            "ticks": ""
           },
           "bgcolor": "#E5ECF6",
           "radialaxis": {
            "gridcolor": "white",
            "linecolor": "white",
            "ticks": ""
           }
          },
          "scene": {
           "xaxis": {
            "backgroundcolor": "#E5ECF6",
            "gridcolor": "white",
            "gridwidth": 2,
            "linecolor": "white",
            "showbackground": true,
            "ticks": "",
            "zerolinecolor": "white"
           },
           "yaxis": {
            "backgroundcolor": "#E5ECF6",
            "gridcolor": "white",
            "gridwidth": 2,
            "linecolor": "white",
            "showbackground": true,
            "ticks": "",
            "zerolinecolor": "white"
           },
           "zaxis": {
            "backgroundcolor": "#E5ECF6",
            "gridcolor": "white",
            "gridwidth": 2,
            "linecolor": "white",
            "showbackground": true,
            "ticks": "",
            "zerolinecolor": "white"
           }
          },
          "shapedefaults": {
           "line": {
            "color": "#2a3f5f"
           }
          },
          "ternary": {
           "aaxis": {
            "gridcolor": "white",
            "linecolor": "white",
            "ticks": ""
           },
           "baxis": {
            "gridcolor": "white",
            "linecolor": "white",
            "ticks": ""
           },
           "bgcolor": "#E5ECF6",
           "caxis": {
            "gridcolor": "white",
            "linecolor": "white",
            "ticks": ""
           }
          },
          "title": {
           "x": 0.05
          },
          "xaxis": {
           "automargin": true,
           "gridcolor": "white",
           "linecolor": "white",
           "ticks": "",
           "title": {
            "standoff": 15
           },
           "zerolinecolor": "white",
           "zerolinewidth": 2
          },
          "yaxis": {
           "automargin": true,
           "gridcolor": "white",
           "linecolor": "white",
           "ticks": "",
           "title": {
            "standoff": 15
           },
           "zerolinecolor": "white",
           "zerolinewidth": 2
          }
         }
        },
        "title": {
         "text": "Validation Performance and Training Learning Rate vs Epoch"
        },
        "xaxis": {
         "anchor": "y",
         "domain": [
          0,
          0.94
         ],
         "range": [
          0,
          160000
         ],
         "title": {
          "text": "Epoch"
         }
        },
        "yaxis": {
         "anchor": "x",
         "domain": [
          0,
          1
         ],
         "dtick": 10,
         "range": [
          0,
          100
         ],
         "title": {
          "text": "Performance (%)"
         }
        },
        "yaxis2": {
         "anchor": "x",
         "overlaying": "y",
         "side": "right",
         "title": {
          "text": "Learning Rate"
         }
        }
       }
      }
     },
     "metadata": {},
     "output_type": "display_data"
    }
   ],
   "source": [
    "# SEBNet BaselinePDSBDBASHead SGD, Pretrained, Batch Size 6, OHEM Cross Entropy, Edge Width 2, Edge Loss Weight 5.0 - XX.XX Best mIoU\n",
    "log_file_path = '/home/robert.breslin/alessandro/paper_2/mmsegmentation/work_dirs/sebnet_baseline-p-d-sbd-bas-head_1xb6_cityscapes/20250903_135710/20250903_135710.log'\n",
    "epochs, mIoU, mAcc, lrs = parse_log_file(log_file_path)\n",
    "plot_accuracies_and_lr_interactive(epochs, mAcc, mIoU, lrs, [0,160000])"
   ]
  },
  {
   "cell_type": "code",
   "execution_count": 20,
   "id": "37adcdcf",
   "metadata": {},
   "outputs": [
    {
     "data": {
      "application/vnd.plotly.v1+json": {
       "config": {
        "plotlyServerURL": "https://plot.ly"
       },
       "data": [
        {
         "line": {
          "color": "blue"
         },
         "name": "Mean Accuracy",
         "type": "scatter",
         "x": [
          1000,
          2000,
          3000,
          4000,
          5000,
          6000,
          7000,
          8000,
          9000,
          10000,
          11000,
          12000,
          13000,
          14000,
          15000
         ],
         "xaxis": "x",
         "y": [
          28.89,
          38.37,
          46.61,
          47.65,
          52.61,
          58.1,
          59.03,
          63.35,
          60.36,
          63.82,
          64.57,
          65.26,
          70.25,
          66.51,
          71.48
         ],
         "yaxis": "y"
        },
        {
         "line": {
          "color": "orange"
         },
         "name": "Mean IoU",
         "type": "scatter",
         "x": [
          1000,
          2000,
          3000,
          4000,
          5000,
          6000,
          7000,
          8000,
          9000,
          10000,
          11000,
          12000,
          13000,
          14000,
          15000
         ],
         "xaxis": "x",
         "y": [
          21.16,
          31.65,
          38.94,
          39.34,
          42.75,
          45.52,
          45.75,
          51.09,
          51.6,
          52.73,
          55.09,
          55.31,
          60.38,
          55.62,
          61.33
         ],
         "yaxis": "y"
        },
        {
         "line": {
          "color": "green"
         },
         "name": "Learning Rate",
         "type": "scatter",
         "x": [
          1000,
          2000,
          3000,
          4000,
          5000,
          6000,
          7000,
          8000,
          9000,
          10000,
          11000,
          12000,
          13000,
          14000,
          15000
         ],
         "xaxis": "x",
         "y": [
          0.0099438,
          0.0098875,
          0.0098311,
          0.0097748,
          0.0097184,
          0.0096619,
          0.0096054,
          0.0095489,
          0.0094923,
          0.0094358,
          0.0093791,
          0.0093224,
          0.0092657,
          0.009209,
          0.0091522
         ],
         "yaxis": "y2"
        }
       ],
       "layout": {
        "hovermode": "x unified",
        "legend": {
         "x": 1.15,
         "xanchor": "right",
         "y": 1.15,
         "yanchor": "top"
        },
        "template": {
         "data": {
          "bar": [
           {
            "error_x": {
             "color": "#2a3f5f"
            },
            "error_y": {
             "color": "#2a3f5f"
            },
            "marker": {
             "line": {
              "color": "#E5ECF6",
              "width": 0.5
             },
             "pattern": {
              "fillmode": "overlay",
              "size": 10,
              "solidity": 0.2
             }
            },
            "type": "bar"
           }
          ],
          "barpolar": [
           {
            "marker": {
             "line": {
              "color": "#E5ECF6",
              "width": 0.5
             },
             "pattern": {
              "fillmode": "overlay",
              "size": 10,
              "solidity": 0.2
             }
            },
            "type": "barpolar"
           }
          ],
          "carpet": [
           {
            "aaxis": {
             "endlinecolor": "#2a3f5f",
             "gridcolor": "white",
             "linecolor": "white",
             "minorgridcolor": "white",
             "startlinecolor": "#2a3f5f"
            },
            "baxis": {
             "endlinecolor": "#2a3f5f",
             "gridcolor": "white",
             "linecolor": "white",
             "minorgridcolor": "white",
             "startlinecolor": "#2a3f5f"
            },
            "type": "carpet"
           }
          ],
          "choropleth": [
           {
            "colorbar": {
             "outlinewidth": 0,
             "ticks": ""
            },
            "type": "choropleth"
           }
          ],
          "contour": [
           {
            "colorbar": {
             "outlinewidth": 0,
             "ticks": ""
            },
            "colorscale": [
             [
              0,
              "#0d0887"
             ],
             [
              0.1111111111111111,
              "#46039f"
             ],
             [
              0.2222222222222222,
              "#7201a8"
             ],
             [
              0.3333333333333333,
              "#9c179e"
             ],
             [
              0.4444444444444444,
              "#bd3786"
             ],
             [
              0.5555555555555556,
              "#d8576b"
             ],
             [
              0.6666666666666666,
              "#ed7953"
             ],
             [
              0.7777777777777778,
              "#fb9f3a"
             ],
             [
              0.8888888888888888,
              "#fdca26"
             ],
             [
              1,
              "#f0f921"
             ]
            ],
            "type": "contour"
           }
          ],
          "contourcarpet": [
           {
            "colorbar": {
             "outlinewidth": 0,
             "ticks": ""
            },
            "type": "contourcarpet"
           }
          ],
          "heatmap": [
           {
            "colorbar": {
             "outlinewidth": 0,
             "ticks": ""
            },
            "colorscale": [
             [
              0,
              "#0d0887"
             ],
             [
              0.1111111111111111,
              "#46039f"
             ],
             [
              0.2222222222222222,
              "#7201a8"
             ],
             [
              0.3333333333333333,
              "#9c179e"
             ],
             [
              0.4444444444444444,
              "#bd3786"
             ],
             [
              0.5555555555555556,
              "#d8576b"
             ],
             [
              0.6666666666666666,
              "#ed7953"
             ],
             [
              0.7777777777777778,
              "#fb9f3a"
             ],
             [
              0.8888888888888888,
              "#fdca26"
             ],
             [
              1,
              "#f0f921"
             ]
            ],
            "type": "heatmap"
           }
          ],
          "histogram": [
           {
            "marker": {
             "pattern": {
              "fillmode": "overlay",
              "size": 10,
              "solidity": 0.2
             }
            },
            "type": "histogram"
           }
          ],
          "histogram2d": [
           {
            "colorbar": {
             "outlinewidth": 0,
             "ticks": ""
            },
            "colorscale": [
             [
              0,
              "#0d0887"
             ],
             [
              0.1111111111111111,
              "#46039f"
             ],
             [
              0.2222222222222222,
              "#7201a8"
             ],
             [
              0.3333333333333333,
              "#9c179e"
             ],
             [
              0.4444444444444444,
              "#bd3786"
             ],
             [
              0.5555555555555556,
              "#d8576b"
             ],
             [
              0.6666666666666666,
              "#ed7953"
             ],
             [
              0.7777777777777778,
              "#fb9f3a"
             ],
             [
              0.8888888888888888,
              "#fdca26"
             ],
             [
              1,
              "#f0f921"
             ]
            ],
            "type": "histogram2d"
           }
          ],
          "histogram2dcontour": [
           {
            "colorbar": {
             "outlinewidth": 0,
             "ticks": ""
            },
            "colorscale": [
             [
              0,
              "#0d0887"
             ],
             [
              0.1111111111111111,
              "#46039f"
             ],
             [
              0.2222222222222222,
              "#7201a8"
             ],
             [
              0.3333333333333333,
              "#9c179e"
             ],
             [
              0.4444444444444444,
              "#bd3786"
             ],
             [
              0.5555555555555556,
              "#d8576b"
             ],
             [
              0.6666666666666666,
              "#ed7953"
             ],
             [
              0.7777777777777778,
              "#fb9f3a"
             ],
             [
              0.8888888888888888,
              "#fdca26"
             ],
             [
              1,
              "#f0f921"
             ]
            ],
            "type": "histogram2dcontour"
           }
          ],
          "mesh3d": [
           {
            "colorbar": {
             "outlinewidth": 0,
             "ticks": ""
            },
            "type": "mesh3d"
           }
          ],
          "parcoords": [
           {
            "line": {
             "colorbar": {
              "outlinewidth": 0,
              "ticks": ""
             }
            },
            "type": "parcoords"
           }
          ],
          "pie": [
           {
            "automargin": true,
            "type": "pie"
           }
          ],
          "scatter": [
           {
            "fillpattern": {
             "fillmode": "overlay",
             "size": 10,
             "solidity": 0.2
            },
            "type": "scatter"
           }
          ],
          "scatter3d": [
           {
            "line": {
             "colorbar": {
              "outlinewidth": 0,
              "ticks": ""
             }
            },
            "marker": {
             "colorbar": {
              "outlinewidth": 0,
              "ticks": ""
             }
            },
            "type": "scatter3d"
           }
          ],
          "scattercarpet": [
           {
            "marker": {
             "colorbar": {
              "outlinewidth": 0,
              "ticks": ""
             }
            },
            "type": "scattercarpet"
           }
          ],
          "scattergeo": [
           {
            "marker": {
             "colorbar": {
              "outlinewidth": 0,
              "ticks": ""
             }
            },
            "type": "scattergeo"
           }
          ],
          "scattergl": [
           {
            "marker": {
             "colorbar": {
              "outlinewidth": 0,
              "ticks": ""
             }
            },
            "type": "scattergl"
           }
          ],
          "scattermap": [
           {
            "marker": {
             "colorbar": {
              "outlinewidth": 0,
              "ticks": ""
             }
            },
            "type": "scattermap"
           }
          ],
          "scattermapbox": [
           {
            "marker": {
             "colorbar": {
              "outlinewidth": 0,
              "ticks": ""
             }
            },
            "type": "scattermapbox"
           }
          ],
          "scatterpolar": [
           {
            "marker": {
             "colorbar": {
              "outlinewidth": 0,
              "ticks": ""
             }
            },
            "type": "scatterpolar"
           }
          ],
          "scatterpolargl": [
           {
            "marker": {
             "colorbar": {
              "outlinewidth": 0,
              "ticks": ""
             }
            },
            "type": "scatterpolargl"
           }
          ],
          "scatterternary": [
           {
            "marker": {
             "colorbar": {
              "outlinewidth": 0,
              "ticks": ""
             }
            },
            "type": "scatterternary"
           }
          ],
          "surface": [
           {
            "colorbar": {
             "outlinewidth": 0,
             "ticks": ""
            },
            "colorscale": [
             [
              0,
              "#0d0887"
             ],
             [
              0.1111111111111111,
              "#46039f"
             ],
             [
              0.2222222222222222,
              "#7201a8"
             ],
             [
              0.3333333333333333,
              "#9c179e"
             ],
             [
              0.4444444444444444,
              "#bd3786"
             ],
             [
              0.5555555555555556,
              "#d8576b"
             ],
             [
              0.6666666666666666,
              "#ed7953"
             ],
             [
              0.7777777777777778,
              "#fb9f3a"
             ],
             [
              0.8888888888888888,
              "#fdca26"
             ],
             [
              1,
              "#f0f921"
             ]
            ],
            "type": "surface"
           }
          ],
          "table": [
           {
            "cells": {
             "fill": {
              "color": "#EBF0F8"
             },
             "line": {
              "color": "white"
             }
            },
            "header": {
             "fill": {
              "color": "#C8D4E3"
             },
             "line": {
              "color": "white"
             }
            },
            "type": "table"
           }
          ]
         },
         "layout": {
          "annotationdefaults": {
           "arrowcolor": "#2a3f5f",
           "arrowhead": 0,
           "arrowwidth": 1
          },
          "autotypenumbers": "strict",
          "coloraxis": {
           "colorbar": {
            "outlinewidth": 0,
            "ticks": ""
           }
          },
          "colorscale": {
           "diverging": [
            [
             0,
             "#8e0152"
            ],
            [
             0.1,
             "#c51b7d"
            ],
            [
             0.2,
             "#de77ae"
            ],
            [
             0.3,
             "#f1b6da"
            ],
            [
             0.4,
             "#fde0ef"
            ],
            [
             0.5,
             "#f7f7f7"
            ],
            [
             0.6,
             "#e6f5d0"
            ],
            [
             0.7,
             "#b8e186"
            ],
            [
             0.8,
             "#7fbc41"
            ],
            [
             0.9,
             "#4d9221"
            ],
            [
             1,
             "#276419"
            ]
           ],
           "sequential": [
            [
             0,
             "#0d0887"
            ],
            [
             0.1111111111111111,
             "#46039f"
            ],
            [
             0.2222222222222222,
             "#7201a8"
            ],
            [
             0.3333333333333333,
             "#9c179e"
            ],
            [
             0.4444444444444444,
             "#bd3786"
            ],
            [
             0.5555555555555556,
             "#d8576b"
            ],
            [
             0.6666666666666666,
             "#ed7953"
            ],
            [
             0.7777777777777778,
             "#fb9f3a"
            ],
            [
             0.8888888888888888,
             "#fdca26"
            ],
            [
             1,
             "#f0f921"
            ]
           ],
           "sequentialminus": [
            [
             0,
             "#0d0887"
            ],
            [
             0.1111111111111111,
             "#46039f"
            ],
            [
             0.2222222222222222,
             "#7201a8"
            ],
            [
             0.3333333333333333,
             "#9c179e"
            ],
            [
             0.4444444444444444,
             "#bd3786"
            ],
            [
             0.5555555555555556,
             "#d8576b"
            ],
            [
             0.6666666666666666,
             "#ed7953"
            ],
            [
             0.7777777777777778,
             "#fb9f3a"
            ],
            [
             0.8888888888888888,
             "#fdca26"
            ],
            [
             1,
             "#f0f921"
            ]
           ]
          },
          "colorway": [
           "#636efa",
           "#EF553B",
           "#00cc96",
           "#ab63fa",
           "#FFA15A",
           "#19d3f3",
           "#FF6692",
           "#B6E880",
           "#FF97FF",
           "#FECB52"
          ],
          "font": {
           "color": "#2a3f5f"
          },
          "geo": {
           "bgcolor": "white",
           "lakecolor": "white",
           "landcolor": "#E5ECF6",
           "showlakes": true,
           "showland": true,
           "subunitcolor": "white"
          },
          "hoverlabel": {
           "align": "left"
          },
          "hovermode": "closest",
          "mapbox": {
           "style": "light"
          },
          "paper_bgcolor": "white",
          "plot_bgcolor": "#E5ECF6",
          "polar": {
           "angularaxis": {
            "gridcolor": "white",
            "linecolor": "white",
            "ticks": ""
           },
           "bgcolor": "#E5ECF6",
           "radialaxis": {
            "gridcolor": "white",
            "linecolor": "white",
            "ticks": ""
           }
          },
          "scene": {
           "xaxis": {
            "backgroundcolor": "#E5ECF6",
            "gridcolor": "white",
            "gridwidth": 2,
            "linecolor": "white",
            "showbackground": true,
            "ticks": "",
            "zerolinecolor": "white"
           },
           "yaxis": {
            "backgroundcolor": "#E5ECF6",
            "gridcolor": "white",
            "gridwidth": 2,
            "linecolor": "white",
            "showbackground": true,
            "ticks": "",
            "zerolinecolor": "white"
           },
           "zaxis": {
            "backgroundcolor": "#E5ECF6",
            "gridcolor": "white",
            "gridwidth": 2,
            "linecolor": "white",
            "showbackground": true,
            "ticks": "",
            "zerolinecolor": "white"
           }
          },
          "shapedefaults": {
           "line": {
            "color": "#2a3f5f"
           }
          },
          "ternary": {
           "aaxis": {
            "gridcolor": "white",
            "linecolor": "white",
            "ticks": ""
           },
           "baxis": {
            "gridcolor": "white",
            "linecolor": "white",
            "ticks": ""
           },
           "bgcolor": "#E5ECF6",
           "caxis": {
            "gridcolor": "white",
            "linecolor": "white",
            "ticks": ""
           }
          },
          "title": {
           "x": 0.05
          },
          "xaxis": {
           "automargin": true,
           "gridcolor": "white",
           "linecolor": "white",
           "ticks": "",
           "title": {
            "standoff": 15
           },
           "zerolinecolor": "white",
           "zerolinewidth": 2
          },
          "yaxis": {
           "automargin": true,
           "gridcolor": "white",
           "linecolor": "white",
           "ticks": "",
           "title": {
            "standoff": 15
           },
           "zerolinecolor": "white",
           "zerolinewidth": 2
          }
         }
        },
        "title": {
         "text": "Validation Performance and Training Learning Rate vs Epoch"
        },
        "xaxis": {
         "anchor": "y",
         "domain": [
          0,
          0.94
         ],
         "range": [
          0,
          160000
         ],
         "title": {
          "text": "Epoch"
         }
        },
        "yaxis": {
         "anchor": "x",
         "domain": [
          0,
          1
         ],
         "dtick": 10,
         "range": [
          0,
          100
         ],
         "title": {
          "text": "Performance (%)"
         }
        },
        "yaxis2": {
         "anchor": "x",
         "overlaying": "y",
         "side": "right",
         "title": {
          "text": "Learning Rate"
         }
        }
       }
      }
     },
     "metadata": {},
     "output_type": "display_data"
    }
   ],
   "source": [
    "# SEBNet BaselinePDSBDBASWithSBDHead SGD, Pretrained, Batch Size 6, OHEM Cross Entropy, Edge Width 2, Edge Loss Weight 5.0 - XX.XX Best mIoU\n",
    "log_file_path = '/home/robert.breslin/alessandro/paper_2/mmsegmentation/work_dirs/sebnet_baseline-p-d-sbd-basWithSBD-head_1xb6_cityscapes/20250903_135729/20250903_135729.log'\n",
    "epochs, mIoU, mAcc, lrs = parse_log_file(log_file_path)\n",
    "plot_accuracies_and_lr_interactive(epochs, mAcc, mIoU, lrs, [0,160000])"
   ]
  },
  {
   "cell_type": "code",
   "execution_count": 21,
   "id": "1fb4bea5",
   "metadata": {},
   "outputs": [
    {
     "data": {
      "application/vnd.plotly.v1+json": {
       "config": {
        "plotlyServerURL": "https://plot.ly"
       },
       "data": [
        {
         "line": {
          "color": "blue"
         },
         "name": "Mean Accuracy",
         "type": "scatter",
         "x": [
          1000,
          2000,
          3000,
          4000,
          5000,
          6000,
          7000,
          8000,
          9000,
          10000,
          11000,
          12000,
          13000,
          14000,
          15000,
          16000,
          17000,
          18000,
          19000,
          20000,
          21000,
          22000,
          23000,
          24000,
          25000,
          26000,
          27000,
          28000,
          29000,
          30000,
          31000,
          32000,
          33000,
          34000,
          35000,
          36000,
          37000,
          38000,
          39000,
          40000,
          41000,
          42000,
          43000,
          44000,
          45000,
          46000,
          47000,
          48000,
          49000,
          50000,
          51000,
          52000,
          53000,
          54000,
          55000,
          56000,
          57000,
          58000,
          59000,
          60000,
          61000,
          62000,
          63000,
          64000,
          65000,
          66000,
          67000,
          68000,
          69000,
          70000,
          71000,
          72000,
          73000,
          74000,
          75000,
          76000,
          77000,
          78000,
          79000,
          80000,
          81000,
          82000,
          83000,
          84000,
          85000,
          86000,
          87000,
          88000,
          89000,
          90000,
          91000,
          92000,
          93000,
          94000,
          95000,
          96000,
          97000,
          98000,
          99000,
          100000,
          101000,
          102000,
          103000,
          104000,
          105000,
          106000,
          107000,
          108000,
          109000,
          110000,
          111000,
          112000,
          113000,
          114000,
          115000,
          116000,
          117000,
          118000,
          119000,
          120000,
          121000,
          122000,
          123000,
          124000,
          125000,
          126000,
          127000,
          128000,
          129000,
          130000,
          131000,
          132000,
          133000,
          134000,
          135000,
          136000,
          137000,
          138000,
          139000,
          140000,
          141000,
          142000,
          143000,
          144000,
          145000,
          146000,
          147000,
          148000,
          149000,
          150000,
          151000,
          152000,
          153000,
          154000,
          155000,
          156000,
          157000,
          158000,
          159000,
          160000
         ],
         "xaxis": "x",
         "y": [
          29.2,
          34.37,
          40.7,
          38.72,
          48,
          50.68,
          57.2,
          58.29,
          56.24,
          60.77,
          59.78,
          59.74,
          62.83,
          56.64,
          65.82,
          66.62,
          63.48,
          64.76,
          68.71,
          65.21,
          64.56,
          68.29,
          72.69,
          73.11,
          73.23,
          74.15,
          74.91,
          73.08,
          74.19,
          72.26,
          72.74,
          70.18,
          76.12,
          73.52,
          72.48,
          70.61,
          74.72,
          75.84,
          73.5,
          77.08,
          76.71,
          74.58,
          76.56,
          73.38,
          78.67,
          82.63,
          75.98,
          75.92,
          75.55,
          76.98,
          77.19,
          76.95,
          77.76,
          76.22,
          79.11,
          79.22,
          79.84,
          73.29,
          78.09,
          77.77,
          79.24,
          82.09,
          79.17,
          81.18,
          78.08,
          81.66,
          81.72,
          78.53,
          78.96,
          75.16,
          76.55,
          75.23,
          78.02,
          75.4,
          83.48,
          82.85,
          76.81,
          77.69,
          81.11,
          80.01,
          83.15,
          83.78,
          80.24,
          82.33,
          73.12,
          83.24,
          83.08,
          77.68,
          82.61,
          81.78,
          82.19,
          79.62,
          81.32,
          80.74,
          83.9,
          84.96,
          84.17,
          80.6,
          80.72,
          83.02,
          80.85,
          85.33,
          84.76,
          83.62,
          81.63,
          79.2,
          85.17,
          80.9,
          83.67,
          84.22,
          82.77,
          84.27,
          85.88,
          77.27,
          85.36,
          82.76,
          84.7,
          83.53,
          84.62,
          85.48,
          82.53,
          85.17,
          84.91,
          82.06,
          85.81,
          86.77,
          83.59,
          85.89,
          85.74,
          84.13,
          84.52,
          84.88,
          85.57,
          86.83,
          87.27,
          84.72,
          84.93,
          86.96,
          87.21,
          84.87,
          86.15,
          85.61,
          87.44,
          87.24,
          86.72,
          86.16,
          88,
          86.88,
          87.64,
          87.25,
          87.3,
          86.97,
          87.79,
          87.93,
          87.63,
          87.49,
          87.93,
          87.89,
          87.54,
          87.54
         ],
         "yaxis": "y"
        },
        {
         "line": {
          "color": "orange"
         },
         "name": "Mean IoU",
         "type": "scatter",
         "x": [
          1000,
          2000,
          3000,
          4000,
          5000,
          6000,
          7000,
          8000,
          9000,
          10000,
          11000,
          12000,
          13000,
          14000,
          15000,
          16000,
          17000,
          18000,
          19000,
          20000,
          21000,
          22000,
          23000,
          24000,
          25000,
          26000,
          27000,
          28000,
          29000,
          30000,
          31000,
          32000,
          33000,
          34000,
          35000,
          36000,
          37000,
          38000,
          39000,
          40000,
          41000,
          42000,
          43000,
          44000,
          45000,
          46000,
          47000,
          48000,
          49000,
          50000,
          51000,
          52000,
          53000,
          54000,
          55000,
          56000,
          57000,
          58000,
          59000,
          60000,
          61000,
          62000,
          63000,
          64000,
          65000,
          66000,
          67000,
          68000,
          69000,
          70000,
          71000,
          72000,
          73000,
          74000,
          75000,
          76000,
          77000,
          78000,
          79000,
          80000,
          81000,
          82000,
          83000,
          84000,
          85000,
          86000,
          87000,
          88000,
          89000,
          90000,
          91000,
          92000,
          93000,
          94000,
          95000,
          96000,
          97000,
          98000,
          99000,
          100000,
          101000,
          102000,
          103000,
          104000,
          105000,
          106000,
          107000,
          108000,
          109000,
          110000,
          111000,
          112000,
          113000,
          114000,
          115000,
          116000,
          117000,
          118000,
          119000,
          120000,
          121000,
          122000,
          123000,
          124000,
          125000,
          126000,
          127000,
          128000,
          129000,
          130000,
          131000,
          132000,
          133000,
          134000,
          135000,
          136000,
          137000,
          138000,
          139000,
          140000,
          141000,
          142000,
          143000,
          144000,
          145000,
          146000,
          147000,
          148000,
          149000,
          150000,
          151000,
          152000,
          153000,
          154000,
          155000,
          156000,
          157000,
          158000,
          159000,
          160000
         ],
         "xaxis": "x",
         "y": [
          22.05,
          28.53,
          34,
          31.13,
          39.02,
          40.75,
          45.18,
          47.72,
          47.78,
          49.85,
          49.24,
          50.72,
          53.23,
          47.19,
          54.25,
          53.24,
          54.07,
          55.34,
          59.04,
          54.03,
          53.68,
          57.97,
          59.13,
          59.95,
          62.96,
          62.78,
          60.62,
          60.97,
          60.47,
          59.83,
          62.78,
          61.14,
          62.54,
          63.46,
          63.97,
          61.16,
          63.42,
          66.53,
          63.91,
          66.45,
          66.85,
          65.28,
          68.41,
          63.58,
          66,
          70.04,
          66.47,
          66.93,
          65.8,
          65.45,
          65.69,
          66.57,
          68.24,
          66.4,
          65,
          68.26,
          69.19,
          63.09,
          67.27,
          67.2,
          67.65,
          71.86,
          70.1,
          70.65,
          67.32,
          67.05,
          70.74,
          68.55,
          70.73,
          64.41,
          67.74,
          65.91,
          65.95,
          64.62,
          72.32,
          71.23,
          68.4,
          68.68,
          71.08,
          71.85,
          70.07,
          70.72,
          70.28,
          69.62,
          61.61,
          71.77,
          74.08,
          68.16,
          68.27,
          73.33,
          70.19,
          70.62,
          71.64,
          69.85,
          75.49,
          72.6,
          74.81,
          72.7,
          72.41,
          73.21,
          71.13,
          73.94,
          76.42,
          73.73,
          72.15,
          68.71,
          74.66,
          71.01,
          75.01,
          74.66,
          74.19,
          74.54,
          76,
          64.52,
          75.46,
          74.17,
          75.62,
          75.7,
          75.05,
          73,
          72.68,
          76.81,
          76.05,
          73.45,
          75.84,
          77.94,
          75.25,
          77.6,
          76.84,
          75.49,
          74.8,
          74.4,
          78.06,
          78.01,
          77.27,
          76.22,
          77.39,
          77.44,
          78,
          75.81,
          78.25,
          77.45,
          78.87,
          78.74,
          78.26,
          78.37,
          79.3,
          78.85,
          79.21,
          76.72,
          79.31,
          78.97,
          79.8,
          79.92,
          79.58,
          79.65,
          80,
          79.84,
          79.91,
          79.88
         ],
         "yaxis": "y"
        },
        {
         "line": {
          "color": "green"
         },
         "name": "Learning Rate",
         "type": "scatter",
         "x": [
          1000,
          2000,
          3000,
          4000,
          5000,
          6000,
          7000,
          8000,
          9000,
          10000,
          11000,
          12000,
          13000,
          14000,
          15000,
          16000,
          17000,
          18000,
          19000,
          20000,
          21000,
          22000,
          23000,
          24000,
          25000,
          26000,
          27000,
          28000,
          29000,
          30000,
          31000,
          32000,
          33000,
          34000,
          35000,
          36000,
          37000,
          38000,
          39000,
          40000,
          41000,
          42000,
          43000,
          44000,
          45000,
          46000,
          47000,
          48000,
          49000,
          50000,
          51000,
          52000,
          53000,
          54000,
          55000,
          56000,
          57000,
          58000,
          59000,
          60000,
          61000,
          62000,
          63000,
          64000,
          65000,
          66000,
          67000,
          68000,
          69000,
          70000,
          71000,
          72000,
          73000,
          74000,
          75000,
          76000,
          77000,
          78000,
          79000,
          80000,
          81000,
          82000,
          83000,
          84000,
          85000,
          86000,
          87000,
          88000,
          89000,
          90000,
          91000,
          92000,
          93000,
          94000,
          95000,
          96000,
          97000,
          98000,
          99000,
          100000,
          101000,
          102000,
          103000,
          104000,
          105000,
          106000,
          107000,
          108000,
          109000,
          110000,
          111000,
          112000,
          113000,
          114000,
          115000,
          116000,
          117000,
          118000,
          119000,
          120000,
          121000,
          122000,
          123000,
          124000,
          125000,
          126000,
          127000,
          128000,
          129000,
          130000,
          131000,
          132000,
          133000,
          134000,
          135000,
          136000,
          137000,
          138000,
          139000,
          140000,
          141000,
          142000,
          143000,
          144000,
          145000,
          146000,
          147000,
          148000,
          149000,
          150000,
          151000,
          152000,
          153000,
          154000,
          155000,
          156000,
          157000,
          158000,
          159000,
          160000
         ],
         "xaxis": "x",
         "y": [
          0.0099438,
          0.0098875,
          0.0098311,
          0.0097748,
          0.0097184,
          0.0096619,
          0.0096054,
          0.0095489,
          0.0094923,
          0.0094358,
          0.0093791,
          0.0093224,
          0.0092657,
          0.009209,
          0.0091522,
          0.0090954,
          0.0090385,
          0.0089816,
          0.0089247,
          0.0088677,
          0.0088106,
          0.0087536,
          0.0086965,
          0.0086393,
          0.0085821,
          0.0085249,
          0.0084676,
          0.0084103,
          0.0083529,
          0.0082955,
          0.0082381,
          0.0081806,
          0.008123,
          0.0080654,
          0.0080078,
          0.0079501,
          0.0078924,
          0.0078346,
          0.0077768,
          0.0077189,
          0.007661,
          0.0076031,
          0.007545,
          0.007487,
          0.0074289,
          0.0073707,
          0.0073125,
          0.0072542,
          0.0071959,
          0.0071375,
          0.0070791,
          0.0070206,
          0.0069621,
          0.0069035,
          0.0068449,
          0.0067862,
          0.0067274,
          0.0066686,
          0.0066097,
          0.0065508,
          0.0064918,
          0.0064328,
          0.0063737,
          0.0063145,
          0.0062553,
          0.006196,
          0.0061366,
          0.0060772,
          0.0060177,
          0.0059582,
          0.0058986,
          0.0058389,
          0.0057791,
          0.0057193,
          0.0056594,
          0.0055995,
          0.0055394,
          0.0054793,
          0.0054191,
          0.0053589,
          0.0052986,
          0.0052382,
          0.0051777,
          0.0051171,
          0.0050565,
          0.0049958,
          0.004935,
          0.0048741,
          0.0048131,
          0.0047521,
          0.0046909,
          0.0046297,
          0.0045684,
          0.004507,
          0.0044455,
          0.0043839,
          0.0043222,
          0.0042604,
          0.0041985,
          0.0041365,
          0.0040744,
          0.0040122,
          0.0039499,
          0.0038874,
          0.0038249,
          0.0037623,
          0.0036995,
          0.0036366,
          0.0035736,
          0.0035105,
          0.0034472,
          0.0033839,
          0.0033203,
          0.0032567,
          0.0031929,
          0.003129,
          0.0030649,
          0.0030007,
          0.0029363,
          0.0028718,
          0.0028071,
          0.0027422,
          0.0026772,
          0.002612,
          0.0025466,
          0.002481,
          0.0024152,
          0.0023493,
          0.0022831,
          0.0022167,
          0.0021501,
          0.0020832,
          0.0020161,
          0.0019488,
          0.0018812,
          0.0018134,
          0.0017452,
          0.0016768,
          0.001608,
          0.0015389,
          0.0014695,
          0.0013997,
          0.0013295,
          0.0012589,
          0.0011879,
          0.0011164,
          0.0010443,
          0.00097176,
          0.00089856,
          0.0008247,
          0.00075009,
          0.00067465,
          0.00059825,
          0.00052075,
          0.00044194,
          0.00036153,
          0.00027906,
          0.00019374,
          0.00010382,
          0
         ],
         "yaxis": "y2"
        }
       ],
       "layout": {
        "hovermode": "x unified",
        "legend": {
         "x": 1.15,
         "xanchor": "right",
         "y": 1.15,
         "yanchor": "top"
        },
        "template": {
         "data": {
          "bar": [
           {
            "error_x": {
             "color": "#2a3f5f"
            },
            "error_y": {
             "color": "#2a3f5f"
            },
            "marker": {
             "line": {
              "color": "#E5ECF6",
              "width": 0.5
             },
             "pattern": {
              "fillmode": "overlay",
              "size": 10,
              "solidity": 0.2
             }
            },
            "type": "bar"
           }
          ],
          "barpolar": [
           {
            "marker": {
             "line": {
              "color": "#E5ECF6",
              "width": 0.5
             },
             "pattern": {
              "fillmode": "overlay",
              "size": 10,
              "solidity": 0.2
             }
            },
            "type": "barpolar"
           }
          ],
          "carpet": [
           {
            "aaxis": {
             "endlinecolor": "#2a3f5f",
             "gridcolor": "white",
             "linecolor": "white",
             "minorgridcolor": "white",
             "startlinecolor": "#2a3f5f"
            },
            "baxis": {
             "endlinecolor": "#2a3f5f",
             "gridcolor": "white",
             "linecolor": "white",
             "minorgridcolor": "white",
             "startlinecolor": "#2a3f5f"
            },
            "type": "carpet"
           }
          ],
          "choropleth": [
           {
            "colorbar": {
             "outlinewidth": 0,
             "ticks": ""
            },
            "type": "choropleth"
           }
          ],
          "contour": [
           {
            "colorbar": {
             "outlinewidth": 0,
             "ticks": ""
            },
            "colorscale": [
             [
              0,
              "#0d0887"
             ],
             [
              0.1111111111111111,
              "#46039f"
             ],
             [
              0.2222222222222222,
              "#7201a8"
             ],
             [
              0.3333333333333333,
              "#9c179e"
             ],
             [
              0.4444444444444444,
              "#bd3786"
             ],
             [
              0.5555555555555556,
              "#d8576b"
             ],
             [
              0.6666666666666666,
              "#ed7953"
             ],
             [
              0.7777777777777778,
              "#fb9f3a"
             ],
             [
              0.8888888888888888,
              "#fdca26"
             ],
             [
              1,
              "#f0f921"
             ]
            ],
            "type": "contour"
           }
          ],
          "contourcarpet": [
           {
            "colorbar": {
             "outlinewidth": 0,
             "ticks": ""
            },
            "type": "contourcarpet"
           }
          ],
          "heatmap": [
           {
            "colorbar": {
             "outlinewidth": 0,
             "ticks": ""
            },
            "colorscale": [
             [
              0,
              "#0d0887"
             ],
             [
              0.1111111111111111,
              "#46039f"
             ],
             [
              0.2222222222222222,
              "#7201a8"
             ],
             [
              0.3333333333333333,
              "#9c179e"
             ],
             [
              0.4444444444444444,
              "#bd3786"
             ],
             [
              0.5555555555555556,
              "#d8576b"
             ],
             [
              0.6666666666666666,
              "#ed7953"
             ],
             [
              0.7777777777777778,
              "#fb9f3a"
             ],
             [
              0.8888888888888888,
              "#fdca26"
             ],
             [
              1,
              "#f0f921"
             ]
            ],
            "type": "heatmap"
           }
          ],
          "histogram": [
           {
            "marker": {
             "pattern": {
              "fillmode": "overlay",
              "size": 10,
              "solidity": 0.2
             }
            },
            "type": "histogram"
           }
          ],
          "histogram2d": [
           {
            "colorbar": {
             "outlinewidth": 0,
             "ticks": ""
            },
            "colorscale": [
             [
              0,
              "#0d0887"
             ],
             [
              0.1111111111111111,
              "#46039f"
             ],
             [
              0.2222222222222222,
              "#7201a8"
             ],
             [
              0.3333333333333333,
              "#9c179e"
             ],
             [
              0.4444444444444444,
              "#bd3786"
             ],
             [
              0.5555555555555556,
              "#d8576b"
             ],
             [
              0.6666666666666666,
              "#ed7953"
             ],
             [
              0.7777777777777778,
              "#fb9f3a"
             ],
             [
              0.8888888888888888,
              "#fdca26"
             ],
             [
              1,
              "#f0f921"
             ]
            ],
            "type": "histogram2d"
           }
          ],
          "histogram2dcontour": [
           {
            "colorbar": {
             "outlinewidth": 0,
             "ticks": ""
            },
            "colorscale": [
             [
              0,
              "#0d0887"
             ],
             [
              0.1111111111111111,
              "#46039f"
             ],
             [
              0.2222222222222222,
              "#7201a8"
             ],
             [
              0.3333333333333333,
              "#9c179e"
             ],
             [
              0.4444444444444444,
              "#bd3786"
             ],
             [
              0.5555555555555556,
              "#d8576b"
             ],
             [
              0.6666666666666666,
              "#ed7953"
             ],
             [
              0.7777777777777778,
              "#fb9f3a"
             ],
             [
              0.8888888888888888,
              "#fdca26"
             ],
             [
              1,
              "#f0f921"
             ]
            ],
            "type": "histogram2dcontour"
           }
          ],
          "mesh3d": [
           {
            "colorbar": {
             "outlinewidth": 0,
             "ticks": ""
            },
            "type": "mesh3d"
           }
          ],
          "parcoords": [
           {
            "line": {
             "colorbar": {
              "outlinewidth": 0,
              "ticks": ""
             }
            },
            "type": "parcoords"
           }
          ],
          "pie": [
           {
            "automargin": true,
            "type": "pie"
           }
          ],
          "scatter": [
           {
            "fillpattern": {
             "fillmode": "overlay",
             "size": 10,
             "solidity": 0.2
            },
            "type": "scatter"
           }
          ],
          "scatter3d": [
           {
            "line": {
             "colorbar": {
              "outlinewidth": 0,
              "ticks": ""
             }
            },
            "marker": {
             "colorbar": {
              "outlinewidth": 0,
              "ticks": ""
             }
            },
            "type": "scatter3d"
           }
          ],
          "scattercarpet": [
           {
            "marker": {
             "colorbar": {
              "outlinewidth": 0,
              "ticks": ""
             }
            },
            "type": "scattercarpet"
           }
          ],
          "scattergeo": [
           {
            "marker": {
             "colorbar": {
              "outlinewidth": 0,
              "ticks": ""
             }
            },
            "type": "scattergeo"
           }
          ],
          "scattergl": [
           {
            "marker": {
             "colorbar": {
              "outlinewidth": 0,
              "ticks": ""
             }
            },
            "type": "scattergl"
           }
          ],
          "scattermap": [
           {
            "marker": {
             "colorbar": {
              "outlinewidth": 0,
              "ticks": ""
             }
            },
            "type": "scattermap"
           }
          ],
          "scattermapbox": [
           {
            "marker": {
             "colorbar": {
              "outlinewidth": 0,
              "ticks": ""
             }
            },
            "type": "scattermapbox"
           }
          ],
          "scatterpolar": [
           {
            "marker": {
             "colorbar": {
              "outlinewidth": 0,
              "ticks": ""
             }
            },
            "type": "scatterpolar"
           }
          ],
          "scatterpolargl": [
           {
            "marker": {
             "colorbar": {
              "outlinewidth": 0,
              "ticks": ""
             }
            },
            "type": "scatterpolargl"
           }
          ],
          "scatterternary": [
           {
            "marker": {
             "colorbar": {
              "outlinewidth": 0,
              "ticks": ""
             }
            },
            "type": "scatterternary"
           }
          ],
          "surface": [
           {
            "colorbar": {
             "outlinewidth": 0,
             "ticks": ""
            },
            "colorscale": [
             [
              0,
              "#0d0887"
             ],
             [
              0.1111111111111111,
              "#46039f"
             ],
             [
              0.2222222222222222,
              "#7201a8"
             ],
             [
              0.3333333333333333,
              "#9c179e"
             ],
             [
              0.4444444444444444,
              "#bd3786"
             ],
             [
              0.5555555555555556,
              "#d8576b"
             ],
             [
              0.6666666666666666,
              "#ed7953"
             ],
             [
              0.7777777777777778,
              "#fb9f3a"
             ],
             [
              0.8888888888888888,
              "#fdca26"
             ],
             [
              1,
              "#f0f921"
             ]
            ],
            "type": "surface"
           }
          ],
          "table": [
           {
            "cells": {
             "fill": {
              "color": "#EBF0F8"
             },
             "line": {
              "color": "white"
             }
            },
            "header": {
             "fill": {
              "color": "#C8D4E3"
             },
             "line": {
              "color": "white"
             }
            },
            "type": "table"
           }
          ]
         },
         "layout": {
          "annotationdefaults": {
           "arrowcolor": "#2a3f5f",
           "arrowhead": 0,
           "arrowwidth": 1
          },
          "autotypenumbers": "strict",
          "coloraxis": {
           "colorbar": {
            "outlinewidth": 0,
            "ticks": ""
           }
          },
          "colorscale": {
           "diverging": [
            [
             0,
             "#8e0152"
            ],
            [
             0.1,
             "#c51b7d"
            ],
            [
             0.2,
             "#de77ae"
            ],
            [
             0.3,
             "#f1b6da"
            ],
            [
             0.4,
             "#fde0ef"
            ],
            [
             0.5,
             "#f7f7f7"
            ],
            [
             0.6,
             "#e6f5d0"
            ],
            [
             0.7,
             "#b8e186"
            ],
            [
             0.8,
             "#7fbc41"
            ],
            [
             0.9,
             "#4d9221"
            ],
            [
             1,
             "#276419"
            ]
           ],
           "sequential": [
            [
             0,
             "#0d0887"
            ],
            [
             0.1111111111111111,
             "#46039f"
            ],
            [
             0.2222222222222222,
             "#7201a8"
            ],
            [
             0.3333333333333333,
             "#9c179e"
            ],
            [
             0.4444444444444444,
             "#bd3786"
            ],
            [
             0.5555555555555556,
             "#d8576b"
            ],
            [
             0.6666666666666666,
             "#ed7953"
            ],
            [
             0.7777777777777778,
             "#fb9f3a"
            ],
            [
             0.8888888888888888,
             "#fdca26"
            ],
            [
             1,
             "#f0f921"
            ]
           ],
           "sequentialminus": [
            [
             0,
             "#0d0887"
            ],
            [
             0.1111111111111111,
             "#46039f"
            ],
            [
             0.2222222222222222,
             "#7201a8"
            ],
            [
             0.3333333333333333,
             "#9c179e"
            ],
            [
             0.4444444444444444,
             "#bd3786"
            ],
            [
             0.5555555555555556,
             "#d8576b"
            ],
            [
             0.6666666666666666,
             "#ed7953"
            ],
            [
             0.7777777777777778,
             "#fb9f3a"
            ],
            [
             0.8888888888888888,
             "#fdca26"
            ],
            [
             1,
             "#f0f921"
            ]
           ]
          },
          "colorway": [
           "#636efa",
           "#EF553B",
           "#00cc96",
           "#ab63fa",
           "#FFA15A",
           "#19d3f3",
           "#FF6692",
           "#B6E880",
           "#FF97FF",
           "#FECB52"
          ],
          "font": {
           "color": "#2a3f5f"
          },
          "geo": {
           "bgcolor": "white",
           "lakecolor": "white",
           "landcolor": "#E5ECF6",
           "showlakes": true,
           "showland": true,
           "subunitcolor": "white"
          },
          "hoverlabel": {
           "align": "left"
          },
          "hovermode": "closest",
          "mapbox": {
           "style": "light"
          },
          "paper_bgcolor": "white",
          "plot_bgcolor": "#E5ECF6",
          "polar": {
           "angularaxis": {
            "gridcolor": "white",
            "linecolor": "white",
            "ticks": ""
           },
           "bgcolor": "#E5ECF6",
           "radialaxis": {
            "gridcolor": "white",
            "linecolor": "white",
            "ticks": ""
           }
          },
          "scene": {
           "xaxis": {
            "backgroundcolor": "#E5ECF6",
            "gridcolor": "white",
            "gridwidth": 2,
            "linecolor": "white",
            "showbackground": true,
            "ticks": "",
            "zerolinecolor": "white"
           },
           "yaxis": {
            "backgroundcolor": "#E5ECF6",
            "gridcolor": "white",
            "gridwidth": 2,
            "linecolor": "white",
            "showbackground": true,
            "ticks": "",
            "zerolinecolor": "white"
           },
           "zaxis": {
            "backgroundcolor": "#E5ECF6",
            "gridcolor": "white",
            "gridwidth": 2,
            "linecolor": "white",
            "showbackground": true,
            "ticks": "",
            "zerolinecolor": "white"
           }
          },
          "shapedefaults": {
           "line": {
            "color": "#2a3f5f"
           }
          },
          "ternary": {
           "aaxis": {
            "gridcolor": "white",
            "linecolor": "white",
            "ticks": ""
           },
           "baxis": {
            "gridcolor": "white",
            "linecolor": "white",
            "ticks": ""
           },
           "bgcolor": "#E5ECF6",
           "caxis": {
            "gridcolor": "white",
            "linecolor": "white",
            "ticks": ""
           }
          },
          "title": {
           "x": 0.05
          },
          "xaxis": {
           "automargin": true,
           "gridcolor": "white",
           "linecolor": "white",
           "ticks": "",
           "title": {
            "standoff": 15
           },
           "zerolinecolor": "white",
           "zerolinewidth": 2
          },
          "yaxis": {
           "automargin": true,
           "gridcolor": "white",
           "linecolor": "white",
           "ticks": "",
           "title": {
            "standoff": 15
           },
           "zerolinecolor": "white",
           "zerolinewidth": 2
          }
         }
        },
        "title": {
         "text": "Validation Performance and Training Learning Rate vs Epoch"
        },
        "xaxis": {
         "anchor": "y",
         "domain": [
          0,
          0.94
         ],
         "range": [
          0,
          160000
         ],
         "title": {
          "text": "Epoch"
         }
        },
        "yaxis": {
         "anchor": "x",
         "domain": [
          0,
          1
         ],
         "dtick": 10,
         "range": [
          0,
          100
         ],
         "title": {
          "text": "Performance (%)"
         }
        },
        "yaxis2": {
         "anchor": "x",
         "overlaying": "y",
         "side": "right",
         "title": {
          "text": "Learning Rate"
         }
        }
       }
      }
     },
     "metadata": {},
     "output_type": "display_data"
    }
   ],
   "source": [
    "# Ablation 25 - SEBNet PIDNet SGD, Pretrained, Batch Size 6, OHEM Cross Entropy - 80.00 Best mIoU\n",
    "log_file_path = '/home/robert.breslin/alessandro/paper_2/mmsegmentation/work_dirs/sebnet_baseline-p-d-bas-head_1xb6_cityscapes/20250823_235000/20250823_235000.log'\n",
    "epochs, mIoU, mAcc, lrs = parse_log_file(log_file_path)\n",
    "plot_accuracies_and_lr_interactive(epochs, mAcc, mIoU, lrs, [0,160000])"
   ]
  },
  {
   "cell_type": "code",
   "execution_count": 22,
   "id": "69ff75e4",
   "metadata": {},
   "outputs": [
    {
     "data": {
      "application/vnd.plotly.v1+json": {
       "config": {
        "plotlyServerURL": "https://plot.ly"
       },
       "data": [
        {
         "line": {
          "color": "blue"
         },
         "name": "Mean Accuracy",
         "type": "scatter",
         "x": [
          1000,
          2000,
          3000,
          4000,
          5000,
          6000,
          7000,
          8000,
          9000,
          10000,
          11000,
          12000,
          13000,
          14000,
          15000,
          16000,
          17000,
          18000,
          19000,
          20000,
          21000,
          22000,
          23000,
          24000,
          25000,
          26000,
          27000,
          28000,
          29000,
          30000,
          31000,
          32000,
          33000,
          34000,
          35000,
          36000,
          37000,
          38000,
          39000,
          40000,
          41000,
          42000,
          43000,
          44000,
          45000,
          46000,
          47000,
          48000,
          49000,
          50000,
          51000,
          52000,
          53000,
          54000,
          55000,
          56000,
          57000,
          58000,
          59000,
          60000,
          61000,
          62000,
          63000,
          64000,
          65000,
          66000,
          67000,
          68000,
          69000,
          70000,
          71000,
          72000,
          73000,
          74000,
          75000,
          76000,
          77000,
          78000,
          79000,
          80000,
          81000,
          82000,
          83000,
          84000,
          85000,
          86000,
          87000,
          88000,
          89000,
          90000,
          91000,
          92000,
          93000,
          94000,
          95000,
          96000,
          97000,
          98000,
          99000,
          100000,
          101000,
          102000,
          103000,
          104000,
          105000,
          106000,
          107000,
          108000,
          109000,
          110000,
          111000,
          112000,
          113000,
          114000,
          115000,
          116000,
          117000,
          118000,
          119000,
          120000,
          121000,
          122000,
          123000,
          124000,
          125000,
          126000,
          127000,
          128000,
          129000,
          130000,
          131000,
          132000,
          133000,
          134000,
          135000,
          136000,
          137000,
          138000,
          139000,
          140000,
          141000,
          142000,
          143000,
          144000,
          145000,
          146000,
          147000,
          148000,
          149000,
          150000,
          151000,
          152000,
          153000,
          154000,
          155000,
          156000,
          157000,
          158000,
          159000,
          160000
         ],
         "xaxis": "x",
         "y": [
          31.06,
          35.33,
          41.61,
          40.54,
          45.26,
          51.21,
          53.71,
          54.65,
          53.28,
          61.05,
          58.96,
          59.49,
          60.68,
          56.95,
          62.31,
          62.08,
          59.48,
          61.1,
          67.49,
          59.98,
          64.52,
          64.57,
          68.72,
          69.63,
          68.81,
          66.52,
          68.09,
          70.23,
          68.77,
          70.24,
          68.33,
          63.94,
          74.92,
          70.9,
          68.3,
          70.72,
          73.28,
          72,
          70.66,
          68.98,
          71.44,
          69.37,
          69.67,
          72.45,
          73.53,
          75.9,
          73.28,
          66.17,
          71.2,
          72.13,
          72.53,
          72.22,
          74.04,
          73.63,
          72.88,
          67.54,
          75.03,
          74.32,
          71.26,
          73.02,
          76.62,
          72.2,
          72.28,
          76.3,
          77.45,
          73.84,
          73.94,
          75.29,
          77.88,
          74.67,
          65.65,
          61.5,
          75.96,
          78.01,
          73.93,
          77.26,
          74.24,
          66.75,
          74.31,
          76.28,
          78.93,
          77.82,
          77.73,
          78.29,
          76.58,
          77.51,
          75.77,
          68.67,
          76.27,
          78.2,
          77.33,
          77.42,
          78.63,
          67.43,
          79.33,
          78.5,
          78.16,
          79.21,
          78.03,
          77.57,
          80.23,
          79.39,
          76.69,
          78.74,
          76.89,
          78.14,
          79.78,
          77.12,
          77.98,
          80.13,
          80.84,
          77.08,
          78.98,
          81.25,
          79.87,
          78.9,
          81.12,
          79.82,
          81.4,
          80.23,
          80,
          81.97,
          80.06,
          79.65,
          81.55,
          78.65,
          81.94,
          81.68,
          81.56,
          75.59,
          80.59,
          81.88,
          79.2,
          81.27,
          81.03,
          81.14,
          79.7,
          82.92,
          81.82,
          79.56,
          82.45,
          81.62,
          82.87,
          82.86,
          82.74,
          82.17,
          83.21,
          82.61,
          82.79,
          81.1,
          83.51,
          82.51,
          82.93,
          83.41,
          82.47,
          83.03,
          83.96,
          83.53,
          83.41,
          83.29
         ],
         "yaxis": "y"
        },
        {
         "line": {
          "color": "orange"
         },
         "name": "Mean IoU",
         "type": "scatter",
         "x": [
          1000,
          2000,
          3000,
          4000,
          5000,
          6000,
          7000,
          8000,
          9000,
          10000,
          11000,
          12000,
          13000,
          14000,
          15000,
          16000,
          17000,
          18000,
          19000,
          20000,
          21000,
          22000,
          23000,
          24000,
          25000,
          26000,
          27000,
          28000,
          29000,
          30000,
          31000,
          32000,
          33000,
          34000,
          35000,
          36000,
          37000,
          38000,
          39000,
          40000,
          41000,
          42000,
          43000,
          44000,
          45000,
          46000,
          47000,
          48000,
          49000,
          50000,
          51000,
          52000,
          53000,
          54000,
          55000,
          56000,
          57000,
          58000,
          59000,
          60000,
          61000,
          62000,
          63000,
          64000,
          65000,
          66000,
          67000,
          68000,
          69000,
          70000,
          71000,
          72000,
          73000,
          74000,
          75000,
          76000,
          77000,
          78000,
          79000,
          80000,
          81000,
          82000,
          83000,
          84000,
          85000,
          86000,
          87000,
          88000,
          89000,
          90000,
          91000,
          92000,
          93000,
          94000,
          95000,
          96000,
          97000,
          98000,
          99000,
          100000,
          101000,
          102000,
          103000,
          104000,
          105000,
          106000,
          107000,
          108000,
          109000,
          110000,
          111000,
          112000,
          113000,
          114000,
          115000,
          116000,
          117000,
          118000,
          119000,
          120000,
          121000,
          122000,
          123000,
          124000,
          125000,
          126000,
          127000,
          128000,
          129000,
          130000,
          131000,
          132000,
          133000,
          134000,
          135000,
          136000,
          137000,
          138000,
          139000,
          140000,
          141000,
          142000,
          143000,
          144000,
          145000,
          146000,
          147000,
          148000,
          149000,
          150000,
          151000,
          152000,
          153000,
          154000,
          155000,
          156000,
          157000,
          158000,
          159000,
          160000
         ],
         "xaxis": "x",
         "y": [
          23.91,
          29.12,
          32.8,
          33.76,
          36.38,
          39.19,
          39.92,
          43.15,
          44.24,
          49.27,
          47.97,
          48.61,
          51.35,
          47.72,
          51.97,
          48.67,
          50.02,
          51.96,
          55.18,
          50.57,
          51.71,
          52.7,
          53.81,
          58.1,
          56.53,
          54.26,
          55.08,
          56.74,
          57.03,
          58.91,
          57.02,
          54.14,
          58.33,
          60.59,
          57.2,
          59.92,
          61.22,
          59.79,
          58.28,
          56.35,
          60.26,
          59.81,
          60.74,
          60.33,
          59.86,
          64.17,
          60.73,
          56.42,
          58.73,
          60.1,
          61.07,
          56.82,
          64.06,
          61.45,
          59.35,
          58.48,
          61.74,
          60.7,
          59.61,
          63.14,
          61.93,
          61.83,
          61.41,
          63.75,
          64.97,
          60.15,
          61.74,
          64.07,
          67,
          64.03,
          56.71,
          49.87,
          63.89,
          65.47,
          62.88,
          66.34,
          62.55,
          57.69,
          62.46,
          64.98,
          67.02,
          63.86,
          65.98,
          64.81,
          65.4,
          66.65,
          64.39,
          59.26,
          65.04,
          66.64,
          66.36,
          64.68,
          68.46,
          53.2,
          67.45,
          66.58,
          66.84,
          68.07,
          68.16,
          65.67,
          68.17,
          63.8,
          67.36,
          67.13,
          66.09,
          67.38,
          65.37,
          67.37,
          67.89,
          69.13,
          68.86,
          67.07,
          66.46,
          67.17,
          68.94,
          69.17,
          70.8,
          69.56,
          69.73,
          66.89,
          69.32,
          71.75,
          70.24,
          70.78,
          70.71,
          66.33,
          71.32,
          71.86,
          71.31,
          64.11,
          70.47,
          71.3,
          69.93,
          71.03,
          70.97,
          69.73,
          70.43,
          72.37,
          71.46,
          69.87,
          72.53,
          71.82,
          73.13,
          73.17,
          73.19,
          73.47,
          73.02,
          73.6,
          73.04,
          70.37,
          73.92,
          73.63,
          73.75,
          74.26,
          73.6,
          74.21,
          74.65,
          74.59,
          74.47,
          74.52
         ],
         "yaxis": "y"
        },
        {
         "line": {
          "color": "green"
         },
         "name": "Learning Rate",
         "type": "scatter",
         "x": [
          1000,
          2000,
          3000,
          4000,
          5000,
          6000,
          7000,
          8000,
          9000,
          10000,
          11000,
          12000,
          13000,
          14000,
          15000,
          16000,
          17000,
          18000,
          19000,
          20000,
          21000,
          22000,
          23000,
          24000,
          25000,
          26000,
          27000,
          28000,
          29000,
          30000,
          31000,
          32000,
          33000,
          34000,
          35000,
          36000,
          37000,
          38000,
          39000,
          40000,
          41000,
          42000,
          43000,
          44000,
          45000,
          46000,
          47000,
          48000,
          49000,
          50000,
          51000,
          52000,
          53000,
          54000,
          55000,
          56000,
          57000,
          58000,
          59000,
          60000,
          61000,
          62000,
          63000,
          64000,
          65000,
          66000,
          67000,
          68000,
          69000,
          70000,
          71000,
          72000,
          73000,
          74000,
          75000,
          76000,
          77000,
          78000,
          79000,
          80000,
          81000,
          82000,
          83000,
          84000,
          85000,
          86000,
          87000,
          88000,
          89000,
          90000,
          91000,
          92000,
          93000,
          94000,
          95000,
          96000,
          97000,
          98000,
          99000,
          100000,
          101000,
          102000,
          103000,
          104000,
          105000,
          106000,
          107000,
          108000,
          109000,
          110000,
          111000,
          112000,
          113000,
          114000,
          115000,
          116000,
          117000,
          118000,
          119000,
          120000,
          121000,
          122000,
          123000,
          124000,
          125000,
          126000,
          127000,
          128000,
          129000,
          130000,
          131000,
          132000,
          133000,
          134000,
          135000,
          136000,
          137000,
          138000,
          139000,
          140000,
          141000,
          142000,
          143000,
          144000,
          145000,
          146000,
          147000,
          148000,
          149000,
          150000,
          151000,
          152000,
          153000,
          154000,
          155000,
          156000,
          157000,
          158000,
          159000,
          160000
         ],
         "xaxis": "x",
         "y": [
          0.0099438,
          0.0098875,
          0.0098311,
          0.0097748,
          0.0097184,
          0.0096619,
          0.0096054,
          0.0095489,
          0.0094923,
          0.0094358,
          0.0093791,
          0.0093224,
          0.0092657,
          0.009209,
          0.0091522,
          0.0090954,
          0.0090385,
          0.0089816,
          0.0089247,
          0.0088677,
          0.0088106,
          0.0087536,
          0.0086965,
          0.0086393,
          0.0085821,
          0.0085249,
          0.0084676,
          0.0084103,
          0.0083529,
          0.0082955,
          0.0082381,
          0.0081806,
          0.008123,
          0.0080654,
          0.0080078,
          0.0079501,
          0.0078924,
          0.0078346,
          0.0077768,
          0.0077189,
          0.007661,
          0.0076031,
          0.007545,
          0.007487,
          0.0074289,
          0.0073707,
          0.0073125,
          0.0072542,
          0.0071959,
          0.0071375,
          0.0070791,
          0.0070206,
          0.0069621,
          0.0069035,
          0.0068449,
          0.0067862,
          0.0067274,
          0.0066686,
          0.0066097,
          0.0065508,
          0.0064918,
          0.0064328,
          0.0063737,
          0.0063145,
          0.0062553,
          0.006196,
          0.0061366,
          0.0060772,
          0.0060177,
          0.0059582,
          0.0058986,
          0.0058389,
          0.0057791,
          0.0057193,
          0.0056594,
          0.0055995,
          0.0055394,
          0.0054793,
          0.0054191,
          0.0053589,
          0.0052986,
          0.0052382,
          0.0051777,
          0.0051171,
          0.0050565,
          0.0049958,
          0.004935,
          0.0048741,
          0.0048131,
          0.0047521,
          0.0046909,
          0.0046297,
          0.0045684,
          0.004507,
          0.0044455,
          0.0043839,
          0.0043222,
          0.0042604,
          0.0041985,
          0.0041365,
          0.0040744,
          0.0040122,
          0.0039499,
          0.0038874,
          0.0038249,
          0.0037623,
          0.0036995,
          0.0036366,
          0.0035736,
          0.0035105,
          0.0034472,
          0.0033839,
          0.0033203,
          0.0032567,
          0.0031929,
          0.003129,
          0.0030649,
          0.0030007,
          0.0029363,
          0.0028718,
          0.0028071,
          0.0027422,
          0.0026772,
          0.002612,
          0.0025466,
          0.002481,
          0.0024152,
          0.0023493,
          0.0022831,
          0.0022167,
          0.0021501,
          0.0020832,
          0.0020161,
          0.0019488,
          0.0018812,
          0.0018134,
          0.0017452,
          0.0016768,
          0.001608,
          0.0015389,
          0.0014695,
          0.0013997,
          0.0013295,
          0.0012589,
          0.0011879,
          0.0011164,
          0.0010443,
          0.00097176,
          0.00089856,
          0.0008247,
          0.00075009,
          0.00067465,
          0.00059825,
          0.00052075,
          0.00044194,
          0.00036153,
          0.00027906,
          0.00019374,
          0.00010382,
          0
         ],
         "yaxis": "y2"
        }
       ],
       "layout": {
        "hovermode": "x unified",
        "legend": {
         "x": 1.15,
         "xanchor": "right",
         "y": 1.15,
         "yanchor": "top"
        },
        "template": {
         "data": {
          "bar": [
           {
            "error_x": {
             "color": "#2a3f5f"
            },
            "error_y": {
             "color": "#2a3f5f"
            },
            "marker": {
             "line": {
              "color": "#E5ECF6",
              "width": 0.5
             },
             "pattern": {
              "fillmode": "overlay",
              "size": 10,
              "solidity": 0.2
             }
            },
            "type": "bar"
           }
          ],
          "barpolar": [
           {
            "marker": {
             "line": {
              "color": "#E5ECF6",
              "width": 0.5
             },
             "pattern": {
              "fillmode": "overlay",
              "size": 10,
              "solidity": 0.2
             }
            },
            "type": "barpolar"
           }
          ],
          "carpet": [
           {
            "aaxis": {
             "endlinecolor": "#2a3f5f",
             "gridcolor": "white",
             "linecolor": "white",
             "minorgridcolor": "white",
             "startlinecolor": "#2a3f5f"
            },
            "baxis": {
             "endlinecolor": "#2a3f5f",
             "gridcolor": "white",
             "linecolor": "white",
             "minorgridcolor": "white",
             "startlinecolor": "#2a3f5f"
            },
            "type": "carpet"
           }
          ],
          "choropleth": [
           {
            "colorbar": {
             "outlinewidth": 0,
             "ticks": ""
            },
            "type": "choropleth"
           }
          ],
          "contour": [
           {
            "colorbar": {
             "outlinewidth": 0,
             "ticks": ""
            },
            "colorscale": [
             [
              0,
              "#0d0887"
             ],
             [
              0.1111111111111111,
              "#46039f"
             ],
             [
              0.2222222222222222,
              "#7201a8"
             ],
             [
              0.3333333333333333,
              "#9c179e"
             ],
             [
              0.4444444444444444,
              "#bd3786"
             ],
             [
              0.5555555555555556,
              "#d8576b"
             ],
             [
              0.6666666666666666,
              "#ed7953"
             ],
             [
              0.7777777777777778,
              "#fb9f3a"
             ],
             [
              0.8888888888888888,
              "#fdca26"
             ],
             [
              1,
              "#f0f921"
             ]
            ],
            "type": "contour"
           }
          ],
          "contourcarpet": [
           {
            "colorbar": {
             "outlinewidth": 0,
             "ticks": ""
            },
            "type": "contourcarpet"
           }
          ],
          "heatmap": [
           {
            "colorbar": {
             "outlinewidth": 0,
             "ticks": ""
            },
            "colorscale": [
             [
              0,
              "#0d0887"
             ],
             [
              0.1111111111111111,
              "#46039f"
             ],
             [
              0.2222222222222222,
              "#7201a8"
             ],
             [
              0.3333333333333333,
              "#9c179e"
             ],
             [
              0.4444444444444444,
              "#bd3786"
             ],
             [
              0.5555555555555556,
              "#d8576b"
             ],
             [
              0.6666666666666666,
              "#ed7953"
             ],
             [
              0.7777777777777778,
              "#fb9f3a"
             ],
             [
              0.8888888888888888,
              "#fdca26"
             ],
             [
              1,
              "#f0f921"
             ]
            ],
            "type": "heatmap"
           }
          ],
          "histogram": [
           {
            "marker": {
             "pattern": {
              "fillmode": "overlay",
              "size": 10,
              "solidity": 0.2
             }
            },
            "type": "histogram"
           }
          ],
          "histogram2d": [
           {
            "colorbar": {
             "outlinewidth": 0,
             "ticks": ""
            },
            "colorscale": [
             [
              0,
              "#0d0887"
             ],
             [
              0.1111111111111111,
              "#46039f"
             ],
             [
              0.2222222222222222,
              "#7201a8"
             ],
             [
              0.3333333333333333,
              "#9c179e"
             ],
             [
              0.4444444444444444,
              "#bd3786"
             ],
             [
              0.5555555555555556,
              "#d8576b"
             ],
             [
              0.6666666666666666,
              "#ed7953"
             ],
             [
              0.7777777777777778,
              "#fb9f3a"
             ],
             [
              0.8888888888888888,
              "#fdca26"
             ],
             [
              1,
              "#f0f921"
             ]
            ],
            "type": "histogram2d"
           }
          ],
          "histogram2dcontour": [
           {
            "colorbar": {
             "outlinewidth": 0,
             "ticks": ""
            },
            "colorscale": [
             [
              0,
              "#0d0887"
             ],
             [
              0.1111111111111111,
              "#46039f"
             ],
             [
              0.2222222222222222,
              "#7201a8"
             ],
             [
              0.3333333333333333,
              "#9c179e"
             ],
             [
              0.4444444444444444,
              "#bd3786"
             ],
             [
              0.5555555555555556,
              "#d8576b"
             ],
             [
              0.6666666666666666,
              "#ed7953"
             ],
             [
              0.7777777777777778,
              "#fb9f3a"
             ],
             [
              0.8888888888888888,
              "#fdca26"
             ],
             [
              1,
              "#f0f921"
             ]
            ],
            "type": "histogram2dcontour"
           }
          ],
          "mesh3d": [
           {
            "colorbar": {
             "outlinewidth": 0,
             "ticks": ""
            },
            "type": "mesh3d"
           }
          ],
          "parcoords": [
           {
            "line": {
             "colorbar": {
              "outlinewidth": 0,
              "ticks": ""
             }
            },
            "type": "parcoords"
           }
          ],
          "pie": [
           {
            "automargin": true,
            "type": "pie"
           }
          ],
          "scatter": [
           {
            "fillpattern": {
             "fillmode": "overlay",
             "size": 10,
             "solidity": 0.2
            },
            "type": "scatter"
           }
          ],
          "scatter3d": [
           {
            "line": {
             "colorbar": {
              "outlinewidth": 0,
              "ticks": ""
             }
            },
            "marker": {
             "colorbar": {
              "outlinewidth": 0,
              "ticks": ""
             }
            },
            "type": "scatter3d"
           }
          ],
          "scattercarpet": [
           {
            "marker": {
             "colorbar": {
              "outlinewidth": 0,
              "ticks": ""
             }
            },
            "type": "scattercarpet"
           }
          ],
          "scattergeo": [
           {
            "marker": {
             "colorbar": {
              "outlinewidth": 0,
              "ticks": ""
             }
            },
            "type": "scattergeo"
           }
          ],
          "scattergl": [
           {
            "marker": {
             "colorbar": {
              "outlinewidth": 0,
              "ticks": ""
             }
            },
            "type": "scattergl"
           }
          ],
          "scattermap": [
           {
            "marker": {
             "colorbar": {
              "outlinewidth": 0,
              "ticks": ""
             }
            },
            "type": "scattermap"
           }
          ],
          "scattermapbox": [
           {
            "marker": {
             "colorbar": {
              "outlinewidth": 0,
              "ticks": ""
             }
            },
            "type": "scattermapbox"
           }
          ],
          "scatterpolar": [
           {
            "marker": {
             "colorbar": {
              "outlinewidth": 0,
              "ticks": ""
             }
            },
            "type": "scatterpolar"
           }
          ],
          "scatterpolargl": [
           {
            "marker": {
             "colorbar": {
              "outlinewidth": 0,
              "ticks": ""
             }
            },
            "type": "scatterpolargl"
           }
          ],
          "scatterternary": [
           {
            "marker": {
             "colorbar": {
              "outlinewidth": 0,
              "ticks": ""
             }
            },
            "type": "scatterternary"
           }
          ],
          "surface": [
           {
            "colorbar": {
             "outlinewidth": 0,
             "ticks": ""
            },
            "colorscale": [
             [
              0,
              "#0d0887"
             ],
             [
              0.1111111111111111,
              "#46039f"
             ],
             [
              0.2222222222222222,
              "#7201a8"
             ],
             [
              0.3333333333333333,
              "#9c179e"
             ],
             [
              0.4444444444444444,
              "#bd3786"
             ],
             [
              0.5555555555555556,
              "#d8576b"
             ],
             [
              0.6666666666666666,
              "#ed7953"
             ],
             [
              0.7777777777777778,
              "#fb9f3a"
             ],
             [
              0.8888888888888888,
              "#fdca26"
             ],
             [
              1,
              "#f0f921"
             ]
            ],
            "type": "surface"
           }
          ],
          "table": [
           {
            "cells": {
             "fill": {
              "color": "#EBF0F8"
             },
             "line": {
              "color": "white"
             }
            },
            "header": {
             "fill": {
              "color": "#C8D4E3"
             },
             "line": {
              "color": "white"
             }
            },
            "type": "table"
           }
          ]
         },
         "layout": {
          "annotationdefaults": {
           "arrowcolor": "#2a3f5f",
           "arrowhead": 0,
           "arrowwidth": 1
          },
          "autotypenumbers": "strict",
          "coloraxis": {
           "colorbar": {
            "outlinewidth": 0,
            "ticks": ""
           }
          },
          "colorscale": {
           "diverging": [
            [
             0,
             "#8e0152"
            ],
            [
             0.1,
             "#c51b7d"
            ],
            [
             0.2,
             "#de77ae"
            ],
            [
             0.3,
             "#f1b6da"
            ],
            [
             0.4,
             "#fde0ef"
            ],
            [
             0.5,
             "#f7f7f7"
            ],
            [
             0.6,
             "#e6f5d0"
            ],
            [
             0.7,
             "#b8e186"
            ],
            [
             0.8,
             "#7fbc41"
            ],
            [
             0.9,
             "#4d9221"
            ],
            [
             1,
             "#276419"
            ]
           ],
           "sequential": [
            [
             0,
             "#0d0887"
            ],
            [
             0.1111111111111111,
             "#46039f"
            ],
            [
             0.2222222222222222,
             "#7201a8"
            ],
            [
             0.3333333333333333,
             "#9c179e"
            ],
            [
             0.4444444444444444,
             "#bd3786"
            ],
            [
             0.5555555555555556,
             "#d8576b"
            ],
            [
             0.6666666666666666,
             "#ed7953"
            ],
            [
             0.7777777777777778,
             "#fb9f3a"
            ],
            [
             0.8888888888888888,
             "#fdca26"
            ],
            [
             1,
             "#f0f921"
            ]
           ],
           "sequentialminus": [
            [
             0,
             "#0d0887"
            ],
            [
             0.1111111111111111,
             "#46039f"
            ],
            [
             0.2222222222222222,
             "#7201a8"
            ],
            [
             0.3333333333333333,
             "#9c179e"
            ],
            [
             0.4444444444444444,
             "#bd3786"
            ],
            [
             0.5555555555555556,
             "#d8576b"
            ],
            [
             0.6666666666666666,
             "#ed7953"
            ],
            [
             0.7777777777777778,
             "#fb9f3a"
            ],
            [
             0.8888888888888888,
             "#fdca26"
            ],
            [
             1,
             "#f0f921"
            ]
           ]
          },
          "colorway": [
           "#636efa",
           "#EF553B",
           "#00cc96",
           "#ab63fa",
           "#FFA15A",
           "#19d3f3",
           "#FF6692",
           "#B6E880",
           "#FF97FF",
           "#FECB52"
          ],
          "font": {
           "color": "#2a3f5f"
          },
          "geo": {
           "bgcolor": "white",
           "lakecolor": "white",
           "landcolor": "#E5ECF6",
           "showlakes": true,
           "showland": true,
           "subunitcolor": "white"
          },
          "hoverlabel": {
           "align": "left"
          },
          "hovermode": "closest",
          "mapbox": {
           "style": "light"
          },
          "paper_bgcolor": "white",
          "plot_bgcolor": "#E5ECF6",
          "polar": {
           "angularaxis": {
            "gridcolor": "white",
            "linecolor": "white",
            "ticks": ""
           },
           "bgcolor": "#E5ECF6",
           "radialaxis": {
            "gridcolor": "white",
            "linecolor": "white",
            "ticks": ""
           }
          },
          "scene": {
           "xaxis": {
            "backgroundcolor": "#E5ECF6",
            "gridcolor": "white",
            "gridwidth": 2,
            "linecolor": "white",
            "showbackground": true,
            "ticks": "",
            "zerolinecolor": "white"
           },
           "yaxis": {
            "backgroundcolor": "#E5ECF6",
            "gridcolor": "white",
            "gridwidth": 2,
            "linecolor": "white",
            "showbackground": true,
            "ticks": "",
            "zerolinecolor": "white"
           },
           "zaxis": {
            "backgroundcolor": "#E5ECF6",
            "gridcolor": "white",
            "gridwidth": 2,
            "linecolor": "white",
            "showbackground": true,
            "ticks": "",
            "zerolinecolor": "white"
           }
          },
          "shapedefaults": {
           "line": {
            "color": "#2a3f5f"
           }
          },
          "ternary": {
           "aaxis": {
            "gridcolor": "white",
            "linecolor": "white",
            "ticks": ""
           },
           "baxis": {
            "gridcolor": "white",
            "linecolor": "white",
            "ticks": ""
           },
           "bgcolor": "#E5ECF6",
           "caxis": {
            "gridcolor": "white",
            "linecolor": "white",
            "ticks": ""
           }
          },
          "title": {
           "x": 0.05
          },
          "xaxis": {
           "automargin": true,
           "gridcolor": "white",
           "linecolor": "white",
           "ticks": "",
           "title": {
            "standoff": 15
           },
           "zerolinecolor": "white",
           "zerolinewidth": 2
          },
          "yaxis": {
           "automargin": true,
           "gridcolor": "white",
           "linecolor": "white",
           "ticks": "",
           "title": {
            "standoff": 15
           },
           "zerolinecolor": "white",
           "zerolinewidth": 2
          }
         }
        },
        "title": {
         "text": "Validation Performance and Training Learning Rate vs Epoch"
        },
        "xaxis": {
         "anchor": "y",
         "domain": [
          0,
          0.94
         ],
         "range": [
          0,
          160000
         ],
         "title": {
          "text": "Epoch"
         }
        },
        "yaxis": {
         "anchor": "x",
         "domain": [
          0,
          1
         ],
         "dtick": 10,
         "range": [
          0,
          100
         ],
         "title": {
          "text": "Performance (%)"
         }
        },
        "yaxis2": {
         "anchor": "x",
         "overlaying": "y",
         "side": "right",
         "title": {
          "text": "Learning Rate"
         }
        }
       }
      }
     },
     "metadata": {},
     "output_type": "display_data"
    }
   ],
   "source": [
    "# Ablation 20 - SEBNet BaselineDSBDHead SGD, Pretrained, Batch Size 6, OHEM Cross Entropy, Edge Width 2, Edge Loss Weight 5.0 - 74.65 Best mIoU\n",
    "log_file_path = '/home/robert.breslin/alessandro/paper_2/mmsegmentation/work_dirs/sebnet_baseline-d-sbd-head_1xb6_cityscapes/20250903_225043/20250903_225043.log'\n",
    "epochs, mIoU, mAcc, lrs = parse_log_file(log_file_path)\n",
    "plot_accuracies_and_lr_interactive(epochs, mAcc, mIoU, lrs, [0,160000])"
   ]
  },
  {
   "cell_type": "code",
   "execution_count": 23,
   "id": "18ab82a6",
   "metadata": {},
   "outputs": [
    {
     "data": {
      "application/vnd.plotly.v1+json": {
       "config": {
        "plotlyServerURL": "https://plot.ly"
       },
       "data": [
        {
         "line": {
          "color": "blue"
         },
         "name": "Mean Accuracy",
         "type": "scatter",
         "x": [
          1000,
          2000,
          3000,
          4000,
          5000,
          6000,
          7000,
          8000,
          9000,
          10000,
          11000,
          12000,
          13000,
          14000,
          15000,
          16000,
          17000,
          18000,
          19000,
          20000,
          21000,
          22000,
          23000,
          24000,
          25000,
          26000,
          27000,
          28000,
          29000,
          30000,
          31000,
          32000,
          33000,
          34000,
          35000,
          36000,
          37000,
          38000,
          39000,
          40000,
          41000,
          42000,
          43000,
          44000,
          45000,
          46000,
          47000,
          48000,
          49000,
          50000,
          51000,
          52000,
          53000,
          54000,
          55000,
          56000,
          57000,
          58000,
          59000,
          60000,
          61000,
          62000,
          63000,
          64000,
          65000,
          66000,
          67000,
          68000,
          69000,
          70000,
          71000,
          72000,
          73000,
          74000,
          75000,
          76000,
          77000,
          78000,
          79000,
          80000,
          81000,
          82000,
          83000,
          84000,
          85000,
          86000,
          87000,
          88000,
          89000,
          90000,
          91000,
          92000,
          93000,
          94000,
          95000,
          96000,
          97000,
          98000,
          99000,
          100000,
          101000,
          102000,
          103000,
          104000,
          105000,
          106000,
          107000,
          108000,
          109000,
          110000,
          111000,
          112000,
          113000,
          114000,
          115000,
          116000,
          117000,
          118000,
          119000,
          120000,
          121000,
          122000,
          123000,
          124000,
          125000,
          126000,
          127000,
          128000,
          129000,
          130000,
          131000,
          132000,
          133000,
          134000,
          135000,
          136000,
          137000,
          138000,
          139000,
          140000,
          141000,
          142000,
          143000,
          144000,
          145000,
          146000,
          147000,
          148000,
          149000,
          150000,
          151000,
          152000,
          153000,
          154000,
          155000,
          156000,
          157000,
          158000,
          159000,
          160000
         ],
         "xaxis": "x",
         "y": [
          33.57,
          38.51,
          45.24,
          46.49,
          51.74,
          56.17,
          58.43,
          60.15,
          59.06,
          64.23,
          63.38,
          65.17,
          66.1,
          61.39,
          68.76,
          66.89,
          68.34,
          67.28,
          72.55,
          63.23,
          67.19,
          69.11,
          72.04,
          72.29,
          74.76,
          72.08,
          77.1,
          74.04,
          73.76,
          74.42,
          74.91,
          67.83,
          75.44,
          67.64,
          73.1,
          74.34,
          76.79,
          80.19,
          75.24,
          73.83,
          73.38,
          74.31,
          76.3,
          71.45,
          78.56,
          81.34,
          75,
          70.49,
          71.91,
          77.32,
          77.68,
          77.49,
          77.52,
          76.46,
          78.56,
          80.41,
          76.3,
          78.85,
          77.03,
          76.08,
          80.72,
          78.68,
          78.1,
          80.52,
          73.56,
          72.69,
          78.93,
          79.71,
          79.19,
          80.46,
          74.28,
          68.31,
          81.01,
          79.45,
          79.16,
          79.91,
          76.59,
          71.34,
          77.98,
          79.87,
          71.46,
          82.45,
          82.33,
          82.28,
          79.15,
          82.04,
          81.04,
          78,
          81.75,
          80.01,
          82.78,
          82.04,
          83.24,
          82.55,
          84.82,
          84.07,
          81.73,
          82.72,
          82.2,
          81.56,
          84.77,
          86.02,
          80.91,
          83.86,
          79.7,
          82.19,
          84.06,
          82.68,
          83.96,
          84.16,
          78.01,
          84.25,
          84.37,
          83.13,
          80.02,
          84.54,
          86.3,
          83.61,
          81.05,
          84.73,
          84.74,
          85.86,
          85.12,
          80.51,
          84.07,
          85.16,
          84.22,
          85.62,
          84.07,
          78.96,
          84.22,
          86.51,
          84.2,
          85.05,
          85.67,
          85.9,
          85.98,
          84.29,
          86.64,
          84.97,
          86.82,
          86.41,
          87.06,
          87.35,
          86.2,
          86.11,
          87.37,
          86.23,
          86.95,
          86.59,
          87.44,
          87.24,
          87.21,
          87.33,
          86.87,
          86.9,
          87.37,
          87.37,
          87.08,
          87.1
         ],
         "yaxis": "y"
        },
        {
         "line": {
          "color": "orange"
         },
         "name": "Mean IoU",
         "type": "scatter",
         "x": [
          1000,
          2000,
          3000,
          4000,
          5000,
          6000,
          7000,
          8000,
          9000,
          10000,
          11000,
          12000,
          13000,
          14000,
          15000,
          16000,
          17000,
          18000,
          19000,
          20000,
          21000,
          22000,
          23000,
          24000,
          25000,
          26000,
          27000,
          28000,
          29000,
          30000,
          31000,
          32000,
          33000,
          34000,
          35000,
          36000,
          37000,
          38000,
          39000,
          40000,
          41000,
          42000,
          43000,
          44000,
          45000,
          46000,
          47000,
          48000,
          49000,
          50000,
          51000,
          52000,
          53000,
          54000,
          55000,
          56000,
          57000,
          58000,
          59000,
          60000,
          61000,
          62000,
          63000,
          64000,
          65000,
          66000,
          67000,
          68000,
          69000,
          70000,
          71000,
          72000,
          73000,
          74000,
          75000,
          76000,
          77000,
          78000,
          79000,
          80000,
          81000,
          82000,
          83000,
          84000,
          85000,
          86000,
          87000,
          88000,
          89000,
          90000,
          91000,
          92000,
          93000,
          94000,
          95000,
          96000,
          97000,
          98000,
          99000,
          100000,
          101000,
          102000,
          103000,
          104000,
          105000,
          106000,
          107000,
          108000,
          109000,
          110000,
          111000,
          112000,
          113000,
          114000,
          115000,
          116000,
          117000,
          118000,
          119000,
          120000,
          121000,
          122000,
          123000,
          124000,
          125000,
          126000,
          127000,
          128000,
          129000,
          130000,
          131000,
          132000,
          133000,
          134000,
          135000,
          136000,
          137000,
          138000,
          139000,
          140000,
          141000,
          142000,
          143000,
          144000,
          145000,
          146000,
          147000,
          148000,
          149000,
          150000,
          151000,
          152000,
          153000,
          154000,
          155000,
          156000,
          157000,
          158000,
          159000,
          160000
         ],
         "xaxis": "x",
         "y": [
          26.31,
          32.5,
          35,
          39.36,
          41.48,
          43.16,
          44.51,
          49.72,
          49.78,
          52.44,
          52.52,
          54.96,
          56.59,
          52.23,
          58.42,
          54.89,
          57.88,
          57.88,
          60.55,
          52.37,
          54.77,
          58.18,
          58.65,
          61.96,
          63.45,
          62.07,
          61.59,
          61.26,
          62.19,
          64.41,
          63.8,
          59.11,
          62.34,
          57.77,
          63.4,
          64.86,
          65.74,
          67.86,
          63.84,
          63.85,
          63.56,
          65.89,
          68,
          59.32,
          63.54,
          69.4,
          63.92,
          62.02,
          61.61,
          65.13,
          65.71,
          64.68,
          68.01,
          65.38,
          66.68,
          68.91,
          63.26,
          66.22,
          67.06,
          66.34,
          69.49,
          69.91,
          66.97,
          69.43,
          62.62,
          61.29,
          69.66,
          67.59,
          68.17,
          69.89,
          65.89,
          57.72,
          69.24,
          69.88,
          68.56,
          70.84,
          67.23,
          61.35,
          67.35,
          70.37,
          57.88,
          69.92,
          72.31,
          71.28,
          68.78,
          71.08,
          68.21,
          67.89,
          70.24,
          72.15,
          69.44,
          73.16,
          73.91,
          71.78,
          74.39,
          72.93,
          70.41,
          73.41,
          73.56,
          71.89,
          72.48,
          74.23,
          72.76,
          71.8,
          69.06,
          72.07,
          72.36,
          72.13,
          74.8,
          73.92,
          66.57,
          74.98,
          76.01,
          70.85,
          70.72,
          75.17,
          76.47,
          74.85,
          70.85,
          73.12,
          74.25,
          76.64,
          74.85,
          72.91,
          74.05,
          76.48,
          74.8,
          76.69,
          75.53,
          68.58,
          76.38,
          76.82,
          76.83,
          76.08,
          75.09,
          76.14,
          77.3,
          74.18,
          77.98,
          77.38,
          78.37,
          78.17,
          78.47,
          78.92,
          78.09,
          77.86,
          78.92,
          78.23,
          79.13,
          78.67,
          78.87,
          79.48,
          79.33,
          79.4,
          79.36,
          79.18,
          79.63,
          79.54,
          79.45,
          79.53
         ],
         "yaxis": "y"
        },
        {
         "line": {
          "color": "green"
         },
         "name": "Learning Rate",
         "type": "scatter",
         "x": [
          1000,
          2000,
          3000,
          4000,
          5000,
          6000,
          7000,
          8000,
          9000,
          10000,
          11000,
          12000,
          13000,
          14000,
          15000,
          16000,
          17000,
          18000,
          19000,
          20000,
          21000,
          22000,
          23000,
          24000,
          25000,
          26000,
          27000,
          28000,
          29000,
          30000,
          31000,
          32000,
          33000,
          34000,
          35000,
          36000,
          37000,
          38000,
          39000,
          40000,
          41000,
          42000,
          43000,
          44000,
          45000,
          46000,
          47000,
          48000,
          49000,
          50000,
          51000,
          52000,
          53000,
          54000,
          55000,
          56000,
          57000,
          58000,
          59000,
          60000,
          61000,
          62000,
          63000,
          64000,
          65000,
          66000,
          67000,
          68000,
          69000,
          70000,
          71000,
          72000,
          73000,
          74000,
          75000,
          76000,
          77000,
          78000,
          79000,
          80000,
          81000,
          82000,
          83000,
          84000,
          85000,
          86000,
          87000,
          88000,
          89000,
          90000,
          91000,
          92000,
          93000,
          94000,
          95000,
          96000,
          97000,
          98000,
          99000,
          100000,
          101000,
          102000,
          103000,
          104000,
          105000,
          106000,
          107000,
          108000,
          109000,
          110000,
          111000,
          112000,
          113000,
          114000,
          115000,
          116000,
          117000,
          118000,
          119000,
          120000,
          121000,
          122000,
          123000,
          124000,
          125000,
          126000,
          127000,
          128000,
          129000,
          130000,
          131000,
          132000,
          133000,
          134000,
          135000,
          136000,
          137000,
          138000,
          139000,
          140000,
          141000,
          142000,
          143000,
          144000,
          145000,
          146000,
          147000,
          148000,
          149000,
          150000,
          151000,
          152000,
          153000,
          154000,
          155000,
          156000,
          157000,
          158000,
          159000,
          160000
         ],
         "xaxis": "x",
         "y": [
          0.0099438,
          0.0098875,
          0.0098311,
          0.0097748,
          0.0097184,
          0.0096619,
          0.0096054,
          0.0095489,
          0.0094923,
          0.0094358,
          0.0093791,
          0.0093224,
          0.0092657,
          0.009209,
          0.0091522,
          0.0090954,
          0.0090385,
          0.0089816,
          0.0089247,
          0.0088677,
          0.0088106,
          0.0087536,
          0.0086965,
          0.0086393,
          0.0085821,
          0.0085249,
          0.0084676,
          0.0084103,
          0.0083529,
          0.0082955,
          0.0082381,
          0.0081806,
          0.008123,
          0.0080654,
          0.0080078,
          0.0079501,
          0.0078924,
          0.0078346,
          0.0077768,
          0.0077189,
          0.007661,
          0.0076031,
          0.007545,
          0.007487,
          0.0074289,
          0.0073707,
          0.0073125,
          0.0072542,
          0.0071959,
          0.0071375,
          0.0070791,
          0.0070206,
          0.0069621,
          0.0069035,
          0.0068449,
          0.0067862,
          0.0067274,
          0.0066686,
          0.0066097,
          0.0065508,
          0.0064918,
          0.0064328,
          0.0063737,
          0.0063145,
          0.0062553,
          0.006196,
          0.0061366,
          0.0060772,
          0.0060177,
          0.0059582,
          0.0058986,
          0.0058389,
          0.0057791,
          0.0057193,
          0.0056594,
          0.0055995,
          0.0055394,
          0.0054793,
          0.0054191,
          0.0053589,
          0.0052986,
          0.0052382,
          0.0051777,
          0.0051171,
          0.0050565,
          0.0049958,
          0.004935,
          0.0048741,
          0.0048131,
          0.0047521,
          0.0046909,
          0.0046297,
          0.0045684,
          0.004507,
          0.0044455,
          0.0043839,
          0.0043222,
          0.0042604,
          0.0041985,
          0.0041365,
          0.0040744,
          0.0040122,
          0.0039499,
          0.0038874,
          0.0038249,
          0.0037623,
          0.0036995,
          0.0036366,
          0.0035736,
          0.0035105,
          0.0034472,
          0.0033839,
          0.0033203,
          0.0032567,
          0.0031929,
          0.003129,
          0.0030649,
          0.0030007,
          0.0029363,
          0.0028718,
          0.0028071,
          0.0027422,
          0.0026772,
          0.002612,
          0.0025466,
          0.002481,
          0.0024152,
          0.0023493,
          0.0022831,
          0.0022167,
          0.0021501,
          0.0020832,
          0.0020161,
          0.0019488,
          0.0018812,
          0.0018134,
          0.0017452,
          0.0016768,
          0.001608,
          0.0015389,
          0.0014695,
          0.0013997,
          0.0013295,
          0.0012589,
          0.0011879,
          0.0011164,
          0.0010443,
          0.00097176,
          0.00089856,
          0.0008247,
          0.00075009,
          0.00067465,
          0.00059825,
          0.00052075,
          0.00044194,
          0.00036153,
          0.00027906,
          0.00019374,
          0.00010382,
          0
         ],
         "yaxis": "y2"
        }
       ],
       "layout": {
        "hovermode": "x unified",
        "legend": {
         "x": 1.15,
         "xanchor": "right",
         "y": 1.15,
         "yanchor": "top"
        },
        "template": {
         "data": {
          "bar": [
           {
            "error_x": {
             "color": "#2a3f5f"
            },
            "error_y": {
             "color": "#2a3f5f"
            },
            "marker": {
             "line": {
              "color": "#E5ECF6",
              "width": 0.5
             },
             "pattern": {
              "fillmode": "overlay",
              "size": 10,
              "solidity": 0.2
             }
            },
            "type": "bar"
           }
          ],
          "barpolar": [
           {
            "marker": {
             "line": {
              "color": "#E5ECF6",
              "width": 0.5
             },
             "pattern": {
              "fillmode": "overlay",
              "size": 10,
              "solidity": 0.2
             }
            },
            "type": "barpolar"
           }
          ],
          "carpet": [
           {
            "aaxis": {
             "endlinecolor": "#2a3f5f",
             "gridcolor": "white",
             "linecolor": "white",
             "minorgridcolor": "white",
             "startlinecolor": "#2a3f5f"
            },
            "baxis": {
             "endlinecolor": "#2a3f5f",
             "gridcolor": "white",
             "linecolor": "white",
             "minorgridcolor": "white",
             "startlinecolor": "#2a3f5f"
            },
            "type": "carpet"
           }
          ],
          "choropleth": [
           {
            "colorbar": {
             "outlinewidth": 0,
             "ticks": ""
            },
            "type": "choropleth"
           }
          ],
          "contour": [
           {
            "colorbar": {
             "outlinewidth": 0,
             "ticks": ""
            },
            "colorscale": [
             [
              0,
              "#0d0887"
             ],
             [
              0.1111111111111111,
              "#46039f"
             ],
             [
              0.2222222222222222,
              "#7201a8"
             ],
             [
              0.3333333333333333,
              "#9c179e"
             ],
             [
              0.4444444444444444,
              "#bd3786"
             ],
             [
              0.5555555555555556,
              "#d8576b"
             ],
             [
              0.6666666666666666,
              "#ed7953"
             ],
             [
              0.7777777777777778,
              "#fb9f3a"
             ],
             [
              0.8888888888888888,
              "#fdca26"
             ],
             [
              1,
              "#f0f921"
             ]
            ],
            "type": "contour"
           }
          ],
          "contourcarpet": [
           {
            "colorbar": {
             "outlinewidth": 0,
             "ticks": ""
            },
            "type": "contourcarpet"
           }
          ],
          "heatmap": [
           {
            "colorbar": {
             "outlinewidth": 0,
             "ticks": ""
            },
            "colorscale": [
             [
              0,
              "#0d0887"
             ],
             [
              0.1111111111111111,
              "#46039f"
             ],
             [
              0.2222222222222222,
              "#7201a8"
             ],
             [
              0.3333333333333333,
              "#9c179e"
             ],
             [
              0.4444444444444444,
              "#bd3786"
             ],
             [
              0.5555555555555556,
              "#d8576b"
             ],
             [
              0.6666666666666666,
              "#ed7953"
             ],
             [
              0.7777777777777778,
              "#fb9f3a"
             ],
             [
              0.8888888888888888,
              "#fdca26"
             ],
             [
              1,
              "#f0f921"
             ]
            ],
            "type": "heatmap"
           }
          ],
          "histogram": [
           {
            "marker": {
             "pattern": {
              "fillmode": "overlay",
              "size": 10,
              "solidity": 0.2
             }
            },
            "type": "histogram"
           }
          ],
          "histogram2d": [
           {
            "colorbar": {
             "outlinewidth": 0,
             "ticks": ""
            },
            "colorscale": [
             [
              0,
              "#0d0887"
             ],
             [
              0.1111111111111111,
              "#46039f"
             ],
             [
              0.2222222222222222,
              "#7201a8"
             ],
             [
              0.3333333333333333,
              "#9c179e"
             ],
             [
              0.4444444444444444,
              "#bd3786"
             ],
             [
              0.5555555555555556,
              "#d8576b"
             ],
             [
              0.6666666666666666,
              "#ed7953"
             ],
             [
              0.7777777777777778,
              "#fb9f3a"
             ],
             [
              0.8888888888888888,
              "#fdca26"
             ],
             [
              1,
              "#f0f921"
             ]
            ],
            "type": "histogram2d"
           }
          ],
          "histogram2dcontour": [
           {
            "colorbar": {
             "outlinewidth": 0,
             "ticks": ""
            },
            "colorscale": [
             [
              0,
              "#0d0887"
             ],
             [
              0.1111111111111111,
              "#46039f"
             ],
             [
              0.2222222222222222,
              "#7201a8"
             ],
             [
              0.3333333333333333,
              "#9c179e"
             ],
             [
              0.4444444444444444,
              "#bd3786"
             ],
             [
              0.5555555555555556,
              "#d8576b"
             ],
             [
              0.6666666666666666,
              "#ed7953"
             ],
             [
              0.7777777777777778,
              "#fb9f3a"
             ],
             [
              0.8888888888888888,
              "#fdca26"
             ],
             [
              1,
              "#f0f921"
             ]
            ],
            "type": "histogram2dcontour"
           }
          ],
          "mesh3d": [
           {
            "colorbar": {
             "outlinewidth": 0,
             "ticks": ""
            },
            "type": "mesh3d"
           }
          ],
          "parcoords": [
           {
            "line": {
             "colorbar": {
              "outlinewidth": 0,
              "ticks": ""
             }
            },
            "type": "parcoords"
           }
          ],
          "pie": [
           {
            "automargin": true,
            "type": "pie"
           }
          ],
          "scatter": [
           {
            "fillpattern": {
             "fillmode": "overlay",
             "size": 10,
             "solidity": 0.2
            },
            "type": "scatter"
           }
          ],
          "scatter3d": [
           {
            "line": {
             "colorbar": {
              "outlinewidth": 0,
              "ticks": ""
             }
            },
            "marker": {
             "colorbar": {
              "outlinewidth": 0,
              "ticks": ""
             }
            },
            "type": "scatter3d"
           }
          ],
          "scattercarpet": [
           {
            "marker": {
             "colorbar": {
              "outlinewidth": 0,
              "ticks": ""
             }
            },
            "type": "scattercarpet"
           }
          ],
          "scattergeo": [
           {
            "marker": {
             "colorbar": {
              "outlinewidth": 0,
              "ticks": ""
             }
            },
            "type": "scattergeo"
           }
          ],
          "scattergl": [
           {
            "marker": {
             "colorbar": {
              "outlinewidth": 0,
              "ticks": ""
             }
            },
            "type": "scattergl"
           }
          ],
          "scattermap": [
           {
            "marker": {
             "colorbar": {
              "outlinewidth": 0,
              "ticks": ""
             }
            },
            "type": "scattermap"
           }
          ],
          "scattermapbox": [
           {
            "marker": {
             "colorbar": {
              "outlinewidth": 0,
              "ticks": ""
             }
            },
            "type": "scattermapbox"
           }
          ],
          "scatterpolar": [
           {
            "marker": {
             "colorbar": {
              "outlinewidth": 0,
              "ticks": ""
             }
            },
            "type": "scatterpolar"
           }
          ],
          "scatterpolargl": [
           {
            "marker": {
             "colorbar": {
              "outlinewidth": 0,
              "ticks": ""
             }
            },
            "type": "scatterpolargl"
           }
          ],
          "scatterternary": [
           {
            "marker": {
             "colorbar": {
              "outlinewidth": 0,
              "ticks": ""
             }
            },
            "type": "scatterternary"
           }
          ],
          "surface": [
           {
            "colorbar": {
             "outlinewidth": 0,
             "ticks": ""
            },
            "colorscale": [
             [
              0,
              "#0d0887"
             ],
             [
              0.1111111111111111,
              "#46039f"
             ],
             [
              0.2222222222222222,
              "#7201a8"
             ],
             [
              0.3333333333333333,
              "#9c179e"
             ],
             [
              0.4444444444444444,
              "#bd3786"
             ],
             [
              0.5555555555555556,
              "#d8576b"
             ],
             [
              0.6666666666666666,
              "#ed7953"
             ],
             [
              0.7777777777777778,
              "#fb9f3a"
             ],
             [
              0.8888888888888888,
              "#fdca26"
             ],
             [
              1,
              "#f0f921"
             ]
            ],
            "type": "surface"
           }
          ],
          "table": [
           {
            "cells": {
             "fill": {
              "color": "#EBF0F8"
             },
             "line": {
              "color": "white"
             }
            },
            "header": {
             "fill": {
              "color": "#C8D4E3"
             },
             "line": {
              "color": "white"
             }
            },
            "type": "table"
           }
          ]
         },
         "layout": {
          "annotationdefaults": {
           "arrowcolor": "#2a3f5f",
           "arrowhead": 0,
           "arrowwidth": 1
          },
          "autotypenumbers": "strict",
          "coloraxis": {
           "colorbar": {
            "outlinewidth": 0,
            "ticks": ""
           }
          },
          "colorscale": {
           "diverging": [
            [
             0,
             "#8e0152"
            ],
            [
             0.1,
             "#c51b7d"
            ],
            [
             0.2,
             "#de77ae"
            ],
            [
             0.3,
             "#f1b6da"
            ],
            [
             0.4,
             "#fde0ef"
            ],
            [
             0.5,
             "#f7f7f7"
            ],
            [
             0.6,
             "#e6f5d0"
            ],
            [
             0.7,
             "#b8e186"
            ],
            [
             0.8,
             "#7fbc41"
            ],
            [
             0.9,
             "#4d9221"
            ],
            [
             1,
             "#276419"
            ]
           ],
           "sequential": [
            [
             0,
             "#0d0887"
            ],
            [
             0.1111111111111111,
             "#46039f"
            ],
            [
             0.2222222222222222,
             "#7201a8"
            ],
            [
             0.3333333333333333,
             "#9c179e"
            ],
            [
             0.4444444444444444,
             "#bd3786"
            ],
            [
             0.5555555555555556,
             "#d8576b"
            ],
            [
             0.6666666666666666,
             "#ed7953"
            ],
            [
             0.7777777777777778,
             "#fb9f3a"
            ],
            [
             0.8888888888888888,
             "#fdca26"
            ],
            [
             1,
             "#f0f921"
            ]
           ],
           "sequentialminus": [
            [
             0,
             "#0d0887"
            ],
            [
             0.1111111111111111,
             "#46039f"
            ],
            [
             0.2222222222222222,
             "#7201a8"
            ],
            [
             0.3333333333333333,
             "#9c179e"
            ],
            [
             0.4444444444444444,
             "#bd3786"
            ],
            [
             0.5555555555555556,
             "#d8576b"
            ],
            [
             0.6666666666666666,
             "#ed7953"
            ],
            [
             0.7777777777777778,
             "#fb9f3a"
            ],
            [
             0.8888888888888888,
             "#fdca26"
            ],
            [
             1,
             "#f0f921"
            ]
           ]
          },
          "colorway": [
           "#636efa",
           "#EF553B",
           "#00cc96",
           "#ab63fa",
           "#FFA15A",
           "#19d3f3",
           "#FF6692",
           "#B6E880",
           "#FF97FF",
           "#FECB52"
          ],
          "font": {
           "color": "#2a3f5f"
          },
          "geo": {
           "bgcolor": "white",
           "lakecolor": "white",
           "landcolor": "#E5ECF6",
           "showlakes": true,
           "showland": true,
           "subunitcolor": "white"
          },
          "hoverlabel": {
           "align": "left"
          },
          "hovermode": "closest",
          "mapbox": {
           "style": "light"
          },
          "paper_bgcolor": "white",
          "plot_bgcolor": "#E5ECF6",
          "polar": {
           "angularaxis": {
            "gridcolor": "white",
            "linecolor": "white",
            "ticks": ""
           },
           "bgcolor": "#E5ECF6",
           "radialaxis": {
            "gridcolor": "white",
            "linecolor": "white",
            "ticks": ""
           }
          },
          "scene": {
           "xaxis": {
            "backgroundcolor": "#E5ECF6",
            "gridcolor": "white",
            "gridwidth": 2,
            "linecolor": "white",
            "showbackground": true,
            "ticks": "",
            "zerolinecolor": "white"
           },
           "yaxis": {
            "backgroundcolor": "#E5ECF6",
            "gridcolor": "white",
            "gridwidth": 2,
            "linecolor": "white",
            "showbackground": true,
            "ticks": "",
            "zerolinecolor": "white"
           },
           "zaxis": {
            "backgroundcolor": "#E5ECF6",
            "gridcolor": "white",
            "gridwidth": 2,
            "linecolor": "white",
            "showbackground": true,
            "ticks": "",
            "zerolinecolor": "white"
           }
          },
          "shapedefaults": {
           "line": {
            "color": "#2a3f5f"
           }
          },
          "ternary": {
           "aaxis": {
            "gridcolor": "white",
            "linecolor": "white",
            "ticks": ""
           },
           "baxis": {
            "gridcolor": "white",
            "linecolor": "white",
            "ticks": ""
           },
           "bgcolor": "#E5ECF6",
           "caxis": {
            "gridcolor": "white",
            "linecolor": "white",
            "ticks": ""
           }
          },
          "title": {
           "x": 0.05
          },
          "xaxis": {
           "automargin": true,
           "gridcolor": "white",
           "linecolor": "white",
           "ticks": "",
           "title": {
            "standoff": 15
           },
           "zerolinecolor": "white",
           "zerolinewidth": 2
          },
          "yaxis": {
           "automargin": true,
           "gridcolor": "white",
           "linecolor": "white",
           "ticks": "",
           "title": {
            "standoff": 15
           },
           "zerolinecolor": "white",
           "zerolinewidth": 2
          }
         }
        },
        "title": {
         "text": "Validation Performance and Training Learning Rate vs Epoch"
        },
        "xaxis": {
         "anchor": "y",
         "domain": [
          0,
          0.94
         ],
         "range": [
          0,
          160000
         ],
         "title": {
          "text": "Epoch"
         }
        },
        "yaxis": {
         "anchor": "x",
         "domain": [
          0,
          1
         ],
         "dtick": 10,
         "range": [
          0,
          100
         ],
         "title": {
          "text": "Performance (%)"
         }
        },
        "yaxis2": {
         "anchor": "x",
         "overlaying": "y",
         "side": "right",
         "title": {
          "text": "Learning Rate"
         }
        }
       }
      }
     },
     "metadata": {},
     "output_type": "display_data"
    }
   ],
   "source": [
    "# Ablation 26 - SEBNet BaselinePDSBDHead SGD, Pretrained, Batch Size 6, OHEM Cross Entropy, Edge Width 2, Edge Loss Weight 5.0 - 79.63 Best mIoU\n",
    "log_file_path = '/home/robert.breslin/alessandro/paper_2/mmsegmentation/work_dirs/sebnet_baseline-p-d-sbd-head_1xb6_cityscapes/20250903_225120/20250903_225120.log'\n",
    "epochs, mIoU, mAcc, lrs = parse_log_file(log_file_path)\n",
    "plot_accuracies_and_lr_interactive(epochs, mAcc, mIoU, lrs, [0,160000])"
   ]
  },
  {
   "cell_type": "code",
   "execution_count": 24,
   "id": "36bfeda1",
   "metadata": {},
   "outputs": [
    {
     "data": {
      "application/vnd.plotly.v1+json": {
       "config": {
        "plotlyServerURL": "https://plot.ly"
       },
       "data": [
        {
         "line": {
          "color": "blue"
         },
         "name": "Mean Accuracy",
         "type": "scatter",
         "x": [
          1000,
          2000,
          3000,
          4000,
          5000,
          6000,
          7000,
          8000,
          9000,
          10000,
          11000,
          12000,
          13000,
          14000,
          15000,
          16000,
          17000,
          18000,
          19000,
          20000,
          21000,
          22000,
          23000,
          24000,
          25000,
          26000,
          27000,
          28000,
          29000,
          30000,
          31000,
          32000,
          33000,
          34000,
          35000,
          36000,
          37000,
          38000,
          39000,
          40000,
          41000,
          42000,
          43000,
          44000,
          45000,
          46000,
          47000,
          48000,
          49000,
          50000,
          51000,
          52000,
          53000,
          54000,
          55000,
          56000,
          57000,
          58000,
          59000,
          60000,
          61000,
          62000,
          63000,
          64000,
          65000,
          66000,
          67000,
          68000,
          69000,
          70000,
          71000,
          72000,
          73000,
          74000,
          75000,
          76000,
          77000,
          78000,
          79000,
          80000,
          81000,
          82000,
          83000,
          84000,
          85000,
          86000,
          87000,
          88000,
          89000,
          90000,
          91000,
          92000,
          93000,
          94000,
          95000,
          96000,
          97000,
          98000,
          99000,
          100000,
          101000,
          102000,
          103000,
          104000,
          105000,
          106000,
          107000,
          108000,
          109000,
          110000,
          111000,
          112000,
          113000,
          114000,
          115000,
          116000,
          117000,
          118000,
          119000,
          120000,
          121000,
          122000,
          123000,
          124000,
          125000,
          126000,
          127000,
          128000,
          129000,
          130000,
          131000,
          132000,
          133000,
          134000,
          135000,
          136000,
          137000,
          138000,
          139000,
          140000,
          141000,
          142000,
          143000,
          144000,
          145000,
          146000,
          147000,
          148000,
          149000,
          150000,
          151000,
          152000,
          153000,
          154000,
          155000,
          156000,
          157000,
          158000,
          159000,
          160000
         ],
         "xaxis": "x",
         "y": [
          29.57,
          38.38,
          40.58,
          45.21,
          50.63,
          54.78,
          60.16,
          61.38,
          57.55,
          64.46,
          64.64,
          64.2,
          67.92,
          64.71,
          67.3,
          67.84,
          65.1,
          65.78,
          71.6,
          69.68,
          70.02,
          72.01,
          74.87,
          74.47,
          73.87,
          72,
          76.89,
          75.35,
          76.24,
          77.16,
          78.27,
          68.26,
          77.77,
          73.45,
          73.83,
          71.83,
          74.04,
          75.85,
          74.53,
          73.31,
          78.03,
          75.93,
          74.66,
          76.19,
          75.89,
          83.24,
          74.48,
          76.18,
          77.24,
          75.01,
          78.82,
          78.55,
          79.71,
          77.77,
          79.62,
          80.49,
          79.59,
          73.28,
          81.06,
          78.16,
          83.25,
          80.03,
          79.97,
          77.77,
          78.45,
          80.15,
          80.82,
          82.04,
          79.57,
          81.65,
          76.7,
          82.11,
          80.79,
          81.71,
          81.82,
          83.94,
          79.19,
          78.09,
          78.06,
          79.45,
          78.65,
          83.62,
          80.71,
          84.38,
          82.6,
          83.16,
          80.69,
          78.73,
          77.37,
          83.35,
          83.75,
          79.7,
          81.98,
          83.79,
          84.59,
          85.55,
          84.29,
          85.2,
          83.05,
          82.26,
          82.36,
          87.15,
          82.58,
          81.24,
          81.92,
          82.04,
          77.76,
          83.8,
          83.04,
          84.94,
          83.26,
          85.3,
          84.85,
          85.5,
          85.14,
          84.26,
          85.83,
          84,
          85.15,
          83.21,
          83.7,
          85.32,
          85.76,
          83.51,
          86.81,
          85.76,
          84.49,
          84.45,
          85.97,
          83.14,
          84.93,
          85.86,
          85.21,
          84.73,
          86.45,
          87.04,
          85.85,
          87.23,
          86.71,
          85,
          86.52,
          86.74,
          87.22,
          87.38,
          86.66,
          87.06,
          87.81,
          86.13,
          87.32,
          86.53,
          87.93,
          86.69,
          87.91,
          87.57,
          87.1,
          87.07,
          87.8,
          87.37,
          87.39,
          87.41
         ],
         "yaxis": "y"
        },
        {
         "line": {
          "color": "orange"
         },
         "name": "Mean IoU",
         "type": "scatter",
         "x": [
          1000,
          2000,
          3000,
          4000,
          5000,
          6000,
          7000,
          8000,
          9000,
          10000,
          11000,
          12000,
          13000,
          14000,
          15000,
          16000,
          17000,
          18000,
          19000,
          20000,
          21000,
          22000,
          23000,
          24000,
          25000,
          26000,
          27000,
          28000,
          29000,
          30000,
          31000,
          32000,
          33000,
          34000,
          35000,
          36000,
          37000,
          38000,
          39000,
          40000,
          41000,
          42000,
          43000,
          44000,
          45000,
          46000,
          47000,
          48000,
          49000,
          50000,
          51000,
          52000,
          53000,
          54000,
          55000,
          56000,
          57000,
          58000,
          59000,
          60000,
          61000,
          62000,
          63000,
          64000,
          65000,
          66000,
          67000,
          68000,
          69000,
          70000,
          71000,
          72000,
          73000,
          74000,
          75000,
          76000,
          77000,
          78000,
          79000,
          80000,
          81000,
          82000,
          83000,
          84000,
          85000,
          86000,
          87000,
          88000,
          89000,
          90000,
          91000,
          92000,
          93000,
          94000,
          95000,
          96000,
          97000,
          98000,
          99000,
          100000,
          101000,
          102000,
          103000,
          104000,
          105000,
          106000,
          107000,
          108000,
          109000,
          110000,
          111000,
          112000,
          113000,
          114000,
          115000,
          116000,
          117000,
          118000,
          119000,
          120000,
          121000,
          122000,
          123000,
          124000,
          125000,
          126000,
          127000,
          128000,
          129000,
          130000,
          131000,
          132000,
          133000,
          134000,
          135000,
          136000,
          137000,
          138000,
          139000,
          140000,
          141000,
          142000,
          143000,
          144000,
          145000,
          146000,
          147000,
          148000,
          149000,
          150000,
          151000,
          152000,
          153000,
          154000,
          155000,
          156000,
          157000,
          158000,
          159000,
          160000
         ],
         "xaxis": "x",
         "y": [
          22.1,
          31.81,
          33.15,
          38.06,
          40.25,
          43.19,
          47.48,
          48.45,
          49.46,
          52.12,
          52.96,
          53.77,
          58.67,
          54.89,
          57.81,
          55.3,
          56.18,
          57.47,
          60.89,
          59.94,
          54.68,
          60.24,
          60.28,
          64.08,
          62.79,
          59.85,
          63.62,
          63.37,
          63.96,
          64.57,
          66.21,
          58.05,
          63.23,
          64.3,
          65.22,
          62.8,
          64.14,
          63.78,
          65.3,
          61.91,
          68.35,
          65.91,
          66.37,
          65.43,
          64.3,
          69.95,
          64.33,
          67.76,
          67.52,
          63.74,
          67.22,
          66.34,
          70.24,
          67.29,
          66.82,
          70.73,
          69.14,
          63.15,
          70.67,
          66.32,
          70.86,
          70.07,
          70.44,
          67.32,
          67.22,
          70.24,
          69.91,
          70.57,
          70.84,
          72.43,
          67.05,
          70.67,
          68.79,
          72.04,
          71.69,
          73.71,
          71.19,
          69.88,
          66,
          70.53,
          65.11,
          71.64,
          71.12,
          73.72,
          71.02,
          73.47,
          69.71,
          69.85,
          64.4,
          73.7,
          71.32,
          71.67,
          73.22,
          72.83,
          73.88,
          76.15,
          73.58,
          75.35,
          74.72,
          72.17,
          72.02,
          75.11,
          74.04,
          70.26,
          72.72,
          71.95,
          64.72,
          74.42,
          74.41,
          75.95,
          73.42,
          75.76,
          76.04,
          74.96,
          76.07,
          76.58,
          77.09,
          76.1,
          76.68,
          71.03,
          75.56,
          76.08,
          75.79,
          75.76,
          76.35,
          77.73,
          75.12,
          75.32,
          77.26,
          74.93,
          76.9,
          74.96,
          77.79,
          75.54,
          75.64,
          77.76,
          77.92,
          78.3,
          77.91,
          77.48,
          78.56,
          78.48,
          78.77,
          78.95,
          78.43,
          79.52,
          79.48,
          78.61,
          79.34,
          78.01,
          80.1,
          79.46,
          80.06,
          79.88,
          79.81,
          79.65,
          80.44,
          79.97,
          80.18,
          80.27
         ],
         "yaxis": "y"
        },
        {
         "line": {
          "color": "green"
         },
         "name": "Learning Rate",
         "type": "scatter",
         "x": [
          1000,
          2000,
          3000,
          4000,
          5000,
          6000,
          7000,
          8000,
          9000,
          10000,
          11000,
          12000,
          13000,
          14000,
          15000,
          16000,
          17000,
          18000,
          19000,
          20000,
          21000,
          22000,
          23000,
          24000,
          25000,
          26000,
          27000,
          28000,
          29000,
          30000,
          31000,
          32000,
          33000,
          34000,
          35000,
          36000,
          37000,
          38000,
          39000,
          40000,
          41000,
          42000,
          43000,
          44000,
          45000,
          46000,
          47000,
          48000,
          49000,
          50000,
          51000,
          52000,
          53000,
          54000,
          55000,
          56000,
          57000,
          58000,
          59000,
          60000,
          61000,
          62000,
          63000,
          64000,
          65000,
          66000,
          67000,
          68000,
          69000,
          70000,
          71000,
          72000,
          73000,
          74000,
          75000,
          76000,
          77000,
          78000,
          79000,
          80000,
          81000,
          82000,
          83000,
          84000,
          85000,
          86000,
          87000,
          88000,
          89000,
          90000,
          91000,
          92000,
          93000,
          94000,
          95000,
          96000,
          97000,
          98000,
          99000,
          100000,
          101000,
          102000,
          103000,
          104000,
          105000,
          106000,
          107000,
          108000,
          109000,
          110000,
          111000,
          112000,
          113000,
          114000,
          115000,
          116000,
          117000,
          118000,
          119000,
          120000,
          121000,
          122000,
          123000,
          124000,
          125000,
          126000,
          127000,
          128000,
          129000,
          130000,
          131000,
          132000,
          133000,
          134000,
          135000,
          136000,
          137000,
          138000,
          139000,
          140000,
          141000,
          142000,
          143000,
          144000,
          145000,
          146000,
          147000,
          148000,
          149000,
          150000,
          151000,
          152000,
          153000,
          154000,
          155000,
          156000,
          157000,
          158000,
          159000,
          160000
         ],
         "xaxis": "x",
         "y": [
          0.0099438,
          0.0098875,
          0.0098311,
          0.0097748,
          0.0097184,
          0.0096619,
          0.0096054,
          0.0095489,
          0.0094923,
          0.0094358,
          0.0093791,
          0.0093224,
          0.0092657,
          0.009209,
          0.0091522,
          0.0090954,
          0.0090385,
          0.0089816,
          0.0089247,
          0.0088677,
          0.0088106,
          0.0087536,
          0.0086965,
          0.0086393,
          0.0085821,
          0.0085249,
          0.0084676,
          0.0084103,
          0.0083529,
          0.0082955,
          0.0082381,
          0.0081806,
          0.008123,
          0.0080654,
          0.0080078,
          0.0079501,
          0.0078924,
          0.0078346,
          0.0077768,
          0.0077189,
          0.007661,
          0.0076031,
          0.007545,
          0.007487,
          0.0074289,
          0.0073707,
          0.0073125,
          0.0072542,
          0.0071959,
          0.0071375,
          0.0070791,
          0.0070206,
          0.0069621,
          0.0069035,
          0.0068449,
          0.0067862,
          0.0067274,
          0.0066686,
          0.0066097,
          0.0065508,
          0.0064918,
          0.0064328,
          0.0063737,
          0.0063145,
          0.0062553,
          0.006196,
          0.0061366,
          0.0060772,
          0.0060177,
          0.0059582,
          0.0058986,
          0.0058389,
          0.0057791,
          0.0057193,
          0.0056594,
          0.0055995,
          0.0055394,
          0.0054793,
          0.0054191,
          0.0053589,
          0.0052986,
          0.0052382,
          0.0051777,
          0.0051171,
          0.0050565,
          0.0049958,
          0.004935,
          0.0048741,
          0.0048131,
          0.0047521,
          0.0046909,
          0.0046297,
          0.0045684,
          0.004507,
          0.0044455,
          0.0043839,
          0.0043222,
          0.0042604,
          0.0041985,
          0.0041365,
          0.0040744,
          0.0040122,
          0.0039499,
          0.0038874,
          0.0038249,
          0.0037623,
          0.0036995,
          0.0036366,
          0.0035736,
          0.0035105,
          0.0034472,
          0.0033839,
          0.0033203,
          0.0032567,
          0.0031929,
          0.003129,
          0.0030649,
          0.0030007,
          0.0029363,
          0.0028718,
          0.0028071,
          0.0027422,
          0.0026772,
          0.002612,
          0.0025466,
          0.002481,
          0.0024152,
          0.0023493,
          0.0022831,
          0.0022167,
          0.0021501,
          0.0020832,
          0.0020161,
          0.0019488,
          0.0018812,
          0.0018134,
          0.0017452,
          0.0016768,
          0.001608,
          0.0015389,
          0.0014695,
          0.0013997,
          0.0013295,
          0.0012589,
          0.0011879,
          0.0011164,
          0.0010443,
          0.00097176,
          0.00089856,
          0.0008247,
          0.00075009,
          0.00067465,
          0.00059825,
          0.00052075,
          0.00044194,
          0.00036153,
          0.00027906,
          0.00019374,
          0.00010382,
          0
         ],
         "yaxis": "y2"
        }
       ],
       "layout": {
        "hovermode": "x unified",
        "legend": {
         "x": 1.15,
         "xanchor": "right",
         "y": 1.15,
         "yanchor": "top"
        },
        "template": {
         "data": {
          "bar": [
           {
            "error_x": {
             "color": "#2a3f5f"
            },
            "error_y": {
             "color": "#2a3f5f"
            },
            "marker": {
             "line": {
              "color": "#E5ECF6",
              "width": 0.5
             },
             "pattern": {
              "fillmode": "overlay",
              "size": 10,
              "solidity": 0.2
             }
            },
            "type": "bar"
           }
          ],
          "barpolar": [
           {
            "marker": {
             "line": {
              "color": "#E5ECF6",
              "width": 0.5
             },
             "pattern": {
              "fillmode": "overlay",
              "size": 10,
              "solidity": 0.2
             }
            },
            "type": "barpolar"
           }
          ],
          "carpet": [
           {
            "aaxis": {
             "endlinecolor": "#2a3f5f",
             "gridcolor": "white",
             "linecolor": "white",
             "minorgridcolor": "white",
             "startlinecolor": "#2a3f5f"
            },
            "baxis": {
             "endlinecolor": "#2a3f5f",
             "gridcolor": "white",
             "linecolor": "white",
             "minorgridcolor": "white",
             "startlinecolor": "#2a3f5f"
            },
            "type": "carpet"
           }
          ],
          "choropleth": [
           {
            "colorbar": {
             "outlinewidth": 0,
             "ticks": ""
            },
            "type": "choropleth"
           }
          ],
          "contour": [
           {
            "colorbar": {
             "outlinewidth": 0,
             "ticks": ""
            },
            "colorscale": [
             [
              0,
              "#0d0887"
             ],
             [
              0.1111111111111111,
              "#46039f"
             ],
             [
              0.2222222222222222,
              "#7201a8"
             ],
             [
              0.3333333333333333,
              "#9c179e"
             ],
             [
              0.4444444444444444,
              "#bd3786"
             ],
             [
              0.5555555555555556,
              "#d8576b"
             ],
             [
              0.6666666666666666,
              "#ed7953"
             ],
             [
              0.7777777777777778,
              "#fb9f3a"
             ],
             [
              0.8888888888888888,
              "#fdca26"
             ],
             [
              1,
              "#f0f921"
             ]
            ],
            "type": "contour"
           }
          ],
          "contourcarpet": [
           {
            "colorbar": {
             "outlinewidth": 0,
             "ticks": ""
            },
            "type": "contourcarpet"
           }
          ],
          "heatmap": [
           {
            "colorbar": {
             "outlinewidth": 0,
             "ticks": ""
            },
            "colorscale": [
             [
              0,
              "#0d0887"
             ],
             [
              0.1111111111111111,
              "#46039f"
             ],
             [
              0.2222222222222222,
              "#7201a8"
             ],
             [
              0.3333333333333333,
              "#9c179e"
             ],
             [
              0.4444444444444444,
              "#bd3786"
             ],
             [
              0.5555555555555556,
              "#d8576b"
             ],
             [
              0.6666666666666666,
              "#ed7953"
             ],
             [
              0.7777777777777778,
              "#fb9f3a"
             ],
             [
              0.8888888888888888,
              "#fdca26"
             ],
             [
              1,
              "#f0f921"
             ]
            ],
            "type": "heatmap"
           }
          ],
          "histogram": [
           {
            "marker": {
             "pattern": {
              "fillmode": "overlay",
              "size": 10,
              "solidity": 0.2
             }
            },
            "type": "histogram"
           }
          ],
          "histogram2d": [
           {
            "colorbar": {
             "outlinewidth": 0,
             "ticks": ""
            },
            "colorscale": [
             [
              0,
              "#0d0887"
             ],
             [
              0.1111111111111111,
              "#46039f"
             ],
             [
              0.2222222222222222,
              "#7201a8"
             ],
             [
              0.3333333333333333,
              "#9c179e"
             ],
             [
              0.4444444444444444,
              "#bd3786"
             ],
             [
              0.5555555555555556,
              "#d8576b"
             ],
             [
              0.6666666666666666,
              "#ed7953"
             ],
             [
              0.7777777777777778,
              "#fb9f3a"
             ],
             [
              0.8888888888888888,
              "#fdca26"
             ],
             [
              1,
              "#f0f921"
             ]
            ],
            "type": "histogram2d"
           }
          ],
          "histogram2dcontour": [
           {
            "colorbar": {
             "outlinewidth": 0,
             "ticks": ""
            },
            "colorscale": [
             [
              0,
              "#0d0887"
             ],
             [
              0.1111111111111111,
              "#46039f"
             ],
             [
              0.2222222222222222,
              "#7201a8"
             ],
             [
              0.3333333333333333,
              "#9c179e"
             ],
             [
              0.4444444444444444,
              "#bd3786"
             ],
             [
              0.5555555555555556,
              "#d8576b"
             ],
             [
              0.6666666666666666,
              "#ed7953"
             ],
             [
              0.7777777777777778,
              "#fb9f3a"
             ],
             [
              0.8888888888888888,
              "#fdca26"
             ],
             [
              1,
              "#f0f921"
             ]
            ],
            "type": "histogram2dcontour"
           }
          ],
          "mesh3d": [
           {
            "colorbar": {
             "outlinewidth": 0,
             "ticks": ""
            },
            "type": "mesh3d"
           }
          ],
          "parcoords": [
           {
            "line": {
             "colorbar": {
              "outlinewidth": 0,
              "ticks": ""
             }
            },
            "type": "parcoords"
           }
          ],
          "pie": [
           {
            "automargin": true,
            "type": "pie"
           }
          ],
          "scatter": [
           {
            "fillpattern": {
             "fillmode": "overlay",
             "size": 10,
             "solidity": 0.2
            },
            "type": "scatter"
           }
          ],
          "scatter3d": [
           {
            "line": {
             "colorbar": {
              "outlinewidth": 0,
              "ticks": ""
             }
            },
            "marker": {
             "colorbar": {
              "outlinewidth": 0,
              "ticks": ""
             }
            },
            "type": "scatter3d"
           }
          ],
          "scattercarpet": [
           {
            "marker": {
             "colorbar": {
              "outlinewidth": 0,
              "ticks": ""
             }
            },
            "type": "scattercarpet"
           }
          ],
          "scattergeo": [
           {
            "marker": {
             "colorbar": {
              "outlinewidth": 0,
              "ticks": ""
             }
            },
            "type": "scattergeo"
           }
          ],
          "scattergl": [
           {
            "marker": {
             "colorbar": {
              "outlinewidth": 0,
              "ticks": ""
             }
            },
            "type": "scattergl"
           }
          ],
          "scattermap": [
           {
            "marker": {
             "colorbar": {
              "outlinewidth": 0,
              "ticks": ""
             }
            },
            "type": "scattermap"
           }
          ],
          "scattermapbox": [
           {
            "marker": {
             "colorbar": {
              "outlinewidth": 0,
              "ticks": ""
             }
            },
            "type": "scattermapbox"
           }
          ],
          "scatterpolar": [
           {
            "marker": {
             "colorbar": {
              "outlinewidth": 0,
              "ticks": ""
             }
            },
            "type": "scatterpolar"
           }
          ],
          "scatterpolargl": [
           {
            "marker": {
             "colorbar": {
              "outlinewidth": 0,
              "ticks": ""
             }
            },
            "type": "scatterpolargl"
           }
          ],
          "scatterternary": [
           {
            "marker": {
             "colorbar": {
              "outlinewidth": 0,
              "ticks": ""
             }
            },
            "type": "scatterternary"
           }
          ],
          "surface": [
           {
            "colorbar": {
             "outlinewidth": 0,
             "ticks": ""
            },
            "colorscale": [
             [
              0,
              "#0d0887"
             ],
             [
              0.1111111111111111,
              "#46039f"
             ],
             [
              0.2222222222222222,
              "#7201a8"
             ],
             [
              0.3333333333333333,
              "#9c179e"
             ],
             [
              0.4444444444444444,
              "#bd3786"
             ],
             [
              0.5555555555555556,
              "#d8576b"
             ],
             [
              0.6666666666666666,
              "#ed7953"
             ],
             [
              0.7777777777777778,
              "#fb9f3a"
             ],
             [
              0.8888888888888888,
              "#fdca26"
             ],
             [
              1,
              "#f0f921"
             ]
            ],
            "type": "surface"
           }
          ],
          "table": [
           {
            "cells": {
             "fill": {
              "color": "#EBF0F8"
             },
             "line": {
              "color": "white"
             }
            },
            "header": {
             "fill": {
              "color": "#C8D4E3"
             },
             "line": {
              "color": "white"
             }
            },
            "type": "table"
           }
          ]
         },
         "layout": {
          "annotationdefaults": {
           "arrowcolor": "#2a3f5f",
           "arrowhead": 0,
           "arrowwidth": 1
          },
          "autotypenumbers": "strict",
          "coloraxis": {
           "colorbar": {
            "outlinewidth": 0,
            "ticks": ""
           }
          },
          "colorscale": {
           "diverging": [
            [
             0,
             "#8e0152"
            ],
            [
             0.1,
             "#c51b7d"
            ],
            [
             0.2,
             "#de77ae"
            ],
            [
             0.3,
             "#f1b6da"
            ],
            [
             0.4,
             "#fde0ef"
            ],
            [
             0.5,
             "#f7f7f7"
            ],
            [
             0.6,
             "#e6f5d0"
            ],
            [
             0.7,
             "#b8e186"
            ],
            [
             0.8,
             "#7fbc41"
            ],
            [
             0.9,
             "#4d9221"
            ],
            [
             1,
             "#276419"
            ]
           ],
           "sequential": [
            [
             0,
             "#0d0887"
            ],
            [
             0.1111111111111111,
             "#46039f"
            ],
            [
             0.2222222222222222,
             "#7201a8"
            ],
            [
             0.3333333333333333,
             "#9c179e"
            ],
            [
             0.4444444444444444,
             "#bd3786"
            ],
            [
             0.5555555555555556,
             "#d8576b"
            ],
            [
             0.6666666666666666,
             "#ed7953"
            ],
            [
             0.7777777777777778,
             "#fb9f3a"
            ],
            [
             0.8888888888888888,
             "#fdca26"
            ],
            [
             1,
             "#f0f921"
            ]
           ],
           "sequentialminus": [
            [
             0,
             "#0d0887"
            ],
            [
             0.1111111111111111,
             "#46039f"
            ],
            [
             0.2222222222222222,
             "#7201a8"
            ],
            [
             0.3333333333333333,
             "#9c179e"
            ],
            [
             0.4444444444444444,
             "#bd3786"
            ],
            [
             0.5555555555555556,
             "#d8576b"
            ],
            [
             0.6666666666666666,
             "#ed7953"
            ],
            [
             0.7777777777777778,
             "#fb9f3a"
            ],
            [
             0.8888888888888888,
             "#fdca26"
            ],
            [
             1,
             "#f0f921"
            ]
           ]
          },
          "colorway": [
           "#636efa",
           "#EF553B",
           "#00cc96",
           "#ab63fa",
           "#FFA15A",
           "#19d3f3",
           "#FF6692",
           "#B6E880",
           "#FF97FF",
           "#FECB52"
          ],
          "font": {
           "color": "#2a3f5f"
          },
          "geo": {
           "bgcolor": "white",
           "lakecolor": "white",
           "landcolor": "#E5ECF6",
           "showlakes": true,
           "showland": true,
           "subunitcolor": "white"
          },
          "hoverlabel": {
           "align": "left"
          },
          "hovermode": "closest",
          "mapbox": {
           "style": "light"
          },
          "paper_bgcolor": "white",
          "plot_bgcolor": "#E5ECF6",
          "polar": {
           "angularaxis": {
            "gridcolor": "white",
            "linecolor": "white",
            "ticks": ""
           },
           "bgcolor": "#E5ECF6",
           "radialaxis": {
            "gridcolor": "white",
            "linecolor": "white",
            "ticks": ""
           }
          },
          "scene": {
           "xaxis": {
            "backgroundcolor": "#E5ECF6",
            "gridcolor": "white",
            "gridwidth": 2,
            "linecolor": "white",
            "showbackground": true,
            "ticks": "",
            "zerolinecolor": "white"
           },
           "yaxis": {
            "backgroundcolor": "#E5ECF6",
            "gridcolor": "white",
            "gridwidth": 2,
            "linecolor": "white",
            "showbackground": true,
            "ticks": "",
            "zerolinecolor": "white"
           },
           "zaxis": {
            "backgroundcolor": "#E5ECF6",
            "gridcolor": "white",
            "gridwidth": 2,
            "linecolor": "white",
            "showbackground": true,
            "ticks": "",
            "zerolinecolor": "white"
           }
          },
          "shapedefaults": {
           "line": {
            "color": "#2a3f5f"
           }
          },
          "ternary": {
           "aaxis": {
            "gridcolor": "white",
            "linecolor": "white",
            "ticks": ""
           },
           "baxis": {
            "gridcolor": "white",
            "linecolor": "white",
            "ticks": ""
           },
           "bgcolor": "#E5ECF6",
           "caxis": {
            "gridcolor": "white",
            "linecolor": "white",
            "ticks": ""
           }
          },
          "title": {
           "x": 0.05
          },
          "xaxis": {
           "automargin": true,
           "gridcolor": "white",
           "linecolor": "white",
           "ticks": "",
           "title": {
            "standoff": 15
           },
           "zerolinecolor": "white",
           "zerolinewidth": 2
          },
          "yaxis": {
           "automargin": true,
           "gridcolor": "white",
           "linecolor": "white",
           "ticks": "",
           "title": {
            "standoff": 15
           },
           "zerolinecolor": "white",
           "zerolinewidth": 2
          }
         }
        },
        "title": {
         "text": "Validation Performance and Training Learning Rate vs Epoch"
        },
        "xaxis": {
         "anchor": "y",
         "domain": [
          0,
          0.94
         ],
         "range": [
          0,
          160000
         ],
         "title": {
          "text": "Epoch"
         }
        },
        "yaxis": {
         "anchor": "x",
         "domain": [
          0,
          1
         ],
         "dtick": 10,
         "range": [
          0,
          100
         ],
         "title": {
          "text": "Performance (%)"
         }
        },
        "yaxis2": {
         "anchor": "x",
         "overlaying": "y",
         "side": "right",
         "title": {
          "text": "Learning Rate"
         }
        }
       }
      }
     },
     "metadata": {},
     "output_type": "display_data"
    }
   ],
   "source": [
    "# Ablation 27 - SEBNet BaselinePDSBDBASHead SGD, Pretrained, Batch Size 6, OHEM Cross Entropy, Edge Width 2, Edge Loss Weight 5.0 - 80.44 Best mIoU\n",
    "log_file_path = '/home/robert.breslin/alessandro/paper_2/mmsegmentation/work_dirs/sebnet_baseline-p-d-sbd-bas-head_1xb6_cityscapes/20250903_225204/20250903_225204.log'\n",
    "epochs, mIoU, mAcc, lrs = parse_log_file(log_file_path)\n",
    "plot_accuracies_and_lr_interactive(epochs, mAcc, mIoU, lrs, [0,160000])"
   ]
  },
  {
   "cell_type": "code",
   "execution_count": 25,
   "id": "ca9e4169",
   "metadata": {},
   "outputs": [
    {
     "data": {
      "application/vnd.plotly.v1+json": {
       "config": {
        "plotlyServerURL": "https://plot.ly"
       },
       "data": [
        {
         "line": {
          "color": "blue"
         },
         "name": "Mean Accuracy",
         "type": "scatter",
         "x": [
          1000,
          2000,
          3000,
          4000,
          5000,
          6000,
          7000,
          8000,
          9000,
          10000,
          11000,
          12000,
          13000,
          14000,
          15000,
          16000,
          17000,
          18000,
          19000,
          20000,
          21000,
          22000,
          23000,
          24000,
          25000,
          26000,
          27000,
          28000,
          29000,
          30000,
          31000,
          32000,
          33000,
          34000,
          35000,
          36000,
          37000,
          38000,
          39000,
          40000,
          41000,
          42000,
          43000,
          44000,
          45000,
          46000,
          47000,
          48000,
          49000,
          50000,
          51000,
          52000,
          53000,
          54000,
          55000,
          56000,
          57000,
          58000,
          59000,
          60000,
          61000,
          62000,
          63000,
          64000,
          65000,
          66000,
          67000,
          68000,
          69000,
          70000,
          71000,
          72000,
          73000,
          74000,
          75000,
          76000,
          77000,
          78000,
          79000,
          80000,
          81000,
          82000,
          83000,
          84000,
          85000,
          86000,
          87000,
          88000,
          89000,
          90000,
          91000,
          92000,
          93000,
          94000,
          95000,
          96000,
          97000,
          98000,
          99000,
          100000,
          101000,
          102000,
          103000,
          104000,
          105000,
          106000,
          107000,
          108000,
          109000,
          110000,
          111000,
          112000,
          113000,
          114000,
          115000,
          116000,
          117000,
          118000,
          119000,
          120000,
          121000,
          122000,
          123000,
          124000,
          125000,
          126000,
          127000,
          128000,
          129000,
          130000,
          131000,
          132000,
          133000,
          134000,
          135000,
          136000,
          137000,
          138000,
          139000,
          140000,
          141000,
          142000,
          143000,
          144000,
          145000,
          146000,
          147000,
          148000,
          149000,
          150000,
          151000,
          152000,
          153000,
          154000,
          155000,
          156000,
          157000,
          158000,
          159000,
          160000
         ],
         "xaxis": "x",
         "y": [
          28.96,
          34.1,
          42.96,
          45.18,
          50.66,
          59.21,
          57.65,
          61.3,
          57.91,
          62.2,
          66.26,
          62.91,
          69.17,
          65.78,
          70.64,
          71.27,
          65.32,
          67.46,
          70.62,
          69.29,
          70.07,
          71.56,
          68.62,
          74.65,
          72.59,
          73.84,
          75.6,
          76.41,
          77.08,
          78.25,
          75.43,
          70.74,
          76.98,
          76.04,
          73.76,
          71.63,
          77.79,
          81.04,
          75.77,
          76.9,
          78.68,
          74.54,
          76.99,
          76.96,
          77.89,
          77.79,
          77.31,
          78,
          77.96,
          79.28,
          75.64,
          77.86,
          79.12,
          78.77,
          77.52,
          81.52,
          81.59,
          67.49,
          79.6,
          75.81,
          78.32,
          81.15,
          79.26,
          82.41,
          79.05,
          80.09,
          82.93,
          80.72,
          79.75,
          79.53,
          79,
          75.06,
          82.11,
          84.18,
          81.73,
          83.32,
          78.87,
          72.25,
          83.3,
          80.46,
          81.4,
          82.95,
          84.81,
          80.64,
          75.04,
          82.49,
          83.65,
          80.15,
          81.79,
          82.33,
          79.68,
          81.22,
          84.14,
          80.22,
          86.1,
          85.11,
          86.31,
          83.63,
          83.44,
          80.86,
          84.33,
          86.69,
          83.66,
          76.49,
          82.63,
          81.01,
          80.91,
          82.14,
          84.86,
          84.18,
          83.84,
          84.24,
          84.53,
          85.44,
          85.19,
          84.85,
          85.03,
          83.96,
          86.36,
          86.55,
          84.79,
          84.56,
          85.43,
          85.21,
          86.87,
          85.66,
          84.34,
          86.18,
          85.33,
          83.27,
          85.26,
          86.24,
          85.8,
          85.79,
          86.19,
          86.44,
          85.9,
          86.82,
          85.68,
          82.22,
          86.89,
          87.16,
          84.73,
          86.5,
          85.97,
          87.05,
          86.78,
          86.26,
          87.9,
          86.51,
          87.31,
          87.27,
          87.15,
          87.3,
          86.57,
          87.26,
          87.53,
          87.18,
          87.23,
          87.4
         ],
         "yaxis": "y"
        },
        {
         "line": {
          "color": "orange"
         },
         "name": "Mean IoU",
         "type": "scatter",
         "x": [
          1000,
          2000,
          3000,
          4000,
          5000,
          6000,
          7000,
          8000,
          9000,
          10000,
          11000,
          12000,
          13000,
          14000,
          15000,
          16000,
          17000,
          18000,
          19000,
          20000,
          21000,
          22000,
          23000,
          24000,
          25000,
          26000,
          27000,
          28000,
          29000,
          30000,
          31000,
          32000,
          33000,
          34000,
          35000,
          36000,
          37000,
          38000,
          39000,
          40000,
          41000,
          42000,
          43000,
          44000,
          45000,
          46000,
          47000,
          48000,
          49000,
          50000,
          51000,
          52000,
          53000,
          54000,
          55000,
          56000,
          57000,
          58000,
          59000,
          60000,
          61000,
          62000,
          63000,
          64000,
          65000,
          66000,
          67000,
          68000,
          69000,
          70000,
          71000,
          72000,
          73000,
          74000,
          75000,
          76000,
          77000,
          78000,
          79000,
          80000,
          81000,
          82000,
          83000,
          84000,
          85000,
          86000,
          87000,
          88000,
          89000,
          90000,
          91000,
          92000,
          93000,
          94000,
          95000,
          96000,
          97000,
          98000,
          99000,
          100000,
          101000,
          102000,
          103000,
          104000,
          105000,
          106000,
          107000,
          108000,
          109000,
          110000,
          111000,
          112000,
          113000,
          114000,
          115000,
          116000,
          117000,
          118000,
          119000,
          120000,
          121000,
          122000,
          123000,
          124000,
          125000,
          126000,
          127000,
          128000,
          129000,
          130000,
          131000,
          132000,
          133000,
          134000,
          135000,
          136000,
          137000,
          138000,
          139000,
          140000,
          141000,
          142000,
          143000,
          144000,
          145000,
          146000,
          147000,
          148000,
          149000,
          150000,
          151000,
          152000,
          153000,
          154000,
          155000,
          156000,
          157000,
          158000,
          159000,
          160000
         ],
         "xaxis": "x",
         "y": [
          22.5,
          28.32,
          34.57,
          37.76,
          41.58,
          44.5,
          44.91,
          50.79,
          48.98,
          51.13,
          55.78,
          53.4,
          56.99,
          55.2,
          61.2,
          58.66,
          56.78,
          59.34,
          60.1,
          59.67,
          58.21,
          60.86,
          55.25,
          64.58,
          62.14,
          63.25,
          62.26,
          64.21,
          65.01,
          66.78,
          63.16,
          62.97,
          63.21,
          66.66,
          63.74,
          62.02,
          66.08,
          68.32,
          64.79,
          64.9,
          69,
          64.59,
          67.65,
          67.55,
          67.89,
          67.61,
          66.91,
          69.63,
          67.5,
          68.33,
          63.03,
          62.79,
          69.95,
          69.06,
          65.95,
          70.95,
          69.39,
          58.21,
          69.06,
          68.25,
          66.17,
          72.14,
          68.22,
          71.79,
          68.12,
          68.27,
          72.02,
          71.04,
          70.09,
          69.74,
          70.89,
          63.64,
          69.57,
          74.68,
          71.11,
          73.59,
          70.31,
          63.26,
          73,
          71.67,
          68.28,
          69.07,
          75.03,
          71.03,
          62.76,
          72.19,
          72.93,
          68.84,
          69.11,
          72.84,
          65.82,
          71.9,
          75.26,
          68.86,
          76.07,
          73.27,
          74.14,
          73.81,
          74.79,
          72.37,
          74.21,
          75.59,
          75.24,
          66.98,
          73.59,
          70.15,
          66.62,
          74.27,
          75.92,
          74.68,
          72.54,
          74.12,
          74.55,
          76.06,
          76.02,
          76.75,
          75.78,
          76.09,
          76.43,
          74.45,
          76.31,
          75.87,
          76.11,
          77.28,
          76.4,
          76.71,
          75.27,
          77.17,
          77.25,
          75.62,
          77.28,
          76.23,
          78.57,
          77.59,
          77.65,
          78.04,
          78.15,
          78.41,
          76.78,
          74.88,
          79.24,
          79.24,
          76.31,
          78.22,
          78.14,
          79.5,
          78.47,
          78.74,
          79.69,
          77.87,
          78.02,
          79.66,
          79.36,
          79.74,
          79.16,
          79.62,
          79.87,
          79.81,
          79.76,
          80.09
         ],
         "yaxis": "y"
        },
        {
         "line": {
          "color": "green"
         },
         "name": "Learning Rate",
         "type": "scatter",
         "x": [
          1000,
          2000,
          3000,
          4000,
          5000,
          6000,
          7000,
          8000,
          9000,
          10000,
          11000,
          12000,
          13000,
          14000,
          15000,
          16000,
          17000,
          18000,
          19000,
          20000,
          21000,
          22000,
          23000,
          24000,
          25000,
          26000,
          27000,
          28000,
          29000,
          30000,
          31000,
          32000,
          33000,
          34000,
          35000,
          36000,
          37000,
          38000,
          39000,
          40000,
          41000,
          42000,
          43000,
          44000,
          45000,
          46000,
          47000,
          48000,
          49000,
          50000,
          51000,
          52000,
          53000,
          54000,
          55000,
          56000,
          57000,
          58000,
          59000,
          60000,
          61000,
          62000,
          63000,
          64000,
          65000,
          66000,
          67000,
          68000,
          69000,
          70000,
          71000,
          72000,
          73000,
          74000,
          75000,
          76000,
          77000,
          78000,
          79000,
          80000,
          81000,
          82000,
          83000,
          84000,
          85000,
          86000,
          87000,
          88000,
          89000,
          90000,
          91000,
          92000,
          93000,
          94000,
          95000,
          96000,
          97000,
          98000,
          99000,
          100000,
          101000,
          102000,
          103000,
          104000,
          105000,
          106000,
          107000,
          108000,
          109000,
          110000,
          111000,
          112000,
          113000,
          114000,
          115000,
          116000,
          117000,
          118000,
          119000,
          120000,
          121000,
          122000,
          123000,
          124000,
          125000,
          126000,
          127000,
          128000,
          129000,
          130000,
          131000,
          132000,
          133000,
          134000,
          135000,
          136000,
          137000,
          138000,
          139000,
          140000,
          141000,
          142000,
          143000,
          144000,
          145000,
          146000,
          147000,
          148000,
          149000,
          150000,
          151000,
          152000,
          153000,
          154000,
          155000,
          156000,
          157000,
          158000,
          159000,
          160000
         ],
         "xaxis": "x",
         "y": [
          0.0099438,
          0.0098875,
          0.0098311,
          0.0097748,
          0.0097184,
          0.0096619,
          0.0096054,
          0.0095489,
          0.0094923,
          0.0094358,
          0.0093791,
          0.0093224,
          0.0092657,
          0.009209,
          0.0091522,
          0.0090954,
          0.0090385,
          0.0089816,
          0.0089247,
          0.0088677,
          0.0088106,
          0.0087536,
          0.0086965,
          0.0086393,
          0.0085821,
          0.0085249,
          0.0084676,
          0.0084103,
          0.0083529,
          0.0082955,
          0.0082381,
          0.0081806,
          0.008123,
          0.0080654,
          0.0080078,
          0.0079501,
          0.0078924,
          0.0078346,
          0.0077768,
          0.0077189,
          0.007661,
          0.0076031,
          0.007545,
          0.007487,
          0.0074289,
          0.0073707,
          0.0073125,
          0.0072542,
          0.0071959,
          0.0071375,
          0.0070791,
          0.0070206,
          0.0069621,
          0.0069035,
          0.0068449,
          0.0067862,
          0.0067274,
          0.0066686,
          0.0066097,
          0.0065508,
          0.0064918,
          0.0064328,
          0.0063737,
          0.0063145,
          0.0062553,
          0.006196,
          0.0061366,
          0.0060772,
          0.0060177,
          0.0059582,
          0.0058986,
          0.0058389,
          0.0057791,
          0.0057193,
          0.0056594,
          0.0055995,
          0.0055394,
          0.0054793,
          0.0054191,
          0.0053589,
          0.0052986,
          0.0052382,
          0.0051777,
          0.0051171,
          0.0050565,
          0.0049958,
          0.004935,
          0.0048741,
          0.0048131,
          0.0047521,
          0.0046909,
          0.0046297,
          0.0045684,
          0.004507,
          0.0044455,
          0.0043839,
          0.0043222,
          0.0042604,
          0.0041985,
          0.0041365,
          0.0040744,
          0.0040122,
          0.0039499,
          0.0038874,
          0.0038249,
          0.0037623,
          0.0036995,
          0.0036366,
          0.0035736,
          0.0035105,
          0.0034472,
          0.0033839,
          0.0033203,
          0.0032567,
          0.0031929,
          0.003129,
          0.0030649,
          0.0030007,
          0.0029363,
          0.0028718,
          0.0028071,
          0.0027422,
          0.0026772,
          0.002612,
          0.0025466,
          0.002481,
          0.0024152,
          0.0023493,
          0.0022831,
          0.0022167,
          0.0021501,
          0.0020832,
          0.0020161,
          0.0019488,
          0.0018812,
          0.0018134,
          0.0017452,
          0.0016768,
          0.001608,
          0.0015389,
          0.0014695,
          0.0013997,
          0.0013295,
          0.0012589,
          0.0011879,
          0.0011164,
          0.0010443,
          0.00097176,
          0.00089856,
          0.0008247,
          0.00075009,
          0.00067465,
          0.00059825,
          0.00052075,
          0.00044194,
          0.00036153,
          0.00027906,
          0.00019374,
          0.00010382,
          0
         ],
         "yaxis": "y2"
        }
       ],
       "layout": {
        "hovermode": "x unified",
        "legend": {
         "x": 1.15,
         "xanchor": "right",
         "y": 1.15,
         "yanchor": "top"
        },
        "template": {
         "data": {
          "bar": [
           {
            "error_x": {
             "color": "#2a3f5f"
            },
            "error_y": {
             "color": "#2a3f5f"
            },
            "marker": {
             "line": {
              "color": "#E5ECF6",
              "width": 0.5
             },
             "pattern": {
              "fillmode": "overlay",
              "size": 10,
              "solidity": 0.2
             }
            },
            "type": "bar"
           }
          ],
          "barpolar": [
           {
            "marker": {
             "line": {
              "color": "#E5ECF6",
              "width": 0.5
             },
             "pattern": {
              "fillmode": "overlay",
              "size": 10,
              "solidity": 0.2
             }
            },
            "type": "barpolar"
           }
          ],
          "carpet": [
           {
            "aaxis": {
             "endlinecolor": "#2a3f5f",
             "gridcolor": "white",
             "linecolor": "white",
             "minorgridcolor": "white",
             "startlinecolor": "#2a3f5f"
            },
            "baxis": {
             "endlinecolor": "#2a3f5f",
             "gridcolor": "white",
             "linecolor": "white",
             "minorgridcolor": "white",
             "startlinecolor": "#2a3f5f"
            },
            "type": "carpet"
           }
          ],
          "choropleth": [
           {
            "colorbar": {
             "outlinewidth": 0,
             "ticks": ""
            },
            "type": "choropleth"
           }
          ],
          "contour": [
           {
            "colorbar": {
             "outlinewidth": 0,
             "ticks": ""
            },
            "colorscale": [
             [
              0,
              "#0d0887"
             ],
             [
              0.1111111111111111,
              "#46039f"
             ],
             [
              0.2222222222222222,
              "#7201a8"
             ],
             [
              0.3333333333333333,
              "#9c179e"
             ],
             [
              0.4444444444444444,
              "#bd3786"
             ],
             [
              0.5555555555555556,
              "#d8576b"
             ],
             [
              0.6666666666666666,
              "#ed7953"
             ],
             [
              0.7777777777777778,
              "#fb9f3a"
             ],
             [
              0.8888888888888888,
              "#fdca26"
             ],
             [
              1,
              "#f0f921"
             ]
            ],
            "type": "contour"
           }
          ],
          "contourcarpet": [
           {
            "colorbar": {
             "outlinewidth": 0,
             "ticks": ""
            },
            "type": "contourcarpet"
           }
          ],
          "heatmap": [
           {
            "colorbar": {
             "outlinewidth": 0,
             "ticks": ""
            },
            "colorscale": [
             [
              0,
              "#0d0887"
             ],
             [
              0.1111111111111111,
              "#46039f"
             ],
             [
              0.2222222222222222,
              "#7201a8"
             ],
             [
              0.3333333333333333,
              "#9c179e"
             ],
             [
              0.4444444444444444,
              "#bd3786"
             ],
             [
              0.5555555555555556,
              "#d8576b"
             ],
             [
              0.6666666666666666,
              "#ed7953"
             ],
             [
              0.7777777777777778,
              "#fb9f3a"
             ],
             [
              0.8888888888888888,
              "#fdca26"
             ],
             [
              1,
              "#f0f921"
             ]
            ],
            "type": "heatmap"
           }
          ],
          "histogram": [
           {
            "marker": {
             "pattern": {
              "fillmode": "overlay",
              "size": 10,
              "solidity": 0.2
             }
            },
            "type": "histogram"
           }
          ],
          "histogram2d": [
           {
            "colorbar": {
             "outlinewidth": 0,
             "ticks": ""
            },
            "colorscale": [
             [
              0,
              "#0d0887"
             ],
             [
              0.1111111111111111,
              "#46039f"
             ],
             [
              0.2222222222222222,
              "#7201a8"
             ],
             [
              0.3333333333333333,
              "#9c179e"
             ],
             [
              0.4444444444444444,
              "#bd3786"
             ],
             [
              0.5555555555555556,
              "#d8576b"
             ],
             [
              0.6666666666666666,
              "#ed7953"
             ],
             [
              0.7777777777777778,
              "#fb9f3a"
             ],
             [
              0.8888888888888888,
              "#fdca26"
             ],
             [
              1,
              "#f0f921"
             ]
            ],
            "type": "histogram2d"
           }
          ],
          "histogram2dcontour": [
           {
            "colorbar": {
             "outlinewidth": 0,
             "ticks": ""
            },
            "colorscale": [
             [
              0,
              "#0d0887"
             ],
             [
              0.1111111111111111,
              "#46039f"
             ],
             [
              0.2222222222222222,
              "#7201a8"
             ],
             [
              0.3333333333333333,
              "#9c179e"
             ],
             [
              0.4444444444444444,
              "#bd3786"
             ],
             [
              0.5555555555555556,
              "#d8576b"
             ],
             [
              0.6666666666666666,
              "#ed7953"
             ],
             [
              0.7777777777777778,
              "#fb9f3a"
             ],
             [
              0.8888888888888888,
              "#fdca26"
             ],
             [
              1,
              "#f0f921"
             ]
            ],
            "type": "histogram2dcontour"
           }
          ],
          "mesh3d": [
           {
            "colorbar": {
             "outlinewidth": 0,
             "ticks": ""
            },
            "type": "mesh3d"
           }
          ],
          "parcoords": [
           {
            "line": {
             "colorbar": {
              "outlinewidth": 0,
              "ticks": ""
             }
            },
            "type": "parcoords"
           }
          ],
          "pie": [
           {
            "automargin": true,
            "type": "pie"
           }
          ],
          "scatter": [
           {
            "fillpattern": {
             "fillmode": "overlay",
             "size": 10,
             "solidity": 0.2
            },
            "type": "scatter"
           }
          ],
          "scatter3d": [
           {
            "line": {
             "colorbar": {
              "outlinewidth": 0,
              "ticks": ""
             }
            },
            "marker": {
             "colorbar": {
              "outlinewidth": 0,
              "ticks": ""
             }
            },
            "type": "scatter3d"
           }
          ],
          "scattercarpet": [
           {
            "marker": {
             "colorbar": {
              "outlinewidth": 0,
              "ticks": ""
             }
            },
            "type": "scattercarpet"
           }
          ],
          "scattergeo": [
           {
            "marker": {
             "colorbar": {
              "outlinewidth": 0,
              "ticks": ""
             }
            },
            "type": "scattergeo"
           }
          ],
          "scattergl": [
           {
            "marker": {
             "colorbar": {
              "outlinewidth": 0,
              "ticks": ""
             }
            },
            "type": "scattergl"
           }
          ],
          "scattermap": [
           {
            "marker": {
             "colorbar": {
              "outlinewidth": 0,
              "ticks": ""
             }
            },
            "type": "scattermap"
           }
          ],
          "scattermapbox": [
           {
            "marker": {
             "colorbar": {
              "outlinewidth": 0,
              "ticks": ""
             }
            },
            "type": "scattermapbox"
           }
          ],
          "scatterpolar": [
           {
            "marker": {
             "colorbar": {
              "outlinewidth": 0,
              "ticks": ""
             }
            },
            "type": "scatterpolar"
           }
          ],
          "scatterpolargl": [
           {
            "marker": {
             "colorbar": {
              "outlinewidth": 0,
              "ticks": ""
             }
            },
            "type": "scatterpolargl"
           }
          ],
          "scatterternary": [
           {
            "marker": {
             "colorbar": {
              "outlinewidth": 0,
              "ticks": ""
             }
            },
            "type": "scatterternary"
           }
          ],
          "surface": [
           {
            "colorbar": {
             "outlinewidth": 0,
             "ticks": ""
            },
            "colorscale": [
             [
              0,
              "#0d0887"
             ],
             [
              0.1111111111111111,
              "#46039f"
             ],
             [
              0.2222222222222222,
              "#7201a8"
             ],
             [
              0.3333333333333333,
              "#9c179e"
             ],
             [
              0.4444444444444444,
              "#bd3786"
             ],
             [
              0.5555555555555556,
              "#d8576b"
             ],
             [
              0.6666666666666666,
              "#ed7953"
             ],
             [
              0.7777777777777778,
              "#fb9f3a"
             ],
             [
              0.8888888888888888,
              "#fdca26"
             ],
             [
              1,
              "#f0f921"
             ]
            ],
            "type": "surface"
           }
          ],
          "table": [
           {
            "cells": {
             "fill": {
              "color": "#EBF0F8"
             },
             "line": {
              "color": "white"
             }
            },
            "header": {
             "fill": {
              "color": "#C8D4E3"
             },
             "line": {
              "color": "white"
             }
            },
            "type": "table"
           }
          ]
         },
         "layout": {
          "annotationdefaults": {
           "arrowcolor": "#2a3f5f",
           "arrowhead": 0,
           "arrowwidth": 1
          },
          "autotypenumbers": "strict",
          "coloraxis": {
           "colorbar": {
            "outlinewidth": 0,
            "ticks": ""
           }
          },
          "colorscale": {
           "diverging": [
            [
             0,
             "#8e0152"
            ],
            [
             0.1,
             "#c51b7d"
            ],
            [
             0.2,
             "#de77ae"
            ],
            [
             0.3,
             "#f1b6da"
            ],
            [
             0.4,
             "#fde0ef"
            ],
            [
             0.5,
             "#f7f7f7"
            ],
            [
             0.6,
             "#e6f5d0"
            ],
            [
             0.7,
             "#b8e186"
            ],
            [
             0.8,
             "#7fbc41"
            ],
            [
             0.9,
             "#4d9221"
            ],
            [
             1,
             "#276419"
            ]
           ],
           "sequential": [
            [
             0,
             "#0d0887"
            ],
            [
             0.1111111111111111,
             "#46039f"
            ],
            [
             0.2222222222222222,
             "#7201a8"
            ],
            [
             0.3333333333333333,
             "#9c179e"
            ],
            [
             0.4444444444444444,
             "#bd3786"
            ],
            [
             0.5555555555555556,
             "#d8576b"
            ],
            [
             0.6666666666666666,
             "#ed7953"
            ],
            [
             0.7777777777777778,
             "#fb9f3a"
            ],
            [
             0.8888888888888888,
             "#fdca26"
            ],
            [
             1,
             "#f0f921"
            ]
           ],
           "sequentialminus": [
            [
             0,
             "#0d0887"
            ],
            [
             0.1111111111111111,
             "#46039f"
            ],
            [
             0.2222222222222222,
             "#7201a8"
            ],
            [
             0.3333333333333333,
             "#9c179e"
            ],
            [
             0.4444444444444444,
             "#bd3786"
            ],
            [
             0.5555555555555556,
             "#d8576b"
            ],
            [
             0.6666666666666666,
             "#ed7953"
            ],
            [
             0.7777777777777778,
             "#fb9f3a"
            ],
            [
             0.8888888888888888,
             "#fdca26"
            ],
            [
             1,
             "#f0f921"
            ]
           ]
          },
          "colorway": [
           "#636efa",
           "#EF553B",
           "#00cc96",
           "#ab63fa",
           "#FFA15A",
           "#19d3f3",
           "#FF6692",
           "#B6E880",
           "#FF97FF",
           "#FECB52"
          ],
          "font": {
           "color": "#2a3f5f"
          },
          "geo": {
           "bgcolor": "white",
           "lakecolor": "white",
           "landcolor": "#E5ECF6",
           "showlakes": true,
           "showland": true,
           "subunitcolor": "white"
          },
          "hoverlabel": {
           "align": "left"
          },
          "hovermode": "closest",
          "mapbox": {
           "style": "light"
          },
          "paper_bgcolor": "white",
          "plot_bgcolor": "#E5ECF6",
          "polar": {
           "angularaxis": {
            "gridcolor": "white",
            "linecolor": "white",
            "ticks": ""
           },
           "bgcolor": "#E5ECF6",
           "radialaxis": {
            "gridcolor": "white",
            "linecolor": "white",
            "ticks": ""
           }
          },
          "scene": {
           "xaxis": {
            "backgroundcolor": "#E5ECF6",
            "gridcolor": "white",
            "gridwidth": 2,
            "linecolor": "white",
            "showbackground": true,
            "ticks": "",
            "zerolinecolor": "white"
           },
           "yaxis": {
            "backgroundcolor": "#E5ECF6",
            "gridcolor": "white",
            "gridwidth": 2,
            "linecolor": "white",
            "showbackground": true,
            "ticks": "",
            "zerolinecolor": "white"
           },
           "zaxis": {
            "backgroundcolor": "#E5ECF6",
            "gridcolor": "white",
            "gridwidth": 2,
            "linecolor": "white",
            "showbackground": true,
            "ticks": "",
            "zerolinecolor": "white"
           }
          },
          "shapedefaults": {
           "line": {
            "color": "#2a3f5f"
           }
          },
          "ternary": {
           "aaxis": {
            "gridcolor": "white",
            "linecolor": "white",
            "ticks": ""
           },
           "baxis": {
            "gridcolor": "white",
            "linecolor": "white",
            "ticks": ""
           },
           "bgcolor": "#E5ECF6",
           "caxis": {
            "gridcolor": "white",
            "linecolor": "white",
            "ticks": ""
           }
          },
          "title": {
           "x": 0.05
          },
          "xaxis": {
           "automargin": true,
           "gridcolor": "white",
           "linecolor": "white",
           "ticks": "",
           "title": {
            "standoff": 15
           },
           "zerolinecolor": "white",
           "zerolinewidth": 2
          },
          "yaxis": {
           "automargin": true,
           "gridcolor": "white",
           "linecolor": "white",
           "ticks": "",
           "title": {
            "standoff": 15
           },
           "zerolinecolor": "white",
           "zerolinewidth": 2
          }
         }
        },
        "title": {
         "text": "Validation Performance and Training Learning Rate vs Epoch"
        },
        "xaxis": {
         "anchor": "y",
         "domain": [
          0,
          0.94
         ],
         "range": [
          0,
          160000
         ],
         "title": {
          "text": "Epoch"
         }
        },
        "yaxis": {
         "anchor": "x",
         "domain": [
          0,
          1
         ],
         "dtick": 10,
         "range": [
          0,
          100
         ],
         "title": {
          "text": "Performance (%)"
         }
        },
        "yaxis2": {
         "anchor": "x",
         "overlaying": "y",
         "side": "right",
         "title": {
          "text": "Learning Rate"
         }
        }
       }
      }
     },
     "metadata": {},
     "output_type": "display_data"
    }
   ],
   "source": [
    "# SEBNet BaselinePDSBDBASWithSBDHead SGD, Pretrained, Batch Size 6, OHEM Cross Entropy, Edge Width 2, Edge Loss Weight 5.0 - 80.09 Best mIoU\n",
    "log_file_path = '/home/robert.breslin/alessandro/paper_2/mmsegmentation/work_dirs/sebnet_baseline-p-d-sbd-basWithSBD-head_1xb6_cityscapes/20250903_225426/20250903_225426.log'\n",
    "epochs, mIoU, mAcc, lrs = parse_log_file(log_file_path)\n",
    "plot_accuracies_and_lr_interactive(epochs, mAcc, mIoU, lrs, [0,160000])"
   ]
  },
  {
   "cell_type": "code",
   "execution_count": 26,
   "id": "4386fcf9",
   "metadata": {},
   "outputs": [
    {
     "data": {
      "application/vnd.plotly.v1+json": {
       "config": {
        "plotlyServerURL": "https://plot.ly"
       },
       "data": [
        {
         "line": {
          "color": "blue"
         },
         "name": "Mean Accuracy",
         "type": "scatter",
         "x": [
          24000,
          48000,
          72000,
          96000,
          120000,
          144000,
          168000,
          192000,
          216050,
          240050,
          240050
         ],
         "xaxis": "x",
         "y": [
          74.79,
          76.05,
          73.5,
          83.32,
          83.89,
          84.8,
          83.86,
          83.72,
          85.44,
          87.29,
          87.12
         ],
         "yaxis": "y"
        },
        {
         "line": {
          "color": "orange"
         },
         "name": "Mean IoU",
         "type": "scatter",
         "x": [
          24000,
          48000,
          72000,
          96000,
          120000,
          144000,
          168000,
          192000,
          216050,
          240050,
          240050
         ],
         "xaxis": "x",
         "y": [
          62.6,
          65.55,
          61.22,
          70.87,
          72.64,
          74.01,
          74.66,
          72.16,
          77.37,
          79.73,
          79.69
         ],
         "yaxis": "y"
        },
        {
         "line": {
          "color": "green"
         },
         "name": "Learning Rate",
         "type": "scatter",
         "x": [
          24000,
          48000,
          72000,
          96000,
          120000,
          144000,
          168000,
          192000,
          216050,
          240050,
          240050
         ],
         "xaxis": "x",
         "y": [
          0.0090956,
          0.008181,
          0.007255,
          0.0063155,
          0.0053602,
          0.0043854,
          0.0033857,
          0.0023515,
          0.0012593,
          0.000001546,
          0.000001546
         ],
         "yaxis": "y2"
        }
       ],
       "layout": {
        "hovermode": "x unified",
        "legend": {
         "x": 1.15,
         "xanchor": "right",
         "y": 1.15,
         "yanchor": "top"
        },
        "template": {
         "data": {
          "bar": [
           {
            "error_x": {
             "color": "#2a3f5f"
            },
            "error_y": {
             "color": "#2a3f5f"
            },
            "marker": {
             "line": {
              "color": "#E5ECF6",
              "width": 0.5
             },
             "pattern": {
              "fillmode": "overlay",
              "size": 10,
              "solidity": 0.2
             }
            },
            "type": "bar"
           }
          ],
          "barpolar": [
           {
            "marker": {
             "line": {
              "color": "#E5ECF6",
              "width": 0.5
             },
             "pattern": {
              "fillmode": "overlay",
              "size": 10,
              "solidity": 0.2
             }
            },
            "type": "barpolar"
           }
          ],
          "carpet": [
           {
            "aaxis": {
             "endlinecolor": "#2a3f5f",
             "gridcolor": "white",
             "linecolor": "white",
             "minorgridcolor": "white",
             "startlinecolor": "#2a3f5f"
            },
            "baxis": {
             "endlinecolor": "#2a3f5f",
             "gridcolor": "white",
             "linecolor": "white",
             "minorgridcolor": "white",
             "startlinecolor": "#2a3f5f"
            },
            "type": "carpet"
           }
          ],
          "choropleth": [
           {
            "colorbar": {
             "outlinewidth": 0,
             "ticks": ""
            },
            "type": "choropleth"
           }
          ],
          "contour": [
           {
            "colorbar": {
             "outlinewidth": 0,
             "ticks": ""
            },
            "colorscale": [
             [
              0,
              "#0d0887"
             ],
             [
              0.1111111111111111,
              "#46039f"
             ],
             [
              0.2222222222222222,
              "#7201a8"
             ],
             [
              0.3333333333333333,
              "#9c179e"
             ],
             [
              0.4444444444444444,
              "#bd3786"
             ],
             [
              0.5555555555555556,
              "#d8576b"
             ],
             [
              0.6666666666666666,
              "#ed7953"
             ],
             [
              0.7777777777777778,
              "#fb9f3a"
             ],
             [
              0.8888888888888888,
              "#fdca26"
             ],
             [
              1,
              "#f0f921"
             ]
            ],
            "type": "contour"
           }
          ],
          "contourcarpet": [
           {
            "colorbar": {
             "outlinewidth": 0,
             "ticks": ""
            },
            "type": "contourcarpet"
           }
          ],
          "heatmap": [
           {
            "colorbar": {
             "outlinewidth": 0,
             "ticks": ""
            },
            "colorscale": [
             [
              0,
              "#0d0887"
             ],
             [
              0.1111111111111111,
              "#46039f"
             ],
             [
              0.2222222222222222,
              "#7201a8"
             ],
             [
              0.3333333333333333,
              "#9c179e"
             ],
             [
              0.4444444444444444,
              "#bd3786"
             ],
             [
              0.5555555555555556,
              "#d8576b"
             ],
             [
              0.6666666666666666,
              "#ed7953"
             ],
             [
              0.7777777777777778,
              "#fb9f3a"
             ],
             [
              0.8888888888888888,
              "#fdca26"
             ],
             [
              1,
              "#f0f921"
             ]
            ],
            "type": "heatmap"
           }
          ],
          "histogram": [
           {
            "marker": {
             "pattern": {
              "fillmode": "overlay",
              "size": 10,
              "solidity": 0.2
             }
            },
            "type": "histogram"
           }
          ],
          "histogram2d": [
           {
            "colorbar": {
             "outlinewidth": 0,
             "ticks": ""
            },
            "colorscale": [
             [
              0,
              "#0d0887"
             ],
             [
              0.1111111111111111,
              "#46039f"
             ],
             [
              0.2222222222222222,
              "#7201a8"
             ],
             [
              0.3333333333333333,
              "#9c179e"
             ],
             [
              0.4444444444444444,
              "#bd3786"
             ],
             [
              0.5555555555555556,
              "#d8576b"
             ],
             [
              0.6666666666666666,
              "#ed7953"
             ],
             [
              0.7777777777777778,
              "#fb9f3a"
             ],
             [
              0.8888888888888888,
              "#fdca26"
             ],
             [
              1,
              "#f0f921"
             ]
            ],
            "type": "histogram2d"
           }
          ],
          "histogram2dcontour": [
           {
            "colorbar": {
             "outlinewidth": 0,
             "ticks": ""
            },
            "colorscale": [
             [
              0,
              "#0d0887"
             ],
             [
              0.1111111111111111,
              "#46039f"
             ],
             [
              0.2222222222222222,
              "#7201a8"
             ],
             [
              0.3333333333333333,
              "#9c179e"
             ],
             [
              0.4444444444444444,
              "#bd3786"
             ],
             [
              0.5555555555555556,
              "#d8576b"
             ],
             [
              0.6666666666666666,
              "#ed7953"
             ],
             [
              0.7777777777777778,
              "#fb9f3a"
             ],
             [
              0.8888888888888888,
              "#fdca26"
             ],
             [
              1,
              "#f0f921"
             ]
            ],
            "type": "histogram2dcontour"
           }
          ],
          "mesh3d": [
           {
            "colorbar": {
             "outlinewidth": 0,
             "ticks": ""
            },
            "type": "mesh3d"
           }
          ],
          "parcoords": [
           {
            "line": {
             "colorbar": {
              "outlinewidth": 0,
              "ticks": ""
             }
            },
            "type": "parcoords"
           }
          ],
          "pie": [
           {
            "automargin": true,
            "type": "pie"
           }
          ],
          "scatter": [
           {
            "fillpattern": {
             "fillmode": "overlay",
             "size": 10,
             "solidity": 0.2
            },
            "type": "scatter"
           }
          ],
          "scatter3d": [
           {
            "line": {
             "colorbar": {
              "outlinewidth": 0,
              "ticks": ""
             }
            },
            "marker": {
             "colorbar": {
              "outlinewidth": 0,
              "ticks": ""
             }
            },
            "type": "scatter3d"
           }
          ],
          "scattercarpet": [
           {
            "marker": {
             "colorbar": {
              "outlinewidth": 0,
              "ticks": ""
             }
            },
            "type": "scattercarpet"
           }
          ],
          "scattergeo": [
           {
            "marker": {
             "colorbar": {
              "outlinewidth": 0,
              "ticks": ""
             }
            },
            "type": "scattergeo"
           }
          ],
          "scattergl": [
           {
            "marker": {
             "colorbar": {
              "outlinewidth": 0,
              "ticks": ""
             }
            },
            "type": "scattergl"
           }
          ],
          "scattermap": [
           {
            "marker": {
             "colorbar": {
              "outlinewidth": 0,
              "ticks": ""
             }
            },
            "type": "scattermap"
           }
          ],
          "scattermapbox": [
           {
            "marker": {
             "colorbar": {
              "outlinewidth": 0,
              "ticks": ""
             }
            },
            "type": "scattermapbox"
           }
          ],
          "scatterpolar": [
           {
            "marker": {
             "colorbar": {
              "outlinewidth": 0,
              "ticks": ""
             }
            },
            "type": "scatterpolar"
           }
          ],
          "scatterpolargl": [
           {
            "marker": {
             "colorbar": {
              "outlinewidth": 0,
              "ticks": ""
             }
            },
            "type": "scatterpolargl"
           }
          ],
          "scatterternary": [
           {
            "marker": {
             "colorbar": {
              "outlinewidth": 0,
              "ticks": ""
             }
            },
            "type": "scatterternary"
           }
          ],
          "surface": [
           {
            "colorbar": {
             "outlinewidth": 0,
             "ticks": ""
            },
            "colorscale": [
             [
              0,
              "#0d0887"
             ],
             [
              0.1111111111111111,
              "#46039f"
             ],
             [
              0.2222222222222222,
              "#7201a8"
             ],
             [
              0.3333333333333333,
              "#9c179e"
             ],
             [
              0.4444444444444444,
              "#bd3786"
             ],
             [
              0.5555555555555556,
              "#d8576b"
             ],
             [
              0.6666666666666666,
              "#ed7953"
             ],
             [
              0.7777777777777778,
              "#fb9f3a"
             ],
             [
              0.8888888888888888,
              "#fdca26"
             ],
             [
              1,
              "#f0f921"
             ]
            ],
            "type": "surface"
           }
          ],
          "table": [
           {
            "cells": {
             "fill": {
              "color": "#EBF0F8"
             },
             "line": {
              "color": "white"
             }
            },
            "header": {
             "fill": {
              "color": "#C8D4E3"
             },
             "line": {
              "color": "white"
             }
            },
            "type": "table"
           }
          ]
         },
         "layout": {
          "annotationdefaults": {
           "arrowcolor": "#2a3f5f",
           "arrowhead": 0,
           "arrowwidth": 1
          },
          "autotypenumbers": "strict",
          "coloraxis": {
           "colorbar": {
            "outlinewidth": 0,
            "ticks": ""
           }
          },
          "colorscale": {
           "diverging": [
            [
             0,
             "#8e0152"
            ],
            [
             0.1,
             "#c51b7d"
            ],
            [
             0.2,
             "#de77ae"
            ],
            [
             0.3,
             "#f1b6da"
            ],
            [
             0.4,
             "#fde0ef"
            ],
            [
             0.5,
             "#f7f7f7"
            ],
            [
             0.6,
             "#e6f5d0"
            ],
            [
             0.7,
             "#b8e186"
            ],
            [
             0.8,
             "#7fbc41"
            ],
            [
             0.9,
             "#4d9221"
            ],
            [
             1,
             "#276419"
            ]
           ],
           "sequential": [
            [
             0,
             "#0d0887"
            ],
            [
             0.1111111111111111,
             "#46039f"
            ],
            [
             0.2222222222222222,
             "#7201a8"
            ],
            [
             0.3333333333333333,
             "#9c179e"
            ],
            [
             0.4444444444444444,
             "#bd3786"
            ],
            [
             0.5555555555555556,
             "#d8576b"
            ],
            [
             0.6666666666666666,
             "#ed7953"
            ],
            [
             0.7777777777777778,
             "#fb9f3a"
            ],
            [
             0.8888888888888888,
             "#fdca26"
            ],
            [
             1,
             "#f0f921"
            ]
           ],
           "sequentialminus": [
            [
             0,
             "#0d0887"
            ],
            [
             0.1111111111111111,
             "#46039f"
            ],
            [
             0.2222222222222222,
             "#7201a8"
            ],
            [
             0.3333333333333333,
             "#9c179e"
            ],
            [
             0.4444444444444444,
             "#bd3786"
            ],
            [
             0.5555555555555556,
             "#d8576b"
            ],
            [
             0.6666666666666666,
             "#ed7953"
            ],
            [
             0.7777777777777778,
             "#fb9f3a"
            ],
            [
             0.8888888888888888,
             "#fdca26"
            ],
            [
             1,
             "#f0f921"
            ]
           ]
          },
          "colorway": [
           "#636efa",
           "#EF553B",
           "#00cc96",
           "#ab63fa",
           "#FFA15A",
           "#19d3f3",
           "#FF6692",
           "#B6E880",
           "#FF97FF",
           "#FECB52"
          ],
          "font": {
           "color": "#2a3f5f"
          },
          "geo": {
           "bgcolor": "white",
           "lakecolor": "white",
           "landcolor": "#E5ECF6",
           "showlakes": true,
           "showland": true,
           "subunitcolor": "white"
          },
          "hoverlabel": {
           "align": "left"
          },
          "hovermode": "closest",
          "mapbox": {
           "style": "light"
          },
          "paper_bgcolor": "white",
          "plot_bgcolor": "#E5ECF6",
          "polar": {
           "angularaxis": {
            "gridcolor": "white",
            "linecolor": "white",
            "ticks": ""
           },
           "bgcolor": "#E5ECF6",
           "radialaxis": {
            "gridcolor": "white",
            "linecolor": "white",
            "ticks": ""
           }
          },
          "scene": {
           "xaxis": {
            "backgroundcolor": "#E5ECF6",
            "gridcolor": "white",
            "gridwidth": 2,
            "linecolor": "white",
            "showbackground": true,
            "ticks": "",
            "zerolinecolor": "white"
           },
           "yaxis": {
            "backgroundcolor": "#E5ECF6",
            "gridcolor": "white",
            "gridwidth": 2,
            "linecolor": "white",
            "showbackground": true,
            "ticks": "",
            "zerolinecolor": "white"
           },
           "zaxis": {
            "backgroundcolor": "#E5ECF6",
            "gridcolor": "white",
            "gridwidth": 2,
            "linecolor": "white",
            "showbackground": true,
            "ticks": "",
            "zerolinecolor": "white"
           }
          },
          "shapedefaults": {
           "line": {
            "color": "#2a3f5f"
           }
          },
          "ternary": {
           "aaxis": {
            "gridcolor": "white",
            "linecolor": "white",
            "ticks": ""
           },
           "baxis": {
            "gridcolor": "white",
            "linecolor": "white",
            "ticks": ""
           },
           "bgcolor": "#E5ECF6",
           "caxis": {
            "gridcolor": "white",
            "linecolor": "white",
            "ticks": ""
           }
          },
          "title": {
           "x": 0.05
          },
          "xaxis": {
           "automargin": true,
           "gridcolor": "white",
           "linecolor": "white",
           "ticks": "",
           "title": {
            "standoff": 15
           },
           "zerolinecolor": "white",
           "zerolinewidth": 2
          },
          "yaxis": {
           "automargin": true,
           "gridcolor": "white",
           "linecolor": "white",
           "ticks": "",
           "title": {
            "standoff": 15
           },
           "zerolinecolor": "white",
           "zerolinewidth": 2
          }
         }
        },
        "title": {
         "text": "Validation Performance and Training Learning Rate vs Epoch"
        },
        "xaxis": {
         "anchor": "y",
         "domain": [
          0,
          0.94
         ],
         "range": [
          0,
          240064
         ],
         "title": {
          "text": "Epoch"
         }
        },
        "yaxis": {
         "anchor": "x",
         "domain": [
          0,
          1
         ],
         "dtick": 10,
         "range": [
          0,
          100
         ],
         "title": {
          "text": "Performance (%)"
         }
        },
        "yaxis2": {
         "anchor": "x",
         "overlaying": "y",
         "side": "right",
         "title": {
          "text": "Learning Rate"
         }
        }
       }
      }
     },
     "metadata": {},
     "output_type": "display_data"
    }
   ],
   "source": [
    "# PIDNet SGD, Pretrained, Batch Size 6, OHEM Cross Entropy - 80.00 Best mIoU\n",
    "log_file_path = '/home/robert.breslin/alessandro/paper_2/mmsegmentation/work_dirs/pidnet-l_2xb6-120k_1024x1024-cityscapes/20250906_103110/20250906_103110.log'\n",
    "epochs, mIoU, mAcc, lrs = parse_log_file(log_file_path)\n",
    "plot_accuracies_and_lr_interactive(epochs, mAcc, mIoU, lrs, [0,240064])"
   ]
  },
  {
   "cell_type": "code",
   "execution_count": 27,
   "id": "026b5e5a",
   "metadata": {},
   "outputs": [
    {
     "data": {
      "application/vnd.plotly.v1+json": {
       "config": {
        "plotlyServerURL": "https://plot.ly"
       },
       "data": [
        {
         "line": {
          "color": "blue"
         },
         "name": "Mean Accuracy",
         "type": "scatter",
         "x": [
          1000,
          2000,
          3000,
          4000,
          5000,
          6000,
          7000,
          8000,
          9000,
          10000,
          11000,
          12000,
          13000,
          14000,
          15000,
          16000,
          17000,
          18000,
          19000,
          20000,
          21000,
          22000,
          23000,
          24000,
          25000,
          26000,
          27000,
          28000,
          29000,
          30000,
          31000,
          32000,
          33000,
          34000,
          35000,
          36000,
          37000,
          38000,
          39000,
          40000,
          41000,
          42000,
          43000,
          44000,
          45000,
          46000,
          47000,
          48000,
          49000,
          50000,
          51000,
          52000,
          53000,
          54000,
          55000,
          56000,
          57000,
          58000,
          59000,
          60000,
          61000,
          62000,
          63000,
          64000,
          65000,
          66000,
          67000,
          68000,
          69000,
          70000,
          71000,
          72000,
          73000,
          74000,
          75000,
          76000,
          77000,
          78000,
          79000,
          80000,
          81000,
          82000,
          83000,
          84000,
          85000,
          86000,
          87000,
          88000,
          89000,
          90000,
          91000,
          92000,
          93000,
          94000,
          95000,
          96000,
          97000,
          98000,
          99000,
          100000,
          101000,
          102000,
          103000,
          104000,
          105000,
          106000,
          107000,
          108000,
          109000,
          110000,
          111000,
          112000,
          113000,
          114000,
          115000,
          116000,
          117000,
          118000,
          119000,
          120000,
          121000,
          122000,
          123000,
          124000,
          125000,
          126000,
          127000,
          128000,
          129000,
          130000,
          131000,
          132000,
          133000,
          134000,
          135000,
          136000,
          137000,
          138000,
          139000,
          140000,
          141000,
          142000,
          143000,
          144000,
          145000,
          146000,
          147000,
          148000,
          149000,
          150000,
          151000,
          152000,
          153000,
          154000,
          155000,
          156000,
          157000,
          158000,
          159000,
          160000
         ],
         "xaxis": "x",
         "y": [
          28.92,
          33.79,
          41.19,
          44.63,
          49.26,
          49.59,
          58.12,
          58.45,
          54.92,
          61.81,
          61.1,
          61.43,
          64.89,
          60.58,
          69.85,
          68.43,
          65.19,
          66.87,
          69.14,
          69.86,
          65.27,
          70.97,
          73.68,
          70.26,
          74.42,
          73.35,
          73.69,
          72.6,
          74.03,
          75.69,
          75.21,
          69.63,
          74.37,
          71.94,
          73.31,
          71.52,
          75.13,
          74.63,
          73.41,
          77.97,
          77.87,
          76.47,
          76.59,
          76.95,
          79.9,
          80.45,
          75.13,
          77.73,
          75.35,
          77.62,
          76.58,
          79.67,
          73.8,
          79.24,
          80.37,
          78.81,
          80.58,
          73.11,
          75.64,
          78.05,
          79.19,
          76.27,
          75.43,
          81.56,
          79.55,
          79.79,
          82.63,
          78.62,
          78.8,
          79.09,
          80.01,
          73.38,
          81.74,
          81.84,
          80.86,
          82.93,
          72.57,
          78.73,
          81.02,
          81.21,
          81.94,
          78.94,
          83.36,
          83.24,
          80.61,
          82.73,
          79.14,
          79.16,
          82.6,
          82.19,
          80.36,
          77.6,
          76.27,
          81.96,
          84.6,
          84.06,
          83.94,
          84.45,
          83.62,
          79.34,
          83.2,
          83.32,
          82.12,
          84.59,
          82.55,
          83.29,
          82.62,
          74.69,
          82.26,
          82.9,
          83.55,
          81.77,
          84.63,
          83.68,
          81.92,
          84.01,
          84.26,
          84.15,
          85.76,
          85,
          82.64,
          85.08,
          86.28,
          84.41,
          85.39,
          85.37,
          85.2,
          85.36,
          86.44,
          85.27,
          84.96,
          86.25,
          85.15,
          86.62,
          87.06,
          86.45,
          85.92,
          85.98,
          87.08,
          85.67,
          85.2,
          86.73,
          86.95,
          87.04,
          86,
          85.96,
          87.55,
          86.92,
          86.35,
          87.08,
          86.59,
          86.97,
          87.86,
          88.35,
          87.13,
          88.07,
          87.95,
          87.79,
          87.5,
          87.82
         ],
         "yaxis": "y"
        },
        {
         "line": {
          "color": "orange"
         },
         "name": "Mean IoU",
         "type": "scatter",
         "x": [
          1000,
          2000,
          3000,
          4000,
          5000,
          6000,
          7000,
          8000,
          9000,
          10000,
          11000,
          12000,
          13000,
          14000,
          15000,
          16000,
          17000,
          18000,
          19000,
          20000,
          21000,
          22000,
          23000,
          24000,
          25000,
          26000,
          27000,
          28000,
          29000,
          30000,
          31000,
          32000,
          33000,
          34000,
          35000,
          36000,
          37000,
          38000,
          39000,
          40000,
          41000,
          42000,
          43000,
          44000,
          45000,
          46000,
          47000,
          48000,
          49000,
          50000,
          51000,
          52000,
          53000,
          54000,
          55000,
          56000,
          57000,
          58000,
          59000,
          60000,
          61000,
          62000,
          63000,
          64000,
          65000,
          66000,
          67000,
          68000,
          69000,
          70000,
          71000,
          72000,
          73000,
          74000,
          75000,
          76000,
          77000,
          78000,
          79000,
          80000,
          81000,
          82000,
          83000,
          84000,
          85000,
          86000,
          87000,
          88000,
          89000,
          90000,
          91000,
          92000,
          93000,
          94000,
          95000,
          96000,
          97000,
          98000,
          99000,
          100000,
          101000,
          102000,
          103000,
          104000,
          105000,
          106000,
          107000,
          108000,
          109000,
          110000,
          111000,
          112000,
          113000,
          114000,
          115000,
          116000,
          117000,
          118000,
          119000,
          120000,
          121000,
          122000,
          123000,
          124000,
          125000,
          126000,
          127000,
          128000,
          129000,
          130000,
          131000,
          132000,
          133000,
          134000,
          135000,
          136000,
          137000,
          138000,
          139000,
          140000,
          141000,
          142000,
          143000,
          144000,
          145000,
          146000,
          147000,
          148000,
          149000,
          150000,
          151000,
          152000,
          153000,
          154000,
          155000,
          156000,
          157000,
          158000,
          159000,
          160000
         ],
         "xaxis": "x",
         "y": [
          22.77,
          28.46,
          33.76,
          36.95,
          40.97,
          38.86,
          45.78,
          47.25,
          46.48,
          51.45,
          51.16,
          51.59,
          55,
          51.31,
          58.51,
          55.11,
          56.19,
          57.73,
          59.38,
          58.99,
          55.34,
          58.9,
          61.36,
          60.15,
          63.59,
          61.13,
          60.06,
          61.75,
          62.43,
          62.22,
          62.7,
          60.06,
          62.48,
          62.23,
          64.19,
          62.32,
          63.88,
          65.07,
          63.75,
          67.58,
          68.38,
          67.37,
          67.44,
          66.78,
          67.14,
          69.61,
          63.51,
          69.39,
          65.9,
          66.25,
          65.92,
          65.95,
          63.48,
          68.8,
          64.84,
          66.83,
          67.63,
          62.55,
          65.75,
          67.59,
          68.56,
          67.63,
          66.1,
          70.48,
          70.17,
          67.18,
          70.63,
          68.25,
          69.74,
          69.71,
          71.34,
          62.76,
          69.41,
          72.63,
          69.68,
          72.14,
          61.78,
          68.01,
          71.14,
          72.17,
          70.21,
          67.41,
          72.91,
          72.36,
          71.66,
          72.38,
          70.19,
          69.67,
          67.02,
          72.95,
          69.57,
          68.05,
          67.92,
          70.52,
          74.22,
          73.64,
          74.04,
          74.35,
          74.7,
          69.33,
          73.32,
          70.66,
          73.9,
          75.25,
          74.08,
          73.4,
          68.3,
          64.29,
          73.29,
          72.39,
          73.23,
          71.83,
          73.92,
          73.18,
          73.17,
          75.94,
          76.2,
          75.28,
          76.84,
          71.87,
          73.24,
          75.97,
          76.34,
          75.98,
          75.8,
          76.45,
          76.19,
          77.04,
          77.88,
          76.72,
          76.78,
          77.33,
          76.6,
          78.23,
          78.29,
          76.98,
          77.73,
          76.56,
          77.39,
          77.34,
          76.73,
          78.5,
          77.92,
          78.92,
          77.01,
          78.16,
          78.5,
          78.98,
          77.46,
          78.34,
          77.98,
          78.86,
          79.68,
          79.95,
          79.18,
          79.97,
          79.72,
          79.49,
          79.68,
          79.99
         ],
         "yaxis": "y"
        },
        {
         "line": {
          "color": "green"
         },
         "name": "Learning Rate",
         "type": "scatter",
         "x": [
          1000,
          2000,
          3000,
          4000,
          5000,
          6000,
          7000,
          8000,
          9000,
          10000,
          11000,
          12000,
          13000,
          14000,
          15000,
          16000,
          17000,
          18000,
          19000,
          20000,
          21000,
          22000,
          23000,
          24000,
          25000,
          26000,
          27000,
          28000,
          29000,
          30000,
          31000,
          32000,
          33000,
          34000,
          35000,
          36000,
          37000,
          38000,
          39000,
          40000,
          41000,
          42000,
          43000,
          44000,
          45000,
          46000,
          47000,
          48000,
          49000,
          50000,
          51000,
          52000,
          53000,
          54000,
          55000,
          56000,
          57000,
          58000,
          59000,
          60000,
          61000,
          62000,
          63000,
          64000,
          65000,
          66000,
          67000,
          68000,
          69000,
          70000,
          71000,
          72000,
          73000,
          74000,
          75000,
          76000,
          77000,
          78000,
          79000,
          80000,
          81000,
          82000,
          83000,
          84000,
          85000,
          86000,
          87000,
          88000,
          89000,
          90000,
          91000,
          92000,
          93000,
          94000,
          95000,
          96000,
          97000,
          98000,
          99000,
          100000,
          101000,
          102000,
          103000,
          104000,
          105000,
          106000,
          107000,
          108000,
          109000,
          110000,
          111000,
          112000,
          113000,
          114000,
          115000,
          116000,
          117000,
          118000,
          119000,
          120000,
          121000,
          122000,
          123000,
          124000,
          125000,
          126000,
          127000,
          128000,
          129000,
          130000,
          131000,
          132000,
          133000,
          134000,
          135000,
          136000,
          137000,
          138000,
          139000,
          140000,
          141000,
          142000,
          143000,
          144000,
          145000,
          146000,
          147000,
          148000,
          149000,
          150000,
          151000,
          152000,
          153000,
          154000,
          155000,
          156000,
          157000,
          158000,
          159000,
          160000
         ],
         "xaxis": "x",
         "y": [
          0.0099438,
          0.0098875,
          0.0098311,
          0.0097748,
          0.0097184,
          0.0096619,
          0.0096054,
          0.0095489,
          0.0094923,
          0.0094358,
          0.0093791,
          0.0093224,
          0.0092657,
          0.009209,
          0.0091522,
          0.0090954,
          0.0090385,
          0.0089816,
          0.0089247,
          0.0088677,
          0.0088106,
          0.0087536,
          0.0086965,
          0.0086393,
          0.0085821,
          0.0085249,
          0.0084676,
          0.0084103,
          0.0083529,
          0.0082955,
          0.0082381,
          0.0081806,
          0.008123,
          0.0080654,
          0.0080078,
          0.0079501,
          0.0078924,
          0.0078346,
          0.0077768,
          0.0077189,
          0.007661,
          0.0076031,
          0.007545,
          0.007487,
          0.0074289,
          0.0073707,
          0.0073125,
          0.0072542,
          0.0071959,
          0.0071375,
          0.0070791,
          0.0070206,
          0.0069621,
          0.0069035,
          0.0068449,
          0.0067862,
          0.0067274,
          0.0066686,
          0.0066097,
          0.0065508,
          0.0064918,
          0.0064328,
          0.0063737,
          0.0063145,
          0.0062553,
          0.006196,
          0.0061366,
          0.0060772,
          0.0060177,
          0.0059582,
          0.0058986,
          0.0058389,
          0.0057791,
          0.0057193,
          0.0056594,
          0.0055995,
          0.0055394,
          0.0054793,
          0.0054191,
          0.0053589,
          0.0052986,
          0.0052382,
          0.0051777,
          0.0051171,
          0.0050565,
          0.0049958,
          0.004935,
          0.0048741,
          0.0048131,
          0.0047521,
          0.0046909,
          0.0046297,
          0.0045684,
          0.004507,
          0.0044455,
          0.0043839,
          0.0043222,
          0.0042604,
          0.0041985,
          0.0041365,
          0.0040744,
          0.0040122,
          0.0039499,
          0.0038874,
          0.0038249,
          0.0037623,
          0.0036995,
          0.0036366,
          0.0035736,
          0.0035105,
          0.0034472,
          0.0033839,
          0.0033203,
          0.0032567,
          0.0031929,
          0.003129,
          0.0030649,
          0.0030007,
          0.0029363,
          0.0028718,
          0.0028071,
          0.0027422,
          0.0026772,
          0.002612,
          0.0025466,
          0.002481,
          0.0024152,
          0.0023493,
          0.0022831,
          0.0022167,
          0.0021501,
          0.0020832,
          0.0020161,
          0.0019488,
          0.0018812,
          0.0018134,
          0.0017452,
          0.0016768,
          0.001608,
          0.0015389,
          0.0014695,
          0.0013997,
          0.0013295,
          0.0012589,
          0.0011879,
          0.0011164,
          0.0010443,
          0.00097176,
          0.00089856,
          0.0008247,
          0.00075009,
          0.00067465,
          0.00059825,
          0.00052075,
          0.00044194,
          0.00036153,
          0.00027906,
          0.00019374,
          0.00010382,
          0
         ],
         "yaxis": "y2"
        }
       ],
       "layout": {
        "hovermode": "x unified",
        "legend": {
         "x": 1.15,
         "xanchor": "right",
         "y": 1.15,
         "yanchor": "top"
        },
        "template": {
         "data": {
          "bar": [
           {
            "error_x": {
             "color": "#2a3f5f"
            },
            "error_y": {
             "color": "#2a3f5f"
            },
            "marker": {
             "line": {
              "color": "#E5ECF6",
              "width": 0.5
             },
             "pattern": {
              "fillmode": "overlay",
              "size": 10,
              "solidity": 0.2
             }
            },
            "type": "bar"
           }
          ],
          "barpolar": [
           {
            "marker": {
             "line": {
              "color": "#E5ECF6",
              "width": 0.5
             },
             "pattern": {
              "fillmode": "overlay",
              "size": 10,
              "solidity": 0.2
             }
            },
            "type": "barpolar"
           }
          ],
          "carpet": [
           {
            "aaxis": {
             "endlinecolor": "#2a3f5f",
             "gridcolor": "white",
             "linecolor": "white",
             "minorgridcolor": "white",
             "startlinecolor": "#2a3f5f"
            },
            "baxis": {
             "endlinecolor": "#2a3f5f",
             "gridcolor": "white",
             "linecolor": "white",
             "minorgridcolor": "white",
             "startlinecolor": "#2a3f5f"
            },
            "type": "carpet"
           }
          ],
          "choropleth": [
           {
            "colorbar": {
             "outlinewidth": 0,
             "ticks": ""
            },
            "type": "choropleth"
           }
          ],
          "contour": [
           {
            "colorbar": {
             "outlinewidth": 0,
             "ticks": ""
            },
            "colorscale": [
             [
              0,
              "#0d0887"
             ],
             [
              0.1111111111111111,
              "#46039f"
             ],
             [
              0.2222222222222222,
              "#7201a8"
             ],
             [
              0.3333333333333333,
              "#9c179e"
             ],
             [
              0.4444444444444444,
              "#bd3786"
             ],
             [
              0.5555555555555556,
              "#d8576b"
             ],
             [
              0.6666666666666666,
              "#ed7953"
             ],
             [
              0.7777777777777778,
              "#fb9f3a"
             ],
             [
              0.8888888888888888,
              "#fdca26"
             ],
             [
              1,
              "#f0f921"
             ]
            ],
            "type": "contour"
           }
          ],
          "contourcarpet": [
           {
            "colorbar": {
             "outlinewidth": 0,
             "ticks": ""
            },
            "type": "contourcarpet"
           }
          ],
          "heatmap": [
           {
            "colorbar": {
             "outlinewidth": 0,
             "ticks": ""
            },
            "colorscale": [
             [
              0,
              "#0d0887"
             ],
             [
              0.1111111111111111,
              "#46039f"
             ],
             [
              0.2222222222222222,
              "#7201a8"
             ],
             [
              0.3333333333333333,
              "#9c179e"
             ],
             [
              0.4444444444444444,
              "#bd3786"
             ],
             [
              0.5555555555555556,
              "#d8576b"
             ],
             [
              0.6666666666666666,
              "#ed7953"
             ],
             [
              0.7777777777777778,
              "#fb9f3a"
             ],
             [
              0.8888888888888888,
              "#fdca26"
             ],
             [
              1,
              "#f0f921"
             ]
            ],
            "type": "heatmap"
           }
          ],
          "histogram": [
           {
            "marker": {
             "pattern": {
              "fillmode": "overlay",
              "size": 10,
              "solidity": 0.2
             }
            },
            "type": "histogram"
           }
          ],
          "histogram2d": [
           {
            "colorbar": {
             "outlinewidth": 0,
             "ticks": ""
            },
            "colorscale": [
             [
              0,
              "#0d0887"
             ],
             [
              0.1111111111111111,
              "#46039f"
             ],
             [
              0.2222222222222222,
              "#7201a8"
             ],
             [
              0.3333333333333333,
              "#9c179e"
             ],
             [
              0.4444444444444444,
              "#bd3786"
             ],
             [
              0.5555555555555556,
              "#d8576b"
             ],
             [
              0.6666666666666666,
              "#ed7953"
             ],
             [
              0.7777777777777778,
              "#fb9f3a"
             ],
             [
              0.8888888888888888,
              "#fdca26"
             ],
             [
              1,
              "#f0f921"
             ]
            ],
            "type": "histogram2d"
           }
          ],
          "histogram2dcontour": [
           {
            "colorbar": {
             "outlinewidth": 0,
             "ticks": ""
            },
            "colorscale": [
             [
              0,
              "#0d0887"
             ],
             [
              0.1111111111111111,
              "#46039f"
             ],
             [
              0.2222222222222222,
              "#7201a8"
             ],
             [
              0.3333333333333333,
              "#9c179e"
             ],
             [
              0.4444444444444444,
              "#bd3786"
             ],
             [
              0.5555555555555556,
              "#d8576b"
             ],
             [
              0.6666666666666666,
              "#ed7953"
             ],
             [
              0.7777777777777778,
              "#fb9f3a"
             ],
             [
              0.8888888888888888,
              "#fdca26"
             ],
             [
              1,
              "#f0f921"
             ]
            ],
            "type": "histogram2dcontour"
           }
          ],
          "mesh3d": [
           {
            "colorbar": {
             "outlinewidth": 0,
             "ticks": ""
            },
            "type": "mesh3d"
           }
          ],
          "parcoords": [
           {
            "line": {
             "colorbar": {
              "outlinewidth": 0,
              "ticks": ""
             }
            },
            "type": "parcoords"
           }
          ],
          "pie": [
           {
            "automargin": true,
            "type": "pie"
           }
          ],
          "scatter": [
           {
            "fillpattern": {
             "fillmode": "overlay",
             "size": 10,
             "solidity": 0.2
            },
            "type": "scatter"
           }
          ],
          "scatter3d": [
           {
            "line": {
             "colorbar": {
              "outlinewidth": 0,
              "ticks": ""
             }
            },
            "marker": {
             "colorbar": {
              "outlinewidth": 0,
              "ticks": ""
             }
            },
            "type": "scatter3d"
           }
          ],
          "scattercarpet": [
           {
            "marker": {
             "colorbar": {
              "outlinewidth": 0,
              "ticks": ""
             }
            },
            "type": "scattercarpet"
           }
          ],
          "scattergeo": [
           {
            "marker": {
             "colorbar": {
              "outlinewidth": 0,
              "ticks": ""
             }
            },
            "type": "scattergeo"
           }
          ],
          "scattergl": [
           {
            "marker": {
             "colorbar": {
              "outlinewidth": 0,
              "ticks": ""
             }
            },
            "type": "scattergl"
           }
          ],
          "scattermap": [
           {
            "marker": {
             "colorbar": {
              "outlinewidth": 0,
              "ticks": ""
             }
            },
            "type": "scattermap"
           }
          ],
          "scattermapbox": [
           {
            "marker": {
             "colorbar": {
              "outlinewidth": 0,
              "ticks": ""
             }
            },
            "type": "scattermapbox"
           }
          ],
          "scatterpolar": [
           {
            "marker": {
             "colorbar": {
              "outlinewidth": 0,
              "ticks": ""
             }
            },
            "type": "scatterpolar"
           }
          ],
          "scatterpolargl": [
           {
            "marker": {
             "colorbar": {
              "outlinewidth": 0,
              "ticks": ""
             }
            },
            "type": "scatterpolargl"
           }
          ],
          "scatterternary": [
           {
            "marker": {
             "colorbar": {
              "outlinewidth": 0,
              "ticks": ""
             }
            },
            "type": "scatterternary"
           }
          ],
          "surface": [
           {
            "colorbar": {
             "outlinewidth": 0,
             "ticks": ""
            },
            "colorscale": [
             [
              0,
              "#0d0887"
             ],
             [
              0.1111111111111111,
              "#46039f"
             ],
             [
              0.2222222222222222,
              "#7201a8"
             ],
             [
              0.3333333333333333,
              "#9c179e"
             ],
             [
              0.4444444444444444,
              "#bd3786"
             ],
             [
              0.5555555555555556,
              "#d8576b"
             ],
             [
              0.6666666666666666,
              "#ed7953"
             ],
             [
              0.7777777777777778,
              "#fb9f3a"
             ],
             [
              0.8888888888888888,
              "#fdca26"
             ],
             [
              1,
              "#f0f921"
             ]
            ],
            "type": "surface"
           }
          ],
          "table": [
           {
            "cells": {
             "fill": {
              "color": "#EBF0F8"
             },
             "line": {
              "color": "white"
             }
            },
            "header": {
             "fill": {
              "color": "#C8D4E3"
             },
             "line": {
              "color": "white"
             }
            },
            "type": "table"
           }
          ]
         },
         "layout": {
          "annotationdefaults": {
           "arrowcolor": "#2a3f5f",
           "arrowhead": 0,
           "arrowwidth": 1
          },
          "autotypenumbers": "strict",
          "coloraxis": {
           "colorbar": {
            "outlinewidth": 0,
            "ticks": ""
           }
          },
          "colorscale": {
           "diverging": [
            [
             0,
             "#8e0152"
            ],
            [
             0.1,
             "#c51b7d"
            ],
            [
             0.2,
             "#de77ae"
            ],
            [
             0.3,
             "#f1b6da"
            ],
            [
             0.4,
             "#fde0ef"
            ],
            [
             0.5,
             "#f7f7f7"
            ],
            [
             0.6,
             "#e6f5d0"
            ],
            [
             0.7,
             "#b8e186"
            ],
            [
             0.8,
             "#7fbc41"
            ],
            [
             0.9,
             "#4d9221"
            ],
            [
             1,
             "#276419"
            ]
           ],
           "sequential": [
            [
             0,
             "#0d0887"
            ],
            [
             0.1111111111111111,
             "#46039f"
            ],
            [
             0.2222222222222222,
             "#7201a8"
            ],
            [
             0.3333333333333333,
             "#9c179e"
            ],
            [
             0.4444444444444444,
             "#bd3786"
            ],
            [
             0.5555555555555556,
             "#d8576b"
            ],
            [
             0.6666666666666666,
             "#ed7953"
            ],
            [
             0.7777777777777778,
             "#fb9f3a"
            ],
            [
             0.8888888888888888,
             "#fdca26"
            ],
            [
             1,
             "#f0f921"
            ]
           ],
           "sequentialminus": [
            [
             0,
             "#0d0887"
            ],
            [
             0.1111111111111111,
             "#46039f"
            ],
            [
             0.2222222222222222,
             "#7201a8"
            ],
            [
             0.3333333333333333,
             "#9c179e"
            ],
            [
             0.4444444444444444,
             "#bd3786"
            ],
            [
             0.5555555555555556,
             "#d8576b"
            ],
            [
             0.6666666666666666,
             "#ed7953"
            ],
            [
             0.7777777777777778,
             "#fb9f3a"
            ],
            [
             0.8888888888888888,
             "#fdca26"
            ],
            [
             1,
             "#f0f921"
            ]
           ]
          },
          "colorway": [
           "#636efa",
           "#EF553B",
           "#00cc96",
           "#ab63fa",
           "#FFA15A",
           "#19d3f3",
           "#FF6692",
           "#B6E880",
           "#FF97FF",
           "#FECB52"
          ],
          "font": {
           "color": "#2a3f5f"
          },
          "geo": {
           "bgcolor": "white",
           "lakecolor": "white",
           "landcolor": "#E5ECF6",
           "showlakes": true,
           "showland": true,
           "subunitcolor": "white"
          },
          "hoverlabel": {
           "align": "left"
          },
          "hovermode": "closest",
          "mapbox": {
           "style": "light"
          },
          "paper_bgcolor": "white",
          "plot_bgcolor": "#E5ECF6",
          "polar": {
           "angularaxis": {
            "gridcolor": "white",
            "linecolor": "white",
            "ticks": ""
           },
           "bgcolor": "#E5ECF6",
           "radialaxis": {
            "gridcolor": "white",
            "linecolor": "white",
            "ticks": ""
           }
          },
          "scene": {
           "xaxis": {
            "backgroundcolor": "#E5ECF6",
            "gridcolor": "white",
            "gridwidth": 2,
            "linecolor": "white",
            "showbackground": true,
            "ticks": "",
            "zerolinecolor": "white"
           },
           "yaxis": {
            "backgroundcolor": "#E5ECF6",
            "gridcolor": "white",
            "gridwidth": 2,
            "linecolor": "white",
            "showbackground": true,
            "ticks": "",
            "zerolinecolor": "white"
           },
           "zaxis": {
            "backgroundcolor": "#E5ECF6",
            "gridcolor": "white",
            "gridwidth": 2,
            "linecolor": "white",
            "showbackground": true,
            "ticks": "",
            "zerolinecolor": "white"
           }
          },
          "shapedefaults": {
           "line": {
            "color": "#2a3f5f"
           }
          },
          "ternary": {
           "aaxis": {
            "gridcolor": "white",
            "linecolor": "white",
            "ticks": ""
           },
           "baxis": {
            "gridcolor": "white",
            "linecolor": "white",
            "ticks": ""
           },
           "bgcolor": "#E5ECF6",
           "caxis": {
            "gridcolor": "white",
            "linecolor": "white",
            "ticks": ""
           }
          },
          "title": {
           "x": 0.05
          },
          "xaxis": {
           "automargin": true,
           "gridcolor": "white",
           "linecolor": "white",
           "ticks": "",
           "title": {
            "standoff": 15
           },
           "zerolinecolor": "white",
           "zerolinewidth": 2
          },
          "yaxis": {
           "automargin": true,
           "gridcolor": "white",
           "linecolor": "white",
           "ticks": "",
           "title": {
            "standoff": 15
           },
           "zerolinecolor": "white",
           "zerolinewidth": 2
          }
         }
        },
        "title": {
         "text": "Validation Performance and Training Learning Rate vs Epoch"
        },
        "xaxis": {
         "anchor": "y",
         "domain": [
          0,
          0.94
         ],
         "range": [
          0,
          160000
         ],
         "title": {
          "text": "Epoch"
         }
        },
        "yaxis": {
         "anchor": "x",
         "domain": [
          0,
          1
         ],
         "dtick": 10,
         "range": [
          0,
          100
         ],
         "title": {
          "text": "Performance (%)"
         }
        },
        "yaxis2": {
         "anchor": "x",
         "overlaying": "y",
         "side": "right",
         "title": {
          "text": "Learning Rate"
         }
        }
       }
      }
     },
     "metadata": {},
     "output_type": "display_data"
    }
   ],
   "source": [
    "# Ablation 25 - SEBNet BaselinePDBASHead SGD, Pretrained, Batch Size 6, OHEM Cross Entropy - 79.99 Best mIoU\n",
    "log_file_path = '/home/robert.breslin/alessandro/paper_2/mmsegmentation/work_dirs/sebnet_baseline-p-d-bas-head_1xb6_cityscapes/20250911_103625/20250911_103625.log'\n",
    "epochs, mIoU, mAcc, lrs = parse_log_file(log_file_path)\n",
    "plot_accuracies_and_lr_interactive(epochs, mAcc, mIoU, lrs, [0,160000])"
   ]
  },
  {
   "cell_type": "code",
   "execution_count": 28,
   "id": "f785e942",
   "metadata": {},
   "outputs": [
    {
     "data": {
      "application/vnd.plotly.v1+json": {
       "config": {
        "plotlyServerURL": "https://plot.ly"
       },
       "data": [
        {
         "line": {
          "color": "blue"
         },
         "name": "Mean Accuracy",
         "type": "scatter",
         "x": [
          1000,
          2000,
          3000,
          4000,
          5000,
          6000,
          7000,
          8000,
          9000,
          10000,
          11000,
          12000,
          13000,
          14000,
          15000,
          16000,
          17000,
          18000,
          19000,
          20000,
          21000,
          22000,
          23000,
          24000,
          25000,
          26000,
          27000,
          28000,
          29000,
          30000,
          31000,
          32000,
          33000,
          34000,
          35000,
          36000,
          37000,
          38000,
          39000,
          40000,
          41000,
          42000,
          43000,
          44000,
          45000,
          46000,
          47000,
          48000,
          49000,
          50000,
          51000,
          52000,
          53000,
          54000,
          55000,
          56000,
          57000,
          58000,
          59000,
          60000,
          61000,
          62000,
          63000,
          64000,
          65000,
          66000,
          67000,
          68000,
          69000,
          70000,
          71000,
          72000,
          73000,
          74000,
          75000,
          76000,
          77000,
          78000,
          79000,
          80000,
          81000,
          82000,
          83000,
          84000,
          85000,
          86000,
          87000,
          88000,
          89000,
          90000,
          91000,
          92000,
          93000,
          94000,
          95000,
          96000,
          97000,
          98000,
          99000,
          100000,
          101000,
          102000,
          103000,
          104000,
          105000,
          106000,
          107000,
          108000,
          109000,
          110000,
          111000,
          112000,
          113000,
          114000,
          115000,
          116000,
          117000,
          118000,
          119000,
          120000,
          121000,
          122000,
          123000,
          124000,
          125000,
          126000,
          127000,
          128000,
          129000,
          130000,
          131000,
          132000,
          133000,
          134000,
          135000,
          136000,
          137000,
          138000,
          139000,
          140000,
          141000,
          142000,
          143000,
          144000,
          145000,
          146000,
          147000,
          148000,
          149000,
          150000,
          151000,
          152000,
          153000,
          154000,
          155000,
          156000,
          157000,
          158000,
          159000,
          160000,
          161000,
          162000,
          163000,
          164000,
          165000,
          166000,
          167000,
          168000,
          169000,
          170000,
          171000,
          172000,
          173000,
          174000,
          175000,
          176000,
          177000,
          178000,
          179000,
          180000,
          181000,
          182000,
          183000,
          184000,
          185000,
          186000,
          187000,
          188000,
          189000,
          190000,
          191000,
          192000,
          193000,
          194000,
          195000,
          196000,
          197000,
          198000,
          199000,
          200000,
          201000,
          202000,
          203000,
          204000,
          205000,
          206000,
          207000,
          208000,
          209000,
          210000,
          211000,
          212000,
          213000,
          214000,
          215000,
          216000,
          217000,
          218000,
          219000,
          220000,
          221000,
          222000,
          223000,
          224000,
          225000,
          226000,
          227000,
          228000,
          229000,
          230000,
          231000,
          232000,
          233000,
          234000,
          235000,
          236000,
          237000,
          238000,
          239000,
          240000,
          240050
         ],
         "xaxis": "x",
         "y": [
          29,
          36.18,
          39.63,
          41.55,
          50.06,
          54.36,
          56.57,
          56.92,
          56.16,
          61.99,
          61.64,
          59.87,
          66.91,
          61.13,
          66.51,
          67.9,
          65.32,
          63.88,
          68.89,
          66.47,
          66.24,
          66.24,
          70.89,
          70.4,
          74,
          72.66,
          74.6,
          75.3,
          69.3,
          74.56,
          75.27,
          67.48,
          77.97,
          74.87,
          73.82,
          70.26,
          76.29,
          70.13,
          74.39,
          78.89,
          77.02,
          75.59,
          70.92,
          74.12,
          78.27,
          78.33,
          78.8,
          72.87,
          74.89,
          77.74,
          78.23,
          79.74,
          77.57,
          76.32,
          73.67,
          78.46,
          80.35,
          77.97,
          75.32,
          76.92,
          77.35,
          79.28,
          76.99,
          79.25,
          76.9,
          78.01,
          79.81,
          71.2,
          76.5,
          69.63,
          73.34,
          78.08,
          77.45,
          81.9,
          79.67,
          82.21,
          78.37,
          75.04,
          80.35,
          80.5,
          78.15,
          81.23,
          81.63,
          83.19,
          75.98,
          80.12,
          80.08,
          73.39,
          76.9,
          80.6,
          76.83,
          80.17,
          81.51,
          77.42,
          81.18,
          83.2,
          81.88,
          81.77,
          82.89,
          81.84,
          80.68,
          82.81,
          80.19,
          77.23,
          80.19,
          76.92,
          80.44,
          79.57,
          79.38,
          80.44,
          77,
          81.66,
          83.49,
          78.96,
          83.16,
          77.44,
          81.5,
          79.11,
          79.86,
          83.93,
          83.93,
          83.26,
          84.16,
          82.24,
          85.31,
          84.95,
          81.67,
          80.43,
          81.2,
          75.93,
          82.79,
          81.74,
          84.01,
          68.92,
          83.44,
          83.77,
          80.54,
          83.25,
          78.43,
          82.31,
          84.11,
          80.23,
          86.04,
          81.97,
          81.11,
          84.82,
          81.03,
          79.61,
          83.77,
          81.22,
          85.96,
          82.25,
          81.4,
          82.76,
          82.06,
          84.73,
          83.29,
          83.47,
          84.19,
          84.57,
          81.16,
          80.36,
          77.5,
          83.98,
          82.27,
          82.58,
          84.65,
          85.55,
          80.85,
          85.46,
          84.94,
          84.1,
          83.58,
          83.85,
          85.63,
          76.61,
          84.38,
          84.5,
          86.65,
          83.38,
          85.15,
          83.4,
          83.82,
          84.81,
          86.13,
          50.58,
          83.17,
          85.43,
          86.16,
          85.97,
          86.8,
          80.36,
          84.94,
          87.32,
          86.93,
          86.42,
          86.78,
          85.09,
          85.36,
          85.37,
          84.35,
          84.98,
          85.06,
          86.06,
          86.96,
          84.81,
          85.56,
          87.03,
          86.94,
          81.6,
          86.37,
          86.72,
          87.26,
          86.23,
          85.64,
          85.89,
          87.1,
          86.84,
          87.4,
          85.83,
          87.15,
          85.98,
          86.38,
          87.35,
          87.24,
          86.18,
          86.7,
          87.19,
          87.54,
          87.36,
          86.99,
          88.07,
          88.19,
          87.81,
          88.06,
          86.96,
          87.56,
          87.85,
          87.46,
          87.57,
          87.66
         ],
         "yaxis": "y"
        },
        {
         "line": {
          "color": "orange"
         },
         "name": "Mean IoU",
         "type": "scatter",
         "x": [
          1000,
          2000,
          3000,
          4000,
          5000,
          6000,
          7000,
          8000,
          9000,
          10000,
          11000,
          12000,
          13000,
          14000,
          15000,
          16000,
          17000,
          18000,
          19000,
          20000,
          21000,
          22000,
          23000,
          24000,
          25000,
          26000,
          27000,
          28000,
          29000,
          30000,
          31000,
          32000,
          33000,
          34000,
          35000,
          36000,
          37000,
          38000,
          39000,
          40000,
          41000,
          42000,
          43000,
          44000,
          45000,
          46000,
          47000,
          48000,
          49000,
          50000,
          51000,
          52000,
          53000,
          54000,
          55000,
          56000,
          57000,
          58000,
          59000,
          60000,
          61000,
          62000,
          63000,
          64000,
          65000,
          66000,
          67000,
          68000,
          69000,
          70000,
          71000,
          72000,
          73000,
          74000,
          75000,
          76000,
          77000,
          78000,
          79000,
          80000,
          81000,
          82000,
          83000,
          84000,
          85000,
          86000,
          87000,
          88000,
          89000,
          90000,
          91000,
          92000,
          93000,
          94000,
          95000,
          96000,
          97000,
          98000,
          99000,
          100000,
          101000,
          102000,
          103000,
          104000,
          105000,
          106000,
          107000,
          108000,
          109000,
          110000,
          111000,
          112000,
          113000,
          114000,
          115000,
          116000,
          117000,
          118000,
          119000,
          120000,
          121000,
          122000,
          123000,
          124000,
          125000,
          126000,
          127000,
          128000,
          129000,
          130000,
          131000,
          132000,
          133000,
          134000,
          135000,
          136000,
          137000,
          138000,
          139000,
          140000,
          141000,
          142000,
          143000,
          144000,
          145000,
          146000,
          147000,
          148000,
          149000,
          150000,
          151000,
          152000,
          153000,
          154000,
          155000,
          156000,
          157000,
          158000,
          159000,
          160000,
          161000,
          162000,
          163000,
          164000,
          165000,
          166000,
          167000,
          168000,
          169000,
          170000,
          171000,
          172000,
          173000,
          174000,
          175000,
          176000,
          177000,
          178000,
          179000,
          180000,
          181000,
          182000,
          183000,
          184000,
          185000,
          186000,
          187000,
          188000,
          189000,
          190000,
          191000,
          192000,
          193000,
          194000,
          195000,
          196000,
          197000,
          198000,
          199000,
          200000,
          201000,
          202000,
          203000,
          204000,
          205000,
          206000,
          207000,
          208000,
          209000,
          210000,
          211000,
          212000,
          213000,
          214000,
          215000,
          216000,
          217000,
          218000,
          219000,
          220000,
          221000,
          222000,
          223000,
          224000,
          225000,
          226000,
          227000,
          228000,
          229000,
          230000,
          231000,
          232000,
          233000,
          234000,
          235000,
          236000,
          237000,
          238000,
          239000,
          240000,
          240050
         ],
         "xaxis": "x",
         "y": [
          22.56,
          30.29,
          33.35,
          33.58,
          40.46,
          41.85,
          44.04,
          46.92,
          47.74,
          50.71,
          51.75,
          50.66,
          56.08,
          52.81,
          56.63,
          54.24,
          56.28,
          55.38,
          58.53,
          55.23,
          56.68,
          55.67,
          59.06,
          58.05,
          63.1,
          60.68,
          61.03,
          63.6,
          59.82,
          62.62,
          63.08,
          58.25,
          65.92,
          65.75,
          64.52,
          61.54,
          64.53,
          61.54,
          63.78,
          67.48,
          66.47,
          65.64,
          63.61,
          64.07,
          63.8,
          67.48,
          68.12,
          64.23,
          65.19,
          63.62,
          67.99,
          67.17,
          68.72,
          67.21,
          62.08,
          67.52,
          68.78,
          67.23,
          64.43,
          67.72,
          66.59,
          69.52,
          67.89,
          67.44,
          67.66,
          67.53,
          69.95,
          60.39,
          67.35,
          56.06,
          62.46,
          68.3,
          63.92,
          72.15,
          67.37,
          70.94,
          69.05,
          65.87,
          70.73,
          70.72,
          65.21,
          64.01,
          71.3,
          72.59,
          64.65,
          70.76,
          70.26,
          64.54,
          63.92,
          72.05,
          65.1,
          70.73,
          71.99,
          64.81,
          71.05,
          72.43,
          71.4,
          72.11,
          73.6,
          72.18,
          70.77,
          70.18,
          71.55,
          66.91,
          71.31,
          64.1,
          70.58,
          71.09,
          70.58,
          70.84,
          66.21,
          72.64,
          72.86,
          64.89,
          72.13,
          68.6,
          71.74,
          70.41,
          69.7,
          70.16,
          74.43,
          74.59,
          74.57,
          72.85,
          74.79,
          75.24,
          71.31,
          71.93,
          69.46,
          66.32,
          72.63,
          68.56,
          76,
          60.22,
          72.2,
          72.64,
          69.83,
          71,
          69.52,
          71.33,
          73.56,
          67.52,
          75.53,
          73.71,
          70.38,
          76.04,
          72.42,
          71.66,
          73.47,
          73.42,
          73.87,
          73.59,
          72.08,
          74.03,
          71.01,
          74.74,
          75.11,
          74.73,
          74.86,
          75.62,
          72.55,
          71.21,
          68.29,
          75.24,
          73.34,
          73.92,
          74.47,
          76.34,
          72.66,
          77.11,
          75.1,
          75.78,
          74.7,
          75.47,
          77.31,
          61.68,
          76.48,
          75.57,
          77.96,
          72.57,
          76.23,
          74.5,
          73.2,
          75.73,
          77.39,
          42.17,
          73.32,
          76.56,
          76.62,
          76.91,
          78.31,
          71.7,
          77.16,
          77.6,
          78.25,
          77.41,
          77.49,
          75.73,
          77.66,
          76.63,
          75.79,
          75.96,
          75.72,
          76.33,
          77.41,
          76.61,
          77.2,
          77.84,
          78.73,
          73.07,
          78.41,
          78.49,
          77.4,
          78.31,
          77.56,
          77.7,
          79.05,
          78.8,
          79.31,
          77.52,
          78.34,
          78.26,
          78.54,
          79.71,
          79.1,
          79.09,
          79.12,
          79.91,
          79.3,
          79.44,
          79.64,
          80.43,
          80.66,
          80.24,
          80.47,
          79.66,
          80.18,
          80.38,
          80.22,
          80.41,
          80.46
         ],
         "yaxis": "y"
        },
        {
         "line": {
          "color": "green"
         },
         "name": "Learning Rate",
         "type": "scatter",
         "x": [
          1000,
          2000,
          3000,
          4000,
          5000,
          6000,
          7000,
          8000,
          9000,
          10000,
          11000,
          12000,
          13000,
          14000,
          15000,
          16000,
          17000,
          18000,
          19000,
          20000,
          21000,
          22000,
          23000,
          24000,
          25000,
          26000,
          27000,
          28000,
          29000,
          30000,
          31000,
          32000,
          33000,
          34000,
          35000,
          36000,
          37000,
          38000,
          39000,
          40000,
          41000,
          42000,
          43000,
          44000,
          45000,
          46000,
          47000,
          48000,
          49000,
          50000,
          51000,
          52000,
          53000,
          54000,
          55000,
          56000,
          57000,
          58000,
          59000,
          60000,
          61000,
          62000,
          63000,
          64000,
          65000,
          66000,
          67000,
          68000,
          69000,
          70000,
          71000,
          72000,
          73000,
          74000,
          75000,
          76000,
          77000,
          78000,
          79000,
          80000,
          81000,
          82000,
          83000,
          84000,
          85000,
          86000,
          87000,
          88000,
          89000,
          90000,
          91000,
          92000,
          93000,
          94000,
          95000,
          96000,
          97000,
          98000,
          99000,
          100000,
          101000,
          102000,
          103000,
          104000,
          105000,
          106000,
          107000,
          108000,
          109000,
          110000,
          111000,
          112000,
          113000,
          114000,
          115000,
          116000,
          117000,
          118000,
          119000,
          120000,
          121000,
          122000,
          123000,
          124000,
          125000,
          126000,
          127000,
          128000,
          129000,
          130000,
          131000,
          132000,
          133000,
          134000,
          135000,
          136000,
          137000,
          138000,
          139000,
          140000,
          141000,
          142000,
          143000,
          144000,
          145000,
          146000,
          147000,
          148000,
          149000,
          150000,
          151000,
          152000,
          153000,
          154000,
          155000,
          156000,
          157000,
          158000,
          159000,
          160000,
          161000,
          162000,
          163000,
          164000,
          165000,
          166000,
          167000,
          168000,
          169000,
          170000,
          171000,
          172000,
          173000,
          174000,
          175000,
          176000,
          177000,
          178000,
          179000,
          180000,
          181000,
          182000,
          183000,
          184000,
          185000,
          186000,
          187000,
          188000,
          189000,
          190000,
          191000,
          192000,
          193000,
          194000,
          195000,
          196000,
          197000,
          198000,
          199000,
          200000,
          201000,
          202000,
          203000,
          204000,
          205000,
          206000,
          207000,
          208000,
          209000,
          210000,
          211000,
          212000,
          213000,
          214000,
          215000,
          216000,
          217000,
          218000,
          219000,
          220000,
          221000,
          222000,
          223000,
          224000,
          225000,
          226000,
          227000,
          228000,
          229000,
          230000,
          231000,
          232000,
          233000,
          234000,
          235000,
          236000,
          237000,
          238000,
          239000,
          240000,
          240050
         ],
         "xaxis": "x",
         "y": [
          0.0099625,
          0.009925,
          0.0098875,
          0.00985,
          0.0098124,
          0.0097748,
          0.0097372,
          0.0096996,
          0.009662,
          0.0096243,
          0.0095867,
          0.009549,
          0.0095113,
          0.0094736,
          0.0094359,
          0.0093981,
          0.0093604,
          0.0093226,
          0.0092848,
          0.009247,
          0.0092092,
          0.0091713,
          0.0091335,
          0.0090956,
          0.0090577,
          0.0090198,
          0.0089819,
          0.0089439,
          0.0089059,
          0.008868,
          0.00883,
          0.0087919,
          0.0087539,
          0.0087158,
          0.0086778,
          0.0086397,
          0.0086016,
          0.0085634,
          0.0085253,
          0.0084871,
          0.0084489,
          0.0084107,
          0.0083725,
          0.0083342,
          0.008296,
          0.0082577,
          0.0082194,
          0.008181,
          0.0081427,
          0.0081043,
          0.0080659,
          0.0080275,
          0.0079891,
          0.0079507,
          0.0079122,
          0.0078737,
          0.0078352,
          0.0077967,
          0.0077581,
          0.0077195,
          0.0076809,
          0.0076423,
          0.0076037,
          0.007565,
          0.0075264,
          0.0074876,
          0.0074489,
          0.0074102,
          0.0073714,
          0.0073326,
          0.0072938,
          0.007255,
          0.0072161,
          0.0071772,
          0.0071383,
          0.0070994,
          0.0070604,
          0.0070214,
          0.0069824,
          0.0069434,
          0.0069043,
          0.0068653,
          0.0068262,
          0.006787,
          0.0067479,
          0.0067087,
          0.0066695,
          0.0066303,
          0.006591,
          0.0065517,
          0.0065124,
          0.0064731,
          0.0064337,
          0.0063943,
          0.0063549,
          0.0063155,
          0.006276,
          0.0062365,
          0.006197,
          0.0061575,
          0.0061179,
          0.0060783,
          0.0060386,
          0.005999,
          0.0059593,
          0.0059195,
          0.0058798,
          0.00584,
          0.0058002,
          0.0057603,
          0.0057205,
          0.0056806,
          0.0056406,
          0.0056007,
          0.0055607,
          0.0055206,
          0.0054806,
          0.0054405,
          0.0054003,
          0.0053602,
          0.00532,
          0.0052797,
          0.0052395,
          0.0051992,
          0.0051588,
          0.0051185,
          0.0050781,
          0.0050376,
          0.0049972,
          0.0049566,
          0.0049161,
          0.0048755,
          0.0048349,
          0.0047942,
          0.0047535,
          0.0047128,
          0.004672,
          0.0046312,
          0.0045903,
          0.0045494,
          0.0045085,
          0.0044675,
          0.0044265,
          0.0043854,
          0.0043443,
          0.0043032,
          0.004262,
          0.0042207,
          0.0041795,
          0.0041381,
          0.0040967,
          0.0040553,
          0.0040139,
          0.0039723,
          0.0039308,
          0.0038892,
          0.0038475,
          0.0038058,
          0.003764,
          0.0037222,
          0.0036803,
          0.0036384,
          0.0035964,
          0.0035544,
          0.0035123,
          0.0034702,
          0.003428,
          0.0033857,
          0.0033434,
          0.0033011,
          0.0032586,
          0.0032161,
          0.0031736,
          0.0031309,
          0.0030883,
          0.0030455,
          0.0030027,
          0.0029598,
          0.0029168,
          0.0028738,
          0.0028307,
          0.0027876,
          0.0027443,
          0.002701,
          0.0026576,
          0.0026141,
          0.0025706,
          0.0025269,
          0.0024832,
          0.0024394,
          0.0023955,
          0.0023515,
          0.0023074,
          0.0022633,
          0.002219,
          0.0021746,
          0.0021302,
          0.0020856,
          0.0020409,
          0.0019961,
          0.0019512,
          0.0019062,
          0.0018611,
          0.0018158,
          0.0017704,
          0.0017249,
          0.0016793,
          0.0016335,
          0.0015876,
          0.0015415,
          0.0014953,
          0.0014489,
          0.0014024,
          0.0013556,
          0.0013087,
          0.0012616,
          0.0012144,
          0.0011669,
          0.0011192,
          0.0010712,
          0.0010231,
          0.00097463,
          0.00092593,
          0.00087695,
          0.00082766,
          0.00077805,
          0.00072807,
          0.00067772,
          0.00062694,
          0.00057571,
          0.00052396,
          0.00047163,
          0.00041865,
          0.00036491,
          0.00031028,
          0.00025455,
          0.00019741,
          0.00013834,
          0.0000762,
          0.0000060711,
          0.000001546
         ],
         "yaxis": "y2"
        }
       ],
       "layout": {
        "hovermode": "x unified",
        "legend": {
         "x": 1.15,
         "xanchor": "right",
         "y": 1.15,
         "yanchor": "top"
        },
        "template": {
         "data": {
          "bar": [
           {
            "error_x": {
             "color": "#2a3f5f"
            },
            "error_y": {
             "color": "#2a3f5f"
            },
            "marker": {
             "line": {
              "color": "#E5ECF6",
              "width": 0.5
             },
             "pattern": {
              "fillmode": "overlay",
              "size": 10,
              "solidity": 0.2
             }
            },
            "type": "bar"
           }
          ],
          "barpolar": [
           {
            "marker": {
             "line": {
              "color": "#E5ECF6",
              "width": 0.5
             },
             "pattern": {
              "fillmode": "overlay",
              "size": 10,
              "solidity": 0.2
             }
            },
            "type": "barpolar"
           }
          ],
          "carpet": [
           {
            "aaxis": {
             "endlinecolor": "#2a3f5f",
             "gridcolor": "white",
             "linecolor": "white",
             "minorgridcolor": "white",
             "startlinecolor": "#2a3f5f"
            },
            "baxis": {
             "endlinecolor": "#2a3f5f",
             "gridcolor": "white",
             "linecolor": "white",
             "minorgridcolor": "white",
             "startlinecolor": "#2a3f5f"
            },
            "type": "carpet"
           }
          ],
          "choropleth": [
           {
            "colorbar": {
             "outlinewidth": 0,
             "ticks": ""
            },
            "type": "choropleth"
           }
          ],
          "contour": [
           {
            "colorbar": {
             "outlinewidth": 0,
             "ticks": ""
            },
            "colorscale": [
             [
              0,
              "#0d0887"
             ],
             [
              0.1111111111111111,
              "#46039f"
             ],
             [
              0.2222222222222222,
              "#7201a8"
             ],
             [
              0.3333333333333333,
              "#9c179e"
             ],
             [
              0.4444444444444444,
              "#bd3786"
             ],
             [
              0.5555555555555556,
              "#d8576b"
             ],
             [
              0.6666666666666666,
              "#ed7953"
             ],
             [
              0.7777777777777778,
              "#fb9f3a"
             ],
             [
              0.8888888888888888,
              "#fdca26"
             ],
             [
              1,
              "#f0f921"
             ]
            ],
            "type": "contour"
           }
          ],
          "contourcarpet": [
           {
            "colorbar": {
             "outlinewidth": 0,
             "ticks": ""
            },
            "type": "contourcarpet"
           }
          ],
          "heatmap": [
           {
            "colorbar": {
             "outlinewidth": 0,
             "ticks": ""
            },
            "colorscale": [
             [
              0,
              "#0d0887"
             ],
             [
              0.1111111111111111,
              "#46039f"
             ],
             [
              0.2222222222222222,
              "#7201a8"
             ],
             [
              0.3333333333333333,
              "#9c179e"
             ],
             [
              0.4444444444444444,
              "#bd3786"
             ],
             [
              0.5555555555555556,
              "#d8576b"
             ],
             [
              0.6666666666666666,
              "#ed7953"
             ],
             [
              0.7777777777777778,
              "#fb9f3a"
             ],
             [
              0.8888888888888888,
              "#fdca26"
             ],
             [
              1,
              "#f0f921"
             ]
            ],
            "type": "heatmap"
           }
          ],
          "histogram": [
           {
            "marker": {
             "pattern": {
              "fillmode": "overlay",
              "size": 10,
              "solidity": 0.2
             }
            },
            "type": "histogram"
           }
          ],
          "histogram2d": [
           {
            "colorbar": {
             "outlinewidth": 0,
             "ticks": ""
            },
            "colorscale": [
             [
              0,
              "#0d0887"
             ],
             [
              0.1111111111111111,
              "#46039f"
             ],
             [
              0.2222222222222222,
              "#7201a8"
             ],
             [
              0.3333333333333333,
              "#9c179e"
             ],
             [
              0.4444444444444444,
              "#bd3786"
             ],
             [
              0.5555555555555556,
              "#d8576b"
             ],
             [
              0.6666666666666666,
              "#ed7953"
             ],
             [
              0.7777777777777778,
              "#fb9f3a"
             ],
             [
              0.8888888888888888,
              "#fdca26"
             ],
             [
              1,
              "#f0f921"
             ]
            ],
            "type": "histogram2d"
           }
          ],
          "histogram2dcontour": [
           {
            "colorbar": {
             "outlinewidth": 0,
             "ticks": ""
            },
            "colorscale": [
             [
              0,
              "#0d0887"
             ],
             [
              0.1111111111111111,
              "#46039f"
             ],
             [
              0.2222222222222222,
              "#7201a8"
             ],
             [
              0.3333333333333333,
              "#9c179e"
             ],
             [
              0.4444444444444444,
              "#bd3786"
             ],
             [
              0.5555555555555556,
              "#d8576b"
             ],
             [
              0.6666666666666666,
              "#ed7953"
             ],
             [
              0.7777777777777778,
              "#fb9f3a"
             ],
             [
              0.8888888888888888,
              "#fdca26"
             ],
             [
              1,
              "#f0f921"
             ]
            ],
            "type": "histogram2dcontour"
           }
          ],
          "mesh3d": [
           {
            "colorbar": {
             "outlinewidth": 0,
             "ticks": ""
            },
            "type": "mesh3d"
           }
          ],
          "parcoords": [
           {
            "line": {
             "colorbar": {
              "outlinewidth": 0,
              "ticks": ""
             }
            },
            "type": "parcoords"
           }
          ],
          "pie": [
           {
            "automargin": true,
            "type": "pie"
           }
          ],
          "scatter": [
           {
            "fillpattern": {
             "fillmode": "overlay",
             "size": 10,
             "solidity": 0.2
            },
            "type": "scatter"
           }
          ],
          "scatter3d": [
           {
            "line": {
             "colorbar": {
              "outlinewidth": 0,
              "ticks": ""
             }
            },
            "marker": {
             "colorbar": {
              "outlinewidth": 0,
              "ticks": ""
             }
            },
            "type": "scatter3d"
           }
          ],
          "scattercarpet": [
           {
            "marker": {
             "colorbar": {
              "outlinewidth": 0,
              "ticks": ""
             }
            },
            "type": "scattercarpet"
           }
          ],
          "scattergeo": [
           {
            "marker": {
             "colorbar": {
              "outlinewidth": 0,
              "ticks": ""
             }
            },
            "type": "scattergeo"
           }
          ],
          "scattergl": [
           {
            "marker": {
             "colorbar": {
              "outlinewidth": 0,
              "ticks": ""
             }
            },
            "type": "scattergl"
           }
          ],
          "scattermap": [
           {
            "marker": {
             "colorbar": {
              "outlinewidth": 0,
              "ticks": ""
             }
            },
            "type": "scattermap"
           }
          ],
          "scattermapbox": [
           {
            "marker": {
             "colorbar": {
              "outlinewidth": 0,
              "ticks": ""
             }
            },
            "type": "scattermapbox"
           }
          ],
          "scatterpolar": [
           {
            "marker": {
             "colorbar": {
              "outlinewidth": 0,
              "ticks": ""
             }
            },
            "type": "scatterpolar"
           }
          ],
          "scatterpolargl": [
           {
            "marker": {
             "colorbar": {
              "outlinewidth": 0,
              "ticks": ""
             }
            },
            "type": "scatterpolargl"
           }
          ],
          "scatterternary": [
           {
            "marker": {
             "colorbar": {
              "outlinewidth": 0,
              "ticks": ""
             }
            },
            "type": "scatterternary"
           }
          ],
          "surface": [
           {
            "colorbar": {
             "outlinewidth": 0,
             "ticks": ""
            },
            "colorscale": [
             [
              0,
              "#0d0887"
             ],
             [
              0.1111111111111111,
              "#46039f"
             ],
             [
              0.2222222222222222,
              "#7201a8"
             ],
             [
              0.3333333333333333,
              "#9c179e"
             ],
             [
              0.4444444444444444,
              "#bd3786"
             ],
             [
              0.5555555555555556,
              "#d8576b"
             ],
             [
              0.6666666666666666,
              "#ed7953"
             ],
             [
              0.7777777777777778,
              "#fb9f3a"
             ],
             [
              0.8888888888888888,
              "#fdca26"
             ],
             [
              1,
              "#f0f921"
             ]
            ],
            "type": "surface"
           }
          ],
          "table": [
           {
            "cells": {
             "fill": {
              "color": "#EBF0F8"
             },
             "line": {
              "color": "white"
             }
            },
            "header": {
             "fill": {
              "color": "#C8D4E3"
             },
             "line": {
              "color": "white"
             }
            },
            "type": "table"
           }
          ]
         },
         "layout": {
          "annotationdefaults": {
           "arrowcolor": "#2a3f5f",
           "arrowhead": 0,
           "arrowwidth": 1
          },
          "autotypenumbers": "strict",
          "coloraxis": {
           "colorbar": {
            "outlinewidth": 0,
            "ticks": ""
           }
          },
          "colorscale": {
           "diverging": [
            [
             0,
             "#8e0152"
            ],
            [
             0.1,
             "#c51b7d"
            ],
            [
             0.2,
             "#de77ae"
            ],
            [
             0.3,
             "#f1b6da"
            ],
            [
             0.4,
             "#fde0ef"
            ],
            [
             0.5,
             "#f7f7f7"
            ],
            [
             0.6,
             "#e6f5d0"
            ],
            [
             0.7,
             "#b8e186"
            ],
            [
             0.8,
             "#7fbc41"
            ],
            [
             0.9,
             "#4d9221"
            ],
            [
             1,
             "#276419"
            ]
           ],
           "sequential": [
            [
             0,
             "#0d0887"
            ],
            [
             0.1111111111111111,
             "#46039f"
            ],
            [
             0.2222222222222222,
             "#7201a8"
            ],
            [
             0.3333333333333333,
             "#9c179e"
            ],
            [
             0.4444444444444444,
             "#bd3786"
            ],
            [
             0.5555555555555556,
             "#d8576b"
            ],
            [
             0.6666666666666666,
             "#ed7953"
            ],
            [
             0.7777777777777778,
             "#fb9f3a"
            ],
            [
             0.8888888888888888,
             "#fdca26"
            ],
            [
             1,
             "#f0f921"
            ]
           ],
           "sequentialminus": [
            [
             0,
             "#0d0887"
            ],
            [
             0.1111111111111111,
             "#46039f"
            ],
            [
             0.2222222222222222,
             "#7201a8"
            ],
            [
             0.3333333333333333,
             "#9c179e"
            ],
            [
             0.4444444444444444,
             "#bd3786"
            ],
            [
             0.5555555555555556,
             "#d8576b"
            ],
            [
             0.6666666666666666,
             "#ed7953"
            ],
            [
             0.7777777777777778,
             "#fb9f3a"
            ],
            [
             0.8888888888888888,
             "#fdca26"
            ],
            [
             1,
             "#f0f921"
            ]
           ]
          },
          "colorway": [
           "#636efa",
           "#EF553B",
           "#00cc96",
           "#ab63fa",
           "#FFA15A",
           "#19d3f3",
           "#FF6692",
           "#B6E880",
           "#FF97FF",
           "#FECB52"
          ],
          "font": {
           "color": "#2a3f5f"
          },
          "geo": {
           "bgcolor": "white",
           "lakecolor": "white",
           "landcolor": "#E5ECF6",
           "showlakes": true,
           "showland": true,
           "subunitcolor": "white"
          },
          "hoverlabel": {
           "align": "left"
          },
          "hovermode": "closest",
          "mapbox": {
           "style": "light"
          },
          "paper_bgcolor": "white",
          "plot_bgcolor": "#E5ECF6",
          "polar": {
           "angularaxis": {
            "gridcolor": "white",
            "linecolor": "white",
            "ticks": ""
           },
           "bgcolor": "#E5ECF6",
           "radialaxis": {
            "gridcolor": "white",
            "linecolor": "white",
            "ticks": ""
           }
          },
          "scene": {
           "xaxis": {
            "backgroundcolor": "#E5ECF6",
            "gridcolor": "white",
            "gridwidth": 2,
            "linecolor": "white",
            "showbackground": true,
            "ticks": "",
            "zerolinecolor": "white"
           },
           "yaxis": {
            "backgroundcolor": "#E5ECF6",
            "gridcolor": "white",
            "gridwidth": 2,
            "linecolor": "white",
            "showbackground": true,
            "ticks": "",
            "zerolinecolor": "white"
           },
           "zaxis": {
            "backgroundcolor": "#E5ECF6",
            "gridcolor": "white",
            "gridwidth": 2,
            "linecolor": "white",
            "showbackground": true,
            "ticks": "",
            "zerolinecolor": "white"
           }
          },
          "shapedefaults": {
           "line": {
            "color": "#2a3f5f"
           }
          },
          "ternary": {
           "aaxis": {
            "gridcolor": "white",
            "linecolor": "white",
            "ticks": ""
           },
           "baxis": {
            "gridcolor": "white",
            "linecolor": "white",
            "ticks": ""
           },
           "bgcolor": "#E5ECF6",
           "caxis": {
            "gridcolor": "white",
            "linecolor": "white",
            "ticks": ""
           }
          },
          "title": {
           "x": 0.05
          },
          "xaxis": {
           "automargin": true,
           "gridcolor": "white",
           "linecolor": "white",
           "ticks": "",
           "title": {
            "standoff": 15
           },
           "zerolinecolor": "white",
           "zerolinewidth": 2
          },
          "yaxis": {
           "automargin": true,
           "gridcolor": "white",
           "linecolor": "white",
           "ticks": "",
           "title": {
            "standoff": 15
           },
           "zerolinecolor": "white",
           "zerolinewidth": 2
          }
         }
        },
        "title": {
         "text": "Validation Performance and Training Learning Rate vs Epoch"
        },
        "xaxis": {
         "anchor": "y",
         "domain": [
          0,
          0.94
         ],
         "range": [
          0,
          240064
         ],
         "title": {
          "text": "Epoch"
         }
        },
        "yaxis": {
         "anchor": "x",
         "domain": [
          0,
          1
         ],
         "dtick": 10,
         "range": [
          0,
          100
         ],
         "title": {
          "text": "Performance (%)"
         }
        },
        "yaxis2": {
         "anchor": "x",
         "overlaying": "y",
         "side": "right",
         "title": {
          "text": "Learning Rate"
         }
        }
       }
      }
     },
     "metadata": {},
     "output_type": "display_data"
    }
   ],
   "source": [
    "# Ablation 25 - SEBNet BaselinePDBASHead SGD, Pretrained, Batch Size 6, OHEM Cross Entropy - 80.47 Best mIoU\n",
    "log_file_path = '/home/robert.breslin/alessandro/paper_2/mmsegmentation/work_dirs/sebnet_baseline-p-d-bas-head_1xb6_cityscapes/20250906_105242/20250906_105242.log'\n",
    "epochs, mIoU, mAcc, lrs = parse_log_file(log_file_path)\n",
    "plot_accuracies_and_lr_interactive(epochs, mAcc, mIoU, lrs, [0,240064])"
   ]
  },
  {
   "cell_type": "code",
   "execution_count": 29,
   "id": "1e34b2d0",
   "metadata": {},
   "outputs": [
    {
     "data": {
      "application/vnd.plotly.v1+json": {
       "config": {
        "plotlyServerURL": "https://plot.ly"
       },
       "data": [
        {
         "line": {
          "color": "blue"
         },
         "name": "Mean Accuracy",
         "type": "scatter",
         "x": [
          1000,
          2000,
          3000,
          4000,
          5000,
          6000,
          7000,
          8000,
          9000,
          10000,
          11000,
          12000,
          13000,
          14000,
          15000,
          16000,
          17000,
          18000,
          19000,
          20000,
          21000,
          22000,
          23000,
          24000,
          25000,
          26000,
          27000,
          28000,
          29000,
          30000,
          31000,
          32000,
          33000,
          34000,
          35000,
          36000,
          37000,
          38000,
          39000,
          40000,
          41000,
          42000,
          43000,
          44000,
          45000,
          46000,
          47000,
          48000,
          49000,
          50000,
          51000,
          52000,
          53000,
          54000,
          55000,
          56000,
          57000,
          58000,
          59000,
          60000,
          61000,
          62000,
          63000,
          64000,
          65000,
          66000,
          67000,
          68000,
          69000,
          70000,
          71000,
          72000,
          73000,
          74000,
          75000,
          76000,
          77000,
          78000,
          79000,
          80000,
          81000,
          82000,
          83000,
          84000,
          85000,
          86000,
          87000,
          88000,
          89000,
          90000,
          91000,
          92000,
          93000,
          94000,
          95000,
          96000,
          97000,
          98000,
          99000,
          100000,
          101000,
          102000,
          103000,
          104000,
          105000,
          106000,
          107000,
          108000,
          109000,
          110000,
          111000,
          112000,
          113000,
          114000,
          115000,
          116000,
          117000,
          118000,
          119000,
          120000,
          121000,
          122000,
          123000,
          124000,
          125000,
          126000,
          127000,
          128000,
          129000,
          130000,
          131000,
          132000,
          133000,
          134000,
          135000,
          136000,
          137000,
          138000,
          139000,
          140000,
          141000,
          142000,
          143000,
          144000,
          145000,
          146000,
          147000,
          148000,
          149000,
          150000,
          151000,
          152000,
          153000,
          154000,
          155000,
          156000,
          157000,
          158000,
          159000,
          160000,
          161000,
          162000,
          163000,
          164000,
          165000,
          166000,
          167000,
          168000,
          169000,
          170000,
          171000,
          172000,
          173000,
          174000,
          175000,
          176000,
          177000,
          178000,
          179000,
          180000,
          181000,
          182000,
          183000,
          184000,
          185000,
          186000,
          187000,
          188000,
          189000,
          190000,
          191000,
          192000,
          193000,
          194000,
          195000,
          196000,
          197000,
          198000,
          199000,
          200000,
          201000,
          202000,
          203000,
          204000,
          205000,
          206000,
          207000,
          208000,
          209000,
          210000,
          211000,
          212000,
          213000,
          214000,
          215000,
          216000,
          217000,
          218000,
          219000,
          220000,
          221000,
          222000,
          223000,
          224000,
          225000,
          226000,
          227000,
          228000,
          229000,
          230000,
          231000,
          232000,
          233000,
          234000,
          235000,
          236000,
          237000,
          238000,
          239000,
          240000,
          240050
         ],
         "xaxis": "x",
         "y": [
          31.72,
          39.26,
          46.72,
          48.37,
          51.02,
          58.5,
          62.6,
          59.6,
          57.58,
          63.54,
          65.86,
          64.26,
          66.12,
          65.75,
          67.73,
          69.63,
          65.88,
          68.36,
          72.05,
          68.01,
          69.6,
          69.49,
          72.7,
          73.85,
          74.48,
          72.83,
          78.38,
          74.94,
          74.59,
          73.96,
          75.88,
          69.13,
          78.26,
          75.38,
          77.08,
          72.8,
          77.64,
          78.99,
          73.7,
          76.94,
          75.46,
          76.54,
          74.81,
          71.55,
          79.53,
          81.24,
          73.19,
          75.11,
          77.23,
          77.78,
          76.73,
          79.89,
          77.37,
          76.77,
          78.7,
          78.24,
          80.29,
          77.8,
          76.91,
          76.48,
          81.29,
          77.7,
          78.51,
          78.25,
          81.15,
          77.54,
          77.26,
          78.03,
          79.38,
          77.82,
          69.85,
          78.95,
          81.07,
          82.57,
          78.8,
          80.85,
          76.95,
          78.54,
          79.03,
          78.66,
          79.12,
          79.95,
          78.11,
          82.92,
          81.57,
          84.18,
          80.81,
          76.54,
          80.83,
          82.11,
          85.31,
          78.47,
          80.93,
          82.26,
          83.46,
          86.05,
          82.44,
          84.86,
          80.05,
          78.28,
          82.71,
          84.8,
          80.63,
          83.97,
          80.54,
          80.71,
          81.99,
          81.31,
          79.96,
          80.71,
          79.25,
          83.1,
          81.21,
          81.74,
          80.19,
          80.61,
          82.01,
          81.91,
          80.47,
          84.78,
          82.49,
          83.6,
          81.71,
          82.46,
          82.75,
          82.28,
          80.95,
          80.51,
          83.54,
          80.27,
          80.97,
          83.91,
          82.45,
          83.31,
          85.01,
          84.15,
          77.37,
          85.75,
          83.76,
          83.15,
          83.57,
          72.79,
          81.76,
          81.92,
          82.97,
          83.59,
          77.47,
          82.97,
          84.15,
          80.43,
          85.47,
          81.9,
          84.67,
          84.14,
          77,
          83.7,
          84.27,
          79.62,
          84.6,
          84.96,
          81.1,
          82.08,
          79.19,
          85.09,
          81.2,
          82.75,
          82.43,
          83.91,
          83.19,
          85.13,
          82.55,
          82.4,
          84.35,
          81.13,
          84.42,
          84.64,
          84.6,
          85.51,
          84.86,
          82.78,
          84.97,
          85.43,
          79.39,
          85.3,
          83.81,
          85.71,
          84.92,
          84.46,
          85.83,
          86.68,
          85.75,
          84.83,
          85.05,
          87.03,
          86,
          86.85,
          86.57,
          85.16,
          85.79,
          85.29,
          85.44,
          85.03,
          85.32,
          86.06,
          86.68,
          84.96,
          87.24,
          86.5,
          85.81,
          84.64,
          86.72,
          84.85,
          85.82,
          87.06,
          86.53,
          85.17,
          85.58,
          86.74,
          86.12,
          86.46,
          86.07,
          86.12,
          86.93,
          86,
          86.76,
          85.86,
          86.45,
          87.47,
          87.21,
          86.98,
          87.06,
          86.9,
          87.49,
          87.44,
          87.34,
          86.55,
          87.08,
          87.15,
          87.04,
          87.13,
          86.99
         ],
         "yaxis": "y"
        },
        {
         "line": {
          "color": "orange"
         },
         "name": "Mean IoU",
         "type": "scatter",
         "x": [
          1000,
          2000,
          3000,
          4000,
          5000,
          6000,
          7000,
          8000,
          9000,
          10000,
          11000,
          12000,
          13000,
          14000,
          15000,
          16000,
          17000,
          18000,
          19000,
          20000,
          21000,
          22000,
          23000,
          24000,
          25000,
          26000,
          27000,
          28000,
          29000,
          30000,
          31000,
          32000,
          33000,
          34000,
          35000,
          36000,
          37000,
          38000,
          39000,
          40000,
          41000,
          42000,
          43000,
          44000,
          45000,
          46000,
          47000,
          48000,
          49000,
          50000,
          51000,
          52000,
          53000,
          54000,
          55000,
          56000,
          57000,
          58000,
          59000,
          60000,
          61000,
          62000,
          63000,
          64000,
          65000,
          66000,
          67000,
          68000,
          69000,
          70000,
          71000,
          72000,
          73000,
          74000,
          75000,
          76000,
          77000,
          78000,
          79000,
          80000,
          81000,
          82000,
          83000,
          84000,
          85000,
          86000,
          87000,
          88000,
          89000,
          90000,
          91000,
          92000,
          93000,
          94000,
          95000,
          96000,
          97000,
          98000,
          99000,
          100000,
          101000,
          102000,
          103000,
          104000,
          105000,
          106000,
          107000,
          108000,
          109000,
          110000,
          111000,
          112000,
          113000,
          114000,
          115000,
          116000,
          117000,
          118000,
          119000,
          120000,
          121000,
          122000,
          123000,
          124000,
          125000,
          126000,
          127000,
          128000,
          129000,
          130000,
          131000,
          132000,
          133000,
          134000,
          135000,
          136000,
          137000,
          138000,
          139000,
          140000,
          141000,
          142000,
          143000,
          144000,
          145000,
          146000,
          147000,
          148000,
          149000,
          150000,
          151000,
          152000,
          153000,
          154000,
          155000,
          156000,
          157000,
          158000,
          159000,
          160000,
          161000,
          162000,
          163000,
          164000,
          165000,
          166000,
          167000,
          168000,
          169000,
          170000,
          171000,
          172000,
          173000,
          174000,
          175000,
          176000,
          177000,
          178000,
          179000,
          180000,
          181000,
          182000,
          183000,
          184000,
          185000,
          186000,
          187000,
          188000,
          189000,
          190000,
          191000,
          192000,
          193000,
          194000,
          195000,
          196000,
          197000,
          198000,
          199000,
          200000,
          201000,
          202000,
          203000,
          204000,
          205000,
          206000,
          207000,
          208000,
          209000,
          210000,
          211000,
          212000,
          213000,
          214000,
          215000,
          216000,
          217000,
          218000,
          219000,
          220000,
          221000,
          222000,
          223000,
          224000,
          225000,
          226000,
          227000,
          228000,
          229000,
          230000,
          231000,
          232000,
          233000,
          234000,
          235000,
          236000,
          237000,
          238000,
          239000,
          240000,
          240050
         ],
         "xaxis": "x",
         "y": [
          25.52,
          32.46,
          38.69,
          40.52,
          40.96,
          46.63,
          47.84,
          49.38,
          49.19,
          51.98,
          55.51,
          54.75,
          56.66,
          56.17,
          57.44,
          56.94,
          56.65,
          59.18,
          60.71,
          56.96,
          58.58,
          58.96,
          59.07,
          62.57,
          64.25,
          62.5,
          62.48,
          62.33,
          60.95,
          62.33,
          64.19,
          59.67,
          65.88,
          64.57,
          68.56,
          62.26,
          64.88,
          67.74,
          64.58,
          65.02,
          66.21,
          66.69,
          66.94,
          60.26,
          65.24,
          69.65,
          61.69,
          66.96,
          66.98,
          65.95,
          65.4,
          67.05,
          67.1,
          66.78,
          65.69,
          66.04,
          67.91,
          68.43,
          66.36,
          65.78,
          69.02,
          68.98,
          69.5,
          67.01,
          70.37,
          67.17,
          68.07,
          67.46,
          70.38,
          68.08,
          60.84,
          66.81,
          71.39,
          72.32,
          67.38,
          70.91,
          68.27,
          69.55,
          69.99,
          69.88,
          65.97,
          67.92,
          66.31,
          71.1,
          71.52,
          73.53,
          70.65,
          66.84,
          69.17,
          72.91,
          73.28,
          69.63,
          72.33,
          71.81,
          74.76,
          73.4,
          71.15,
          75.03,
          71.41,
          68.47,
          71.59,
          72.15,
          71.91,
          73.35,
          70.99,
          68.69,
          70.76,
          71.5,
          71.57,
          71.17,
          68.78,
          71.56,
          70.91,
          69.54,
          69.72,
          71.86,
          72.61,
          74.12,
          70.01,
          71.73,
          71.97,
          74.17,
          73.47,
          73.14,
          71.85,
          73.25,
          69.43,
          71.44,
          75.09,
          69.38,
          73.45,
          73.81,
          75.36,
          74.29,
          75.55,
          74.05,
          63.64,
          74.22,
          73.77,
          73.22,
          74.13,
          60.38,
          71.86,
          72.7,
          73.1,
          73.76,
          68.76,
          72.34,
          74.07,
          72.77,
          75.93,
          71.38,
          75.26,
          74.49,
          68.41,
          75.95,
          75.57,
          70.8,
          75.68,
          75.76,
          72.61,
          71.67,
          70.3,
          76.76,
          72.17,
          75.06,
          73.06,
          75.54,
          75.81,
          76.95,
          73.75,
          72.69,
          75.59,
          69.77,
          75.35,
          76.08,
          76.58,
          75.97,
          76.4,
          74.56,
          75.87,
          77.55,
          64.1,
          76.34,
          74.14,
          76.86,
          76.69,
          75.38,
          77.52,
          77.1,
          77.73,
          75.55,
          77.45,
          78.56,
          76.52,
          77.51,
          77.57,
          77.37,
          77.86,
          76.18,
          77.03,
          76.46,
          75.55,
          76.67,
          77.92,
          77.2,
          79.71,
          77.75,
          77.22,
          76.26,
          78,
          76.3,
          75.99,
          78.73,
          77.74,
          76.83,
          77.18,
          78.43,
          77.82,
          78.81,
          78.07,
          78.38,
          79.16,
          78.33,
          79.21,
          78.92,
          78.99,
          79.94,
          79.62,
          79.36,
          79.93,
          79.63,
          80.04,
          79.99,
          80.13,
          79.38,
          79.83,
          80.16,
          79.94,
          80.23,
          80.04
         ],
         "yaxis": "y"
        },
        {
         "line": {
          "color": "green"
         },
         "name": "Learning Rate",
         "type": "scatter",
         "x": [
          1000,
          2000,
          3000,
          4000,
          5000,
          6000,
          7000,
          8000,
          9000,
          10000,
          11000,
          12000,
          13000,
          14000,
          15000,
          16000,
          17000,
          18000,
          19000,
          20000,
          21000,
          22000,
          23000,
          24000,
          25000,
          26000,
          27000,
          28000,
          29000,
          30000,
          31000,
          32000,
          33000,
          34000,
          35000,
          36000,
          37000,
          38000,
          39000,
          40000,
          41000,
          42000,
          43000,
          44000,
          45000,
          46000,
          47000,
          48000,
          49000,
          50000,
          51000,
          52000,
          53000,
          54000,
          55000,
          56000,
          57000,
          58000,
          59000,
          60000,
          61000,
          62000,
          63000,
          64000,
          65000,
          66000,
          67000,
          68000,
          69000,
          70000,
          71000,
          72000,
          73000,
          74000,
          75000,
          76000,
          77000,
          78000,
          79000,
          80000,
          81000,
          82000,
          83000,
          84000,
          85000,
          86000,
          87000,
          88000,
          89000,
          90000,
          91000,
          92000,
          93000,
          94000,
          95000,
          96000,
          97000,
          98000,
          99000,
          100000,
          101000,
          102000,
          103000,
          104000,
          105000,
          106000,
          107000,
          108000,
          109000,
          110000,
          111000,
          112000,
          113000,
          114000,
          115000,
          116000,
          117000,
          118000,
          119000,
          120000,
          121000,
          122000,
          123000,
          124000,
          125000,
          126000,
          127000,
          128000,
          129000,
          130000,
          131000,
          132000,
          133000,
          134000,
          135000,
          136000,
          137000,
          138000,
          139000,
          140000,
          141000,
          142000,
          143000,
          144000,
          145000,
          146000,
          147000,
          148000,
          149000,
          150000,
          151000,
          152000,
          153000,
          154000,
          155000,
          156000,
          157000,
          158000,
          159000,
          160000,
          161000,
          162000,
          163000,
          164000,
          165000,
          166000,
          167000,
          168000,
          169000,
          170000,
          171000,
          172000,
          173000,
          174000,
          175000,
          176000,
          177000,
          178000,
          179000,
          180000,
          181000,
          182000,
          183000,
          184000,
          185000,
          186000,
          187000,
          188000,
          189000,
          190000,
          191000,
          192000,
          193000,
          194000,
          195000,
          196000,
          197000,
          198000,
          199000,
          200000,
          201000,
          202000,
          203000,
          204000,
          205000,
          206000,
          207000,
          208000,
          209000,
          210000,
          211000,
          212000,
          213000,
          214000,
          215000,
          216000,
          217000,
          218000,
          219000,
          220000,
          221000,
          222000,
          223000,
          224000,
          225000,
          226000,
          227000,
          228000,
          229000,
          230000,
          231000,
          232000,
          233000,
          234000,
          235000,
          236000,
          237000,
          238000,
          239000,
          240000,
          240050
         ],
         "xaxis": "x",
         "y": [
          0.0099625,
          0.009925,
          0.0098875,
          0.00985,
          0.0098124,
          0.0097748,
          0.0097372,
          0.0096996,
          0.009662,
          0.0096243,
          0.0095867,
          0.009549,
          0.0095113,
          0.0094736,
          0.0094359,
          0.0093981,
          0.0093604,
          0.0093226,
          0.0092848,
          0.009247,
          0.0092092,
          0.0091713,
          0.0091335,
          0.0090956,
          0.0090577,
          0.0090198,
          0.0089819,
          0.0089439,
          0.0089059,
          0.008868,
          0.00883,
          0.0087919,
          0.0087539,
          0.0087158,
          0.0086778,
          0.0086397,
          0.0086016,
          0.0085634,
          0.0085253,
          0.0084871,
          0.0084489,
          0.0084107,
          0.0083725,
          0.0083342,
          0.008296,
          0.0082577,
          0.0082194,
          0.008181,
          0.0081427,
          0.0081043,
          0.0080659,
          0.0080275,
          0.0079891,
          0.0079507,
          0.0079122,
          0.0078737,
          0.0078352,
          0.0077967,
          0.0077581,
          0.0077195,
          0.0076809,
          0.0076423,
          0.0076037,
          0.007565,
          0.0075264,
          0.0074876,
          0.0074489,
          0.0074102,
          0.0073714,
          0.0073326,
          0.0072938,
          0.007255,
          0.0072161,
          0.0071772,
          0.0071383,
          0.0070994,
          0.0070604,
          0.0070214,
          0.0069824,
          0.0069434,
          0.0069043,
          0.0068653,
          0.0068262,
          0.006787,
          0.0067479,
          0.0067087,
          0.0066695,
          0.0066303,
          0.006591,
          0.0065517,
          0.0065124,
          0.0064731,
          0.0064337,
          0.0063943,
          0.0063549,
          0.0063155,
          0.006276,
          0.0062365,
          0.006197,
          0.0061575,
          0.0061179,
          0.0060783,
          0.0060386,
          0.005999,
          0.0059593,
          0.0059195,
          0.0058798,
          0.00584,
          0.0058002,
          0.0057603,
          0.0057205,
          0.0056806,
          0.0056406,
          0.0056007,
          0.0055607,
          0.0055206,
          0.0054806,
          0.0054405,
          0.0054003,
          0.0053602,
          0.00532,
          0.0052797,
          0.0052395,
          0.0051992,
          0.0051588,
          0.0051185,
          0.0050781,
          0.0050376,
          0.0049972,
          0.0049566,
          0.0049161,
          0.0048755,
          0.0048349,
          0.0047942,
          0.0047535,
          0.0047128,
          0.004672,
          0.0046312,
          0.0045903,
          0.0045494,
          0.0045085,
          0.0044675,
          0.0044265,
          0.0043854,
          0.0043443,
          0.0043032,
          0.004262,
          0.0042207,
          0.0041795,
          0.0041381,
          0.0040967,
          0.0040553,
          0.0040139,
          0.0039723,
          0.0039308,
          0.0038892,
          0.0038475,
          0.0038058,
          0.003764,
          0.0037222,
          0.0036803,
          0.0036384,
          0.0035964,
          0.0035544,
          0.0035123,
          0.0034702,
          0.003428,
          0.0033857,
          0.0033434,
          0.0033011,
          0.0032586,
          0.0032161,
          0.0031736,
          0.0031309,
          0.0030883,
          0.0030455,
          0.0030027,
          0.0029598,
          0.0029168,
          0.0028738,
          0.0028307,
          0.0027876,
          0.0027443,
          0.002701,
          0.0026576,
          0.0026141,
          0.0025706,
          0.0025269,
          0.0024832,
          0.0024394,
          0.0023955,
          0.0023515,
          0.0023074,
          0.0022633,
          0.002219,
          0.0021746,
          0.0021302,
          0.0020856,
          0.0020409,
          0.0019961,
          0.0019512,
          0.0019062,
          0.0018611,
          0.0018158,
          0.0017704,
          0.0017249,
          0.0016793,
          0.0016335,
          0.0015876,
          0.0015415,
          0.0014953,
          0.0014489,
          0.0014024,
          0.0013556,
          0.0013087,
          0.0012616,
          0.0012144,
          0.0011669,
          0.0011192,
          0.0010712,
          0.0010231,
          0.00097463,
          0.00092593,
          0.00087695,
          0.00082766,
          0.00077805,
          0.00072807,
          0.00067772,
          0.00062694,
          0.00057571,
          0.00052396,
          0.00047163,
          0.00041865,
          0.00036491,
          0.00031028,
          0.00025455,
          0.00019741,
          0.00013834,
          0.0000762,
          0.0000060711,
          0.000001546
         ],
         "yaxis": "y2"
        }
       ],
       "layout": {
        "hovermode": "x unified",
        "legend": {
         "x": 1.15,
         "xanchor": "right",
         "y": 1.15,
         "yanchor": "top"
        },
        "template": {
         "data": {
          "bar": [
           {
            "error_x": {
             "color": "#2a3f5f"
            },
            "error_y": {
             "color": "#2a3f5f"
            },
            "marker": {
             "line": {
              "color": "#E5ECF6",
              "width": 0.5
             },
             "pattern": {
              "fillmode": "overlay",
              "size": 10,
              "solidity": 0.2
             }
            },
            "type": "bar"
           }
          ],
          "barpolar": [
           {
            "marker": {
             "line": {
              "color": "#E5ECF6",
              "width": 0.5
             },
             "pattern": {
              "fillmode": "overlay",
              "size": 10,
              "solidity": 0.2
             }
            },
            "type": "barpolar"
           }
          ],
          "carpet": [
           {
            "aaxis": {
             "endlinecolor": "#2a3f5f",
             "gridcolor": "white",
             "linecolor": "white",
             "minorgridcolor": "white",
             "startlinecolor": "#2a3f5f"
            },
            "baxis": {
             "endlinecolor": "#2a3f5f",
             "gridcolor": "white",
             "linecolor": "white",
             "minorgridcolor": "white",
             "startlinecolor": "#2a3f5f"
            },
            "type": "carpet"
           }
          ],
          "choropleth": [
           {
            "colorbar": {
             "outlinewidth": 0,
             "ticks": ""
            },
            "type": "choropleth"
           }
          ],
          "contour": [
           {
            "colorbar": {
             "outlinewidth": 0,
             "ticks": ""
            },
            "colorscale": [
             [
              0,
              "#0d0887"
             ],
             [
              0.1111111111111111,
              "#46039f"
             ],
             [
              0.2222222222222222,
              "#7201a8"
             ],
             [
              0.3333333333333333,
              "#9c179e"
             ],
             [
              0.4444444444444444,
              "#bd3786"
             ],
             [
              0.5555555555555556,
              "#d8576b"
             ],
             [
              0.6666666666666666,
              "#ed7953"
             ],
             [
              0.7777777777777778,
              "#fb9f3a"
             ],
             [
              0.8888888888888888,
              "#fdca26"
             ],
             [
              1,
              "#f0f921"
             ]
            ],
            "type": "contour"
           }
          ],
          "contourcarpet": [
           {
            "colorbar": {
             "outlinewidth": 0,
             "ticks": ""
            },
            "type": "contourcarpet"
           }
          ],
          "heatmap": [
           {
            "colorbar": {
             "outlinewidth": 0,
             "ticks": ""
            },
            "colorscale": [
             [
              0,
              "#0d0887"
             ],
             [
              0.1111111111111111,
              "#46039f"
             ],
             [
              0.2222222222222222,
              "#7201a8"
             ],
             [
              0.3333333333333333,
              "#9c179e"
             ],
             [
              0.4444444444444444,
              "#bd3786"
             ],
             [
              0.5555555555555556,
              "#d8576b"
             ],
             [
              0.6666666666666666,
              "#ed7953"
             ],
             [
              0.7777777777777778,
              "#fb9f3a"
             ],
             [
              0.8888888888888888,
              "#fdca26"
             ],
             [
              1,
              "#f0f921"
             ]
            ],
            "type": "heatmap"
           }
          ],
          "histogram": [
           {
            "marker": {
             "pattern": {
              "fillmode": "overlay",
              "size": 10,
              "solidity": 0.2
             }
            },
            "type": "histogram"
           }
          ],
          "histogram2d": [
           {
            "colorbar": {
             "outlinewidth": 0,
             "ticks": ""
            },
            "colorscale": [
             [
              0,
              "#0d0887"
             ],
             [
              0.1111111111111111,
              "#46039f"
             ],
             [
              0.2222222222222222,
              "#7201a8"
             ],
             [
              0.3333333333333333,
              "#9c179e"
             ],
             [
              0.4444444444444444,
              "#bd3786"
             ],
             [
              0.5555555555555556,
              "#d8576b"
             ],
             [
              0.6666666666666666,
              "#ed7953"
             ],
             [
              0.7777777777777778,
              "#fb9f3a"
             ],
             [
              0.8888888888888888,
              "#fdca26"
             ],
             [
              1,
              "#f0f921"
             ]
            ],
            "type": "histogram2d"
           }
          ],
          "histogram2dcontour": [
           {
            "colorbar": {
             "outlinewidth": 0,
             "ticks": ""
            },
            "colorscale": [
             [
              0,
              "#0d0887"
             ],
             [
              0.1111111111111111,
              "#46039f"
             ],
             [
              0.2222222222222222,
              "#7201a8"
             ],
             [
              0.3333333333333333,
              "#9c179e"
             ],
             [
              0.4444444444444444,
              "#bd3786"
             ],
             [
              0.5555555555555556,
              "#d8576b"
             ],
             [
              0.6666666666666666,
              "#ed7953"
             ],
             [
              0.7777777777777778,
              "#fb9f3a"
             ],
             [
              0.8888888888888888,
              "#fdca26"
             ],
             [
              1,
              "#f0f921"
             ]
            ],
            "type": "histogram2dcontour"
           }
          ],
          "mesh3d": [
           {
            "colorbar": {
             "outlinewidth": 0,
             "ticks": ""
            },
            "type": "mesh3d"
           }
          ],
          "parcoords": [
           {
            "line": {
             "colorbar": {
              "outlinewidth": 0,
              "ticks": ""
             }
            },
            "type": "parcoords"
           }
          ],
          "pie": [
           {
            "automargin": true,
            "type": "pie"
           }
          ],
          "scatter": [
           {
            "fillpattern": {
             "fillmode": "overlay",
             "size": 10,
             "solidity": 0.2
            },
            "type": "scatter"
           }
          ],
          "scatter3d": [
           {
            "line": {
             "colorbar": {
              "outlinewidth": 0,
              "ticks": ""
             }
            },
            "marker": {
             "colorbar": {
              "outlinewidth": 0,
              "ticks": ""
             }
            },
            "type": "scatter3d"
           }
          ],
          "scattercarpet": [
           {
            "marker": {
             "colorbar": {
              "outlinewidth": 0,
              "ticks": ""
             }
            },
            "type": "scattercarpet"
           }
          ],
          "scattergeo": [
           {
            "marker": {
             "colorbar": {
              "outlinewidth": 0,
              "ticks": ""
             }
            },
            "type": "scattergeo"
           }
          ],
          "scattergl": [
           {
            "marker": {
             "colorbar": {
              "outlinewidth": 0,
              "ticks": ""
             }
            },
            "type": "scattergl"
           }
          ],
          "scattermap": [
           {
            "marker": {
             "colorbar": {
              "outlinewidth": 0,
              "ticks": ""
             }
            },
            "type": "scattermap"
           }
          ],
          "scattermapbox": [
           {
            "marker": {
             "colorbar": {
              "outlinewidth": 0,
              "ticks": ""
             }
            },
            "type": "scattermapbox"
           }
          ],
          "scatterpolar": [
           {
            "marker": {
             "colorbar": {
              "outlinewidth": 0,
              "ticks": ""
             }
            },
            "type": "scatterpolar"
           }
          ],
          "scatterpolargl": [
           {
            "marker": {
             "colorbar": {
              "outlinewidth": 0,
              "ticks": ""
             }
            },
            "type": "scatterpolargl"
           }
          ],
          "scatterternary": [
           {
            "marker": {
             "colorbar": {
              "outlinewidth": 0,
              "ticks": ""
             }
            },
            "type": "scatterternary"
           }
          ],
          "surface": [
           {
            "colorbar": {
             "outlinewidth": 0,
             "ticks": ""
            },
            "colorscale": [
             [
              0,
              "#0d0887"
             ],
             [
              0.1111111111111111,
              "#46039f"
             ],
             [
              0.2222222222222222,
              "#7201a8"
             ],
             [
              0.3333333333333333,
              "#9c179e"
             ],
             [
              0.4444444444444444,
              "#bd3786"
             ],
             [
              0.5555555555555556,
              "#d8576b"
             ],
             [
              0.6666666666666666,
              "#ed7953"
             ],
             [
              0.7777777777777778,
              "#fb9f3a"
             ],
             [
              0.8888888888888888,
              "#fdca26"
             ],
             [
              1,
              "#f0f921"
             ]
            ],
            "type": "surface"
           }
          ],
          "table": [
           {
            "cells": {
             "fill": {
              "color": "#EBF0F8"
             },
             "line": {
              "color": "white"
             }
            },
            "header": {
             "fill": {
              "color": "#C8D4E3"
             },
             "line": {
              "color": "white"
             }
            },
            "type": "table"
           }
          ]
         },
         "layout": {
          "annotationdefaults": {
           "arrowcolor": "#2a3f5f",
           "arrowhead": 0,
           "arrowwidth": 1
          },
          "autotypenumbers": "strict",
          "coloraxis": {
           "colorbar": {
            "outlinewidth": 0,
            "ticks": ""
           }
          },
          "colorscale": {
           "diverging": [
            [
             0,
             "#8e0152"
            ],
            [
             0.1,
             "#c51b7d"
            ],
            [
             0.2,
             "#de77ae"
            ],
            [
             0.3,
             "#f1b6da"
            ],
            [
             0.4,
             "#fde0ef"
            ],
            [
             0.5,
             "#f7f7f7"
            ],
            [
             0.6,
             "#e6f5d0"
            ],
            [
             0.7,
             "#b8e186"
            ],
            [
             0.8,
             "#7fbc41"
            ],
            [
             0.9,
             "#4d9221"
            ],
            [
             1,
             "#276419"
            ]
           ],
           "sequential": [
            [
             0,
             "#0d0887"
            ],
            [
             0.1111111111111111,
             "#46039f"
            ],
            [
             0.2222222222222222,
             "#7201a8"
            ],
            [
             0.3333333333333333,
             "#9c179e"
            ],
            [
             0.4444444444444444,
             "#bd3786"
            ],
            [
             0.5555555555555556,
             "#d8576b"
            ],
            [
             0.6666666666666666,
             "#ed7953"
            ],
            [
             0.7777777777777778,
             "#fb9f3a"
            ],
            [
             0.8888888888888888,
             "#fdca26"
            ],
            [
             1,
             "#f0f921"
            ]
           ],
           "sequentialminus": [
            [
             0,
             "#0d0887"
            ],
            [
             0.1111111111111111,
             "#46039f"
            ],
            [
             0.2222222222222222,
             "#7201a8"
            ],
            [
             0.3333333333333333,
             "#9c179e"
            ],
            [
             0.4444444444444444,
             "#bd3786"
            ],
            [
             0.5555555555555556,
             "#d8576b"
            ],
            [
             0.6666666666666666,
             "#ed7953"
            ],
            [
             0.7777777777777778,
             "#fb9f3a"
            ],
            [
             0.8888888888888888,
             "#fdca26"
            ],
            [
             1,
             "#f0f921"
            ]
           ]
          },
          "colorway": [
           "#636efa",
           "#EF553B",
           "#00cc96",
           "#ab63fa",
           "#FFA15A",
           "#19d3f3",
           "#FF6692",
           "#B6E880",
           "#FF97FF",
           "#FECB52"
          ],
          "font": {
           "color": "#2a3f5f"
          },
          "geo": {
           "bgcolor": "white",
           "lakecolor": "white",
           "landcolor": "#E5ECF6",
           "showlakes": true,
           "showland": true,
           "subunitcolor": "white"
          },
          "hoverlabel": {
           "align": "left"
          },
          "hovermode": "closest",
          "mapbox": {
           "style": "light"
          },
          "paper_bgcolor": "white",
          "plot_bgcolor": "#E5ECF6",
          "polar": {
           "angularaxis": {
            "gridcolor": "white",
            "linecolor": "white",
            "ticks": ""
           },
           "bgcolor": "#E5ECF6",
           "radialaxis": {
            "gridcolor": "white",
            "linecolor": "white",
            "ticks": ""
           }
          },
          "scene": {
           "xaxis": {
            "backgroundcolor": "#E5ECF6",
            "gridcolor": "white",
            "gridwidth": 2,
            "linecolor": "white",
            "showbackground": true,
            "ticks": "",
            "zerolinecolor": "white"
           },
           "yaxis": {
            "backgroundcolor": "#E5ECF6",
            "gridcolor": "white",
            "gridwidth": 2,
            "linecolor": "white",
            "showbackground": true,
            "ticks": "",
            "zerolinecolor": "white"
           },
           "zaxis": {
            "backgroundcolor": "#E5ECF6",
            "gridcolor": "white",
            "gridwidth": 2,
            "linecolor": "white",
            "showbackground": true,
            "ticks": "",
            "zerolinecolor": "white"
           }
          },
          "shapedefaults": {
           "line": {
            "color": "#2a3f5f"
           }
          },
          "ternary": {
           "aaxis": {
            "gridcolor": "white",
            "linecolor": "white",
            "ticks": ""
           },
           "baxis": {
            "gridcolor": "white",
            "linecolor": "white",
            "ticks": ""
           },
           "bgcolor": "#E5ECF6",
           "caxis": {
            "gridcolor": "white",
            "linecolor": "white",
            "ticks": ""
           }
          },
          "title": {
           "x": 0.05
          },
          "xaxis": {
           "automargin": true,
           "gridcolor": "white",
           "linecolor": "white",
           "ticks": "",
           "title": {
            "standoff": 15
           },
           "zerolinecolor": "white",
           "zerolinewidth": 2
          },
          "yaxis": {
           "automargin": true,
           "gridcolor": "white",
           "linecolor": "white",
           "ticks": "",
           "title": {
            "standoff": 15
           },
           "zerolinecolor": "white",
           "zerolinewidth": 2
          }
         }
        },
        "title": {
         "text": "Validation Performance and Training Learning Rate vs Epoch"
        },
        "xaxis": {
         "anchor": "y",
         "domain": [
          0,
          0.94
         ],
         "range": [
          0,
          240064
         ],
         "title": {
          "text": "Epoch"
         }
        },
        "yaxis": {
         "anchor": "x",
         "domain": [
          0,
          1
         ],
         "dtick": 10,
         "range": [
          0,
          100
         ],
         "title": {
          "text": "Performance (%)"
         }
        },
        "yaxis2": {
         "anchor": "x",
         "overlaying": "y",
         "side": "right",
         "title": {
          "text": "Learning Rate"
         }
        }
       }
      }
     },
     "metadata": {},
     "output_type": "display_data"
    }
   ],
   "source": [
    "# Ablation 24 - SEBNet BagBaselinePSBDBASHead SGD, Pretrained, Batch Size 6, OHEM Cross Entropy - 80.23 Best mIoU\n",
    "log_file_path = '/home/robert.breslin/alessandro/paper_2/mmsegmentation/work_dirs/sebnet_baseline-p-sbd-bas-head-fused_1xb6_cityscapes/20250906_103054/20250906_103054.log'\n",
    "epochs, mIoU, mAcc, lrs = parse_log_file(log_file_path)\n",
    "plot_accuracies_and_lr_interactive(epochs, mAcc, mIoU, lrs, [0,240064])"
   ]
  },
  {
   "cell_type": "code",
   "execution_count": 30,
   "id": "749ed721",
   "metadata": {},
   "outputs": [
    {
     "data": {
      "application/vnd.plotly.v1+json": {
       "config": {
        "plotlyServerURL": "https://plot.ly"
       },
       "data": [
        {
         "line": {
          "color": "blue"
         },
         "name": "Mean Accuracy",
         "type": "scatter",
         "x": [
          1000,
          2000,
          3000,
          4000,
          5000,
          6000,
          7000,
          8000,
          9000,
          10000,
          11000,
          12000,
          13000,
          14000,
          15000,
          16000,
          17000,
          18000,
          19000,
          20000,
          21000,
          22000,
          23000,
          24000,
          25000,
          26000,
          27000,
          28000,
          29000,
          30000,
          31000,
          32000,
          33000,
          34000,
          35000,
          36000,
          37000,
          38000,
          39000,
          40000,
          41000,
          42000,
          43000,
          44000,
          45000,
          46000,
          47000,
          48000,
          49000,
          50000,
          51000,
          52000,
          53000,
          54000,
          55000,
          56000,
          57000,
          58000,
          59000,
          60000,
          61000,
          62000,
          63000,
          64000,
          65000,
          66000,
          67000,
          68000,
          69000,
          70000,
          71000,
          72000,
          73000,
          74000,
          75000,
          76000,
          77000,
          78000,
          79000,
          80000,
          81000,
          82000,
          83000,
          84000,
          85000,
          86000,
          87000,
          88000,
          89000,
          90000,
          91000,
          92000,
          93000,
          94000,
          95000,
          96000,
          97000,
          98000,
          99000,
          100000,
          101000,
          102000,
          103000,
          104000,
          105000,
          106000,
          107000,
          108000,
          109000,
          110000,
          111000,
          112000,
          113000,
          114000,
          115000,
          116000,
          117000,
          118000,
          119000,
          120000,
          121000,
          122000,
          123000,
          124000,
          125000,
          126000,
          127000,
          128000,
          129000,
          130000,
          131000,
          132000,
          133000,
          134000,
          135000,
          136000,
          137000,
          138000,
          139000,
          140000,
          141000,
          142000,
          143000,
          144000,
          145000,
          146000,
          147000,
          148000,
          149000,
          150000,
          151000,
          152000,
          153000,
          154000,
          155000,
          156000,
          157000,
          158000,
          159000,
          160000,
          161000,
          162000,
          163000,
          164000,
          165000,
          166000,
          167000,
          168000,
          169000,
          170000,
          171000,
          172000,
          173000,
          174000,
          175000,
          176000,
          177000,
          178000,
          179000,
          180000,
          181000,
          182000,
          183000,
          184000,
          185000,
          186000,
          187000,
          188000,
          189000,
          190000,
          191000,
          192000,
          193000,
          194000,
          195000,
          196000,
          197000,
          198000,
          199000,
          200000,
          201000,
          202000,
          203000,
          204000,
          205000,
          206000,
          207000,
          208000,
          209000,
          210000,
          211000,
          212000,
          213000,
          214000,
          215000,
          216000,
          217000,
          218000,
          219000,
          220000,
          221000,
          222000,
          223000,
          224000,
          225000,
          226000,
          227000,
          228000,
          229000,
          230000,
          231000,
          232000,
          233000,
          234000,
          235000,
          236000,
          237000,
          238000,
          239000,
          240000,
          241000,
          242000,
          243000,
          244000,
          245000,
          246000,
          247000,
          248000,
          249000,
          250000,
          251000,
          252000,
          253000,
          254000,
          255000,
          256000,
          257000,
          258000,
          259000,
          260000,
          261000,
          262000
         ],
         "xaxis": "x",
         "y": [
          3.22,
          4.48,
          5.19,
          6.46,
          6.52,
          8.26,
          8.09,
          7.4,
          7.94,
          10.27,
          9.99,
          11,
          11.66,
          11.46,
          11.57,
          12.22,
          13.66,
          13.62,
          14.59,
          14.22,
          13.85,
          15.42,
          14.39,
          14.46,
          14.77,
          15.97,
          16.17,
          16.16,
          15.99,
          16.91,
          16.35,
          18.04,
          17.13,
          18.41,
          18.94,
          17.66,
          18.52,
          19.06,
          17.18,
          19.93,
          19.44,
          18.78,
          20.98,
          19.21,
          17.43,
          19.46,
          17.89,
          20.37,
          20.62,
          20.98,
          19.58,
          20.8,
          20.51,
          23.49,
          22,
          20.25,
          21.17,
          22.36,
          21.67,
          22.62,
          21.19,
          24.49,
          22.43,
          21.94,
          21.94,
          22.38,
          23.2,
          22.16,
          23.01,
          23.32,
          23.94,
          22.93,
          21.87,
          23.38,
          22.04,
          24.36,
          23.45,
          21.34,
          23.11,
          24.37,
          21.88,
          21.72,
          23.69,
          21.95,
          24.4,
          23.22,
          23.01,
          24.06,
          24.94,
          24.61,
          23.99,
          24.8,
          23.95,
          24.41,
          23.52,
          24.04,
          25.69,
          25.37,
          22.08,
          25.22,
          24.38,
          23.97,
          23.39,
          24.17,
          24.87,
          25.29,
          24.05,
          25.63,
          24.2,
          25.89,
          25.85,
          24.69,
          24.37,
          27.15,
          25.08,
          26.52,
          27.37,
          26.26,
          23.4,
          23.48,
          26.15,
          25.95,
          25.83,
          26.74,
          25.16,
          25.21,
          27.77,
          26.64,
          24.68,
          24.14,
          25.76,
          24.84,
          28.07,
          26.54,
          26.02,
          26.74,
          25.02,
          28.84,
          27.49,
          27.32,
          26.11,
          25.88,
          26.89,
          25.76,
          26.73,
          26.16,
          26.94,
          24.69,
          26.29,
          26.11,
          26.43,
          25.63,
          25.9,
          27.73,
          27.36,
          27.89,
          27.15,
          28.07,
          28.32,
          27.57,
          27.19,
          25.71,
          26.09,
          26.99,
          29.38,
          27.92,
          28.69,
          26,
          27.27,
          26.95,
          26.82,
          28.42,
          28.31,
          28.81,
          27.38,
          28.58,
          27.34,
          28.29,
          27.11,
          26.96,
          28.77,
          26.67,
          27.64,
          27.45,
          25.05,
          28.96,
          27.69,
          27.43,
          28.41,
          27.99,
          28.11,
          28.76,
          28.66,
          27.96,
          28.07,
          27.97,
          29.37,
          28.12,
          28.26,
          29.02,
          28.53,
          27.51,
          29.46,
          28.45,
          28.61,
          29.25,
          28.9,
          27.37,
          29.41,
          30.78,
          27.07,
          27.64,
          27.77,
          27.98,
          29.93,
          27.55,
          29.06,
          28.34,
          28.66,
          28.87,
          28.06,
          27.34,
          29.44,
          26.58,
          29.39,
          30.7,
          28,
          29.9,
          27.92,
          27.91,
          29.86,
          28.42,
          28.59,
          29.46,
          28.08,
          27.48,
          30.38,
          30.24,
          27.38,
          28.53,
          30.35,
          29.69,
          29.62,
          28.25,
          30.08,
          27.46,
          27.61,
          29.43,
          29.06,
          28.7,
          31.16,
          29.52,
          29.27,
          30.1,
          29.03,
          29.71,
          30.1,
          28.71,
          29.74,
          29.12,
          31.06,
          29.32
         ],
         "yaxis": "y"
        },
        {
         "line": {
          "color": "orange"
         },
         "name": "Mean IoU",
         "type": "scatter",
         "x": [
          1000,
          2000,
          3000,
          4000,
          5000,
          6000,
          7000,
          8000,
          9000,
          10000,
          11000,
          12000,
          13000,
          14000,
          15000,
          16000,
          17000,
          18000,
          19000,
          20000,
          21000,
          22000,
          23000,
          24000,
          25000,
          26000,
          27000,
          28000,
          29000,
          30000,
          31000,
          32000,
          33000,
          34000,
          35000,
          36000,
          37000,
          38000,
          39000,
          40000,
          41000,
          42000,
          43000,
          44000,
          45000,
          46000,
          47000,
          48000,
          49000,
          50000,
          51000,
          52000,
          53000,
          54000,
          55000,
          56000,
          57000,
          58000,
          59000,
          60000,
          61000,
          62000,
          63000,
          64000,
          65000,
          66000,
          67000,
          68000,
          69000,
          70000,
          71000,
          72000,
          73000,
          74000,
          75000,
          76000,
          77000,
          78000,
          79000,
          80000,
          81000,
          82000,
          83000,
          84000,
          85000,
          86000,
          87000,
          88000,
          89000,
          90000,
          91000,
          92000,
          93000,
          94000,
          95000,
          96000,
          97000,
          98000,
          99000,
          100000,
          101000,
          102000,
          103000,
          104000,
          105000,
          106000,
          107000,
          108000,
          109000,
          110000,
          111000,
          112000,
          113000,
          114000,
          115000,
          116000,
          117000,
          118000,
          119000,
          120000,
          121000,
          122000,
          123000,
          124000,
          125000,
          126000,
          127000,
          128000,
          129000,
          130000,
          131000,
          132000,
          133000,
          134000,
          135000,
          136000,
          137000,
          138000,
          139000,
          140000,
          141000,
          142000,
          143000,
          144000,
          145000,
          146000,
          147000,
          148000,
          149000,
          150000,
          151000,
          152000,
          153000,
          154000,
          155000,
          156000,
          157000,
          158000,
          159000,
          160000,
          161000,
          162000,
          163000,
          164000,
          165000,
          166000,
          167000,
          168000,
          169000,
          170000,
          171000,
          172000,
          173000,
          174000,
          175000,
          176000,
          177000,
          178000,
          179000,
          180000,
          181000,
          182000,
          183000,
          184000,
          185000,
          186000,
          187000,
          188000,
          189000,
          190000,
          191000,
          192000,
          193000,
          194000,
          195000,
          196000,
          197000,
          198000,
          199000,
          200000,
          201000,
          202000,
          203000,
          204000,
          205000,
          206000,
          207000,
          208000,
          209000,
          210000,
          211000,
          212000,
          213000,
          214000,
          215000,
          216000,
          217000,
          218000,
          219000,
          220000,
          221000,
          222000,
          223000,
          224000,
          225000,
          226000,
          227000,
          228000,
          229000,
          230000,
          231000,
          232000,
          233000,
          234000,
          235000,
          236000,
          237000,
          238000,
          239000,
          240000,
          241000,
          242000,
          243000,
          244000,
          245000,
          246000,
          247000,
          248000,
          249000,
          250000,
          251000,
          252000,
          253000,
          254000,
          255000,
          256000,
          257000,
          258000,
          259000,
          260000,
          261000,
          262000
         ],
         "xaxis": "x",
         "y": [
          2.3,
          3.31,
          3.7,
          4.83,
          4.77,
          5.85,
          6.24,
          4.95,
          6.14,
          7.87,
          7.5,
          8.41,
          8.79,
          8.76,
          8.59,
          9.43,
          10.41,
          10.29,
          11.2,
          11.01,
          10.8,
          11.78,
          11.2,
          11.34,
          11.76,
          11.98,
          12.51,
          12.78,
          12.39,
          13.33,
          11.6,
          13.95,
          13.55,
          13.78,
          14.12,
          12.86,
          14.77,
          14.94,
          13.55,
          15.18,
          14.93,
          14.74,
          15.74,
          15.33,
          13.4,
          14.99,
          14.33,
          16.27,
          15.6,
          16.08,
          15.24,
          16.05,
          15.78,
          17.07,
          16.14,
          16.14,
          16.58,
          16.96,
          16.86,
          17.15,
          16.79,
          17.62,
          17.21,
          16.59,
          16.51,
          16.57,
          17.8,
          17.14,
          17.48,
          17.87,
          17.91,
          17.35,
          16.95,
          17.63,
          17.51,
          18.26,
          18.13,
          16.29,
          16.64,
          18.69,
          16.37,
          15.84,
          18.38,
          16.57,
          18.78,
          18.22,
          18.09,
          18.51,
          19,
          19.02,
          18.43,
          19.11,
          17.49,
          18.95,
          18.09,
          17.81,
          19.97,
          19.04,
          16.57,
          19.25,
          18.95,
          18.18,
          18.04,
          18.81,
          19.19,
          18.59,
          18.76,
          19.54,
          18.9,
          19.25,
          20.03,
          19.12,
          18.83,
          20.28,
          18.82,
          20.38,
          21.02,
          19.58,
          18.16,
          18.59,
          20.45,
          19.46,
          19.79,
          19.8,
          19.06,
          18.96,
          20.04,
          19.93,
          19.05,
          18.96,
          19.58,
          19.09,
          21.02,
          20.29,
          20.38,
          20.04,
          19.97,
          21.74,
          20.93,
          20.55,
          19.99,
          20.37,
          20.33,
          19.16,
          20.7,
          20.46,
          20.82,
          19.3,
          20.49,
          20.01,
          20.24,
          19.69,
          19.52,
          21.5,
          21.37,
          21.07,
          19.92,
          21.08,
          21.14,
          20.18,
          21.25,
          19.91,
          20.79,
          20.85,
          22.35,
          20.92,
          21.17,
          20.36,
          21.18,
          20.72,
          20.84,
          21.48,
          21.37,
          21.85,
          20.57,
          21.49,
          21.42,
          21.3,
          21.32,
          21.47,
          22.03,
          19.72,
          20.64,
          21.07,
          18.98,
          21.59,
          21.23,
          21.3,
          20.78,
          21.46,
          22.02,
          21.76,
          21.74,
          21.84,
          21.33,
          21.7,
          22.33,
          22.19,
          21.65,
          22.13,
          22.4,
          21.03,
          22.14,
          21.72,
          22.04,
          22.58,
          22.64,
          21.38,
          21.47,
          22.9,
          21.1,
          21.95,
          20.29,
          21.39,
          22.42,
          21.51,
          21.27,
          21.47,
          21.91,
          22.41,
          21.96,
          21.2,
          22.48,
          20.62,
          21.76,
          23.66,
          21.51,
          23.32,
          21.34,
          22.01,
          23.14,
          22.47,
          22.28,
          21.92,
          21.73,
          21.88,
          22.13,
          22.88,
          20.98,
          21.15,
          23.13,
          21.94,
          23.3,
          22.1,
          23.64,
          21.5,
          21.15,
          22.31,
          22.24,
          22.15,
          23.61,
          22.78,
          22.64,
          23.38,
          22.5,
          23.35,
          22.8,
          22.12,
          22.83,
          22.64,
          22.8,
          22.31
         ],
         "yaxis": "y"
        },
        {
         "line": {
          "color": "green"
         },
         "name": "Learning Rate",
         "type": "scatter",
         "x": [
          1000,
          2000,
          3000,
          4000,
          5000,
          6000,
          7000,
          8000,
          9000,
          10000,
          11000,
          12000,
          13000,
          14000,
          15000,
          16000,
          17000,
          18000,
          19000,
          20000,
          21000,
          22000,
          23000,
          24000,
          25000,
          26000,
          27000,
          28000,
          29000,
          30000,
          31000,
          32000,
          33000,
          34000,
          35000,
          36000,
          37000,
          38000,
          39000,
          40000,
          41000,
          42000,
          43000,
          44000,
          45000,
          46000,
          47000,
          48000,
          49000,
          50000,
          51000,
          52000,
          53000,
          54000,
          55000,
          56000,
          57000,
          58000,
          59000,
          60000,
          61000,
          62000,
          63000,
          64000,
          65000,
          66000,
          67000,
          68000,
          69000,
          70000,
          71000,
          72000,
          73000,
          74000,
          75000,
          76000,
          77000,
          78000,
          79000,
          80000,
          81000,
          82000,
          83000,
          84000,
          85000,
          86000,
          87000,
          88000,
          89000,
          90000,
          91000,
          92000,
          93000,
          94000,
          95000,
          96000,
          97000,
          98000,
          99000,
          100000,
          101000,
          102000,
          103000,
          104000,
          105000,
          106000,
          107000,
          108000,
          109000,
          110000,
          111000,
          112000,
          113000,
          114000,
          115000,
          116000,
          117000,
          118000,
          119000,
          120000,
          121000,
          122000,
          123000,
          124000,
          125000,
          126000,
          127000,
          128000,
          129000,
          130000,
          131000,
          132000,
          133000,
          134000,
          135000,
          136000,
          137000,
          138000,
          139000,
          140000,
          141000,
          142000,
          143000,
          144000,
          145000,
          146000,
          147000,
          148000,
          149000,
          150000,
          151000,
          152000,
          153000,
          154000,
          155000,
          156000,
          157000,
          158000,
          159000,
          160000,
          161000,
          162000,
          163000,
          164000,
          165000,
          166000,
          167000,
          168000,
          169000,
          170000,
          171000,
          172000,
          173000,
          174000,
          175000,
          176000,
          177000,
          178000,
          179000,
          180000,
          181000,
          182000,
          183000,
          184000,
          185000,
          186000,
          187000,
          188000,
          189000,
          190000,
          191000,
          192000,
          193000,
          194000,
          195000,
          196000,
          197000,
          198000,
          199000,
          200000,
          201000,
          202000,
          203000,
          204000,
          205000,
          206000,
          207000,
          208000,
          209000,
          210000,
          211000,
          212000,
          213000,
          214000,
          215000,
          216000,
          217000,
          218000,
          219000,
          220000,
          221000,
          222000,
          223000,
          224000,
          225000,
          226000,
          227000,
          228000,
          229000,
          230000,
          231000,
          232000,
          233000,
          234000,
          235000,
          236000,
          237000,
          238000,
          239000,
          240000,
          241000,
          242000,
          243000,
          244000,
          245000,
          246000,
          247000,
          248000,
          249000,
          250000,
          251000,
          252000,
          253000,
          254000,
          255000,
          256000,
          257000,
          258000,
          259000,
          260000,
          261000,
          262000
         ],
         "xaxis": "x",
         "y": [
          0.0099813,
          0.0099625,
          0.0099438,
          0.009925,
          0.0099062,
          0.0098874,
          0.0098687,
          0.0098499,
          0.0098311,
          0.0098123,
          0.0097935,
          0.0097747,
          0.0097559,
          0.0097371,
          0.0097183,
          0.0096995,
          0.0096807,
          0.0096619,
          0.0096431,
          0.0096242,
          0.0096054,
          0.0095866,
          0.0095677,
          0.0095489,
          0.00953,
          0.0095112,
          0.0094923,
          0.0094735,
          0.0094546,
          0.0094357,
          0.0094168,
          0.009398,
          0.0093791,
          0.0093602,
          0.0093413,
          0.0093224,
          0.0093035,
          0.0092846,
          0.0092657,
          0.0092468,
          0.0092279,
          0.009209,
          0.00919,
          0.0091711,
          0.0091522,
          0.0091332,
          0.0091143,
          0.0090953,
          0.0090764,
          0.0090574,
          0.0090385,
          0.0090195,
          0.0090005,
          0.0089816,
          0.0089626,
          0.0089436,
          0.0089246,
          0.0089056,
          0.0088866,
          0.0088676,
          0.0088486,
          0.0088296,
          0.0088106,
          0.0087916,
          0.0087726,
          0.0087535,
          0.0087345,
          0.0087155,
          0.0086964,
          0.0086774,
          0.0086583,
          0.0086393,
          0.0086202,
          0.0086012,
          0.0085821,
          0.008563,
          0.0085439,
          0.0085249,
          0.0085058,
          0.0084867,
          0.0084676,
          0.0084485,
          0.0084294,
          0.0084103,
          0.0083911,
          0.008372,
          0.0083529,
          0.0083338,
          0.0083146,
          0.0082955,
          0.0082763,
          0.0082572,
          0.008238,
          0.0082189,
          0.0081997,
          0.0081805,
          0.0081614,
          0.0081422,
          0.008123,
          0.0081038,
          0.0080846,
          0.0080654,
          0.0080462,
          0.008027,
          0.0080078,
          0.0079886,
          0.0079693,
          0.0079501,
          0.0079309,
          0.0079116,
          0.0078924,
          0.0078731,
          0.0078539,
          0.0078346,
          0.0078153,
          0.0077961,
          0.0077768,
          0.0077575,
          0.0077382,
          0.0077189,
          0.0076996,
          0.0076803,
          0.007661,
          0.0076417,
          0.0076224,
          0.007603,
          0.0075837,
          0.0075644,
          0.007545,
          0.0075257,
          0.0075063,
          0.007487,
          0.0074676,
          0.0074482,
          0.0074288,
          0.0074095,
          0.0073901,
          0.0073707,
          0.0073513,
          0.0073319,
          0.0073125,
          0.007293,
          0.0072736,
          0.0072542,
          0.0072348,
          0.0072153,
          0.0071959,
          0.0071764,
          0.007157,
          0.0071375,
          0.007118,
          0.0070986,
          0.0070791,
          0.0070596,
          0.0070401,
          0.0070206,
          0.0070011,
          0.0069816,
          0.0069621,
          0.0069425,
          0.006923,
          0.0069035,
          0.0068839,
          0.0068644,
          0.0068448,
          0.0068253,
          0.0068057,
          0.0067861,
          0.0067666,
          0.006747,
          0.0067274,
          0.0067078,
          0.0066882,
          0.0066686,
          0.006649,
          0.0066293,
          0.0066097,
          0.0065901,
          0.0065704,
          0.0065508,
          0.0065311,
          0.0065115,
          0.0064918,
          0.0064721,
          0.0064524,
          0.0064327,
          0.006413,
          0.0063933,
          0.0063736,
          0.0063539,
          0.0063342,
          0.0063145,
          0.0062947,
          0.006275,
          0.0062552,
          0.0062355,
          0.0062157,
          0.0061959,
          0.0061762,
          0.0061564,
          0.0061366,
          0.0061168,
          0.006097,
          0.0060772,
          0.0060574,
          0.0060375,
          0.0060177,
          0.0059979,
          0.005978,
          0.0059581,
          0.0059383,
          0.0059184,
          0.0058985,
          0.0058786,
          0.0058588,
          0.0058388,
          0.0058189,
          0.005799,
          0.0057791,
          0.0057592,
          0.0057392,
          0.0057193,
          0.0056993,
          0.0056794,
          0.0056594,
          0.0056394,
          0.0056194,
          0.0055994,
          0.0055794,
          0.0055594,
          0.0055394,
          0.0055194,
          0.0054993,
          0.0054793,
          0.0054593,
          0.0054392,
          0.0054191,
          0.0053991,
          0.005379,
          0.0053589,
          0.0053388,
          0.0053187,
          0.0052986,
          0.0052784,
          0.0052583,
          0.0052382,
          0.005218,
          0.0051978,
          0.0051777,
          0.0051575,
          0.0051373,
          0.0051171,
          0.0050969,
          0.0050767,
          0.0050565,
          0.0050362,
          0.005016,
          0.0049958,
          0.0049755,
          0.0049552,
          0.004935,
          0.0049147
         ],
         "yaxis": "y2"
        }
       ],
       "layout": {
        "hovermode": "x unified",
        "legend": {
         "x": 1.15,
         "xanchor": "right",
         "y": 1.15,
         "yanchor": "top"
        },
        "template": {
         "data": {
          "bar": [
           {
            "error_x": {
             "color": "#2a3f5f"
            },
            "error_y": {
             "color": "#2a3f5f"
            },
            "marker": {
             "line": {
              "color": "#E5ECF6",
              "width": 0.5
             },
             "pattern": {
              "fillmode": "overlay",
              "size": 10,
              "solidity": 0.2
             }
            },
            "type": "bar"
           }
          ],
          "barpolar": [
           {
            "marker": {
             "line": {
              "color": "#E5ECF6",
              "width": 0.5
             },
             "pattern": {
              "fillmode": "overlay",
              "size": 10,
              "solidity": 0.2
             }
            },
            "type": "barpolar"
           }
          ],
          "carpet": [
           {
            "aaxis": {
             "endlinecolor": "#2a3f5f",
             "gridcolor": "white",
             "linecolor": "white",
             "minorgridcolor": "white",
             "startlinecolor": "#2a3f5f"
            },
            "baxis": {
             "endlinecolor": "#2a3f5f",
             "gridcolor": "white",
             "linecolor": "white",
             "minorgridcolor": "white",
             "startlinecolor": "#2a3f5f"
            },
            "type": "carpet"
           }
          ],
          "choropleth": [
           {
            "colorbar": {
             "outlinewidth": 0,
             "ticks": ""
            },
            "type": "choropleth"
           }
          ],
          "contour": [
           {
            "colorbar": {
             "outlinewidth": 0,
             "ticks": ""
            },
            "colorscale": [
             [
              0,
              "#0d0887"
             ],
             [
              0.1111111111111111,
              "#46039f"
             ],
             [
              0.2222222222222222,
              "#7201a8"
             ],
             [
              0.3333333333333333,
              "#9c179e"
             ],
             [
              0.4444444444444444,
              "#bd3786"
             ],
             [
              0.5555555555555556,
              "#d8576b"
             ],
             [
              0.6666666666666666,
              "#ed7953"
             ],
             [
              0.7777777777777778,
              "#fb9f3a"
             ],
             [
              0.8888888888888888,
              "#fdca26"
             ],
             [
              1,
              "#f0f921"
             ]
            ],
            "type": "contour"
           }
          ],
          "contourcarpet": [
           {
            "colorbar": {
             "outlinewidth": 0,
             "ticks": ""
            },
            "type": "contourcarpet"
           }
          ],
          "heatmap": [
           {
            "colorbar": {
             "outlinewidth": 0,
             "ticks": ""
            },
            "colorscale": [
             [
              0,
              "#0d0887"
             ],
             [
              0.1111111111111111,
              "#46039f"
             ],
             [
              0.2222222222222222,
              "#7201a8"
             ],
             [
              0.3333333333333333,
              "#9c179e"
             ],
             [
              0.4444444444444444,
              "#bd3786"
             ],
             [
              0.5555555555555556,
              "#d8576b"
             ],
             [
              0.6666666666666666,
              "#ed7953"
             ],
             [
              0.7777777777777778,
              "#fb9f3a"
             ],
             [
              0.8888888888888888,
              "#fdca26"
             ],
             [
              1,
              "#f0f921"
             ]
            ],
            "type": "heatmap"
           }
          ],
          "histogram": [
           {
            "marker": {
             "pattern": {
              "fillmode": "overlay",
              "size": 10,
              "solidity": 0.2
             }
            },
            "type": "histogram"
           }
          ],
          "histogram2d": [
           {
            "colorbar": {
             "outlinewidth": 0,
             "ticks": ""
            },
            "colorscale": [
             [
              0,
              "#0d0887"
             ],
             [
              0.1111111111111111,
              "#46039f"
             ],
             [
              0.2222222222222222,
              "#7201a8"
             ],
             [
              0.3333333333333333,
              "#9c179e"
             ],
             [
              0.4444444444444444,
              "#bd3786"
             ],
             [
              0.5555555555555556,
              "#d8576b"
             ],
             [
              0.6666666666666666,
              "#ed7953"
             ],
             [
              0.7777777777777778,
              "#fb9f3a"
             ],
             [
              0.8888888888888888,
              "#fdca26"
             ],
             [
              1,
              "#f0f921"
             ]
            ],
            "type": "histogram2d"
           }
          ],
          "histogram2dcontour": [
           {
            "colorbar": {
             "outlinewidth": 0,
             "ticks": ""
            },
            "colorscale": [
             [
              0,
              "#0d0887"
             ],
             [
              0.1111111111111111,
              "#46039f"
             ],
             [
              0.2222222222222222,
              "#7201a8"
             ],
             [
              0.3333333333333333,
              "#9c179e"
             ],
             [
              0.4444444444444444,
              "#bd3786"
             ],
             [
              0.5555555555555556,
              "#d8576b"
             ],
             [
              0.6666666666666666,
              "#ed7953"
             ],
             [
              0.7777777777777778,
              "#fb9f3a"
             ],
             [
              0.8888888888888888,
              "#fdca26"
             ],
             [
              1,
              "#f0f921"
             ]
            ],
            "type": "histogram2dcontour"
           }
          ],
          "mesh3d": [
           {
            "colorbar": {
             "outlinewidth": 0,
             "ticks": ""
            },
            "type": "mesh3d"
           }
          ],
          "parcoords": [
           {
            "line": {
             "colorbar": {
              "outlinewidth": 0,
              "ticks": ""
             }
            },
            "type": "parcoords"
           }
          ],
          "pie": [
           {
            "automargin": true,
            "type": "pie"
           }
          ],
          "scatter": [
           {
            "fillpattern": {
             "fillmode": "overlay",
             "size": 10,
             "solidity": 0.2
            },
            "type": "scatter"
           }
          ],
          "scatter3d": [
           {
            "line": {
             "colorbar": {
              "outlinewidth": 0,
              "ticks": ""
             }
            },
            "marker": {
             "colorbar": {
              "outlinewidth": 0,
              "ticks": ""
             }
            },
            "type": "scatter3d"
           }
          ],
          "scattercarpet": [
           {
            "marker": {
             "colorbar": {
              "outlinewidth": 0,
              "ticks": ""
             }
            },
            "type": "scattercarpet"
           }
          ],
          "scattergeo": [
           {
            "marker": {
             "colorbar": {
              "outlinewidth": 0,
              "ticks": ""
             }
            },
            "type": "scattergeo"
           }
          ],
          "scattergl": [
           {
            "marker": {
             "colorbar": {
              "outlinewidth": 0,
              "ticks": ""
             }
            },
            "type": "scattergl"
           }
          ],
          "scattermap": [
           {
            "marker": {
             "colorbar": {
              "outlinewidth": 0,
              "ticks": ""
             }
            },
            "type": "scattermap"
           }
          ],
          "scattermapbox": [
           {
            "marker": {
             "colorbar": {
              "outlinewidth": 0,
              "ticks": ""
             }
            },
            "type": "scattermapbox"
           }
          ],
          "scatterpolar": [
           {
            "marker": {
             "colorbar": {
              "outlinewidth": 0,
              "ticks": ""
             }
            },
            "type": "scatterpolar"
           }
          ],
          "scatterpolargl": [
           {
            "marker": {
             "colorbar": {
              "outlinewidth": 0,
              "ticks": ""
             }
            },
            "type": "scatterpolargl"
           }
          ],
          "scatterternary": [
           {
            "marker": {
             "colorbar": {
              "outlinewidth": 0,
              "ticks": ""
             }
            },
            "type": "scatterternary"
           }
          ],
          "surface": [
           {
            "colorbar": {
             "outlinewidth": 0,
             "ticks": ""
            },
            "colorscale": [
             [
              0,
              "#0d0887"
             ],
             [
              0.1111111111111111,
              "#46039f"
             ],
             [
              0.2222222222222222,
              "#7201a8"
             ],
             [
              0.3333333333333333,
              "#9c179e"
             ],
             [
              0.4444444444444444,
              "#bd3786"
             ],
             [
              0.5555555555555556,
              "#d8576b"
             ],
             [
              0.6666666666666666,
              "#ed7953"
             ],
             [
              0.7777777777777778,
              "#fb9f3a"
             ],
             [
              0.8888888888888888,
              "#fdca26"
             ],
             [
              1,
              "#f0f921"
             ]
            ],
            "type": "surface"
           }
          ],
          "table": [
           {
            "cells": {
             "fill": {
              "color": "#EBF0F8"
             },
             "line": {
              "color": "white"
             }
            },
            "header": {
             "fill": {
              "color": "#C8D4E3"
             },
             "line": {
              "color": "white"
             }
            },
            "type": "table"
           }
          ]
         },
         "layout": {
          "annotationdefaults": {
           "arrowcolor": "#2a3f5f",
           "arrowhead": 0,
           "arrowwidth": 1
          },
          "autotypenumbers": "strict",
          "coloraxis": {
           "colorbar": {
            "outlinewidth": 0,
            "ticks": ""
           }
          },
          "colorscale": {
           "diverging": [
            [
             0,
             "#8e0152"
            ],
            [
             0.1,
             "#c51b7d"
            ],
            [
             0.2,
             "#de77ae"
            ],
            [
             0.3,
             "#f1b6da"
            ],
            [
             0.4,
             "#fde0ef"
            ],
            [
             0.5,
             "#f7f7f7"
            ],
            [
             0.6,
             "#e6f5d0"
            ],
            [
             0.7,
             "#b8e186"
            ],
            [
             0.8,
             "#7fbc41"
            ],
            [
             0.9,
             "#4d9221"
            ],
            [
             1,
             "#276419"
            ]
           ],
           "sequential": [
            [
             0,
             "#0d0887"
            ],
            [
             0.1111111111111111,
             "#46039f"
            ],
            [
             0.2222222222222222,
             "#7201a8"
            ],
            [
             0.3333333333333333,
             "#9c179e"
            ],
            [
             0.4444444444444444,
             "#bd3786"
            ],
            [
             0.5555555555555556,
             "#d8576b"
            ],
            [
             0.6666666666666666,
             "#ed7953"
            ],
            [
             0.7777777777777778,
             "#fb9f3a"
            ],
            [
             0.8888888888888888,
             "#fdca26"
            ],
            [
             1,
             "#f0f921"
            ]
           ],
           "sequentialminus": [
            [
             0,
             "#0d0887"
            ],
            [
             0.1111111111111111,
             "#46039f"
            ],
            [
             0.2222222222222222,
             "#7201a8"
            ],
            [
             0.3333333333333333,
             "#9c179e"
            ],
            [
             0.4444444444444444,
             "#bd3786"
            ],
            [
             0.5555555555555556,
             "#d8576b"
            ],
            [
             0.6666666666666666,
             "#ed7953"
            ],
            [
             0.7777777777777778,
             "#fb9f3a"
            ],
            [
             0.8888888888888888,
             "#fdca26"
            ],
            [
             1,
             "#f0f921"
            ]
           ]
          },
          "colorway": [
           "#636efa",
           "#EF553B",
           "#00cc96",
           "#ab63fa",
           "#FFA15A",
           "#19d3f3",
           "#FF6692",
           "#B6E880",
           "#FF97FF",
           "#FECB52"
          ],
          "font": {
           "color": "#2a3f5f"
          },
          "geo": {
           "bgcolor": "white",
           "lakecolor": "white",
           "landcolor": "#E5ECF6",
           "showlakes": true,
           "showland": true,
           "subunitcolor": "white"
          },
          "hoverlabel": {
           "align": "left"
          },
          "hovermode": "closest",
          "mapbox": {
           "style": "light"
          },
          "paper_bgcolor": "white",
          "plot_bgcolor": "#E5ECF6",
          "polar": {
           "angularaxis": {
            "gridcolor": "white",
            "linecolor": "white",
            "ticks": ""
           },
           "bgcolor": "#E5ECF6",
           "radialaxis": {
            "gridcolor": "white",
            "linecolor": "white",
            "ticks": ""
           }
          },
          "scene": {
           "xaxis": {
            "backgroundcolor": "#E5ECF6",
            "gridcolor": "white",
            "gridwidth": 2,
            "linecolor": "white",
            "showbackground": true,
            "ticks": "",
            "zerolinecolor": "white"
           },
           "yaxis": {
            "backgroundcolor": "#E5ECF6",
            "gridcolor": "white",
            "gridwidth": 2,
            "linecolor": "white",
            "showbackground": true,
            "ticks": "",
            "zerolinecolor": "white"
           },
           "zaxis": {
            "backgroundcolor": "#E5ECF6",
            "gridcolor": "white",
            "gridwidth": 2,
            "linecolor": "white",
            "showbackground": true,
            "ticks": "",
            "zerolinecolor": "white"
           }
          },
          "shapedefaults": {
           "line": {
            "color": "#2a3f5f"
           }
          },
          "ternary": {
           "aaxis": {
            "gridcolor": "white",
            "linecolor": "white",
            "ticks": ""
           },
           "baxis": {
            "gridcolor": "white",
            "linecolor": "white",
            "ticks": ""
           },
           "bgcolor": "#E5ECF6",
           "caxis": {
            "gridcolor": "white",
            "linecolor": "white",
            "ticks": ""
           }
          },
          "title": {
           "x": 0.05
          },
          "xaxis": {
           "automargin": true,
           "gridcolor": "white",
           "linecolor": "white",
           "ticks": "",
           "title": {
            "standoff": 15
           },
           "zerolinecolor": "white",
           "zerolinewidth": 2
          },
          "yaxis": {
           "automargin": true,
           "gridcolor": "white",
           "linecolor": "white",
           "ticks": "",
           "title": {
            "standoff": 15
           },
           "zerolinecolor": "white",
           "zerolinewidth": 2
          }
         }
        },
        "title": {
         "text": "Validation Performance and Training Learning Rate vs Epoch"
        },
        "xaxis": {
         "anchor": "y",
         "domain": [
          0,
          0.94
         ],
         "range": [
          0,
          480000
         ],
         "title": {
          "text": "Epoch"
         }
        },
        "yaxis": {
         "anchor": "x",
         "domain": [
          0,
          1
         ],
         "dtick": 10,
         "range": [
          0,
          100
         ],
         "title": {
          "text": "Performance (%)"
         }
        },
        "yaxis2": {
         "anchor": "x",
         "overlaying": "y",
         "side": "right",
         "title": {
          "text": "Learning Rate"
         }
        }
       }
      }
     },
     "metadata": {},
     "output_type": "display_data"
    }
   ],
   "source": [
    "# Ablation 28 - SEBNet BaselinePDSBDBASHead SGD, Mapillary, 480K Iters - 80.23 Best mIoU\n",
    "log_file_path = '/home/robert.breslin/alessandro/paper_2/mmsegmentation/work_dirs/sebnet_baseline-p-d-sbd-bas-head_1xb6_mapillaryv2/20250909_160646/20250909_160646.log'\n",
    "epochs, mIoU, mAcc, lrs = parse_log_file(log_file_path)\n",
    "plot_accuracies_and_lr_interactive(epochs, mAcc, mIoU, lrs, [0,480000])"
   ]
  },
  {
   "cell_type": "code",
   "execution_count": 31,
   "id": "721ef4d7",
   "metadata": {},
   "outputs": [
    {
     "data": {
      "application/vnd.plotly.v1+json": {
       "config": {
        "plotlyServerURL": "https://plot.ly"
       },
       "data": [
        {
         "line": {
          "color": "blue"
         },
         "name": "Mean Accuracy",
         "type": "scatter",
         "x": [
          1000,
          2000,
          3000,
          4000,
          5000,
          6000,
          7000,
          8000,
          9000,
          10000,
          11000,
          12000,
          13000,
          14000,
          15000,
          16000,
          17000,
          18000,
          19000,
          20000,
          21000,
          22000,
          23000,
          24000,
          25000,
          26000,
          27000,
          28000,
          29000,
          30000,
          31000,
          32000,
          33000,
          34000,
          35000,
          36000,
          37000,
          38000,
          39000,
          40000,
          41000,
          42000,
          43000,
          44000,
          45000,
          46000,
          47000,
          48000,
          49000,
          50000,
          51000,
          52000,
          53000,
          54000,
          55000,
          56000,
          57000,
          58000,
          59000,
          60000,
          61000,
          62000,
          63000,
          64000,
          65000,
          66000,
          67000,
          68000,
          69000,
          70000,
          71000,
          72000,
          73000,
          74000,
          75000,
          76000,
          77000,
          78000,
          79000,
          80000,
          81000,
          82000,
          83000,
          84000,
          85000,
          86000,
          87000,
          88000,
          89000,
          90000,
          91000,
          92000,
          93000,
          94000,
          95000,
          96000,
          97000,
          98000,
          99000,
          100000,
          101000,
          102000,
          103000,
          104000,
          105000,
          106000,
          107000,
          108000,
          109000,
          110000,
          111000,
          112000,
          113000,
          114000,
          115000,
          116000,
          117000,
          118000,
          119000,
          120000,
          121000,
          122000,
          123000,
          124000,
          125000,
          126000,
          127000,
          128000,
          129000,
          130000,
          131000,
          132000,
          133000,
          134000,
          135000,
          136000,
          137000,
          138000,
          139000,
          140000,
          141000,
          142000,
          143000,
          144000,
          145000,
          146000,
          147000,
          148000,
          149000,
          150000,
          151000,
          152000,
          153000,
          154000,
          155000,
          156000,
          157000,
          158000,
          159000,
          160000,
          161000,
          162000,
          163000,
          164000,
          165000,
          166000,
          167000,
          168000,
          169000,
          170000,
          171000,
          172000,
          173000,
          174000,
          175000,
          176000,
          177000,
          178000,
          179000,
          180000,
          181000,
          182000,
          183000,
          184000,
          185000,
          186000,
          187000,
          188000,
          189000,
          190000,
          191000,
          192000,
          193000,
          194000,
          195000,
          196000,
          197000,
          198000,
          199000,
          200000,
          201000,
          202000,
          203000,
          204000,
          205000,
          206000,
          207000,
          208000,
          209000,
          210000,
          211000,
          212000,
          213000,
          214000,
          215000,
          216000,
          217000,
          218000,
          219000,
          220000,
          221000,
          222000,
          223000,
          224000,
          225000,
          226000,
          227000,
          228000,
          229000,
          230000,
          231000,
          232000,
          233000,
          234000,
          235000,
          236000,
          237000,
          238000,
          239000,
          240000,
          241000,
          242000,
          243000,
          244000,
          245000,
          246000,
          247000,
          248000,
          249000,
          250000,
          251000,
          252000,
          253000,
          254000,
          255000,
          256000,
          257000,
          258000
         ],
         "xaxis": "x",
         "y": [
          3.38,
          5.07,
          5.7,
          7.34,
          7.9,
          9.02,
          9.78,
          10.13,
          10.15,
          11.41,
          11.88,
          11.69,
          12.61,
          12.97,
          13.23,
          12.76,
          14.14,
          13.79,
          13.64,
          14.88,
          13.05,
          14.85,
          14.8,
          15.37,
          15.69,
          12.42,
          17.05,
          16.25,
          17.06,
          16.35,
          17,
          17.7,
          17.83,
          17.59,
          18.53,
          16.67,
          17.01,
          18.73,
          17.88,
          18.54,
          18.65,
          17.94,
          20.15,
          19.15,
          18.23,
          18.78,
          18.19,
          20.11,
          19.85,
          19.48,
          19.5,
          20.02,
          19.44,
          21.3,
          21,
          19.69,
          20.51,
          21.31,
          20.8,
          21.39,
          19.73,
          22.46,
          20.94,
          20.45,
          22.55,
          21.67,
          22.43,
          20.19,
          22.26,
          21.16,
          23.49,
          21.05,
          20.38,
          21.69,
          21.37,
          23.02,
          22.22,
          22.08,
          22.6,
          22.6,
          22.21,
          23.05,
          22.45,
          21.03,
          23.4,
          22.37,
          21.94,
          22.21,
          23.85,
          24.09,
          23.01,
          22.99,
          23.78,
          21.6,
          23.19,
          24.26,
          24.12,
          24.3,
          22.3,
          23.96,
          23.67,
          22.36,
          22.09,
          22.65,
          24.38,
          23.6,
          23.56,
          23.65,
          22.97,
          24.38,
          24.25,
          24.02,
          23.81,
          24.85,
          24.14,
          25.39,
          25.85,
          25.45,
          24.12,
          22.07,
          24.52,
          24.28,
          26.62,
          25.88,
          25.06,
          23.89,
          25.97,
          25.19,
          24.54,
          24.89,
          25.81,
          23.84,
          25.88,
          27.42,
          24.92,
          25.15,
          23.71,
          27.01,
          25.88,
          24.29,
          24.55,
          26.33,
          25.86,
          25.89,
          25.79,
          26,
          25.35,
          24.92,
          25.53,
          25.18,
          26.26,
          23.11,
          25.81,
          26.71,
          26.6,
          27.76,
          26.12,
          27.14,
          26.6,
          27.42,
          24.79,
          25.04,
          25.06,
          25.84,
          28.41,
          27.09,
          28.14,
          26.17,
          25.67,
          26.53,
          25.29,
          28.47,
          28.77,
          25.16,
          25.66,
          26.96,
          27.81,
          26.72,
          26.38,
          25.66,
          27.71,
          25.17,
          28.37,
          25.77,
          25.83,
          27.92,
          26.12,
          26.23,
          28.3,
          27,
          27.79,
          27.14,
          28.11,
          27.13,
          27.97,
          26.22,
          28.06,
          27.2,
          27.62,
          26.33,
          27.81,
          26.5,
          29.89,
          26.96,
          27.12,
          28.19,
          27.59,
          26.74,
          27.87,
          28.98,
          27.22,
          26.38,
          27.62,
          27.58,
          29.03,
          27.65,
          28.04,
          26.88,
          27.62,
          28.41,
          26.23,
          27.24,
          29.63,
          28.4,
          28.02,
          28.31,
          27.79,
          27.8,
          26.46,
          27.86,
          28.49,
          26.11,
          28.79,
          27.91,
          28.36,
          26.75,
          29.37,
          29.73,
          28.55,
          27.88,
          28.54,
          28.9,
          28.11,
          28.5,
          28.25,
          25.99,
          28.23,
          28.65,
          26.49,
          27.94,
          29.96,
          28.99,
          28.65,
          28.82,
          28.53,
          28.78,
          29.68,
          27.82
         ],
         "yaxis": "y"
        },
        {
         "line": {
          "color": "orange"
         },
         "name": "Mean IoU",
         "type": "scatter",
         "x": [
          1000,
          2000,
          3000,
          4000,
          5000,
          6000,
          7000,
          8000,
          9000,
          10000,
          11000,
          12000,
          13000,
          14000,
          15000,
          16000,
          17000,
          18000,
          19000,
          20000,
          21000,
          22000,
          23000,
          24000,
          25000,
          26000,
          27000,
          28000,
          29000,
          30000,
          31000,
          32000,
          33000,
          34000,
          35000,
          36000,
          37000,
          38000,
          39000,
          40000,
          41000,
          42000,
          43000,
          44000,
          45000,
          46000,
          47000,
          48000,
          49000,
          50000,
          51000,
          52000,
          53000,
          54000,
          55000,
          56000,
          57000,
          58000,
          59000,
          60000,
          61000,
          62000,
          63000,
          64000,
          65000,
          66000,
          67000,
          68000,
          69000,
          70000,
          71000,
          72000,
          73000,
          74000,
          75000,
          76000,
          77000,
          78000,
          79000,
          80000,
          81000,
          82000,
          83000,
          84000,
          85000,
          86000,
          87000,
          88000,
          89000,
          90000,
          91000,
          92000,
          93000,
          94000,
          95000,
          96000,
          97000,
          98000,
          99000,
          100000,
          101000,
          102000,
          103000,
          104000,
          105000,
          106000,
          107000,
          108000,
          109000,
          110000,
          111000,
          112000,
          113000,
          114000,
          115000,
          116000,
          117000,
          118000,
          119000,
          120000,
          121000,
          122000,
          123000,
          124000,
          125000,
          126000,
          127000,
          128000,
          129000,
          130000,
          131000,
          132000,
          133000,
          134000,
          135000,
          136000,
          137000,
          138000,
          139000,
          140000,
          141000,
          142000,
          143000,
          144000,
          145000,
          146000,
          147000,
          148000,
          149000,
          150000,
          151000,
          152000,
          153000,
          154000,
          155000,
          156000,
          157000,
          158000,
          159000,
          160000,
          161000,
          162000,
          163000,
          164000,
          165000,
          166000,
          167000,
          168000,
          169000,
          170000,
          171000,
          172000,
          173000,
          174000,
          175000,
          176000,
          177000,
          178000,
          179000,
          180000,
          181000,
          182000,
          183000,
          184000,
          185000,
          186000,
          187000,
          188000,
          189000,
          190000,
          191000,
          192000,
          193000,
          194000,
          195000,
          196000,
          197000,
          198000,
          199000,
          200000,
          201000,
          202000,
          203000,
          204000,
          205000,
          206000,
          207000,
          208000,
          209000,
          210000,
          211000,
          212000,
          213000,
          214000,
          215000,
          216000,
          217000,
          218000,
          219000,
          220000,
          221000,
          222000,
          223000,
          224000,
          225000,
          226000,
          227000,
          228000,
          229000,
          230000,
          231000,
          232000,
          233000,
          234000,
          235000,
          236000,
          237000,
          238000,
          239000,
          240000,
          241000,
          242000,
          243000,
          244000,
          245000,
          246000,
          247000,
          248000,
          249000,
          250000,
          251000,
          252000,
          253000,
          254000,
          255000,
          256000,
          257000,
          258000
         ],
         "xaxis": "x",
         "y": [
          2.32,
          3.61,
          4.24,
          5.38,
          5.7,
          6.28,
          7.49,
          7.4,
          7.79,
          8.64,
          9.15,
          9.01,
          9.65,
          9.74,
          9.67,
          10,
          10.92,
          10.4,
          10.32,
          11.52,
          9.9,
          11.56,
          11.7,
          11.93,
          12.44,
          8.42,
          12.97,
          12.55,
          13.13,
          13.03,
          12.16,
          13.86,
          13.78,
          13.54,
          13.9,
          12.23,
          13.37,
          14.54,
          14.21,
          13.69,
          14.18,
          14.13,
          14.98,
          14.93,
          14.59,
          14.11,
          14.67,
          15.93,
          14.99,
          15,
          14.96,
          15.53,
          15.12,
          16.04,
          15.54,
          15.52,
          16.12,
          16.2,
          16.1,
          16.55,
          15.68,
          16.73,
          15.95,
          15.8,
          16.79,
          15.71,
          17.06,
          15.7,
          16.69,
          15.92,
          17.35,
          16.15,
          15.31,
          16.24,
          16.81,
          17.21,
          17.31,
          16.87,
          16.39,
          17.7,
          16.65,
          17.82,
          17.63,
          15.45,
          17.94,
          17.75,
          17.32,
          17.54,
          18.34,
          18.5,
          17.39,
          17.85,
          18.13,
          16.74,
          18.13,
          18.47,
          18.82,
          18.16,
          17.17,
          18.22,
          18.19,
          17.2,
          17.03,
          17.92,
          18.95,
          17.35,
          18.22,
          18.34,
          17.76,
          18.11,
          18.73,
          18.54,
          18.49,
          18.69,
          17.98,
          19.14,
          19.6,
          19.18,
          18.61,
          17.27,
          19,
          18.73,
          19.49,
          19.01,
          19.2,
          18.09,
          18.92,
          18.37,
          18.9,
          19.3,
          19.36,
          18.62,
          19.51,
          19.98,
          19.89,
          18.72,
          18.94,
          20.45,
          19.83,
          18.76,
          18.84,
          20.54,
          19.86,
          20.26,
          20.03,
          19.84,
          19.81,
          19.22,
          19.97,
          18.97,
          20.07,
          17.79,
          19.76,
          20.37,
          20.68,
          21.47,
          19.23,
          20.82,
          20.51,
          20.44,
          19.13,
          19.25,
          19.78,
          20.18,
          21.65,
          20.84,
          21.21,
          20.08,
          19.92,
          20.8,
          20.07,
          21.4,
          21.62,
          19.7,
          19.92,
          20.69,
          21.72,
          20.45,
          20.83,
          19.73,
          20.91,
          19.32,
          21.19,
          20.03,
          19.79,
          21.2,
          20.12,
          20.16,
          20.89,
          20.76,
          21.3,
          21.02,
          21.52,
          21.19,
          21.54,
          19.85,
          21.5,
          21.54,
          20.67,
          20.03,
          21.74,
          20.29,
          22.15,
          21.28,
          21.13,
          21.72,
          21.28,
          20.61,
          20.7,
          21.86,
          20.87,
          20.85,
          20.29,
          21.44,
          21.61,
          21.65,
          20.68,
          20.52,
          21.18,
          22.26,
          20.66,
          20.63,
          22.08,
          21.62,
          20.93,
          22.08,
          20.58,
          21.29,
          20.47,
          21.49,
          21.63,
          20.25,
          21.72,
          21.45,
          21.55,
          21.62,
          21.77,
          22.82,
          21.61,
          20.47,
          21.83,
          21.15,
          21.82,
          22.25,
          21.75,
          19.87,
          21.26,
          21.73,
          20.3,
          21.4,
          22.64,
          22.39,
          21.93,
          21.75,
          21.64,
          22.46,
          22.3,
          21.27
         ],
         "yaxis": "y"
        },
        {
         "line": {
          "color": "green"
         },
         "name": "Learning Rate",
         "type": "scatter",
         "x": [
          1000,
          2000,
          3000,
          4000,
          5000,
          6000,
          7000,
          8000,
          9000,
          10000,
          11000,
          12000,
          13000,
          14000,
          15000,
          16000,
          17000,
          18000,
          19000,
          20000,
          21000,
          22000,
          23000,
          24000,
          25000,
          26000,
          27000,
          28000,
          29000,
          30000,
          31000,
          32000,
          33000,
          34000,
          35000,
          36000,
          37000,
          38000,
          39000,
          40000,
          41000,
          42000,
          43000,
          44000,
          45000,
          46000,
          47000,
          48000,
          49000,
          50000,
          51000,
          52000,
          53000,
          54000,
          55000,
          56000,
          57000,
          58000,
          59000,
          60000,
          61000,
          62000,
          63000,
          64000,
          65000,
          66000,
          67000,
          68000,
          69000,
          70000,
          71000,
          72000,
          73000,
          74000,
          75000,
          76000,
          77000,
          78000,
          79000,
          80000,
          81000,
          82000,
          83000,
          84000,
          85000,
          86000,
          87000,
          88000,
          89000,
          90000,
          91000,
          92000,
          93000,
          94000,
          95000,
          96000,
          97000,
          98000,
          99000,
          100000,
          101000,
          102000,
          103000,
          104000,
          105000,
          106000,
          107000,
          108000,
          109000,
          110000,
          111000,
          112000,
          113000,
          114000,
          115000,
          116000,
          117000,
          118000,
          119000,
          120000,
          121000,
          122000,
          123000,
          124000,
          125000,
          126000,
          127000,
          128000,
          129000,
          130000,
          131000,
          132000,
          133000,
          134000,
          135000,
          136000,
          137000,
          138000,
          139000,
          140000,
          141000,
          142000,
          143000,
          144000,
          145000,
          146000,
          147000,
          148000,
          149000,
          150000,
          151000,
          152000,
          153000,
          154000,
          155000,
          156000,
          157000,
          158000,
          159000,
          160000,
          161000,
          162000,
          163000,
          164000,
          165000,
          166000,
          167000,
          168000,
          169000,
          170000,
          171000,
          172000,
          173000,
          174000,
          175000,
          176000,
          177000,
          178000,
          179000,
          180000,
          181000,
          182000,
          183000,
          184000,
          185000,
          186000,
          187000,
          188000,
          189000,
          190000,
          191000,
          192000,
          193000,
          194000,
          195000,
          196000,
          197000,
          198000,
          199000,
          200000,
          201000,
          202000,
          203000,
          204000,
          205000,
          206000,
          207000,
          208000,
          209000,
          210000,
          211000,
          212000,
          213000,
          214000,
          215000,
          216000,
          217000,
          218000,
          219000,
          220000,
          221000,
          222000,
          223000,
          224000,
          225000,
          226000,
          227000,
          228000,
          229000,
          230000,
          231000,
          232000,
          233000,
          234000,
          235000,
          236000,
          237000,
          238000,
          239000,
          240000,
          241000,
          242000,
          243000,
          244000,
          245000,
          246000,
          247000,
          248000,
          249000,
          250000,
          251000,
          252000,
          253000,
          254000,
          255000,
          256000,
          257000,
          258000
         ],
         "xaxis": "x",
         "y": [
          0.0099813,
          0.0099625,
          0.0099438,
          0.009925,
          0.0099062,
          0.0098874,
          0.0098687,
          0.0098499,
          0.0098311,
          0.0098123,
          0.0097935,
          0.0097747,
          0.0097559,
          0.0097371,
          0.0097183,
          0.0096995,
          0.0096807,
          0.0096619,
          0.0096431,
          0.0096242,
          0.0096054,
          0.0095866,
          0.0095677,
          0.0095489,
          0.00953,
          0.0095112,
          0.0094923,
          0.0094735,
          0.0094546,
          0.0094357,
          0.0094168,
          0.009398,
          0.0093791,
          0.0093602,
          0.0093413,
          0.0093224,
          0.0093035,
          0.0092846,
          0.0092657,
          0.0092468,
          0.0092279,
          0.009209,
          0.00919,
          0.0091711,
          0.0091522,
          0.0091332,
          0.0091143,
          0.0090953,
          0.0090764,
          0.0090574,
          0.0090385,
          0.0090195,
          0.0090005,
          0.0089816,
          0.0089626,
          0.0089436,
          0.0089246,
          0.0089056,
          0.0088866,
          0.0088676,
          0.0088486,
          0.0088296,
          0.0088106,
          0.0087916,
          0.0087726,
          0.0087535,
          0.0087345,
          0.0087155,
          0.0086964,
          0.0086774,
          0.0086583,
          0.0086393,
          0.0086202,
          0.0086012,
          0.0085821,
          0.008563,
          0.0085439,
          0.0085249,
          0.0085058,
          0.0084867,
          0.0084676,
          0.0084485,
          0.0084294,
          0.0084103,
          0.0083911,
          0.008372,
          0.0083529,
          0.0083338,
          0.0083146,
          0.0082955,
          0.0082763,
          0.0082572,
          0.008238,
          0.0082189,
          0.0081997,
          0.0081805,
          0.0081614,
          0.0081422,
          0.008123,
          0.0081038,
          0.0080846,
          0.0080654,
          0.0080462,
          0.008027,
          0.0080078,
          0.0079886,
          0.0079693,
          0.0079501,
          0.0079309,
          0.0079116,
          0.0078924,
          0.0078731,
          0.0078539,
          0.0078346,
          0.0078153,
          0.0077961,
          0.0077768,
          0.0077575,
          0.0077382,
          0.0077189,
          0.0076996,
          0.0076803,
          0.007661,
          0.0076417,
          0.0076224,
          0.007603,
          0.0075837,
          0.0075644,
          0.007545,
          0.0075257,
          0.0075063,
          0.007487,
          0.0074676,
          0.0074482,
          0.0074288,
          0.0074095,
          0.0073901,
          0.0073707,
          0.0073513,
          0.0073319,
          0.0073125,
          0.007293,
          0.0072736,
          0.0072542,
          0.0072348,
          0.0072153,
          0.0071959,
          0.0071764,
          0.007157,
          0.0071375,
          0.007118,
          0.0070986,
          0.0070791,
          0.0070596,
          0.0070401,
          0.0070206,
          0.0070011,
          0.0069816,
          0.0069621,
          0.0069425,
          0.006923,
          0.0069035,
          0.0068839,
          0.0068644,
          0.0068448,
          0.0068253,
          0.0068057,
          0.0067861,
          0.0067666,
          0.006747,
          0.0067274,
          0.0067078,
          0.0066882,
          0.0066686,
          0.006649,
          0.0066293,
          0.0066097,
          0.0065901,
          0.0065704,
          0.0065508,
          0.0065311,
          0.0065115,
          0.0064918,
          0.0064721,
          0.0064524,
          0.0064327,
          0.006413,
          0.0063933,
          0.0063736,
          0.0063539,
          0.0063342,
          0.0063145,
          0.0062947,
          0.006275,
          0.0062552,
          0.0062355,
          0.0062157,
          0.0061959,
          0.0061762,
          0.0061564,
          0.0061366,
          0.0061168,
          0.006097,
          0.0060772,
          0.0060574,
          0.0060375,
          0.0060177,
          0.0059979,
          0.005978,
          0.0059581,
          0.0059383,
          0.0059184,
          0.0058985,
          0.0058786,
          0.0058588,
          0.0058388,
          0.0058189,
          0.005799,
          0.0057791,
          0.0057592,
          0.0057392,
          0.0057193,
          0.0056993,
          0.0056794,
          0.0056594,
          0.0056394,
          0.0056194,
          0.0055994,
          0.0055794,
          0.0055594,
          0.0055394,
          0.0055194,
          0.0054993,
          0.0054793,
          0.0054593,
          0.0054392,
          0.0054191,
          0.0053991,
          0.005379,
          0.0053589,
          0.0053388,
          0.0053187,
          0.0052986,
          0.0052784,
          0.0052583,
          0.0052382,
          0.005218,
          0.0051978,
          0.0051777,
          0.0051575,
          0.0051373,
          0.0051171,
          0.0050969,
          0.0050767,
          0.0050565,
          0.0050362,
          0.005016,
          0.0049958
         ],
         "yaxis": "y2"
        }
       ],
       "layout": {
        "hovermode": "x unified",
        "legend": {
         "x": 1.15,
         "xanchor": "right",
         "y": 1.15,
         "yanchor": "top"
        },
        "template": {
         "data": {
          "bar": [
           {
            "error_x": {
             "color": "#2a3f5f"
            },
            "error_y": {
             "color": "#2a3f5f"
            },
            "marker": {
             "line": {
              "color": "#E5ECF6",
              "width": 0.5
             },
             "pattern": {
              "fillmode": "overlay",
              "size": 10,
              "solidity": 0.2
             }
            },
            "type": "bar"
           }
          ],
          "barpolar": [
           {
            "marker": {
             "line": {
              "color": "#E5ECF6",
              "width": 0.5
             },
             "pattern": {
              "fillmode": "overlay",
              "size": 10,
              "solidity": 0.2
             }
            },
            "type": "barpolar"
           }
          ],
          "carpet": [
           {
            "aaxis": {
             "endlinecolor": "#2a3f5f",
             "gridcolor": "white",
             "linecolor": "white",
             "minorgridcolor": "white",
             "startlinecolor": "#2a3f5f"
            },
            "baxis": {
             "endlinecolor": "#2a3f5f",
             "gridcolor": "white",
             "linecolor": "white",
             "minorgridcolor": "white",
             "startlinecolor": "#2a3f5f"
            },
            "type": "carpet"
           }
          ],
          "choropleth": [
           {
            "colorbar": {
             "outlinewidth": 0,
             "ticks": ""
            },
            "type": "choropleth"
           }
          ],
          "contour": [
           {
            "colorbar": {
             "outlinewidth": 0,
             "ticks": ""
            },
            "colorscale": [
             [
              0,
              "#0d0887"
             ],
             [
              0.1111111111111111,
              "#46039f"
             ],
             [
              0.2222222222222222,
              "#7201a8"
             ],
             [
              0.3333333333333333,
              "#9c179e"
             ],
             [
              0.4444444444444444,
              "#bd3786"
             ],
             [
              0.5555555555555556,
              "#d8576b"
             ],
             [
              0.6666666666666666,
              "#ed7953"
             ],
             [
              0.7777777777777778,
              "#fb9f3a"
             ],
             [
              0.8888888888888888,
              "#fdca26"
             ],
             [
              1,
              "#f0f921"
             ]
            ],
            "type": "contour"
           }
          ],
          "contourcarpet": [
           {
            "colorbar": {
             "outlinewidth": 0,
             "ticks": ""
            },
            "type": "contourcarpet"
           }
          ],
          "heatmap": [
           {
            "colorbar": {
             "outlinewidth": 0,
             "ticks": ""
            },
            "colorscale": [
             [
              0,
              "#0d0887"
             ],
             [
              0.1111111111111111,
              "#46039f"
             ],
             [
              0.2222222222222222,
              "#7201a8"
             ],
             [
              0.3333333333333333,
              "#9c179e"
             ],
             [
              0.4444444444444444,
              "#bd3786"
             ],
             [
              0.5555555555555556,
              "#d8576b"
             ],
             [
              0.6666666666666666,
              "#ed7953"
             ],
             [
              0.7777777777777778,
              "#fb9f3a"
             ],
             [
              0.8888888888888888,
              "#fdca26"
             ],
             [
              1,
              "#f0f921"
             ]
            ],
            "type": "heatmap"
           }
          ],
          "histogram": [
           {
            "marker": {
             "pattern": {
              "fillmode": "overlay",
              "size": 10,
              "solidity": 0.2
             }
            },
            "type": "histogram"
           }
          ],
          "histogram2d": [
           {
            "colorbar": {
             "outlinewidth": 0,
             "ticks": ""
            },
            "colorscale": [
             [
              0,
              "#0d0887"
             ],
             [
              0.1111111111111111,
              "#46039f"
             ],
             [
              0.2222222222222222,
              "#7201a8"
             ],
             [
              0.3333333333333333,
              "#9c179e"
             ],
             [
              0.4444444444444444,
              "#bd3786"
             ],
             [
              0.5555555555555556,
              "#d8576b"
             ],
             [
              0.6666666666666666,
              "#ed7953"
             ],
             [
              0.7777777777777778,
              "#fb9f3a"
             ],
             [
              0.8888888888888888,
              "#fdca26"
             ],
             [
              1,
              "#f0f921"
             ]
            ],
            "type": "histogram2d"
           }
          ],
          "histogram2dcontour": [
           {
            "colorbar": {
             "outlinewidth": 0,
             "ticks": ""
            },
            "colorscale": [
             [
              0,
              "#0d0887"
             ],
             [
              0.1111111111111111,
              "#46039f"
             ],
             [
              0.2222222222222222,
              "#7201a8"
             ],
             [
              0.3333333333333333,
              "#9c179e"
             ],
             [
              0.4444444444444444,
              "#bd3786"
             ],
             [
              0.5555555555555556,
              "#d8576b"
             ],
             [
              0.6666666666666666,
              "#ed7953"
             ],
             [
              0.7777777777777778,
              "#fb9f3a"
             ],
             [
              0.8888888888888888,
              "#fdca26"
             ],
             [
              1,
              "#f0f921"
             ]
            ],
            "type": "histogram2dcontour"
           }
          ],
          "mesh3d": [
           {
            "colorbar": {
             "outlinewidth": 0,
             "ticks": ""
            },
            "type": "mesh3d"
           }
          ],
          "parcoords": [
           {
            "line": {
             "colorbar": {
              "outlinewidth": 0,
              "ticks": ""
             }
            },
            "type": "parcoords"
           }
          ],
          "pie": [
           {
            "automargin": true,
            "type": "pie"
           }
          ],
          "scatter": [
           {
            "fillpattern": {
             "fillmode": "overlay",
             "size": 10,
             "solidity": 0.2
            },
            "type": "scatter"
           }
          ],
          "scatter3d": [
           {
            "line": {
             "colorbar": {
              "outlinewidth": 0,
              "ticks": ""
             }
            },
            "marker": {
             "colorbar": {
              "outlinewidth": 0,
              "ticks": ""
             }
            },
            "type": "scatter3d"
           }
          ],
          "scattercarpet": [
           {
            "marker": {
             "colorbar": {
              "outlinewidth": 0,
              "ticks": ""
             }
            },
            "type": "scattercarpet"
           }
          ],
          "scattergeo": [
           {
            "marker": {
             "colorbar": {
              "outlinewidth": 0,
              "ticks": ""
             }
            },
            "type": "scattergeo"
           }
          ],
          "scattergl": [
           {
            "marker": {
             "colorbar": {
              "outlinewidth": 0,
              "ticks": ""
             }
            },
            "type": "scattergl"
           }
          ],
          "scattermap": [
           {
            "marker": {
             "colorbar": {
              "outlinewidth": 0,
              "ticks": ""
             }
            },
            "type": "scattermap"
           }
          ],
          "scattermapbox": [
           {
            "marker": {
             "colorbar": {
              "outlinewidth": 0,
              "ticks": ""
             }
            },
            "type": "scattermapbox"
           }
          ],
          "scatterpolar": [
           {
            "marker": {
             "colorbar": {
              "outlinewidth": 0,
              "ticks": ""
             }
            },
            "type": "scatterpolar"
           }
          ],
          "scatterpolargl": [
           {
            "marker": {
             "colorbar": {
              "outlinewidth": 0,
              "ticks": ""
             }
            },
            "type": "scatterpolargl"
           }
          ],
          "scatterternary": [
           {
            "marker": {
             "colorbar": {
              "outlinewidth": 0,
              "ticks": ""
             }
            },
            "type": "scatterternary"
           }
          ],
          "surface": [
           {
            "colorbar": {
             "outlinewidth": 0,
             "ticks": ""
            },
            "colorscale": [
             [
              0,
              "#0d0887"
             ],
             [
              0.1111111111111111,
              "#46039f"
             ],
             [
              0.2222222222222222,
              "#7201a8"
             ],
             [
              0.3333333333333333,
              "#9c179e"
             ],
             [
              0.4444444444444444,
              "#bd3786"
             ],
             [
              0.5555555555555556,
              "#d8576b"
             ],
             [
              0.6666666666666666,
              "#ed7953"
             ],
             [
              0.7777777777777778,
              "#fb9f3a"
             ],
             [
              0.8888888888888888,
              "#fdca26"
             ],
             [
              1,
              "#f0f921"
             ]
            ],
            "type": "surface"
           }
          ],
          "table": [
           {
            "cells": {
             "fill": {
              "color": "#EBF0F8"
             },
             "line": {
              "color": "white"
             }
            },
            "header": {
             "fill": {
              "color": "#C8D4E3"
             },
             "line": {
              "color": "white"
             }
            },
            "type": "table"
           }
          ]
         },
         "layout": {
          "annotationdefaults": {
           "arrowcolor": "#2a3f5f",
           "arrowhead": 0,
           "arrowwidth": 1
          },
          "autotypenumbers": "strict",
          "coloraxis": {
           "colorbar": {
            "outlinewidth": 0,
            "ticks": ""
           }
          },
          "colorscale": {
           "diverging": [
            [
             0,
             "#8e0152"
            ],
            [
             0.1,
             "#c51b7d"
            ],
            [
             0.2,
             "#de77ae"
            ],
            [
             0.3,
             "#f1b6da"
            ],
            [
             0.4,
             "#fde0ef"
            ],
            [
             0.5,
             "#f7f7f7"
            ],
            [
             0.6,
             "#e6f5d0"
            ],
            [
             0.7,
             "#b8e186"
            ],
            [
             0.8,
             "#7fbc41"
            ],
            [
             0.9,
             "#4d9221"
            ],
            [
             1,
             "#276419"
            ]
           ],
           "sequential": [
            [
             0,
             "#0d0887"
            ],
            [
             0.1111111111111111,
             "#46039f"
            ],
            [
             0.2222222222222222,
             "#7201a8"
            ],
            [
             0.3333333333333333,
             "#9c179e"
            ],
            [
             0.4444444444444444,
             "#bd3786"
            ],
            [
             0.5555555555555556,
             "#d8576b"
            ],
            [
             0.6666666666666666,
             "#ed7953"
            ],
            [
             0.7777777777777778,
             "#fb9f3a"
            ],
            [
             0.8888888888888888,
             "#fdca26"
            ],
            [
             1,
             "#f0f921"
            ]
           ],
           "sequentialminus": [
            [
             0,
             "#0d0887"
            ],
            [
             0.1111111111111111,
             "#46039f"
            ],
            [
             0.2222222222222222,
             "#7201a8"
            ],
            [
             0.3333333333333333,
             "#9c179e"
            ],
            [
             0.4444444444444444,
             "#bd3786"
            ],
            [
             0.5555555555555556,
             "#d8576b"
            ],
            [
             0.6666666666666666,
             "#ed7953"
            ],
            [
             0.7777777777777778,
             "#fb9f3a"
            ],
            [
             0.8888888888888888,
             "#fdca26"
            ],
            [
             1,
             "#f0f921"
            ]
           ]
          },
          "colorway": [
           "#636efa",
           "#EF553B",
           "#00cc96",
           "#ab63fa",
           "#FFA15A",
           "#19d3f3",
           "#FF6692",
           "#B6E880",
           "#FF97FF",
           "#FECB52"
          ],
          "font": {
           "color": "#2a3f5f"
          },
          "geo": {
           "bgcolor": "white",
           "lakecolor": "white",
           "landcolor": "#E5ECF6",
           "showlakes": true,
           "showland": true,
           "subunitcolor": "white"
          },
          "hoverlabel": {
           "align": "left"
          },
          "hovermode": "closest",
          "mapbox": {
           "style": "light"
          },
          "paper_bgcolor": "white",
          "plot_bgcolor": "#E5ECF6",
          "polar": {
           "angularaxis": {
            "gridcolor": "white",
            "linecolor": "white",
            "ticks": ""
           },
           "bgcolor": "#E5ECF6",
           "radialaxis": {
            "gridcolor": "white",
            "linecolor": "white",
            "ticks": ""
           }
          },
          "scene": {
           "xaxis": {
            "backgroundcolor": "#E5ECF6",
            "gridcolor": "white",
            "gridwidth": 2,
            "linecolor": "white",
            "showbackground": true,
            "ticks": "",
            "zerolinecolor": "white"
           },
           "yaxis": {
            "backgroundcolor": "#E5ECF6",
            "gridcolor": "white",
            "gridwidth": 2,
            "linecolor": "white",
            "showbackground": true,
            "ticks": "",
            "zerolinecolor": "white"
           },
           "zaxis": {
            "backgroundcolor": "#E5ECF6",
            "gridcolor": "white",
            "gridwidth": 2,
            "linecolor": "white",
            "showbackground": true,
            "ticks": "",
            "zerolinecolor": "white"
           }
          },
          "shapedefaults": {
           "line": {
            "color": "#2a3f5f"
           }
          },
          "ternary": {
           "aaxis": {
            "gridcolor": "white",
            "linecolor": "white",
            "ticks": ""
           },
           "baxis": {
            "gridcolor": "white",
            "linecolor": "white",
            "ticks": ""
           },
           "bgcolor": "#E5ECF6",
           "caxis": {
            "gridcolor": "white",
            "linecolor": "white",
            "ticks": ""
           }
          },
          "title": {
           "x": 0.05
          },
          "xaxis": {
           "automargin": true,
           "gridcolor": "white",
           "linecolor": "white",
           "ticks": "",
           "title": {
            "standoff": 15
           },
           "zerolinecolor": "white",
           "zerolinewidth": 2
          },
          "yaxis": {
           "automargin": true,
           "gridcolor": "white",
           "linecolor": "white",
           "ticks": "",
           "title": {
            "standoff": 15
           },
           "zerolinecolor": "white",
           "zerolinewidth": 2
          }
         }
        },
        "title": {
         "text": "Validation Performance and Training Learning Rate vs Epoch"
        },
        "xaxis": {
         "anchor": "y",
         "domain": [
          0,
          0.94
         ],
         "range": [
          0,
          480000
         ],
         "title": {
          "text": "Epoch"
         }
        },
        "yaxis": {
         "anchor": "x",
         "domain": [
          0,
          1
         ],
         "dtick": 10,
         "range": [
          0,
          100
         ],
         "title": {
          "text": "Performance (%)"
         }
        },
        "yaxis2": {
         "anchor": "x",
         "overlaying": "y",
         "side": "right",
         "title": {
          "text": "Learning Rate"
         }
        }
       }
      }
     },
     "metadata": {},
     "output_type": "display_data"
    }
   ],
   "source": [
    "# Ablation 28 - SEBNet ConditionedBaselinePSBDBASHead SGD, Mapillary, 480K Iters - 80.23 Best mIoU\n",
    "log_file_path = '/home/robert.breslin/alessandro/paper_2/mmsegmentation/work_dirs/sebnet_baseline-p-sbd-bas-head-conditioned_1xb6_mapillaryv2/20250909_160714/20250909_160714.log'\n",
    "epochs, mIoU, mAcc, lrs = parse_log_file(log_file_path)\n",
    "plot_accuracies_and_lr_interactive(epochs, mAcc, mIoU, lrs, [0,480000])"
   ]
  }
 ],
 "metadata": {
  "kernelspec": {
   "display_name": "venv_sebnet",
   "language": "python",
   "name": "python3"
  },
  "language_info": {
   "codemirror_mode": {
    "name": "ipython",
    "version": 3
   },
   "file_extension": ".py",
   "mimetype": "text/x-python",
   "name": "python",
   "nbconvert_exporter": "python",
   "pygments_lexer": "ipython3",
   "version": "3.8.20"
  }
 },
 "nbformat": 4,
 "nbformat_minor": 5
}
